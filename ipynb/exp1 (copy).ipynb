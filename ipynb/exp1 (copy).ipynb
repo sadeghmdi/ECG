{
 "cells": [
  {
   "cell_type": "code",
   "execution_count": 1,
   "metadata": {
    "executionInfo": {
     "elapsed": 9798,
     "status": "ok",
     "timestamp": 1629698724230,
     "user": {
      "displayName": "Sadegh Mohammadi",
      "photoUrl": "https://lh3.googleusercontent.com/a-/AOh14Gg1iSjGV7iV5kzZZOpCoWfb-aIlclvodBw_eT5JzA=s64",
      "userId": "02781745993139771132"
     },
     "user_tz": -270
    },
    "id": "E9pJ0y9MaIlB"
   },
   "outputs": [],
   "source": [
    "%%capture\n",
    "#!pip install wfdb\n",
    "BASEPATH = '..'\n",
    "import sys\n",
    "sys.path.insert(0,'../py')\n",
    "print(sys.path)\n",
    "import numpy as np\n",
    "import tensorflow as tf\n",
    "from utils import reset_seed, plot_spectogram, plot_loss\n",
    "from utils import integer_mapping, mapping_AAMI, MAP_AAMI, INT_MAP_DICT\n",
    "from data_handling import DataHandling\n",
    "from data_preprocessing import DataPreprocessing\n",
    "from report import Reports\n",
    "from models.model_with_one_mhb import MultiHeadAttentionClassifier \n",
    "\n",
    "\n",
    "reset_seed()"
   ]
  },
  {
   "cell_type": "code",
   "execution_count": 2,
   "metadata": {
    "executionInfo": {
     "elapsed": 6,
     "status": "ok",
     "timestamp": 1629698724231,
     "user": {
      "displayName": "Sadegh Mohammadi",
      "photoUrl": "https://lh3.googleusercontent.com/a-/AOh14Gg1iSjGV7iV5kzZZOpCoWfb-aIlclvodBw_eT5JzA=s64",
      "userId": "02781745993139771132"
     },
     "user_tz": -270
    },
    "id": "c7bwM8JHl5-t"
   },
   "outputs": [],
   "source": [
    "#!rm -r sample_data"
   ]
  },
  {
   "cell_type": "markdown",
   "metadata": {
    "id": "QgKvMiSDOJJB"
   },
   "source": [
    "#Load & Preprocess data"
   ]
  },
  {
   "cell_type": "code",
   "execution_count": 3,
   "metadata": {
    "executionInfo": {
     "elapsed": 5,
     "status": "ok",
     "timestamp": 1629698724231,
     "user": {
      "displayName": "Sadegh Mohammadi",
      "photoUrl": "https://lh3.googleusercontent.com/a-/AOh14Gg1iSjGV7iV5kzZZOpCoWfb-aIlclvodBw_eT5JzA=s64",
      "userId": "02781745993139771132"
     },
     "user_tz": -270
    },
    "id": "RwOJWmp9xqDR"
   },
   "outputs": [],
   "source": [
    "%%script false\n",
    "\n",
    "#load-split data\n",
    "dh = DataHandling(base_path = BASEPATH)\n",
    "\n",
    "load_file1=True\n",
    "if load_file1:\n",
    "  x_ttv, y_ttv = dh.loadData(file_path= BASEPATH + 'dataset_splitted.dat')\n",
    "  [x_train,x_test,x_val] = x_ttv \n",
    "  [y_train,y_test,y_val] = y_ttv\n",
    "else:\n",
    "  xds,yds=dh.loadData(file_path= BASEPATH + 'dataset.dat')\n",
    "\n",
    "  X= xds\n",
    "  y = yds\n",
    "  from sklearn.model_selection import train_test_split\n",
    "  x_train, x_val, y_train, y_val  = train_test_split(X, y,test_size=0.20,stratify = y, random_state=142, shuffle=True)\n",
    "  x_train, x_test, y_train, y_test  = train_test_split(x_train, y_train,test_size=0.25,stratify = y_train, random_state=142, shuffle=True)\n",
    "  ####fix for minority class S\n",
    "  '''\n",
    "  _,indexes = dh.searchType(x_train,y_train,Numb=0,sym='S')\n",
    "  index = indexes[0]\n",
    "  x_test = np.append(x_test, x_train[index][np.newaxis,:], axis=0)\n",
    "  y_test.append(y_train[index])\n",
    "  x_train = np.delete(x_train, index, axis=0)\n",
    "  y_train = np.delete(y_train, index)\n",
    "  '''\n",
    "  #####\n",
    "\n",
    "  x_ttv = [x_train,x_test,x_val]\n",
    "  y_ttv = [y_train,y_test,y_val]\n",
    "  dh.saveData(x_ttv,y_ttv, file_path='dataset_splitted.dat')"
   ]
  },
  {
   "cell_type": "markdown",
   "metadata": {
    "id": "sH3qLEjpNHXt"
   },
   "source": [
    "dh.reportStats(xds,yds) = \n",
    "{'/': 3619,\n",
    " 'A': 2546,\n",
    " 'E': 106,\n",
    " 'F': 802,\n",
    " 'J': 83,\n",
    " 'L': 8071,\n",
    " 'N': 74759,\n",
    " 'Q': 15,\n",
    " 'R': 7256,\n",
    " 'S': 2,\n",
    " 'V': 7123,\n",
    " 'a': 150,\n",
    " 'e': 16,\n",
    " 'f': 260,\n",
    " 'j': 229}"
   ]
  },
  {
   "cell_type": "code",
   "execution_count": 4,
   "metadata": {
    "executionInfo": {
     "elapsed": 13004,
     "status": "ok",
     "timestamp": 1629698737231,
     "user": {
      "displayName": "Sadegh Mohammadi",
      "photoUrl": "https://lh3.googleusercontent.com/a-/AOh14Gg1iSjGV7iV5kzZZOpCoWfb-aIlclvodBw_eT5JzA=s64",
      "userId": "02781745993139771132"
     },
     "user_tz": -270
    },
    "id": "Y7UH2v_iQKpe"
   },
   "outputs": [],
   "source": [
    "#Preprocessing\n",
    "dh = DataHandling(base_path=BASEPATH)\n",
    "\n",
    "load_file=True\n",
    "if load_file:\n",
    "  xds_features_ttv, yds_ttv = dh.loadData(file_path= BASEPATH + 'Feat_spect_splitted.dat')\n",
    "  [xds_features_train,xds_features_test,xds_features_val] = xds_features_ttv \n",
    "  [y_train,y_test,y_val] = yds_ttv \n",
    "else:\n",
    "  #preprocess data\n",
    "  dpr = DataPreprocessing()\n",
    "  xds_features_train = dpr.specgram(x_train, Fs=360, nperseg=127, noverlap=122)\n",
    "  xds_features_test = dpr.specgram(x_test, Fs=360, nperseg=127, noverlap=122)\n",
    "  xds_features_val = dpr.specgram(x_val, Fs=360, nperseg=127, noverlap=122)\n",
    "\n",
    "  xds_features_ttv = [xds_features_train, xds_features_test, xds_features_val]\n",
    "  yds_ttv = [y_train,y_test,y_val]\n",
    "  dh.saveData(xds_features_ttv, yds_ttv, file_path='Feat_spect_splitted.dat')\n",
    "\n",
    "x_train = xds_features_train\n",
    "x_test = xds_features_test\n",
    "x_val = xds_features_val"
   ]
  },
  {
   "cell_type": "code",
   "execution_count": 5,
   "metadata": {
    "colab": {
     "base_uri": "https://localhost:8080/"
    },
    "executionInfo": {
     "elapsed": 24,
     "status": "ok",
     "timestamp": 1629698737235,
     "user": {
      "displayName": "Sadegh Mohammadi",
      "photoUrl": "https://lh3.googleusercontent.com/a-/AOh14Gg1iSjGV7iV5kzZZOpCoWfb-aIlclvodBw_eT5JzA=s64",
      "userId": "02781745993139771132"
     },
     "user_tz": -270
    },
    "id": "aA7eni1jxvqg",
    "outputId": "c39c063d-6cd7-4e04-904c-689eae1f8021"
   },
   "outputs": [
    {
     "data": {
      "text/plain": [
       "((63021, 26, 64), (21008, 26, 64), (21008, 26, 64), 63021, 21008, 21008)"
      ]
     },
     "execution_count": 5,
     "metadata": {},
     "output_type": "execute_result"
    }
   ],
   "source": [
    "x_train.shape, x_test.shape, x_val.shape, len(y_train), len(y_test), len(y_val)"
   ]
  },
  {
   "cell_type": "code",
   "execution_count": 6,
   "metadata": {
    "colab": {
     "base_uri": "https://localhost:8080/"
    },
    "executionInfo": {
     "elapsed": 18,
     "status": "ok",
     "timestamp": 1629698737235,
     "user": {
      "displayName": "Sadegh Mohammadi",
      "photoUrl": "https://lh3.googleusercontent.com/a-/AOh14Gg1iSjGV7iV5kzZZOpCoWfb-aIlclvodBw_eT5JzA=s64",
      "userId": "02781745993139771132"
     },
     "user_tz": -270
    },
    "id": "_qcng0T-FX2P",
    "outputId": "97089c3b-4a92-4090-d1d9-1929a8a81400"
   },
   "outputs": [
    {
     "data": {
      "text/plain": [
       "{'/': 2171,\n",
       " 'A': 1528,\n",
       " 'E': 64,\n",
       " 'F': 481,\n",
       " 'J': 49,\n",
       " 'L': 4843,\n",
       " 'N': 44855,\n",
       " 'Q': 9,\n",
       " 'R': 4354,\n",
       " 'S': 1,\n",
       " 'V': 4273,\n",
       " 'a': 90,\n",
       " 'e': 10,\n",
       " 'f': 156,\n",
       " 'j': 137}"
      ]
     },
     "execution_count": 6,
     "metadata": {},
     "output_type": "execute_result"
    }
   ],
   "source": [
    "dh.reportStats(x_train,y_train)"
   ]
  },
  {
   "cell_type": "code",
   "execution_count": 7,
   "metadata": {
    "colab": {
     "base_uri": "https://localhost:8080/"
    },
    "executionInfo": {
     "elapsed": 14,
     "status": "ok",
     "timestamp": 1629698737236,
     "user": {
      "displayName": "Sadegh Mohammadi",
      "photoUrl": "https://lh3.googleusercontent.com/a-/AOh14Gg1iSjGV7iV5kzZZOpCoWfb-aIlclvodBw_eT5JzA=s64",
      "userId": "02781745993139771132"
     },
     "user_tz": -270
    },
    "id": "z3xf8DkjFZGq",
    "outputId": "12ced0a3-c724-43a7-b4a2-fcf751544878"
   },
   "outputs": [
    {
     "data": {
      "text/plain": [
       "{'/': 724,\n",
       " 'A': 509,\n",
       " 'E': 21,\n",
       " 'F': 160,\n",
       " 'J': 17,\n",
       " 'L': 1614,\n",
       " 'N': 14952,\n",
       " 'Q': 3,\n",
       " 'R': 1451,\n",
       " 'S': 1,\n",
       " 'V': 1425,\n",
       " 'a': 30,\n",
       " 'e': 3,\n",
       " 'f': 52,\n",
       " 'j': 46}"
      ]
     },
     "execution_count": 7,
     "metadata": {},
     "output_type": "execute_result"
    }
   ],
   "source": [
    "dh.reportStats(x_test,y_test)"
   ]
  },
  {
   "cell_type": "code",
   "execution_count": 8,
   "metadata": {
    "colab": {
     "base_uri": "https://localhost:8080/"
    },
    "executionInfo": {
     "elapsed": 12,
     "status": "ok",
     "timestamp": 1629698737237,
     "user": {
      "displayName": "Sadegh Mohammadi",
      "photoUrl": "https://lh3.googleusercontent.com/a-/AOh14Gg1iSjGV7iV5kzZZOpCoWfb-aIlclvodBw_eT5JzA=s64",
      "userId": "02781745993139771132"
     },
     "user_tz": -270
    },
    "id": "zagl4yIHIHg4",
    "outputId": "3db07e3b-cc61-42d8-f67b-9f6542e087e0"
   },
   "outputs": [
    {
     "data": {
      "text/plain": [
       "{'/': 724,\n",
       " 'A': 509,\n",
       " 'E': 21,\n",
       " 'F': 161,\n",
       " 'J': 17,\n",
       " 'L': 1614,\n",
       " 'N': 14952,\n",
       " 'Q': 3,\n",
       " 'R': 1451,\n",
       " 'S': 0,\n",
       " 'V': 1425,\n",
       " 'a': 30,\n",
       " 'e': 3,\n",
       " 'f': 52,\n",
       " 'j': 46}"
      ]
     },
     "execution_count": 8,
     "metadata": {},
     "output_type": "execute_result"
    }
   ],
   "source": [
    "dh.reportStats(x_val,y_val)"
   ]
  },
  {
   "cell_type": "code",
   "execution_count": 9,
   "metadata": {
    "executionInfo": {
     "elapsed": 9,
     "status": "ok",
     "timestamp": 1629698737237,
     "user": {
      "displayName": "Sadegh Mohammadi",
      "photoUrl": "https://lh3.googleusercontent.com/a-/AOh14Gg1iSjGV7iV5kzZZOpCoWfb-aIlclvodBw_eT5JzA=s64",
      "userId": "02781745993139771132"
     },
     "user_tz": -270
    },
    "id": "u4LWVBgkF1NI"
   },
   "outputs": [],
   "source": [
    "y_train = integerMapping(y_train,intMapDict)\n",
    "#y_test = integerMapping(y_train,intMapDict)\n",
    "y_val = integerMapping(y_val,intMapDict)"
   ]
  },
  {
   "cell_type": "markdown",
   "metadata": {
    "id": "phHl-9TqPAKo"
   },
   "source": [
    "#Train"
   ]
  },
  {
   "cell_type": "code",
   "execution_count": null,
   "metadata": {
    "colab": {
     "base_uri": "https://localhost:8080/"
    },
    "executionInfo": {
     "elapsed": 20,
     "status": "ok",
     "timestamp": 1627404457302,
     "user": {
      "displayName": "Sadegh Mohammadi",
      "photoUrl": "https://lh3.googleusercontent.com/a-/AOh14Gg1iSjGV7iV5kzZZOpCoWfb-aIlclvodBw_eT5JzA=s64",
      "userId": "02781745993139771132"
     },
     "user_tz": 420
    },
    "id": "aeVdtly2Y4Ek",
    "outputId": "083ca1b2-b93e-4cb6-b048-c28ae7f3a93f"
   },
   "outputs": [
    {
     "name": "stdout",
     "output_type": "stream",
     "text": [
      "{'seq_len': 26, 'd_model': 64, 'num_heads': 2, 'num_classes': 15, 'drate': 0.15, 'batch_size': 128, 'epochs': 100}\n"
     ]
    }
   ],
   "source": [
    "params = {\n",
    "    'seq_len' : x_train.shape[-2],\n",
    "    'd_model' : x_train.shape[-1],\n",
    "    'num_heads' : 2,\n",
    "    'num_classes' : 15,\n",
    "    'drate' : 0.15,\n",
    "    'batch_size' : 128,\n",
    "    'epochs' : 100\n",
    "}\n",
    "print(params)"
   ]
  },
  {
   "cell_type": "code",
   "execution_count": null,
   "metadata": {
    "id": "6GRPAf4mzJ3q"
   },
   "outputs": [],
   "source": [
    "model_classifier  = MultiHeadAttentionClassifier(\n",
    "                                            seq_len=params['seq_len'],\n",
    "                                            d_model = params['d_model'],\n",
    "                                            num_heads = params['num_heads'],\n",
    "                                            num_classes=params['num_classes'],\n",
    "                                            drate=params['drate']\n",
    "                                                  )"
   ]
  },
  {
   "cell_type": "code",
   "execution_count": null,
   "metadata": {
    "colab": {
     "base_uri": "https://localhost:8080/"
    },
    "executionInfo": {
     "elapsed": 1233321,
     "status": "ok",
     "timestamp": 1627405690992,
     "user": {
      "displayName": "Sadegh Mohammadi",
      "photoUrl": "https://lh3.googleusercontent.com/a-/AOh14Gg1iSjGV7iV5kzZZOpCoWfb-aIlclvodBw_eT5JzA=s64",
      "userId": "02781745993139771132"
     },
     "user_tz": 420
    },
    "id": "PgOFHNu4PJtp",
    "outputId": "236dca1b-962b-4a84-fa6a-339eb48f965f"
   },
   "outputs": [
    {
     "name": "stdout",
     "output_type": "stream",
     "text": [
      "rm: cannot remove '/content/drive/MyDrive/ecARR/checkpoint/keras.modelM1_ab2': No such file or directory\n",
      "Epoch 1/100\n",
      "493/493 [==============================] - 25s 46ms/step - loss: 0.3513 - accuracy: 0.9078 - val_loss: 0.1890 - val_accuracy: 0.9514\n",
      "\n",
      "Epoch 00001: val_loss improved from inf to 0.18896, saving model to /content/drive/MyDrive/ecARR/checkpoint/keras.modelM1_ab2\n"
     ]
    },
    {
     "name": "stderr",
     "output_type": "stream",
     "text": [
      "WARNING:absl:Found untraced functions such as embedding_layer_call_fn, embedding_layer_call_and_return_conditional_losses, dense_layer_call_fn, dense_layer_call_and_return_conditional_losses, dense_1_layer_call_fn while saving (showing 5 of 25). These functions will not be directly callable after loading.\n",
      "INFO:tensorflow:Assets written to: /content/drive/MyDrive/ecARR/checkpoint/keras.modelM1_ab2/assets\n"
     ]
    },
    {
     "name": "stdout",
     "output_type": "stream",
     "text": [
      "Epoch 2/100\n",
      "493/493 [==============================] - 18s 36ms/step - loss: 0.1798 - accuracy: 0.9544 - val_loss: 0.1554 - val_accuracy: 0.9604\n"
     ]
    },
    {
     "name": "stderr",
     "output_type": "stream",
     "text": [
      "WARNING:tensorflow:Skipping full serialization of Keras layer <modelM1_ab2.MultiHeadAttention object at 0x7fc243be9bd0>, because it is not built.\n",
      "WARNING:tensorflow:Skipping full serialization of Keras layer <modelM1_ab2.MultiHeadAttention object at 0x7fc243d05c50>, because it is not built.\n",
      "WARNING:tensorflow:Skipping full serialization of Keras layer <modelM1_ab2.MultiHeadAttention object at 0x7fc243d0bdd0>, because it is not built.\n",
      "WARNING:tensorflow:Skipping full serialization of Keras layer <modelM1_ab2.MultiHeadAttention object at 0x7fc243d10f50>, because it is not built.\n",
      "WARNING:tensorflow:Skipping full serialization of Keras layer <tensorflow.python.keras.layers.normalization.LayerNormalization object at 0x7fc243ca18d0>, because it is not built.\n",
      "WARNING:tensorflow:Skipping full serialization of Keras layer <tensorflow.python.keras.layers.normalization.LayerNormalization object at 0x7fc243d1a210>, because it is not built.\n",
      "WARNING:tensorflow:Skipping full serialization of Keras layer <tensorflow.python.keras.layers.normalization.LayerNormalization object at 0x7fc243ca1ed0>, because it is not built.\n",
      "WARNING:tensorflow:Skipping full serialization of Keras layer <tensorflow.python.keras.layers.normalization.LayerNormalization object at 0x7fc243cc41d0>, because it is not built.\n",
      "WARNING:tensorflow:Skipping full serialization of Keras layer <tensorflow.python.keras.layers.core.Dropout object at 0x7fc243ca1910>, because it is not built.\n",
      "WARNING:tensorflow:Skipping full serialization of Keras layer <tensorflow.python.keras.layers.core.Dropout object at 0x7fc243be9f90>, because it is not built.\n",
      "WARNING:tensorflow:Skipping full serialization of Keras layer <tensorflow.python.keras.layers.core.Dropout object at 0x7fc243cc49d0>, because it is not built.\n",
      "WARNING:tensorflow:Skipping full serialization of Keras layer <tensorflow.python.keras.layers.core.Dropout object at 0x7fc243be9290>, because it is not built.\n",
      "WARNING:tensorflow:Skipping full serialization of Keras layer <tensorflow.python.keras.layers.normalization_v2.BatchNormalization object at 0x7fc243cd7150>, because it is not built.\n",
      "WARNING:tensorflow:Skipping full serialization of Keras layer <tensorflow.python.keras.layers.core.Dense object at 0x7fc243cd7650>, because it is not built.\n",
      "WARNING:tensorflow:Skipping full serialization of Keras layer <tensorflow.python.keras.layers.core.Dense object at 0x7fc243cd7b50>, because it is not built.\n"
     ]
    },
    {
     "name": "stdout",
     "output_type": "stream",
     "text": [
      "\n",
      "Epoch 00002: val_loss improved from 0.18896 to 0.15543, saving model to /content/drive/MyDrive/ecARR/checkpoint/keras.modelM1_ab2\n"
     ]
    },
    {
     "name": "stderr",
     "output_type": "stream",
     "text": [
      "WARNING:tensorflow:Skipping full serialization of Keras layer <tensorflow.python.keras.layers.core.Dense object at 0x7fc243ceccd0>, because it is not built.\n",
      "WARNING:tensorflow:Skipping full serialization of Keras layer <tensorflow.python.keras.layers.core.Dense object at 0x7fc243cecfd0>, because it is not built.\n",
      "WARNING:tensorflow:Skipping full serialization of Keras layer <tensorflow.python.keras.layers.core.Dense object at 0x7fc243d05610>, because it is not built.\n",
      "WARNING:tensorflow:Skipping full serialization of Keras layer <tensorflow.python.keras.layers.core.Dense object at 0x7fc243d05a10>, because it is not built.\n",
      "WARNING:tensorflow:Skipping full serialization of Keras layer <tensorflow.python.keras.layers.core.Dense object at 0x7fc243d05f10>, because it is not built.\n",
      "WARNING:tensorflow:Skipping full serialization of Keras layer <tensorflow.python.keras.layers.core.Dense object at 0x7fc243d0b410>, because it is not built.\n",
      "WARNING:tensorflow:Skipping full serialization of Keras layer <tensorflow.python.keras.layers.core.Dense object at 0x7fc243d93750>, because it is not built.\n",
      "WARNING:tensorflow:Skipping full serialization of Keras layer <tensorflow.python.keras.layers.core.Dense object at 0x7fc243d0bb90>, because it is not built.\n",
      "WARNING:tensorflow:Skipping full serialization of Keras layer <tensorflow.python.keras.layers.core.Dense object at 0x7fc243d0bd50>, because it is not built.\n",
      "WARNING:tensorflow:Skipping full serialization of Keras layer <tensorflow.python.keras.layers.core.Dense object at 0x7fc243d10590>, because it is not built.\n",
      "WARNING:tensorflow:Skipping full serialization of Keras layer <tensorflow.python.keras.layers.core.Dense object at 0x7fc243d10950>, because it is not built.\n",
      "WARNING:tensorflow:Skipping full serialization of Keras layer <tensorflow.python.keras.layers.core.Dense object at 0x7fc243d10d50>, because it is not built.\n",
      "WARNING:tensorflow:Skipping full serialization of Keras layer <tensorflow.python.keras.layers.core.Dense object at 0x7fc243d1a310>, because it is not built.\n",
      "WARNING:tensorflow:Skipping full serialization of Keras layer <tensorflow.python.keras.layers.core.Dense object at 0x7fc243d1a810>, because it is not built.\n",
      "WARNING:tensorflow:Skipping full serialization of Keras layer <tensorflow.python.keras.layers.core.Dense object at 0x7fc243d1ac10>, because it is not built.\n",
      "WARNING:tensorflow:Skipping full serialization of Keras layer <tensorflow.python.keras.layers.core.Dense object at 0x7fc243d1afd0>, because it is not built.\n",
      "WARNING:absl:Found untraced functions such as embedding_layer_call_fn, embedding_layer_call_and_return_conditional_losses, dense_layer_call_fn, dense_layer_call_and_return_conditional_losses, dense_1_layer_call_fn while saving (showing 5 of 25). These functions will not be directly callable after loading.\n",
      "INFO:tensorflow:Assets written to: /content/drive/MyDrive/ecARR/checkpoint/keras.modelM1_ab2/assets\n"
     ]
    },
    {
     "name": "stdout",
     "output_type": "stream",
     "text": [
      "Epoch 3/100\n",
      "493/493 [==============================] - 19s 39ms/step - loss: 0.1467 - accuracy: 0.9613 - val_loss: 0.1277 - val_accuracy: 0.9674\n"
     ]
    },
    {
     "name": "stderr",
     "output_type": "stream",
     "text": [
      "WARNING:tensorflow:Skipping full serialization of Keras layer <modelM1_ab2.MultiHeadAttention object at 0x7fc243be9bd0>, because it is not built.\n",
      "WARNING:tensorflow:Skipping full serialization of Keras layer <modelM1_ab2.MultiHeadAttention object at 0x7fc243d05c50>, because it is not built.\n",
      "WARNING:tensorflow:Skipping full serialization of Keras layer <modelM1_ab2.MultiHeadAttention object at 0x7fc243d0bdd0>, because it is not built.\n",
      "WARNING:tensorflow:Skipping full serialization of Keras layer <modelM1_ab2.MultiHeadAttention object at 0x7fc243d10f50>, because it is not built.\n",
      "WARNING:tensorflow:Skipping full serialization of Keras layer <tensorflow.python.keras.layers.normalization.LayerNormalization object at 0x7fc243ca18d0>, because it is not built.\n",
      "WARNING:tensorflow:Skipping full serialization of Keras layer <tensorflow.python.keras.layers.normalization.LayerNormalization object at 0x7fc243d1a210>, because it is not built.\n",
      "WARNING:tensorflow:Skipping full serialization of Keras layer <tensorflow.python.keras.layers.normalization.LayerNormalization object at 0x7fc243ca1ed0>, because it is not built.\n",
      "WARNING:tensorflow:Skipping full serialization of Keras layer <tensorflow.python.keras.layers.normalization.LayerNormalization object at 0x7fc243cc41d0>, because it is not built.\n",
      "WARNING:tensorflow:Skipping full serialization of Keras layer <tensorflow.python.keras.layers.core.Dropout object at 0x7fc243ca1910>, because it is not built.\n",
      "WARNING:tensorflow:Skipping full serialization of Keras layer <tensorflow.python.keras.layers.core.Dropout object at 0x7fc243be9f90>, because it is not built.\n",
      "WARNING:tensorflow:Skipping full serialization of Keras layer <tensorflow.python.keras.layers.core.Dropout object at 0x7fc243cc49d0>, because it is not built.\n",
      "WARNING:tensorflow:Skipping full serialization of Keras layer <tensorflow.python.keras.layers.core.Dropout object at 0x7fc243be9290>, because it is not built.\n",
      "WARNING:tensorflow:Skipping full serialization of Keras layer <tensorflow.python.keras.layers.normalization_v2.BatchNormalization object at 0x7fc243cd7150>, because it is not built.\n",
      "WARNING:tensorflow:Skipping full serialization of Keras layer <tensorflow.python.keras.layers.core.Dense object at 0x7fc243cd7650>, because it is not built.\n",
      "WARNING:tensorflow:Skipping full serialization of Keras layer <tensorflow.python.keras.layers.core.Dense object at 0x7fc243cd7b50>, because it is not built.\n"
     ]
    },
    {
     "name": "stdout",
     "output_type": "stream",
     "text": [
      "\n",
      "Epoch 00003: val_loss improved from 0.15543 to 0.12770, saving model to /content/drive/MyDrive/ecARR/checkpoint/keras.modelM1_ab2\n"
     ]
    },
    {
     "name": "stderr",
     "output_type": "stream",
     "text": [
      "WARNING:tensorflow:Skipping full serialization of Keras layer <tensorflow.python.keras.layers.core.Dense object at 0x7fc243ceccd0>, because it is not built.\n",
      "WARNING:tensorflow:Skipping full serialization of Keras layer <tensorflow.python.keras.layers.core.Dense object at 0x7fc243cecfd0>, because it is not built.\n",
      "WARNING:tensorflow:Skipping full serialization of Keras layer <tensorflow.python.keras.layers.core.Dense object at 0x7fc243d05610>, because it is not built.\n",
      "WARNING:tensorflow:Skipping full serialization of Keras layer <tensorflow.python.keras.layers.core.Dense object at 0x7fc243d05a10>, because it is not built.\n",
      "WARNING:tensorflow:Skipping full serialization of Keras layer <tensorflow.python.keras.layers.core.Dense object at 0x7fc243d05f10>, because it is not built.\n",
      "WARNING:tensorflow:Skipping full serialization of Keras layer <tensorflow.python.keras.layers.core.Dense object at 0x7fc243d0b410>, because it is not built.\n",
      "WARNING:tensorflow:Skipping full serialization of Keras layer <tensorflow.python.keras.layers.core.Dense object at 0x7fc243d93750>, because it is not built.\n",
      "WARNING:tensorflow:Skipping full serialization of Keras layer <tensorflow.python.keras.layers.core.Dense object at 0x7fc243d0bb90>, because it is not built.\n",
      "WARNING:tensorflow:Skipping full serialization of Keras layer <tensorflow.python.keras.layers.core.Dense object at 0x7fc243d0bd50>, because it is not built.\n",
      "WARNING:tensorflow:Skipping full serialization of Keras layer <tensorflow.python.keras.layers.core.Dense object at 0x7fc243d10590>, because it is not built.\n",
      "WARNING:tensorflow:Skipping full serialization of Keras layer <tensorflow.python.keras.layers.core.Dense object at 0x7fc243d10950>, because it is not built.\n",
      "WARNING:tensorflow:Skipping full serialization of Keras layer <tensorflow.python.keras.layers.core.Dense object at 0x7fc243d10d50>, because it is not built.\n",
      "WARNING:tensorflow:Skipping full serialization of Keras layer <tensorflow.python.keras.layers.core.Dense object at 0x7fc243d1a310>, because it is not built.\n",
      "WARNING:tensorflow:Skipping full serialization of Keras layer <tensorflow.python.keras.layers.core.Dense object at 0x7fc243d1a810>, because it is not built.\n",
      "WARNING:tensorflow:Skipping full serialization of Keras layer <tensorflow.python.keras.layers.core.Dense object at 0x7fc243d1ac10>, because it is not built.\n",
      "WARNING:tensorflow:Skipping full serialization of Keras layer <tensorflow.python.keras.layers.core.Dense object at 0x7fc243d1afd0>, because it is not built.\n",
      "WARNING:absl:Found untraced functions such as embedding_layer_call_fn, embedding_layer_call_and_return_conditional_losses, dense_layer_call_fn, dense_layer_call_and_return_conditional_losses, dense_1_layer_call_fn while saving (showing 5 of 25). These functions will not be directly callable after loading.\n",
      "INFO:tensorflow:Assets written to: /content/drive/MyDrive/ecARR/checkpoint/keras.modelM1_ab2/assets\n"
     ]
    },
    {
     "name": "stdout",
     "output_type": "stream",
     "text": [
      "Epoch 4/100\n",
      "493/493 [==============================] - 19s 38ms/step - loss: 0.1309 - accuracy: 0.9649 - val_loss: 0.1020 - val_accuracy: 0.9716\n"
     ]
    },
    {
     "name": "stderr",
     "output_type": "stream",
     "text": [
      "WARNING:tensorflow:Skipping full serialization of Keras layer <modelM1_ab2.MultiHeadAttention object at 0x7fc243be9bd0>, because it is not built.\n",
      "WARNING:tensorflow:Skipping full serialization of Keras layer <modelM1_ab2.MultiHeadAttention object at 0x7fc243d05c50>, because it is not built.\n",
      "WARNING:tensorflow:Skipping full serialization of Keras layer <modelM1_ab2.MultiHeadAttention object at 0x7fc243d0bdd0>, because it is not built.\n",
      "WARNING:tensorflow:Skipping full serialization of Keras layer <modelM1_ab2.MultiHeadAttention object at 0x7fc243d10f50>, because it is not built.\n",
      "WARNING:tensorflow:Skipping full serialization of Keras layer <tensorflow.python.keras.layers.normalization.LayerNormalization object at 0x7fc243ca18d0>, because it is not built.\n",
      "WARNING:tensorflow:Skipping full serialization of Keras layer <tensorflow.python.keras.layers.normalization.LayerNormalization object at 0x7fc243d1a210>, because it is not built.\n",
      "WARNING:tensorflow:Skipping full serialization of Keras layer <tensorflow.python.keras.layers.normalization.LayerNormalization object at 0x7fc243ca1ed0>, because it is not built.\n",
      "WARNING:tensorflow:Skipping full serialization of Keras layer <tensorflow.python.keras.layers.normalization.LayerNormalization object at 0x7fc243cc41d0>, because it is not built.\n",
      "WARNING:tensorflow:Skipping full serialization of Keras layer <tensorflow.python.keras.layers.core.Dropout object at 0x7fc243ca1910>, because it is not built.\n",
      "WARNING:tensorflow:Skipping full serialization of Keras layer <tensorflow.python.keras.layers.core.Dropout object at 0x7fc243be9f90>, because it is not built.\n",
      "WARNING:tensorflow:Skipping full serialization of Keras layer <tensorflow.python.keras.layers.core.Dropout object at 0x7fc243cc49d0>, because it is not built.\n",
      "WARNING:tensorflow:Skipping full serialization of Keras layer <tensorflow.python.keras.layers.core.Dropout object at 0x7fc243be9290>, because it is not built.\n",
      "WARNING:tensorflow:Skipping full serialization of Keras layer <tensorflow.python.keras.layers.normalization_v2.BatchNormalization object at 0x7fc243cd7150>, because it is not built.\n",
      "WARNING:tensorflow:Skipping full serialization of Keras layer <tensorflow.python.keras.layers.core.Dense object at 0x7fc243cd7650>, because it is not built.\n",
      "WARNING:tensorflow:Skipping full serialization of Keras layer <tensorflow.python.keras.layers.core.Dense object at 0x7fc243cd7b50>, because it is not built.\n"
     ]
    },
    {
     "name": "stdout",
     "output_type": "stream",
     "text": [
      "\n",
      "Epoch 00004: val_loss improved from 0.12770 to 0.10197, saving model to /content/drive/MyDrive/ecARR/checkpoint/keras.modelM1_ab2\n"
     ]
    },
    {
     "name": "stderr",
     "output_type": "stream",
     "text": [
      "WARNING:tensorflow:Skipping full serialization of Keras layer <tensorflow.python.keras.layers.core.Dense object at 0x7fc243ceccd0>, because it is not built.\n",
      "WARNING:tensorflow:Skipping full serialization of Keras layer <tensorflow.python.keras.layers.core.Dense object at 0x7fc243cecfd0>, because it is not built.\n",
      "WARNING:tensorflow:Skipping full serialization of Keras layer <tensorflow.python.keras.layers.core.Dense object at 0x7fc243d05610>, because it is not built.\n",
      "WARNING:tensorflow:Skipping full serialization of Keras layer <tensorflow.python.keras.layers.core.Dense object at 0x7fc243d05a10>, because it is not built.\n",
      "WARNING:tensorflow:Skipping full serialization of Keras layer <tensorflow.python.keras.layers.core.Dense object at 0x7fc243d05f10>, because it is not built.\n",
      "WARNING:tensorflow:Skipping full serialization of Keras layer <tensorflow.python.keras.layers.core.Dense object at 0x7fc243d0b410>, because it is not built.\n",
      "WARNING:tensorflow:Skipping full serialization of Keras layer <tensorflow.python.keras.layers.core.Dense object at 0x7fc243d93750>, because it is not built.\n",
      "WARNING:tensorflow:Skipping full serialization of Keras layer <tensorflow.python.keras.layers.core.Dense object at 0x7fc243d0bb90>, because it is not built.\n",
      "WARNING:tensorflow:Skipping full serialization of Keras layer <tensorflow.python.keras.layers.core.Dense object at 0x7fc243d0bd50>, because it is not built.\n",
      "WARNING:tensorflow:Skipping full serialization of Keras layer <tensorflow.python.keras.layers.core.Dense object at 0x7fc243d10590>, because it is not built.\n",
      "WARNING:tensorflow:Skipping full serialization of Keras layer <tensorflow.python.keras.layers.core.Dense object at 0x7fc243d10950>, because it is not built.\n",
      "WARNING:tensorflow:Skipping full serialization of Keras layer <tensorflow.python.keras.layers.core.Dense object at 0x7fc243d10d50>, because it is not built.\n",
      "WARNING:tensorflow:Skipping full serialization of Keras layer <tensorflow.python.keras.layers.core.Dense object at 0x7fc243d1a310>, because it is not built.\n",
      "WARNING:tensorflow:Skipping full serialization of Keras layer <tensorflow.python.keras.layers.core.Dense object at 0x7fc243d1a810>, because it is not built.\n",
      "WARNING:tensorflow:Skipping full serialization of Keras layer <tensorflow.python.keras.layers.core.Dense object at 0x7fc243d1ac10>, because it is not built.\n",
      "WARNING:tensorflow:Skipping full serialization of Keras layer <tensorflow.python.keras.layers.core.Dense object at 0x7fc243d1afd0>, because it is not built.\n",
      "WARNING:absl:Found untraced functions such as embedding_layer_call_fn, embedding_layer_call_and_return_conditional_losses, dense_layer_call_fn, dense_layer_call_and_return_conditional_losses, dense_1_layer_call_fn while saving (showing 5 of 25). These functions will not be directly callable after loading.\n",
      "INFO:tensorflow:Assets written to: /content/drive/MyDrive/ecARR/checkpoint/keras.modelM1_ab2/assets\n"
     ]
    },
    {
     "name": "stdout",
     "output_type": "stream",
     "text": [
      "Epoch 5/100\n",
      "493/493 [==============================] - 19s 38ms/step - loss: 0.1200 - accuracy: 0.9678 - val_loss: 0.0982 - val_accuracy: 0.9731\n"
     ]
    },
    {
     "name": "stderr",
     "output_type": "stream",
     "text": [
      "WARNING:tensorflow:Skipping full serialization of Keras layer <modelM1_ab2.MultiHeadAttention object at 0x7fc243be9bd0>, because it is not built.\n",
      "WARNING:tensorflow:Skipping full serialization of Keras layer <modelM1_ab2.MultiHeadAttention object at 0x7fc243d05c50>, because it is not built.\n",
      "WARNING:tensorflow:Skipping full serialization of Keras layer <modelM1_ab2.MultiHeadAttention object at 0x7fc243d0bdd0>, because it is not built.\n",
      "WARNING:tensorflow:Skipping full serialization of Keras layer <modelM1_ab2.MultiHeadAttention object at 0x7fc243d10f50>, because it is not built.\n",
      "WARNING:tensorflow:Skipping full serialization of Keras layer <tensorflow.python.keras.layers.normalization.LayerNormalization object at 0x7fc243ca18d0>, because it is not built.\n",
      "WARNING:tensorflow:Skipping full serialization of Keras layer <tensorflow.python.keras.layers.normalization.LayerNormalization object at 0x7fc243d1a210>, because it is not built.\n",
      "WARNING:tensorflow:Skipping full serialization of Keras layer <tensorflow.python.keras.layers.normalization.LayerNormalization object at 0x7fc243ca1ed0>, because it is not built.\n",
      "WARNING:tensorflow:Skipping full serialization of Keras layer <tensorflow.python.keras.layers.normalization.LayerNormalization object at 0x7fc243cc41d0>, because it is not built.\n",
      "WARNING:tensorflow:Skipping full serialization of Keras layer <tensorflow.python.keras.layers.core.Dropout object at 0x7fc243ca1910>, because it is not built.\n",
      "WARNING:tensorflow:Skipping full serialization of Keras layer <tensorflow.python.keras.layers.core.Dropout object at 0x7fc243be9f90>, because it is not built.\n",
      "WARNING:tensorflow:Skipping full serialization of Keras layer <tensorflow.python.keras.layers.core.Dropout object at 0x7fc243cc49d0>, because it is not built.\n",
      "WARNING:tensorflow:Skipping full serialization of Keras layer <tensorflow.python.keras.layers.core.Dropout object at 0x7fc243be9290>, because it is not built.\n",
      "WARNING:tensorflow:Skipping full serialization of Keras layer <tensorflow.python.keras.layers.normalization_v2.BatchNormalization object at 0x7fc243cd7150>, because it is not built.\n",
      "WARNING:tensorflow:Skipping full serialization of Keras layer <tensorflow.python.keras.layers.core.Dense object at 0x7fc243cd7650>, because it is not built.\n",
      "WARNING:tensorflow:Skipping full serialization of Keras layer <tensorflow.python.keras.layers.core.Dense object at 0x7fc243cd7b50>, because it is not built.\n"
     ]
    },
    {
     "name": "stdout",
     "output_type": "stream",
     "text": [
      "\n",
      "Epoch 00005: val_loss improved from 0.10197 to 0.09819, saving model to /content/drive/MyDrive/ecARR/checkpoint/keras.modelM1_ab2\n"
     ]
    },
    {
     "name": "stderr",
     "output_type": "stream",
     "text": [
      "WARNING:tensorflow:Skipping full serialization of Keras layer <tensorflow.python.keras.layers.core.Dense object at 0x7fc243ceccd0>, because it is not built.\n",
      "WARNING:tensorflow:Skipping full serialization of Keras layer <tensorflow.python.keras.layers.core.Dense object at 0x7fc243cecfd0>, because it is not built.\n",
      "WARNING:tensorflow:Skipping full serialization of Keras layer <tensorflow.python.keras.layers.core.Dense object at 0x7fc243d05610>, because it is not built.\n",
      "WARNING:tensorflow:Skipping full serialization of Keras layer <tensorflow.python.keras.layers.core.Dense object at 0x7fc243d05a10>, because it is not built.\n",
      "WARNING:tensorflow:Skipping full serialization of Keras layer <tensorflow.python.keras.layers.core.Dense object at 0x7fc243d05f10>, because it is not built.\n",
      "WARNING:tensorflow:Skipping full serialization of Keras layer <tensorflow.python.keras.layers.core.Dense object at 0x7fc243d0b410>, because it is not built.\n",
      "WARNING:tensorflow:Skipping full serialization of Keras layer <tensorflow.python.keras.layers.core.Dense object at 0x7fc243d93750>, because it is not built.\n",
      "WARNING:tensorflow:Skipping full serialization of Keras layer <tensorflow.python.keras.layers.core.Dense object at 0x7fc243d0bb90>, because it is not built.\n",
      "WARNING:tensorflow:Skipping full serialization of Keras layer <tensorflow.python.keras.layers.core.Dense object at 0x7fc243d0bd50>, because it is not built.\n",
      "WARNING:tensorflow:Skipping full serialization of Keras layer <tensorflow.python.keras.layers.core.Dense object at 0x7fc243d10590>, because it is not built.\n",
      "WARNING:tensorflow:Skipping full serialization of Keras layer <tensorflow.python.keras.layers.core.Dense object at 0x7fc243d10950>, because it is not built.\n",
      "WARNING:tensorflow:Skipping full serialization of Keras layer <tensorflow.python.keras.layers.core.Dense object at 0x7fc243d10d50>, because it is not built.\n",
      "WARNING:tensorflow:Skipping full serialization of Keras layer <tensorflow.python.keras.layers.core.Dense object at 0x7fc243d1a310>, because it is not built.\n",
      "WARNING:tensorflow:Skipping full serialization of Keras layer <tensorflow.python.keras.layers.core.Dense object at 0x7fc243d1a810>, because it is not built.\n",
      "WARNING:tensorflow:Skipping full serialization of Keras layer <tensorflow.python.keras.layers.core.Dense object at 0x7fc243d1ac10>, because it is not built.\n",
      "WARNING:tensorflow:Skipping full serialization of Keras layer <tensorflow.python.keras.layers.core.Dense object at 0x7fc243d1afd0>, because it is not built.\n",
      "WARNING:absl:Found untraced functions such as embedding_layer_call_fn, embedding_layer_call_and_return_conditional_losses, dense_layer_call_fn, dense_layer_call_and_return_conditional_losses, dense_1_layer_call_fn while saving (showing 5 of 25). These functions will not be directly callable after loading.\n",
      "INFO:tensorflow:Assets written to: /content/drive/MyDrive/ecARR/checkpoint/keras.modelM1_ab2/assets\n"
     ]
    },
    {
     "name": "stdout",
     "output_type": "stream",
     "text": [
      "Epoch 6/100\n",
      "493/493 [==============================] - 18s 36ms/step - loss: 0.1129 - accuracy: 0.9693 - val_loss: 0.0942 - val_accuracy: 0.9747\n"
     ]
    },
    {
     "name": "stderr",
     "output_type": "stream",
     "text": [
      "WARNING:tensorflow:Skipping full serialization of Keras layer <modelM1_ab2.MultiHeadAttention object at 0x7fc243be9bd0>, because it is not built.\n",
      "WARNING:tensorflow:Skipping full serialization of Keras layer <modelM1_ab2.MultiHeadAttention object at 0x7fc243d05c50>, because it is not built.\n",
      "WARNING:tensorflow:Skipping full serialization of Keras layer <modelM1_ab2.MultiHeadAttention object at 0x7fc243d0bdd0>, because it is not built.\n",
      "WARNING:tensorflow:Skipping full serialization of Keras layer <modelM1_ab2.MultiHeadAttention object at 0x7fc243d10f50>, because it is not built.\n",
      "WARNING:tensorflow:Skipping full serialization of Keras layer <tensorflow.python.keras.layers.normalization.LayerNormalization object at 0x7fc243ca18d0>, because it is not built.\n",
      "WARNING:tensorflow:Skipping full serialization of Keras layer <tensorflow.python.keras.layers.normalization.LayerNormalization object at 0x7fc243d1a210>, because it is not built.\n",
      "WARNING:tensorflow:Skipping full serialization of Keras layer <tensorflow.python.keras.layers.normalization.LayerNormalization object at 0x7fc243ca1ed0>, because it is not built.\n",
      "WARNING:tensorflow:Skipping full serialization of Keras layer <tensorflow.python.keras.layers.normalization.LayerNormalization object at 0x7fc243cc41d0>, because it is not built.\n",
      "WARNING:tensorflow:Skipping full serialization of Keras layer <tensorflow.python.keras.layers.core.Dropout object at 0x7fc243ca1910>, because it is not built.\n",
      "WARNING:tensorflow:Skipping full serialization of Keras layer <tensorflow.python.keras.layers.core.Dropout object at 0x7fc243be9f90>, because it is not built.\n",
      "WARNING:tensorflow:Skipping full serialization of Keras layer <tensorflow.python.keras.layers.core.Dropout object at 0x7fc243cc49d0>, because it is not built.\n",
      "WARNING:tensorflow:Skipping full serialization of Keras layer <tensorflow.python.keras.layers.core.Dropout object at 0x7fc243be9290>, because it is not built.\n",
      "WARNING:tensorflow:Skipping full serialization of Keras layer <tensorflow.python.keras.layers.normalization_v2.BatchNormalization object at 0x7fc243cd7150>, because it is not built.\n",
      "WARNING:tensorflow:Skipping full serialization of Keras layer <tensorflow.python.keras.layers.core.Dense object at 0x7fc243cd7650>, because it is not built.\n",
      "WARNING:tensorflow:Skipping full serialization of Keras layer <tensorflow.python.keras.layers.core.Dense object at 0x7fc243cd7b50>, because it is not built.\n"
     ]
    },
    {
     "name": "stdout",
     "output_type": "stream",
     "text": [
      "\n",
      "Epoch 00006: val_loss improved from 0.09819 to 0.09416, saving model to /content/drive/MyDrive/ecARR/checkpoint/keras.modelM1_ab2\n"
     ]
    },
    {
     "name": "stderr",
     "output_type": "stream",
     "text": [
      "WARNING:tensorflow:Skipping full serialization of Keras layer <tensorflow.python.keras.layers.core.Dense object at 0x7fc243ceccd0>, because it is not built.\n",
      "WARNING:tensorflow:Skipping full serialization of Keras layer <tensorflow.python.keras.layers.core.Dense object at 0x7fc243cecfd0>, because it is not built.\n",
      "WARNING:tensorflow:Skipping full serialization of Keras layer <tensorflow.python.keras.layers.core.Dense object at 0x7fc243d05610>, because it is not built.\n",
      "WARNING:tensorflow:Skipping full serialization of Keras layer <tensorflow.python.keras.layers.core.Dense object at 0x7fc243d05a10>, because it is not built.\n",
      "WARNING:tensorflow:Skipping full serialization of Keras layer <tensorflow.python.keras.layers.core.Dense object at 0x7fc243d05f10>, because it is not built.\n",
      "WARNING:tensorflow:Skipping full serialization of Keras layer <tensorflow.python.keras.layers.core.Dense object at 0x7fc243d0b410>, because it is not built.\n",
      "WARNING:tensorflow:Skipping full serialization of Keras layer <tensorflow.python.keras.layers.core.Dense object at 0x7fc243d93750>, because it is not built.\n",
      "WARNING:tensorflow:Skipping full serialization of Keras layer <tensorflow.python.keras.layers.core.Dense object at 0x7fc243d0bb90>, because it is not built.\n",
      "WARNING:tensorflow:Skipping full serialization of Keras layer <tensorflow.python.keras.layers.core.Dense object at 0x7fc243d0bd50>, because it is not built.\n",
      "WARNING:tensorflow:Skipping full serialization of Keras layer <tensorflow.python.keras.layers.core.Dense object at 0x7fc243d10590>, because it is not built.\n",
      "WARNING:tensorflow:Skipping full serialization of Keras layer <tensorflow.python.keras.layers.core.Dense object at 0x7fc243d10950>, because it is not built.\n",
      "WARNING:tensorflow:Skipping full serialization of Keras layer <tensorflow.python.keras.layers.core.Dense object at 0x7fc243d10d50>, because it is not built.\n",
      "WARNING:tensorflow:Skipping full serialization of Keras layer <tensorflow.python.keras.layers.core.Dense object at 0x7fc243d1a310>, because it is not built.\n",
      "WARNING:tensorflow:Skipping full serialization of Keras layer <tensorflow.python.keras.layers.core.Dense object at 0x7fc243d1a810>, because it is not built.\n",
      "WARNING:tensorflow:Skipping full serialization of Keras layer <tensorflow.python.keras.layers.core.Dense object at 0x7fc243d1ac10>, because it is not built.\n",
      "WARNING:tensorflow:Skipping full serialization of Keras layer <tensorflow.python.keras.layers.core.Dense object at 0x7fc243d1afd0>, because it is not built.\n",
      "WARNING:absl:Found untraced functions such as embedding_layer_call_fn, embedding_layer_call_and_return_conditional_losses, dense_layer_call_fn, dense_layer_call_and_return_conditional_losses, dense_1_layer_call_fn while saving (showing 5 of 25). These functions will not be directly callable after loading.\n",
      "INFO:tensorflow:Assets written to: /content/drive/MyDrive/ecARR/checkpoint/keras.modelM1_ab2/assets\n"
     ]
    },
    {
     "name": "stdout",
     "output_type": "stream",
     "text": [
      "Epoch 7/100\n",
      "493/493 [==============================] - 19s 38ms/step - loss: 0.1055 - accuracy: 0.9705 - val_loss: 0.0865 - val_accuracy: 0.9766\n"
     ]
    },
    {
     "name": "stderr",
     "output_type": "stream",
     "text": [
      "WARNING:tensorflow:Skipping full serialization of Keras layer <modelM1_ab2.MultiHeadAttention object at 0x7fc243be9bd0>, because it is not built.\n",
      "WARNING:tensorflow:Skipping full serialization of Keras layer <modelM1_ab2.MultiHeadAttention object at 0x7fc243d05c50>, because it is not built.\n",
      "WARNING:tensorflow:Skipping full serialization of Keras layer <modelM1_ab2.MultiHeadAttention object at 0x7fc243d0bdd0>, because it is not built.\n",
      "WARNING:tensorflow:Skipping full serialization of Keras layer <modelM1_ab2.MultiHeadAttention object at 0x7fc243d10f50>, because it is not built.\n",
      "WARNING:tensorflow:Skipping full serialization of Keras layer <tensorflow.python.keras.layers.normalization.LayerNormalization object at 0x7fc243ca18d0>, because it is not built.\n",
      "WARNING:tensorflow:Skipping full serialization of Keras layer <tensorflow.python.keras.layers.normalization.LayerNormalization object at 0x7fc243d1a210>, because it is not built.\n",
      "WARNING:tensorflow:Skipping full serialization of Keras layer <tensorflow.python.keras.layers.normalization.LayerNormalization object at 0x7fc243ca1ed0>, because it is not built.\n",
      "WARNING:tensorflow:Skipping full serialization of Keras layer <tensorflow.python.keras.layers.normalization.LayerNormalization object at 0x7fc243cc41d0>, because it is not built.\n",
      "WARNING:tensorflow:Skipping full serialization of Keras layer <tensorflow.python.keras.layers.core.Dropout object at 0x7fc243ca1910>, because it is not built.\n",
      "WARNING:tensorflow:Skipping full serialization of Keras layer <tensorflow.python.keras.layers.core.Dropout object at 0x7fc243be9f90>, because it is not built.\n",
      "WARNING:tensorflow:Skipping full serialization of Keras layer <tensorflow.python.keras.layers.core.Dropout object at 0x7fc243cc49d0>, because it is not built.\n",
      "WARNING:tensorflow:Skipping full serialization of Keras layer <tensorflow.python.keras.layers.core.Dropout object at 0x7fc243be9290>, because it is not built.\n",
      "WARNING:tensorflow:Skipping full serialization of Keras layer <tensorflow.python.keras.layers.normalization_v2.BatchNormalization object at 0x7fc243cd7150>, because it is not built.\n",
      "WARNING:tensorflow:Skipping full serialization of Keras layer <tensorflow.python.keras.layers.core.Dense object at 0x7fc243cd7650>, because it is not built.\n",
      "WARNING:tensorflow:Skipping full serialization of Keras layer <tensorflow.python.keras.layers.core.Dense object at 0x7fc243cd7b50>, because it is not built.\n"
     ]
    },
    {
     "name": "stdout",
     "output_type": "stream",
     "text": [
      "\n",
      "Epoch 00007: val_loss improved from 0.09416 to 0.08645, saving model to /content/drive/MyDrive/ecARR/checkpoint/keras.modelM1_ab2\n"
     ]
    },
    {
     "name": "stderr",
     "output_type": "stream",
     "text": [
      "WARNING:tensorflow:Skipping full serialization of Keras layer <tensorflow.python.keras.layers.core.Dense object at 0x7fc243ceccd0>, because it is not built.\n",
      "WARNING:tensorflow:Skipping full serialization of Keras layer <tensorflow.python.keras.layers.core.Dense object at 0x7fc243cecfd0>, because it is not built.\n",
      "WARNING:tensorflow:Skipping full serialization of Keras layer <tensorflow.python.keras.layers.core.Dense object at 0x7fc243d05610>, because it is not built.\n",
      "WARNING:tensorflow:Skipping full serialization of Keras layer <tensorflow.python.keras.layers.core.Dense object at 0x7fc243d05a10>, because it is not built.\n",
      "WARNING:tensorflow:Skipping full serialization of Keras layer <tensorflow.python.keras.layers.core.Dense object at 0x7fc243d05f10>, because it is not built.\n",
      "WARNING:tensorflow:Skipping full serialization of Keras layer <tensorflow.python.keras.layers.core.Dense object at 0x7fc243d0b410>, because it is not built.\n",
      "WARNING:tensorflow:Skipping full serialization of Keras layer <tensorflow.python.keras.layers.core.Dense object at 0x7fc243d93750>, because it is not built.\n",
      "WARNING:tensorflow:Skipping full serialization of Keras layer <tensorflow.python.keras.layers.core.Dense object at 0x7fc243d0bb90>, because it is not built.\n",
      "WARNING:tensorflow:Skipping full serialization of Keras layer <tensorflow.python.keras.layers.core.Dense object at 0x7fc243d0bd50>, because it is not built.\n",
      "WARNING:tensorflow:Skipping full serialization of Keras layer <tensorflow.python.keras.layers.core.Dense object at 0x7fc243d10590>, because it is not built.\n",
      "WARNING:tensorflow:Skipping full serialization of Keras layer <tensorflow.python.keras.layers.core.Dense object at 0x7fc243d10950>, because it is not built.\n",
      "WARNING:tensorflow:Skipping full serialization of Keras layer <tensorflow.python.keras.layers.core.Dense object at 0x7fc243d10d50>, because it is not built.\n",
      "WARNING:tensorflow:Skipping full serialization of Keras layer <tensorflow.python.keras.layers.core.Dense object at 0x7fc243d1a310>, because it is not built.\n",
      "WARNING:tensorflow:Skipping full serialization of Keras layer <tensorflow.python.keras.layers.core.Dense object at 0x7fc243d1a810>, because it is not built.\n",
      "WARNING:tensorflow:Skipping full serialization of Keras layer <tensorflow.python.keras.layers.core.Dense object at 0x7fc243d1ac10>, because it is not built.\n",
      "WARNING:tensorflow:Skipping full serialization of Keras layer <tensorflow.python.keras.layers.core.Dense object at 0x7fc243d1afd0>, because it is not built.\n",
      "WARNING:absl:Found untraced functions such as embedding_layer_call_fn, embedding_layer_call_and_return_conditional_losses, dense_layer_call_fn, dense_layer_call_and_return_conditional_losses, dense_1_layer_call_fn while saving (showing 5 of 25). These functions will not be directly callable after loading.\n",
      "INFO:tensorflow:Assets written to: /content/drive/MyDrive/ecARR/checkpoint/keras.modelM1_ab2/assets\n"
     ]
    },
    {
     "name": "stdout",
     "output_type": "stream",
     "text": [
      "Epoch 8/100\n",
      "493/493 [==============================] - 19s 38ms/step - loss: 0.0973 - accuracy: 0.9738 - val_loss: 0.0865 - val_accuracy: 0.9769\n",
      "\n",
      "Epoch 00008: val_loss did not improve from 0.08645\n",
      "Epoch 9/100\n",
      "493/493 [==============================] - 18s 37ms/step - loss: 0.0963 - accuracy: 0.9736 - val_loss: 0.0851 - val_accuracy: 0.9772\n"
     ]
    },
    {
     "name": "stderr",
     "output_type": "stream",
     "text": [
      "WARNING:tensorflow:Skipping full serialization of Keras layer <modelM1_ab2.MultiHeadAttention object at 0x7fc243be9bd0>, because it is not built.\n",
      "WARNING:tensorflow:Skipping full serialization of Keras layer <modelM1_ab2.MultiHeadAttention object at 0x7fc243d05c50>, because it is not built.\n",
      "WARNING:tensorflow:Skipping full serialization of Keras layer <modelM1_ab2.MultiHeadAttention object at 0x7fc243d0bdd0>, because it is not built.\n",
      "WARNING:tensorflow:Skipping full serialization of Keras layer <modelM1_ab2.MultiHeadAttention object at 0x7fc243d10f50>, because it is not built.\n",
      "WARNING:tensorflow:Skipping full serialization of Keras layer <tensorflow.python.keras.layers.normalization.LayerNormalization object at 0x7fc243ca18d0>, because it is not built.\n",
      "WARNING:tensorflow:Skipping full serialization of Keras layer <tensorflow.python.keras.layers.normalization.LayerNormalization object at 0x7fc243d1a210>, because it is not built.\n",
      "WARNING:tensorflow:Skipping full serialization of Keras layer <tensorflow.python.keras.layers.normalization.LayerNormalization object at 0x7fc243ca1ed0>, because it is not built.\n",
      "WARNING:tensorflow:Skipping full serialization of Keras layer <tensorflow.python.keras.layers.normalization.LayerNormalization object at 0x7fc243cc41d0>, because it is not built.\n",
      "WARNING:tensorflow:Skipping full serialization of Keras layer <tensorflow.python.keras.layers.core.Dropout object at 0x7fc243ca1910>, because it is not built.\n",
      "WARNING:tensorflow:Skipping full serialization of Keras layer <tensorflow.python.keras.layers.core.Dropout object at 0x7fc243be9f90>, because it is not built.\n",
      "WARNING:tensorflow:Skipping full serialization of Keras layer <tensorflow.python.keras.layers.core.Dropout object at 0x7fc243cc49d0>, because it is not built.\n",
      "WARNING:tensorflow:Skipping full serialization of Keras layer <tensorflow.python.keras.layers.core.Dropout object at 0x7fc243be9290>, because it is not built.\n"
     ]
    },
    {
     "name": "stdout",
     "output_type": "stream",
     "text": [
      "\n",
      "Epoch 00009: val_loss improved from 0.08645 to 0.08512, saving model to /content/drive/MyDrive/ecARR/checkpoint/keras.modelM1_ab2\n"
     ]
    },
    {
     "name": "stderr",
     "output_type": "stream",
     "text": [
      "WARNING:tensorflow:Skipping full serialization of Keras layer <tensorflow.python.keras.layers.normalization_v2.BatchNormalization object at 0x7fc243cd7150>, because it is not built.\n",
      "WARNING:tensorflow:Skipping full serialization of Keras layer <tensorflow.python.keras.layers.core.Dense object at 0x7fc243cd7650>, because it is not built.\n",
      "WARNING:tensorflow:Skipping full serialization of Keras layer <tensorflow.python.keras.layers.core.Dense object at 0x7fc243cd7b50>, because it is not built.\n",
      "WARNING:tensorflow:Skipping full serialization of Keras layer <tensorflow.python.keras.layers.core.Dense object at 0x7fc243ceccd0>, because it is not built.\n",
      "WARNING:tensorflow:Skipping full serialization of Keras layer <tensorflow.python.keras.layers.core.Dense object at 0x7fc243cecfd0>, because it is not built.\n",
      "WARNING:tensorflow:Skipping full serialization of Keras layer <tensorflow.python.keras.layers.core.Dense object at 0x7fc243d05610>, because it is not built.\n",
      "WARNING:tensorflow:Skipping full serialization of Keras layer <tensorflow.python.keras.layers.core.Dense object at 0x7fc243d05a10>, because it is not built.\n",
      "WARNING:tensorflow:Skipping full serialization of Keras layer <tensorflow.python.keras.layers.core.Dense object at 0x7fc243d05f10>, because it is not built.\n",
      "WARNING:tensorflow:Skipping full serialization of Keras layer <tensorflow.python.keras.layers.core.Dense object at 0x7fc243d0b410>, because it is not built.\n",
      "WARNING:tensorflow:Skipping full serialization of Keras layer <tensorflow.python.keras.layers.core.Dense object at 0x7fc243d93750>, because it is not built.\n",
      "WARNING:tensorflow:Skipping full serialization of Keras layer <tensorflow.python.keras.layers.core.Dense object at 0x7fc243d0bb90>, because it is not built.\n",
      "WARNING:tensorflow:Skipping full serialization of Keras layer <tensorflow.python.keras.layers.core.Dense object at 0x7fc243d0bd50>, because it is not built.\n",
      "WARNING:tensorflow:Skipping full serialization of Keras layer <tensorflow.python.keras.layers.core.Dense object at 0x7fc243d10590>, because it is not built.\n",
      "WARNING:tensorflow:Skipping full serialization of Keras layer <tensorflow.python.keras.layers.core.Dense object at 0x7fc243d10950>, because it is not built.\n",
      "WARNING:tensorflow:Skipping full serialization of Keras layer <tensorflow.python.keras.layers.core.Dense object at 0x7fc243d10d50>, because it is not built.\n",
      "WARNING:tensorflow:Skipping full serialization of Keras layer <tensorflow.python.keras.layers.core.Dense object at 0x7fc243d1a310>, because it is not built.\n",
      "WARNING:tensorflow:Skipping full serialization of Keras layer <tensorflow.python.keras.layers.core.Dense object at 0x7fc243d1a810>, because it is not built.\n",
      "WARNING:tensorflow:Skipping full serialization of Keras layer <tensorflow.python.keras.layers.core.Dense object at 0x7fc243d1ac10>, because it is not built.\n",
      "WARNING:tensorflow:Skipping full serialization of Keras layer <tensorflow.python.keras.layers.core.Dense object at 0x7fc243d1afd0>, because it is not built.\n",
      "WARNING:absl:Found untraced functions such as embedding_layer_call_fn, embedding_layer_call_and_return_conditional_losses, dense_layer_call_fn, dense_layer_call_and_return_conditional_losses, dense_1_layer_call_fn while saving (showing 5 of 25). These functions will not be directly callable after loading.\n",
      "INFO:tensorflow:Assets written to: /content/drive/MyDrive/ecARR/checkpoint/keras.modelM1_ab2/assets\n"
     ]
    },
    {
     "name": "stdout",
     "output_type": "stream",
     "text": [
      "Epoch 10/100\n",
      "493/493 [==============================] - 18s 37ms/step - loss: 0.0903 - accuracy: 0.9749 - val_loss: 0.0821 - val_accuracy: 0.9770\n"
     ]
    },
    {
     "name": "stderr",
     "output_type": "stream",
     "text": [
      "WARNING:tensorflow:Skipping full serialization of Keras layer <modelM1_ab2.MultiHeadAttention object at 0x7fc243be9bd0>, because it is not built.\n",
      "WARNING:tensorflow:Skipping full serialization of Keras layer <modelM1_ab2.MultiHeadAttention object at 0x7fc243d05c50>, because it is not built.\n",
      "WARNING:tensorflow:Skipping full serialization of Keras layer <modelM1_ab2.MultiHeadAttention object at 0x7fc243d0bdd0>, because it is not built.\n",
      "WARNING:tensorflow:Skipping full serialization of Keras layer <modelM1_ab2.MultiHeadAttention object at 0x7fc243d10f50>, because it is not built.\n",
      "WARNING:tensorflow:Skipping full serialization of Keras layer <tensorflow.python.keras.layers.normalization.LayerNormalization object at 0x7fc243ca18d0>, because it is not built.\n",
      "WARNING:tensorflow:Skipping full serialization of Keras layer <tensorflow.python.keras.layers.normalization.LayerNormalization object at 0x7fc243d1a210>, because it is not built.\n",
      "WARNING:tensorflow:Skipping full serialization of Keras layer <tensorflow.python.keras.layers.normalization.LayerNormalization object at 0x7fc243ca1ed0>, because it is not built.\n",
      "WARNING:tensorflow:Skipping full serialization of Keras layer <tensorflow.python.keras.layers.normalization.LayerNormalization object at 0x7fc243cc41d0>, because it is not built.\n",
      "WARNING:tensorflow:Skipping full serialization of Keras layer <tensorflow.python.keras.layers.core.Dropout object at 0x7fc243ca1910>, because it is not built.\n",
      "WARNING:tensorflow:Skipping full serialization of Keras layer <tensorflow.python.keras.layers.core.Dropout object at 0x7fc243be9f90>, because it is not built.\n",
      "WARNING:tensorflow:Skipping full serialization of Keras layer <tensorflow.python.keras.layers.core.Dropout object at 0x7fc243cc49d0>, because it is not built.\n",
      "WARNING:tensorflow:Skipping full serialization of Keras layer <tensorflow.python.keras.layers.core.Dropout object at 0x7fc243be9290>, because it is not built.\n",
      "WARNING:tensorflow:Skipping full serialization of Keras layer <tensorflow.python.keras.layers.normalization_v2.BatchNormalization object at 0x7fc243cd7150>, because it is not built.\n"
     ]
    },
    {
     "name": "stdout",
     "output_type": "stream",
     "text": [
      "\n",
      "Epoch 00010: val_loss improved from 0.08512 to 0.08209, saving model to /content/drive/MyDrive/ecARR/checkpoint/keras.modelM1_ab2\n"
     ]
    },
    {
     "name": "stderr",
     "output_type": "stream",
     "text": [
      "WARNING:tensorflow:Skipping full serialization of Keras layer <tensorflow.python.keras.layers.core.Dense object at 0x7fc243cd7650>, because it is not built.\n",
      "WARNING:tensorflow:Skipping full serialization of Keras layer <tensorflow.python.keras.layers.core.Dense object at 0x7fc243cd7b50>, because it is not built.\n",
      "WARNING:tensorflow:Skipping full serialization of Keras layer <tensorflow.python.keras.layers.core.Dense object at 0x7fc243ceccd0>, because it is not built.\n",
      "WARNING:tensorflow:Skipping full serialization of Keras layer <tensorflow.python.keras.layers.core.Dense object at 0x7fc243cecfd0>, because it is not built.\n",
      "WARNING:tensorflow:Skipping full serialization of Keras layer <tensorflow.python.keras.layers.core.Dense object at 0x7fc243d05610>, because it is not built.\n",
      "WARNING:tensorflow:Skipping full serialization of Keras layer <tensorflow.python.keras.layers.core.Dense object at 0x7fc243d05a10>, because it is not built.\n",
      "WARNING:tensorflow:Skipping full serialization of Keras layer <tensorflow.python.keras.layers.core.Dense object at 0x7fc243d05f10>, because it is not built.\n",
      "WARNING:tensorflow:Skipping full serialization of Keras layer <tensorflow.python.keras.layers.core.Dense object at 0x7fc243d0b410>, because it is not built.\n",
      "WARNING:tensorflow:Skipping full serialization of Keras layer <tensorflow.python.keras.layers.core.Dense object at 0x7fc243d93750>, because it is not built.\n",
      "WARNING:tensorflow:Skipping full serialization of Keras layer <tensorflow.python.keras.layers.core.Dense object at 0x7fc243d0bb90>, because it is not built.\n",
      "WARNING:tensorflow:Skipping full serialization of Keras layer <tensorflow.python.keras.layers.core.Dense object at 0x7fc243d0bd50>, because it is not built.\n",
      "WARNING:tensorflow:Skipping full serialization of Keras layer <tensorflow.python.keras.layers.core.Dense object at 0x7fc243d10590>, because it is not built.\n",
      "WARNING:tensorflow:Skipping full serialization of Keras layer <tensorflow.python.keras.layers.core.Dense object at 0x7fc243d10950>, because it is not built.\n",
      "WARNING:tensorflow:Skipping full serialization of Keras layer <tensorflow.python.keras.layers.core.Dense object at 0x7fc243d10d50>, because it is not built.\n",
      "WARNING:tensorflow:Skipping full serialization of Keras layer <tensorflow.python.keras.layers.core.Dense object at 0x7fc243d1a310>, because it is not built.\n",
      "WARNING:tensorflow:Skipping full serialization of Keras layer <tensorflow.python.keras.layers.core.Dense object at 0x7fc243d1a810>, because it is not built.\n",
      "WARNING:tensorflow:Skipping full serialization of Keras layer <tensorflow.python.keras.layers.core.Dense object at 0x7fc243d1ac10>, because it is not built.\n",
      "WARNING:tensorflow:Skipping full serialization of Keras layer <tensorflow.python.keras.layers.core.Dense object at 0x7fc243d1afd0>, because it is not built.\n",
      "WARNING:absl:Found untraced functions such as embedding_layer_call_fn, embedding_layer_call_and_return_conditional_losses, dense_layer_call_fn, dense_layer_call_and_return_conditional_losses, dense_1_layer_call_fn while saving (showing 5 of 25). These functions will not be directly callable after loading.\n",
      "INFO:tensorflow:Assets written to: /content/drive/MyDrive/ecARR/checkpoint/keras.modelM1_ab2/assets\n"
     ]
    },
    {
     "name": "stdout",
     "output_type": "stream",
     "text": [
      "Epoch 11/100\n",
      "493/493 [==============================] - 18s 37ms/step - loss: 0.0883 - accuracy: 0.9753 - val_loss: 0.0858 - val_accuracy: 0.9776\n",
      "\n",
      "Epoch 00011: val_loss did not improve from 0.08209\n",
      "Epoch 12/100\n",
      "493/493 [==============================] - 18s 37ms/step - loss: 0.0835 - accuracy: 0.9768 - val_loss: 0.0750 - val_accuracy: 0.9793\n"
     ]
    },
    {
     "name": "stderr",
     "output_type": "stream",
     "text": [
      "WARNING:tensorflow:Skipping full serialization of Keras layer <modelM1_ab2.MultiHeadAttention object at 0x7fc243be9bd0>, because it is not built.\n",
      "WARNING:tensorflow:Skipping full serialization of Keras layer <modelM1_ab2.MultiHeadAttention object at 0x7fc243d05c50>, because it is not built.\n",
      "WARNING:tensorflow:Skipping full serialization of Keras layer <modelM1_ab2.MultiHeadAttention object at 0x7fc243d0bdd0>, because it is not built.\n",
      "WARNING:tensorflow:Skipping full serialization of Keras layer <modelM1_ab2.MultiHeadAttention object at 0x7fc243d10f50>, because it is not built.\n",
      "WARNING:tensorflow:Skipping full serialization of Keras layer <tensorflow.python.keras.layers.normalization.LayerNormalization object at 0x7fc243ca18d0>, because it is not built.\n",
      "WARNING:tensorflow:Skipping full serialization of Keras layer <tensorflow.python.keras.layers.normalization.LayerNormalization object at 0x7fc243d1a210>, because it is not built.\n",
      "WARNING:tensorflow:Skipping full serialization of Keras layer <tensorflow.python.keras.layers.normalization.LayerNormalization object at 0x7fc243ca1ed0>, because it is not built.\n",
      "WARNING:tensorflow:Skipping full serialization of Keras layer <tensorflow.python.keras.layers.normalization.LayerNormalization object at 0x7fc243cc41d0>, because it is not built.\n",
      "WARNING:tensorflow:Skipping full serialization of Keras layer <tensorflow.python.keras.layers.core.Dropout object at 0x7fc243ca1910>, because it is not built.\n",
      "WARNING:tensorflow:Skipping full serialization of Keras layer <tensorflow.python.keras.layers.core.Dropout object at 0x7fc243be9f90>, because it is not built.\n",
      "WARNING:tensorflow:Skipping full serialization of Keras layer <tensorflow.python.keras.layers.core.Dropout object at 0x7fc243cc49d0>, because it is not built.\n"
     ]
    },
    {
     "name": "stdout",
     "output_type": "stream",
     "text": [
      "\n",
      "Epoch 00012: val_loss improved from 0.08209 to 0.07498, saving model to /content/drive/MyDrive/ecARR/checkpoint/keras.modelM1_ab2\n"
     ]
    },
    {
     "name": "stderr",
     "output_type": "stream",
     "text": [
      "WARNING:tensorflow:Skipping full serialization of Keras layer <tensorflow.python.keras.layers.core.Dropout object at 0x7fc243be9290>, because it is not built.\n",
      "WARNING:tensorflow:Skipping full serialization of Keras layer <tensorflow.python.keras.layers.normalization_v2.BatchNormalization object at 0x7fc243cd7150>, because it is not built.\n",
      "WARNING:tensorflow:Skipping full serialization of Keras layer <tensorflow.python.keras.layers.core.Dense object at 0x7fc243cd7650>, because it is not built.\n",
      "WARNING:tensorflow:Skipping full serialization of Keras layer <tensorflow.python.keras.layers.core.Dense object at 0x7fc243cd7b50>, because it is not built.\n",
      "WARNING:tensorflow:Skipping full serialization of Keras layer <tensorflow.python.keras.layers.core.Dense object at 0x7fc243ceccd0>, because it is not built.\n",
      "WARNING:tensorflow:Skipping full serialization of Keras layer <tensorflow.python.keras.layers.core.Dense object at 0x7fc243cecfd0>, because it is not built.\n",
      "WARNING:tensorflow:Skipping full serialization of Keras layer <tensorflow.python.keras.layers.core.Dense object at 0x7fc243d05610>, because it is not built.\n",
      "WARNING:tensorflow:Skipping full serialization of Keras layer <tensorflow.python.keras.layers.core.Dense object at 0x7fc243d05a10>, because it is not built.\n",
      "WARNING:tensorflow:Skipping full serialization of Keras layer <tensorflow.python.keras.layers.core.Dense object at 0x7fc243d05f10>, because it is not built.\n",
      "WARNING:tensorflow:Skipping full serialization of Keras layer <tensorflow.python.keras.layers.core.Dense object at 0x7fc243d0b410>, because it is not built.\n",
      "WARNING:tensorflow:Skipping full serialization of Keras layer <tensorflow.python.keras.layers.core.Dense object at 0x7fc243d93750>, because it is not built.\n",
      "WARNING:tensorflow:Skipping full serialization of Keras layer <tensorflow.python.keras.layers.core.Dense object at 0x7fc243d0bb90>, because it is not built.\n",
      "WARNING:tensorflow:Skipping full serialization of Keras layer <tensorflow.python.keras.layers.core.Dense object at 0x7fc243d0bd50>, because it is not built.\n",
      "WARNING:tensorflow:Skipping full serialization of Keras layer <tensorflow.python.keras.layers.core.Dense object at 0x7fc243d10590>, because it is not built.\n",
      "WARNING:tensorflow:Skipping full serialization of Keras layer <tensorflow.python.keras.layers.core.Dense object at 0x7fc243d10950>, because it is not built.\n",
      "WARNING:tensorflow:Skipping full serialization of Keras layer <tensorflow.python.keras.layers.core.Dense object at 0x7fc243d10d50>, because it is not built.\n",
      "WARNING:tensorflow:Skipping full serialization of Keras layer <tensorflow.python.keras.layers.core.Dense object at 0x7fc243d1a310>, because it is not built.\n",
      "WARNING:tensorflow:Skipping full serialization of Keras layer <tensorflow.python.keras.layers.core.Dense object at 0x7fc243d1a810>, because it is not built.\n",
      "WARNING:tensorflow:Skipping full serialization of Keras layer <tensorflow.python.keras.layers.core.Dense object at 0x7fc243d1ac10>, because it is not built.\n",
      "WARNING:tensorflow:Skipping full serialization of Keras layer <tensorflow.python.keras.layers.core.Dense object at 0x7fc243d1afd0>, because it is not built.\n",
      "WARNING:absl:Found untraced functions such as embedding_layer_call_fn, embedding_layer_call_and_return_conditional_losses, dense_layer_call_fn, dense_layer_call_and_return_conditional_losses, dense_1_layer_call_fn while saving (showing 5 of 25). These functions will not be directly callable after loading.\n",
      "INFO:tensorflow:Assets written to: /content/drive/MyDrive/ecARR/checkpoint/keras.modelM1_ab2/assets\n"
     ]
    },
    {
     "name": "stdout",
     "output_type": "stream",
     "text": [
      "Epoch 13/100\n",
      "493/493 [==============================] - 18s 37ms/step - loss: 0.0816 - accuracy: 0.9775 - val_loss: 0.0746 - val_accuracy: 0.9804\n",
      "\n",
      "Epoch 00013: val_loss improved from 0.07498 to 0.07457, saving model to /content/drive/MyDrive/ecARR/checkpoint/keras.modelM1_ab2\n"
     ]
    },
    {
     "name": "stderr",
     "output_type": "stream",
     "text": [
      "WARNING:tensorflow:Skipping full serialization of Keras layer <modelM1_ab2.MultiHeadAttention object at 0x7fc243be9bd0>, because it is not built.\n",
      "WARNING:tensorflow:Skipping full serialization of Keras layer <modelM1_ab2.MultiHeadAttention object at 0x7fc243d05c50>, because it is not built.\n",
      "WARNING:tensorflow:Skipping full serialization of Keras layer <modelM1_ab2.MultiHeadAttention object at 0x7fc243d0bdd0>, because it is not built.\n",
      "WARNING:tensorflow:Skipping full serialization of Keras layer <modelM1_ab2.MultiHeadAttention object at 0x7fc243d10f50>, because it is not built.\n",
      "WARNING:tensorflow:Skipping full serialization of Keras layer <tensorflow.python.keras.layers.normalization.LayerNormalization object at 0x7fc243ca18d0>, because it is not built.\n",
      "WARNING:tensorflow:Skipping full serialization of Keras layer <tensorflow.python.keras.layers.normalization.LayerNormalization object at 0x7fc243d1a210>, because it is not built.\n",
      "WARNING:tensorflow:Skipping full serialization of Keras layer <tensorflow.python.keras.layers.normalization.LayerNormalization object at 0x7fc243ca1ed0>, because it is not built.\n",
      "WARNING:tensorflow:Skipping full serialization of Keras layer <tensorflow.python.keras.layers.normalization.LayerNormalization object at 0x7fc243cc41d0>, because it is not built.\n",
      "WARNING:tensorflow:Skipping full serialization of Keras layer <tensorflow.python.keras.layers.core.Dropout object at 0x7fc243ca1910>, because it is not built.\n",
      "WARNING:tensorflow:Skipping full serialization of Keras layer <tensorflow.python.keras.layers.core.Dropout object at 0x7fc243be9f90>, because it is not built.\n",
      "WARNING:tensorflow:Skipping full serialization of Keras layer <tensorflow.python.keras.layers.core.Dropout object at 0x7fc243cc49d0>, because it is not built.\n",
      "WARNING:tensorflow:Skipping full serialization of Keras layer <tensorflow.python.keras.layers.core.Dropout object at 0x7fc243be9290>, because it is not built.\n",
      "WARNING:tensorflow:Skipping full serialization of Keras layer <tensorflow.python.keras.layers.normalization_v2.BatchNormalization object at 0x7fc243cd7150>, because it is not built.\n",
      "WARNING:tensorflow:Skipping full serialization of Keras layer <tensorflow.python.keras.layers.core.Dense object at 0x7fc243cd7650>, because it is not built.\n",
      "WARNING:tensorflow:Skipping full serialization of Keras layer <tensorflow.python.keras.layers.core.Dense object at 0x7fc243cd7b50>, because it is not built.\n",
      "WARNING:tensorflow:Skipping full serialization of Keras layer <tensorflow.python.keras.layers.core.Dense object at 0x7fc243ceccd0>, because it is not built.\n",
      "WARNING:tensorflow:Skipping full serialization of Keras layer <tensorflow.python.keras.layers.core.Dense object at 0x7fc243cecfd0>, because it is not built.\n",
      "WARNING:tensorflow:Skipping full serialization of Keras layer <tensorflow.python.keras.layers.core.Dense object at 0x7fc243d05610>, because it is not built.\n",
      "WARNING:tensorflow:Skipping full serialization of Keras layer <tensorflow.python.keras.layers.core.Dense object at 0x7fc243d05a10>, because it is not built.\n",
      "WARNING:tensorflow:Skipping full serialization of Keras layer <tensorflow.python.keras.layers.core.Dense object at 0x7fc243d05f10>, because it is not built.\n",
      "WARNING:tensorflow:Skipping full serialization of Keras layer <tensorflow.python.keras.layers.core.Dense object at 0x7fc243d0b410>, because it is not built.\n",
      "WARNING:tensorflow:Skipping full serialization of Keras layer <tensorflow.python.keras.layers.core.Dense object at 0x7fc243d93750>, because it is not built.\n",
      "WARNING:tensorflow:Skipping full serialization of Keras layer <tensorflow.python.keras.layers.core.Dense object at 0x7fc243d0bb90>, because it is not built.\n",
      "WARNING:tensorflow:Skipping full serialization of Keras layer <tensorflow.python.keras.layers.core.Dense object at 0x7fc243d0bd50>, because it is not built.\n",
      "WARNING:tensorflow:Skipping full serialization of Keras layer <tensorflow.python.keras.layers.core.Dense object at 0x7fc243d10590>, because it is not built.\n",
      "WARNING:tensorflow:Skipping full serialization of Keras layer <tensorflow.python.keras.layers.core.Dense object at 0x7fc243d10950>, because it is not built.\n",
      "WARNING:tensorflow:Skipping full serialization of Keras layer <tensorflow.python.keras.layers.core.Dense object at 0x7fc243d10d50>, because it is not built.\n",
      "WARNING:tensorflow:Skipping full serialization of Keras layer <tensorflow.python.keras.layers.core.Dense object at 0x7fc243d1a310>, because it is not built.\n",
      "WARNING:tensorflow:Skipping full serialization of Keras layer <tensorflow.python.keras.layers.core.Dense object at 0x7fc243d1a810>, because it is not built.\n",
      "WARNING:tensorflow:Skipping full serialization of Keras layer <tensorflow.python.keras.layers.core.Dense object at 0x7fc243d1ac10>, because it is not built.\n",
      "WARNING:tensorflow:Skipping full serialization of Keras layer <tensorflow.python.keras.layers.core.Dense object at 0x7fc243d1afd0>, because it is not built.\n",
      "WARNING:absl:Found untraced functions such as embedding_layer_call_fn, embedding_layer_call_and_return_conditional_losses, dense_layer_call_fn, dense_layer_call_and_return_conditional_losses, dense_1_layer_call_fn while saving (showing 5 of 25). These functions will not be directly callable after loading.\n",
      "INFO:tensorflow:Assets written to: /content/drive/MyDrive/ecARR/checkpoint/keras.modelM1_ab2/assets\n"
     ]
    },
    {
     "name": "stdout",
     "output_type": "stream",
     "text": [
      "Epoch 14/100\n",
      "493/493 [==============================] - 18s 37ms/step - loss: 0.0782 - accuracy: 0.9782 - val_loss: 0.0769 - val_accuracy: 0.9800\n",
      "\n",
      "Epoch 00014: val_loss did not improve from 0.07457\n",
      "Epoch 15/100\n",
      "493/493 [==============================] - 18s 37ms/step - loss: 0.0745 - accuracy: 0.9790 - val_loss: 0.0722 - val_accuracy: 0.9806\n"
     ]
    },
    {
     "name": "stderr",
     "output_type": "stream",
     "text": [
      "WARNING:tensorflow:Skipping full serialization of Keras layer <modelM1_ab2.MultiHeadAttention object at 0x7fc243be9bd0>, because it is not built.\n",
      "WARNING:tensorflow:Skipping full serialization of Keras layer <modelM1_ab2.MultiHeadAttention object at 0x7fc243d05c50>, because it is not built.\n",
      "WARNING:tensorflow:Skipping full serialization of Keras layer <modelM1_ab2.MultiHeadAttention object at 0x7fc243d0bdd0>, because it is not built.\n",
      "WARNING:tensorflow:Skipping full serialization of Keras layer <modelM1_ab2.MultiHeadAttention object at 0x7fc243d10f50>, because it is not built.\n",
      "WARNING:tensorflow:Skipping full serialization of Keras layer <tensorflow.python.keras.layers.normalization.LayerNormalization object at 0x7fc243ca18d0>, because it is not built.\n",
      "WARNING:tensorflow:Skipping full serialization of Keras layer <tensorflow.python.keras.layers.normalization.LayerNormalization object at 0x7fc243d1a210>, because it is not built.\n",
      "WARNING:tensorflow:Skipping full serialization of Keras layer <tensorflow.python.keras.layers.normalization.LayerNormalization object at 0x7fc243ca1ed0>, because it is not built.\n",
      "WARNING:tensorflow:Skipping full serialization of Keras layer <tensorflow.python.keras.layers.normalization.LayerNormalization object at 0x7fc243cc41d0>, because it is not built.\n",
      "WARNING:tensorflow:Skipping full serialization of Keras layer <tensorflow.python.keras.layers.core.Dropout object at 0x7fc243ca1910>, because it is not built.\n",
      "WARNING:tensorflow:Skipping full serialization of Keras layer <tensorflow.python.keras.layers.core.Dropout object at 0x7fc243be9f90>, because it is not built.\n",
      "WARNING:tensorflow:Skipping full serialization of Keras layer <tensorflow.python.keras.layers.core.Dropout object at 0x7fc243cc49d0>, because it is not built.\n",
      "WARNING:tensorflow:Skipping full serialization of Keras layer <tensorflow.python.keras.layers.core.Dropout object at 0x7fc243be9290>, because it is not built.\n",
      "WARNING:tensorflow:Skipping full serialization of Keras layer <tensorflow.python.keras.layers.normalization_v2.BatchNormalization object at 0x7fc243cd7150>, because it is not built.\n",
      "WARNING:tensorflow:Skipping full serialization of Keras layer <tensorflow.python.keras.layers.core.Dense object at 0x7fc243cd7650>, because it is not built.\n",
      "WARNING:tensorflow:Skipping full serialization of Keras layer <tensorflow.python.keras.layers.core.Dense object at 0x7fc243cd7b50>, because it is not built.\n"
     ]
    },
    {
     "name": "stdout",
     "output_type": "stream",
     "text": [
      "\n",
      "Epoch 00015: val_loss improved from 0.07457 to 0.07216, saving model to /content/drive/MyDrive/ecARR/checkpoint/keras.modelM1_ab2\n"
     ]
    },
    {
     "name": "stderr",
     "output_type": "stream",
     "text": [
      "WARNING:tensorflow:Skipping full serialization of Keras layer <tensorflow.python.keras.layers.core.Dense object at 0x7fc243ceccd0>, because it is not built.\n",
      "WARNING:tensorflow:Skipping full serialization of Keras layer <tensorflow.python.keras.layers.core.Dense object at 0x7fc243cecfd0>, because it is not built.\n",
      "WARNING:tensorflow:Skipping full serialization of Keras layer <tensorflow.python.keras.layers.core.Dense object at 0x7fc243d05610>, because it is not built.\n",
      "WARNING:tensorflow:Skipping full serialization of Keras layer <tensorflow.python.keras.layers.core.Dense object at 0x7fc243d05a10>, because it is not built.\n",
      "WARNING:tensorflow:Skipping full serialization of Keras layer <tensorflow.python.keras.layers.core.Dense object at 0x7fc243d05f10>, because it is not built.\n",
      "WARNING:tensorflow:Skipping full serialization of Keras layer <tensorflow.python.keras.layers.core.Dense object at 0x7fc243d0b410>, because it is not built.\n",
      "WARNING:tensorflow:Skipping full serialization of Keras layer <tensorflow.python.keras.layers.core.Dense object at 0x7fc243d93750>, because it is not built.\n",
      "WARNING:tensorflow:Skipping full serialization of Keras layer <tensorflow.python.keras.layers.core.Dense object at 0x7fc243d0bb90>, because it is not built.\n",
      "WARNING:tensorflow:Skipping full serialization of Keras layer <tensorflow.python.keras.layers.core.Dense object at 0x7fc243d0bd50>, because it is not built.\n",
      "WARNING:tensorflow:Skipping full serialization of Keras layer <tensorflow.python.keras.layers.core.Dense object at 0x7fc243d10590>, because it is not built.\n",
      "WARNING:tensorflow:Skipping full serialization of Keras layer <tensorflow.python.keras.layers.core.Dense object at 0x7fc243d10950>, because it is not built.\n",
      "WARNING:tensorflow:Skipping full serialization of Keras layer <tensorflow.python.keras.layers.core.Dense object at 0x7fc243d10d50>, because it is not built.\n",
      "WARNING:tensorflow:Skipping full serialization of Keras layer <tensorflow.python.keras.layers.core.Dense object at 0x7fc243d1a310>, because it is not built.\n",
      "WARNING:tensorflow:Skipping full serialization of Keras layer <tensorflow.python.keras.layers.core.Dense object at 0x7fc243d1a810>, because it is not built.\n",
      "WARNING:tensorflow:Skipping full serialization of Keras layer <tensorflow.python.keras.layers.core.Dense object at 0x7fc243d1ac10>, because it is not built.\n",
      "WARNING:tensorflow:Skipping full serialization of Keras layer <tensorflow.python.keras.layers.core.Dense object at 0x7fc243d1afd0>, because it is not built.\n",
      "WARNING:absl:Found untraced functions such as embedding_layer_call_fn, embedding_layer_call_and_return_conditional_losses, dense_layer_call_fn, dense_layer_call_and_return_conditional_losses, dense_1_layer_call_fn while saving (showing 5 of 25). These functions will not be directly callable after loading.\n",
      "INFO:tensorflow:Assets written to: /content/drive/MyDrive/ecARR/checkpoint/keras.modelM1_ab2/assets\n"
     ]
    },
    {
     "name": "stdout",
     "output_type": "stream",
     "text": [
      "Epoch 16/100\n",
      "493/493 [==============================] - 18s 37ms/step - loss: 0.0728 - accuracy: 0.9793 - val_loss: 0.0675 - val_accuracy: 0.9815\n"
     ]
    },
    {
     "name": "stderr",
     "output_type": "stream",
     "text": [
      "WARNING:tensorflow:Skipping full serialization of Keras layer <modelM1_ab2.MultiHeadAttention object at 0x7fc243be9bd0>, because it is not built.\n",
      "WARNING:tensorflow:Skipping full serialization of Keras layer <modelM1_ab2.MultiHeadAttention object at 0x7fc243d05c50>, because it is not built.\n",
      "WARNING:tensorflow:Skipping full serialization of Keras layer <modelM1_ab2.MultiHeadAttention object at 0x7fc243d0bdd0>, because it is not built.\n",
      "WARNING:tensorflow:Skipping full serialization of Keras layer <modelM1_ab2.MultiHeadAttention object at 0x7fc243d10f50>, because it is not built.\n",
      "WARNING:tensorflow:Skipping full serialization of Keras layer <tensorflow.python.keras.layers.normalization.LayerNormalization object at 0x7fc243ca18d0>, because it is not built.\n",
      "WARNING:tensorflow:Skipping full serialization of Keras layer <tensorflow.python.keras.layers.normalization.LayerNormalization object at 0x7fc243d1a210>, because it is not built.\n",
      "WARNING:tensorflow:Skipping full serialization of Keras layer <tensorflow.python.keras.layers.normalization.LayerNormalization object at 0x7fc243ca1ed0>, because it is not built.\n",
      "WARNING:tensorflow:Skipping full serialization of Keras layer <tensorflow.python.keras.layers.normalization.LayerNormalization object at 0x7fc243cc41d0>, because it is not built.\n",
      "WARNING:tensorflow:Skipping full serialization of Keras layer <tensorflow.python.keras.layers.core.Dropout object at 0x7fc243ca1910>, because it is not built.\n",
      "WARNING:tensorflow:Skipping full serialization of Keras layer <tensorflow.python.keras.layers.core.Dropout object at 0x7fc243be9f90>, because it is not built.\n",
      "WARNING:tensorflow:Skipping full serialization of Keras layer <tensorflow.python.keras.layers.core.Dropout object at 0x7fc243cc49d0>, because it is not built.\n",
      "WARNING:tensorflow:Skipping full serialization of Keras layer <tensorflow.python.keras.layers.core.Dropout object at 0x7fc243be9290>, because it is not built.\n",
      "WARNING:tensorflow:Skipping full serialization of Keras layer <tensorflow.python.keras.layers.normalization_v2.BatchNormalization object at 0x7fc243cd7150>, because it is not built.\n",
      "WARNING:tensorflow:Skipping full serialization of Keras layer <tensorflow.python.keras.layers.core.Dense object at 0x7fc243cd7650>, because it is not built.\n",
      "WARNING:tensorflow:Skipping full serialization of Keras layer <tensorflow.python.keras.layers.core.Dense object at 0x7fc243cd7b50>, because it is not built.\n"
     ]
    },
    {
     "name": "stdout",
     "output_type": "stream",
     "text": [
      "\n",
      "Epoch 00016: val_loss improved from 0.07216 to 0.06747, saving model to /content/drive/MyDrive/ecARR/checkpoint/keras.modelM1_ab2\n"
     ]
    },
    {
     "name": "stderr",
     "output_type": "stream",
     "text": [
      "WARNING:tensorflow:Skipping full serialization of Keras layer <tensorflow.python.keras.layers.core.Dense object at 0x7fc243ceccd0>, because it is not built.\n",
      "WARNING:tensorflow:Skipping full serialization of Keras layer <tensorflow.python.keras.layers.core.Dense object at 0x7fc243cecfd0>, because it is not built.\n",
      "WARNING:tensorflow:Skipping full serialization of Keras layer <tensorflow.python.keras.layers.core.Dense object at 0x7fc243d05610>, because it is not built.\n",
      "WARNING:tensorflow:Skipping full serialization of Keras layer <tensorflow.python.keras.layers.core.Dense object at 0x7fc243d05a10>, because it is not built.\n",
      "WARNING:tensorflow:Skipping full serialization of Keras layer <tensorflow.python.keras.layers.core.Dense object at 0x7fc243d05f10>, because it is not built.\n",
      "WARNING:tensorflow:Skipping full serialization of Keras layer <tensorflow.python.keras.layers.core.Dense object at 0x7fc243d0b410>, because it is not built.\n",
      "WARNING:tensorflow:Skipping full serialization of Keras layer <tensorflow.python.keras.layers.core.Dense object at 0x7fc243d93750>, because it is not built.\n",
      "WARNING:tensorflow:Skipping full serialization of Keras layer <tensorflow.python.keras.layers.core.Dense object at 0x7fc243d0bb90>, because it is not built.\n",
      "WARNING:tensorflow:Skipping full serialization of Keras layer <tensorflow.python.keras.layers.core.Dense object at 0x7fc243d0bd50>, because it is not built.\n",
      "WARNING:tensorflow:Skipping full serialization of Keras layer <tensorflow.python.keras.layers.core.Dense object at 0x7fc243d10590>, because it is not built.\n",
      "WARNING:tensorflow:Skipping full serialization of Keras layer <tensorflow.python.keras.layers.core.Dense object at 0x7fc243d10950>, because it is not built.\n",
      "WARNING:tensorflow:Skipping full serialization of Keras layer <tensorflow.python.keras.layers.core.Dense object at 0x7fc243d10d50>, because it is not built.\n",
      "WARNING:tensorflow:Skipping full serialization of Keras layer <tensorflow.python.keras.layers.core.Dense object at 0x7fc243d1a310>, because it is not built.\n",
      "WARNING:tensorflow:Skipping full serialization of Keras layer <tensorflow.python.keras.layers.core.Dense object at 0x7fc243d1a810>, because it is not built.\n",
      "WARNING:tensorflow:Skipping full serialization of Keras layer <tensorflow.python.keras.layers.core.Dense object at 0x7fc243d1ac10>, because it is not built.\n",
      "WARNING:tensorflow:Skipping full serialization of Keras layer <tensorflow.python.keras.layers.core.Dense object at 0x7fc243d1afd0>, because it is not built.\n",
      "WARNING:absl:Found untraced functions such as embedding_layer_call_fn, embedding_layer_call_and_return_conditional_losses, dense_layer_call_fn, dense_layer_call_and_return_conditional_losses, dense_1_layer_call_fn while saving (showing 5 of 25). These functions will not be directly callable after loading.\n",
      "INFO:tensorflow:Assets written to: /content/drive/MyDrive/ecARR/checkpoint/keras.modelM1_ab2/assets\n"
     ]
    },
    {
     "name": "stdout",
     "output_type": "stream",
     "text": [
      "Epoch 17/100\n",
      "493/493 [==============================] - 18s 37ms/step - loss: 0.0699 - accuracy: 0.9801 - val_loss: 0.0737 - val_accuracy: 0.9796\n",
      "\n",
      "Epoch 00017: val_loss did not improve from 0.06747\n",
      "Epoch 18/100\n",
      "493/493 [==============================] - 18s 37ms/step - loss: 0.0703 - accuracy: 0.9803 - val_loss: 0.0700 - val_accuracy: 0.9810\n",
      "\n",
      "Epoch 00018: val_loss did not improve from 0.06747\n",
      "Epoch 19/100\n",
      "493/493 [==============================] - 18s 37ms/step - loss: 0.0672 - accuracy: 0.9808 - val_loss: 0.0724 - val_accuracy: 0.9810\n",
      "\n",
      "Epoch 00019: val_loss did not improve from 0.06747\n",
      "Epoch 20/100\n",
      "493/493 [==============================] - 18s 37ms/step - loss: 0.0644 - accuracy: 0.9814 - val_loss: 0.0769 - val_accuracy: 0.9810\n",
      "\n",
      "Epoch 00020: val_loss did not improve from 0.06747\n",
      "Epoch 21/100\n",
      "493/493 [==============================] - 18s 37ms/step - loss: 0.0653 - accuracy: 0.9814 - val_loss: 0.0666 - val_accuracy: 0.9821\n"
     ]
    },
    {
     "name": "stderr",
     "output_type": "stream",
     "text": [
      "WARNING:tensorflow:Skipping full serialization of Keras layer <modelM1_ab2.MultiHeadAttention object at 0x7fc243be9bd0>, because it is not built.\n",
      "WARNING:tensorflow:Skipping full serialization of Keras layer <modelM1_ab2.MultiHeadAttention object at 0x7fc243d05c50>, because it is not built.\n",
      "WARNING:tensorflow:Skipping full serialization of Keras layer <modelM1_ab2.MultiHeadAttention object at 0x7fc243d0bdd0>, because it is not built.\n",
      "WARNING:tensorflow:Skipping full serialization of Keras layer <modelM1_ab2.MultiHeadAttention object at 0x7fc243d10f50>, because it is not built.\n",
      "WARNING:tensorflow:Skipping full serialization of Keras layer <tensorflow.python.keras.layers.normalization.LayerNormalization object at 0x7fc243ca18d0>, because it is not built.\n",
      "WARNING:tensorflow:Skipping full serialization of Keras layer <tensorflow.python.keras.layers.normalization.LayerNormalization object at 0x7fc243d1a210>, because it is not built.\n",
      "WARNING:tensorflow:Skipping full serialization of Keras layer <tensorflow.python.keras.layers.normalization.LayerNormalization object at 0x7fc243ca1ed0>, because it is not built.\n",
      "WARNING:tensorflow:Skipping full serialization of Keras layer <tensorflow.python.keras.layers.normalization.LayerNormalization object at 0x7fc243cc41d0>, because it is not built.\n",
      "WARNING:tensorflow:Skipping full serialization of Keras layer <tensorflow.python.keras.layers.core.Dropout object at 0x7fc243ca1910>, because it is not built.\n",
      "WARNING:tensorflow:Skipping full serialization of Keras layer <tensorflow.python.keras.layers.core.Dropout object at 0x7fc243be9f90>, because it is not built.\n",
      "WARNING:tensorflow:Skipping full serialization of Keras layer <tensorflow.python.keras.layers.core.Dropout object at 0x7fc243cc49d0>, because it is not built.\n",
      "WARNING:tensorflow:Skipping full serialization of Keras layer <tensorflow.python.keras.layers.core.Dropout object at 0x7fc243be9290>, because it is not built.\n"
     ]
    },
    {
     "name": "stdout",
     "output_type": "stream",
     "text": [
      "\n",
      "Epoch 00021: val_loss improved from 0.06747 to 0.06663, saving model to /content/drive/MyDrive/ecARR/checkpoint/keras.modelM1_ab2\n"
     ]
    },
    {
     "name": "stderr",
     "output_type": "stream",
     "text": [
      "WARNING:tensorflow:Skipping full serialization of Keras layer <tensorflow.python.keras.layers.normalization_v2.BatchNormalization object at 0x7fc243cd7150>, because it is not built.\n",
      "WARNING:tensorflow:Skipping full serialization of Keras layer <tensorflow.python.keras.layers.core.Dense object at 0x7fc243cd7650>, because it is not built.\n",
      "WARNING:tensorflow:Skipping full serialization of Keras layer <tensorflow.python.keras.layers.core.Dense object at 0x7fc243cd7b50>, because it is not built.\n",
      "WARNING:tensorflow:Skipping full serialization of Keras layer <tensorflow.python.keras.layers.core.Dense object at 0x7fc243ceccd0>, because it is not built.\n",
      "WARNING:tensorflow:Skipping full serialization of Keras layer <tensorflow.python.keras.layers.core.Dense object at 0x7fc243cecfd0>, because it is not built.\n",
      "WARNING:tensorflow:Skipping full serialization of Keras layer <tensorflow.python.keras.layers.core.Dense object at 0x7fc243d05610>, because it is not built.\n",
      "WARNING:tensorflow:Skipping full serialization of Keras layer <tensorflow.python.keras.layers.core.Dense object at 0x7fc243d05a10>, because it is not built.\n",
      "WARNING:tensorflow:Skipping full serialization of Keras layer <tensorflow.python.keras.layers.core.Dense object at 0x7fc243d05f10>, because it is not built.\n",
      "WARNING:tensorflow:Skipping full serialization of Keras layer <tensorflow.python.keras.layers.core.Dense object at 0x7fc243d0b410>, because it is not built.\n",
      "WARNING:tensorflow:Skipping full serialization of Keras layer <tensorflow.python.keras.layers.core.Dense object at 0x7fc243d93750>, because it is not built.\n",
      "WARNING:tensorflow:Skipping full serialization of Keras layer <tensorflow.python.keras.layers.core.Dense object at 0x7fc243d0bb90>, because it is not built.\n",
      "WARNING:tensorflow:Skipping full serialization of Keras layer <tensorflow.python.keras.layers.core.Dense object at 0x7fc243d0bd50>, because it is not built.\n",
      "WARNING:tensorflow:Skipping full serialization of Keras layer <tensorflow.python.keras.layers.core.Dense object at 0x7fc243d10590>, because it is not built.\n",
      "WARNING:tensorflow:Skipping full serialization of Keras layer <tensorflow.python.keras.layers.core.Dense object at 0x7fc243d10950>, because it is not built.\n",
      "WARNING:tensorflow:Skipping full serialization of Keras layer <tensorflow.python.keras.layers.core.Dense object at 0x7fc243d10d50>, because it is not built.\n",
      "WARNING:tensorflow:Skipping full serialization of Keras layer <tensorflow.python.keras.layers.core.Dense object at 0x7fc243d1a310>, because it is not built.\n",
      "WARNING:tensorflow:Skipping full serialization of Keras layer <tensorflow.python.keras.layers.core.Dense object at 0x7fc243d1a810>, because it is not built.\n",
      "WARNING:tensorflow:Skipping full serialization of Keras layer <tensorflow.python.keras.layers.core.Dense object at 0x7fc243d1ac10>, because it is not built.\n",
      "WARNING:tensorflow:Skipping full serialization of Keras layer <tensorflow.python.keras.layers.core.Dense object at 0x7fc243d1afd0>, because it is not built.\n",
      "WARNING:absl:Found untraced functions such as embedding_layer_call_fn, embedding_layer_call_and_return_conditional_losses, dense_layer_call_fn, dense_layer_call_and_return_conditional_losses, dense_1_layer_call_fn while saving (showing 5 of 25). These functions will not be directly callable after loading.\n",
      "INFO:tensorflow:Assets written to: /content/drive/MyDrive/ecARR/checkpoint/keras.modelM1_ab2/assets\n"
     ]
    },
    {
     "name": "stdout",
     "output_type": "stream",
     "text": [
      "Epoch 22/100\n",
      "493/493 [==============================] - 18s 37ms/step - loss: 0.0633 - accuracy: 0.9824 - val_loss: 0.0643 - val_accuracy: 0.9828\n"
     ]
    },
    {
     "name": "stderr",
     "output_type": "stream",
     "text": [
      "WARNING:tensorflow:Skipping full serialization of Keras layer <modelM1_ab2.MultiHeadAttention object at 0x7fc243be9bd0>, because it is not built.\n",
      "WARNING:tensorflow:Skipping full serialization of Keras layer <modelM1_ab2.MultiHeadAttention object at 0x7fc243d05c50>, because it is not built.\n",
      "WARNING:tensorflow:Skipping full serialization of Keras layer <modelM1_ab2.MultiHeadAttention object at 0x7fc243d0bdd0>, because it is not built.\n",
      "WARNING:tensorflow:Skipping full serialization of Keras layer <modelM1_ab2.MultiHeadAttention object at 0x7fc243d10f50>, because it is not built.\n",
      "WARNING:tensorflow:Skipping full serialization of Keras layer <tensorflow.python.keras.layers.normalization.LayerNormalization object at 0x7fc243ca18d0>, because it is not built.\n",
      "WARNING:tensorflow:Skipping full serialization of Keras layer <tensorflow.python.keras.layers.normalization.LayerNormalization object at 0x7fc243d1a210>, because it is not built.\n",
      "WARNING:tensorflow:Skipping full serialization of Keras layer <tensorflow.python.keras.layers.normalization.LayerNormalization object at 0x7fc243ca1ed0>, because it is not built.\n",
      "WARNING:tensorflow:Skipping full serialization of Keras layer <tensorflow.python.keras.layers.normalization.LayerNormalization object at 0x7fc243cc41d0>, because it is not built.\n",
      "WARNING:tensorflow:Skipping full serialization of Keras layer <tensorflow.python.keras.layers.core.Dropout object at 0x7fc243ca1910>, because it is not built.\n",
      "WARNING:tensorflow:Skipping full serialization of Keras layer <tensorflow.python.keras.layers.core.Dropout object at 0x7fc243be9f90>, because it is not built.\n",
      "WARNING:tensorflow:Skipping full serialization of Keras layer <tensorflow.python.keras.layers.core.Dropout object at 0x7fc243cc49d0>, because it is not built.\n"
     ]
    },
    {
     "name": "stdout",
     "output_type": "stream",
     "text": [
      "\n",
      "Epoch 00022: val_loss improved from 0.06663 to 0.06431, saving model to /content/drive/MyDrive/ecARR/checkpoint/keras.modelM1_ab2\n"
     ]
    },
    {
     "name": "stderr",
     "output_type": "stream",
     "text": [
      "WARNING:tensorflow:Skipping full serialization of Keras layer <tensorflow.python.keras.layers.core.Dropout object at 0x7fc243be9290>, because it is not built.\n",
      "WARNING:tensorflow:Skipping full serialization of Keras layer <tensorflow.python.keras.layers.normalization_v2.BatchNormalization object at 0x7fc243cd7150>, because it is not built.\n",
      "WARNING:tensorflow:Skipping full serialization of Keras layer <tensorflow.python.keras.layers.core.Dense object at 0x7fc243cd7650>, because it is not built.\n",
      "WARNING:tensorflow:Skipping full serialization of Keras layer <tensorflow.python.keras.layers.core.Dense object at 0x7fc243cd7b50>, because it is not built.\n",
      "WARNING:tensorflow:Skipping full serialization of Keras layer <tensorflow.python.keras.layers.core.Dense object at 0x7fc243ceccd0>, because it is not built.\n",
      "WARNING:tensorflow:Skipping full serialization of Keras layer <tensorflow.python.keras.layers.core.Dense object at 0x7fc243cecfd0>, because it is not built.\n",
      "WARNING:tensorflow:Skipping full serialization of Keras layer <tensorflow.python.keras.layers.core.Dense object at 0x7fc243d05610>, because it is not built.\n",
      "WARNING:tensorflow:Skipping full serialization of Keras layer <tensorflow.python.keras.layers.core.Dense object at 0x7fc243d05a10>, because it is not built.\n",
      "WARNING:tensorflow:Skipping full serialization of Keras layer <tensorflow.python.keras.layers.core.Dense object at 0x7fc243d05f10>, because it is not built.\n",
      "WARNING:tensorflow:Skipping full serialization of Keras layer <tensorflow.python.keras.layers.core.Dense object at 0x7fc243d0b410>, because it is not built.\n",
      "WARNING:tensorflow:Skipping full serialization of Keras layer <tensorflow.python.keras.layers.core.Dense object at 0x7fc243d93750>, because it is not built.\n",
      "WARNING:tensorflow:Skipping full serialization of Keras layer <tensorflow.python.keras.layers.core.Dense object at 0x7fc243d0bb90>, because it is not built.\n",
      "WARNING:tensorflow:Skipping full serialization of Keras layer <tensorflow.python.keras.layers.core.Dense object at 0x7fc243d0bd50>, because it is not built.\n",
      "WARNING:tensorflow:Skipping full serialization of Keras layer <tensorflow.python.keras.layers.core.Dense object at 0x7fc243d10590>, because it is not built.\n",
      "WARNING:tensorflow:Skipping full serialization of Keras layer <tensorflow.python.keras.layers.core.Dense object at 0x7fc243d10950>, because it is not built.\n",
      "WARNING:tensorflow:Skipping full serialization of Keras layer <tensorflow.python.keras.layers.core.Dense object at 0x7fc243d10d50>, because it is not built.\n",
      "WARNING:tensorflow:Skipping full serialization of Keras layer <tensorflow.python.keras.layers.core.Dense object at 0x7fc243d1a310>, because it is not built.\n",
      "WARNING:tensorflow:Skipping full serialization of Keras layer <tensorflow.python.keras.layers.core.Dense object at 0x7fc243d1a810>, because it is not built.\n",
      "WARNING:tensorflow:Skipping full serialization of Keras layer <tensorflow.python.keras.layers.core.Dense object at 0x7fc243d1ac10>, because it is not built.\n",
      "WARNING:tensorflow:Skipping full serialization of Keras layer <tensorflow.python.keras.layers.core.Dense object at 0x7fc243d1afd0>, because it is not built.\n",
      "WARNING:absl:Found untraced functions such as embedding_layer_call_fn, embedding_layer_call_and_return_conditional_losses, dense_layer_call_fn, dense_layer_call_and_return_conditional_losses, dense_1_layer_call_fn while saving (showing 5 of 25). These functions will not be directly callable after loading.\n",
      "INFO:tensorflow:Assets written to: /content/drive/MyDrive/ecARR/checkpoint/keras.modelM1_ab2/assets\n"
     ]
    },
    {
     "name": "stdout",
     "output_type": "stream",
     "text": [
      "Epoch 23/100\n",
      "493/493 [==============================] - 18s 37ms/step - loss: 0.0618 - accuracy: 0.9817 - val_loss: 0.0670 - val_accuracy: 0.9820\n",
      "\n",
      "Epoch 00023: val_loss did not improve from 0.06431\n",
      "Epoch 24/100\n",
      "493/493 [==============================] - 18s 37ms/step - loss: 0.0597 - accuracy: 0.9823 - val_loss: 0.0712 - val_accuracy: 0.9819\n",
      "\n",
      "Epoch 00024: val_loss did not improve from 0.06431\n",
      "Epoch 25/100\n",
      "493/493 [==============================] - 18s 37ms/step - loss: 0.0579 - accuracy: 0.9833 - val_loss: 0.0686 - val_accuracy: 0.9823\n",
      "\n",
      "Epoch 00025: val_loss did not improve from 0.06431\n",
      "Epoch 26/100\n",
      "493/493 [==============================] - 18s 37ms/step - loss: 0.0587 - accuracy: 0.9824 - val_loss: 0.0669 - val_accuracy: 0.9825\n",
      "\n",
      "Epoch 00026: val_loss did not improve from 0.06431\n",
      "Epoch 27/100\n",
      "493/493 [==============================] - 18s 37ms/step - loss: 0.0581 - accuracy: 0.9830 - val_loss: 0.0643 - val_accuracy: 0.9830\n",
      "\n",
      "Epoch 00027: val_loss did not improve from 0.06431\n",
      "\n",
      "Epoch 00027: ReduceLROnPlateau reducing learning rate to 0.0009000000427477062.\n",
      "Epoch 28/100\n",
      "493/493 [==============================] - 18s 37ms/step - loss: 0.0550 - accuracy: 0.9839 - val_loss: 0.0747 - val_accuracy: 0.9812\n",
      "\n",
      "Epoch 00028: val_loss did not improve from 0.06431\n",
      "Epoch 29/100\n",
      "493/493 [==============================] - 18s 36ms/step - loss: 0.0544 - accuracy: 0.9839 - val_loss: 0.0676 - val_accuracy: 0.9825\n",
      "\n",
      "Epoch 00029: val_loss did not improve from 0.06431\n",
      "Epoch 30/100\n",
      "493/493 [==============================] - 18s 36ms/step - loss: 0.0530 - accuracy: 0.9840 - val_loss: 0.0606 - val_accuracy: 0.9830\n"
     ]
    },
    {
     "name": "stderr",
     "output_type": "stream",
     "text": [
      "WARNING:tensorflow:Skipping full serialization of Keras layer <modelM1_ab2.MultiHeadAttention object at 0x7fc243be9bd0>, because it is not built.\n",
      "WARNING:tensorflow:Skipping full serialization of Keras layer <modelM1_ab2.MultiHeadAttention object at 0x7fc243d05c50>, because it is not built.\n",
      "WARNING:tensorflow:Skipping full serialization of Keras layer <modelM1_ab2.MultiHeadAttention object at 0x7fc243d0bdd0>, because it is not built.\n",
      "WARNING:tensorflow:Skipping full serialization of Keras layer <modelM1_ab2.MultiHeadAttention object at 0x7fc243d10f50>, because it is not built.\n"
     ]
    },
    {
     "name": "stdout",
     "output_type": "stream",
     "text": [
      "\n",
      "Epoch 00030: val_loss improved from 0.06431 to 0.06064, saving model to /content/drive/MyDrive/ecARR/checkpoint/keras.modelM1_ab2\n"
     ]
    },
    {
     "name": "stderr",
     "output_type": "stream",
     "text": [
      "WARNING:tensorflow:Skipping full serialization of Keras layer <tensorflow.python.keras.layers.normalization.LayerNormalization object at 0x7fc243ca18d0>, because it is not built.\n",
      "WARNING:tensorflow:Skipping full serialization of Keras layer <tensorflow.python.keras.layers.normalization.LayerNormalization object at 0x7fc243d1a210>, because it is not built.\n",
      "WARNING:tensorflow:Skipping full serialization of Keras layer <tensorflow.python.keras.layers.normalization.LayerNormalization object at 0x7fc243ca1ed0>, because it is not built.\n",
      "WARNING:tensorflow:Skipping full serialization of Keras layer <tensorflow.python.keras.layers.normalization.LayerNormalization object at 0x7fc243cc41d0>, because it is not built.\n",
      "WARNING:tensorflow:Skipping full serialization of Keras layer <tensorflow.python.keras.layers.core.Dropout object at 0x7fc243ca1910>, because it is not built.\n",
      "WARNING:tensorflow:Skipping full serialization of Keras layer <tensorflow.python.keras.layers.core.Dropout object at 0x7fc243be9f90>, because it is not built.\n",
      "WARNING:tensorflow:Skipping full serialization of Keras layer <tensorflow.python.keras.layers.core.Dropout object at 0x7fc243cc49d0>, because it is not built.\n",
      "WARNING:tensorflow:Skipping full serialization of Keras layer <tensorflow.python.keras.layers.core.Dropout object at 0x7fc243be9290>, because it is not built.\n",
      "WARNING:tensorflow:Skipping full serialization of Keras layer <tensorflow.python.keras.layers.normalization_v2.BatchNormalization object at 0x7fc243cd7150>, because it is not built.\n",
      "WARNING:tensorflow:Skipping full serialization of Keras layer <tensorflow.python.keras.layers.core.Dense object at 0x7fc243cd7650>, because it is not built.\n",
      "WARNING:tensorflow:Skipping full serialization of Keras layer <tensorflow.python.keras.layers.core.Dense object at 0x7fc243cd7b50>, because it is not built.\n",
      "WARNING:tensorflow:Skipping full serialization of Keras layer <tensorflow.python.keras.layers.core.Dense object at 0x7fc243ceccd0>, because it is not built.\n",
      "WARNING:tensorflow:Skipping full serialization of Keras layer <tensorflow.python.keras.layers.core.Dense object at 0x7fc243cecfd0>, because it is not built.\n",
      "WARNING:tensorflow:Skipping full serialization of Keras layer <tensorflow.python.keras.layers.core.Dense object at 0x7fc243d05610>, because it is not built.\n",
      "WARNING:tensorflow:Skipping full serialization of Keras layer <tensorflow.python.keras.layers.core.Dense object at 0x7fc243d05a10>, because it is not built.\n",
      "WARNING:tensorflow:Skipping full serialization of Keras layer <tensorflow.python.keras.layers.core.Dense object at 0x7fc243d05f10>, because it is not built.\n",
      "WARNING:tensorflow:Skipping full serialization of Keras layer <tensorflow.python.keras.layers.core.Dense object at 0x7fc243d0b410>, because it is not built.\n",
      "WARNING:tensorflow:Skipping full serialization of Keras layer <tensorflow.python.keras.layers.core.Dense object at 0x7fc243d93750>, because it is not built.\n",
      "WARNING:tensorflow:Skipping full serialization of Keras layer <tensorflow.python.keras.layers.core.Dense object at 0x7fc243d0bb90>, because it is not built.\n",
      "WARNING:tensorflow:Skipping full serialization of Keras layer <tensorflow.python.keras.layers.core.Dense object at 0x7fc243d0bd50>, because it is not built.\n",
      "WARNING:tensorflow:Skipping full serialization of Keras layer <tensorflow.python.keras.layers.core.Dense object at 0x7fc243d10590>, because it is not built.\n",
      "WARNING:tensorflow:Skipping full serialization of Keras layer <tensorflow.python.keras.layers.core.Dense object at 0x7fc243d10950>, because it is not built.\n",
      "WARNING:tensorflow:Skipping full serialization of Keras layer <tensorflow.python.keras.layers.core.Dense object at 0x7fc243d10d50>, because it is not built.\n",
      "WARNING:tensorflow:Skipping full serialization of Keras layer <tensorflow.python.keras.layers.core.Dense object at 0x7fc243d1a310>, because it is not built.\n",
      "WARNING:tensorflow:Skipping full serialization of Keras layer <tensorflow.python.keras.layers.core.Dense object at 0x7fc243d1a810>, because it is not built.\n",
      "WARNING:tensorflow:Skipping full serialization of Keras layer <tensorflow.python.keras.layers.core.Dense object at 0x7fc243d1ac10>, because it is not built.\n",
      "WARNING:tensorflow:Skipping full serialization of Keras layer <tensorflow.python.keras.layers.core.Dense object at 0x7fc243d1afd0>, because it is not built.\n",
      "WARNING:absl:Found untraced functions such as embedding_layer_call_fn, embedding_layer_call_and_return_conditional_losses, dense_layer_call_fn, dense_layer_call_and_return_conditional_losses, dense_1_layer_call_fn while saving (showing 5 of 25). These functions will not be directly callable after loading.\n",
      "INFO:tensorflow:Assets written to: /content/drive/MyDrive/ecARR/checkpoint/keras.modelM1_ab2/assets\n"
     ]
    },
    {
     "name": "stdout",
     "output_type": "stream",
     "text": [
      "Epoch 31/100\n",
      "493/493 [==============================] - 18s 37ms/step - loss: 0.0526 - accuracy: 0.9851 - val_loss: 0.0641 - val_accuracy: 0.9837\n",
      "\n",
      "Epoch 00031: val_loss did not improve from 0.06064\n",
      "Epoch 32/100\n",
      "493/493 [==============================] - 18s 37ms/step - loss: 0.0522 - accuracy: 0.9844 - val_loss: 0.0619 - val_accuracy: 0.9832\n",
      "\n",
      "Epoch 00032: val_loss did not improve from 0.06064\n",
      "Epoch 33/100\n",
      "493/493 [==============================] - 18s 37ms/step - loss: 0.0517 - accuracy: 0.9846 - val_loss: 0.0616 - val_accuracy: 0.9839\n",
      "\n",
      "Epoch 00033: val_loss did not improve from 0.06064\n",
      "Epoch 34/100\n",
      "493/493 [==============================] - 18s 37ms/step - loss: 0.0515 - accuracy: 0.9847 - val_loss: 0.0588 - val_accuracy: 0.9845\n"
     ]
    },
    {
     "name": "stderr",
     "output_type": "stream",
     "text": [
      "WARNING:tensorflow:Skipping full serialization of Keras layer <modelM1_ab2.MultiHeadAttention object at 0x7fc243be9bd0>, because it is not built.\n",
      "WARNING:tensorflow:Skipping full serialization of Keras layer <modelM1_ab2.MultiHeadAttention object at 0x7fc243d05c50>, because it is not built.\n",
      "WARNING:tensorflow:Skipping full serialization of Keras layer <modelM1_ab2.MultiHeadAttention object at 0x7fc243d0bdd0>, because it is not built.\n",
      "WARNING:tensorflow:Skipping full serialization of Keras layer <modelM1_ab2.MultiHeadAttention object at 0x7fc243d10f50>, because it is not built.\n",
      "WARNING:tensorflow:Skipping full serialization of Keras layer <tensorflow.python.keras.layers.normalization.LayerNormalization object at 0x7fc243ca18d0>, because it is not built.\n",
      "WARNING:tensorflow:Skipping full serialization of Keras layer <tensorflow.python.keras.layers.normalization.LayerNormalization object at 0x7fc243d1a210>, because it is not built.\n",
      "WARNING:tensorflow:Skipping full serialization of Keras layer <tensorflow.python.keras.layers.normalization.LayerNormalization object at 0x7fc243ca1ed0>, because it is not built.\n",
      "WARNING:tensorflow:Skipping full serialization of Keras layer <tensorflow.python.keras.layers.normalization.LayerNormalization object at 0x7fc243cc41d0>, because it is not built.\n",
      "WARNING:tensorflow:Skipping full serialization of Keras layer <tensorflow.python.keras.layers.core.Dropout object at 0x7fc243ca1910>, because it is not built.\n",
      "WARNING:tensorflow:Skipping full serialization of Keras layer <tensorflow.python.keras.layers.core.Dropout object at 0x7fc243be9f90>, because it is not built.\n",
      "WARNING:tensorflow:Skipping full serialization of Keras layer <tensorflow.python.keras.layers.core.Dropout object at 0x7fc243cc49d0>, because it is not built.\n",
      "WARNING:tensorflow:Skipping full serialization of Keras layer <tensorflow.python.keras.layers.core.Dropout object at 0x7fc243be9290>, because it is not built.\n",
      "WARNING:tensorflow:Skipping full serialization of Keras layer <tensorflow.python.keras.layers.normalization_v2.BatchNormalization object at 0x7fc243cd7150>, because it is not built.\n",
      "WARNING:tensorflow:Skipping full serialization of Keras layer <tensorflow.python.keras.layers.core.Dense object at 0x7fc243cd7650>, because it is not built.\n",
      "WARNING:tensorflow:Skipping full serialization of Keras layer <tensorflow.python.keras.layers.core.Dense object at 0x7fc243cd7b50>, because it is not built.\n"
     ]
    },
    {
     "name": "stdout",
     "output_type": "stream",
     "text": [
      "\n",
      "Epoch 00034: val_loss improved from 0.06064 to 0.05880, saving model to /content/drive/MyDrive/ecARR/checkpoint/keras.modelM1_ab2\n"
     ]
    },
    {
     "name": "stderr",
     "output_type": "stream",
     "text": [
      "WARNING:tensorflow:Skipping full serialization of Keras layer <tensorflow.python.keras.layers.core.Dense object at 0x7fc243ceccd0>, because it is not built.\n",
      "WARNING:tensorflow:Skipping full serialization of Keras layer <tensorflow.python.keras.layers.core.Dense object at 0x7fc243cecfd0>, because it is not built.\n",
      "WARNING:tensorflow:Skipping full serialization of Keras layer <tensorflow.python.keras.layers.core.Dense object at 0x7fc243d05610>, because it is not built.\n",
      "WARNING:tensorflow:Skipping full serialization of Keras layer <tensorflow.python.keras.layers.core.Dense object at 0x7fc243d05a10>, because it is not built.\n",
      "WARNING:tensorflow:Skipping full serialization of Keras layer <tensorflow.python.keras.layers.core.Dense object at 0x7fc243d05f10>, because it is not built.\n",
      "WARNING:tensorflow:Skipping full serialization of Keras layer <tensorflow.python.keras.layers.core.Dense object at 0x7fc243d0b410>, because it is not built.\n",
      "WARNING:tensorflow:Skipping full serialization of Keras layer <tensorflow.python.keras.layers.core.Dense object at 0x7fc243d93750>, because it is not built.\n",
      "WARNING:tensorflow:Skipping full serialization of Keras layer <tensorflow.python.keras.layers.core.Dense object at 0x7fc243d0bb90>, because it is not built.\n",
      "WARNING:tensorflow:Skipping full serialization of Keras layer <tensorflow.python.keras.layers.core.Dense object at 0x7fc243d0bd50>, because it is not built.\n",
      "WARNING:tensorflow:Skipping full serialization of Keras layer <tensorflow.python.keras.layers.core.Dense object at 0x7fc243d10590>, because it is not built.\n",
      "WARNING:tensorflow:Skipping full serialization of Keras layer <tensorflow.python.keras.layers.core.Dense object at 0x7fc243d10950>, because it is not built.\n",
      "WARNING:tensorflow:Skipping full serialization of Keras layer <tensorflow.python.keras.layers.core.Dense object at 0x7fc243d10d50>, because it is not built.\n",
      "WARNING:tensorflow:Skipping full serialization of Keras layer <tensorflow.python.keras.layers.core.Dense object at 0x7fc243d1a310>, because it is not built.\n",
      "WARNING:tensorflow:Skipping full serialization of Keras layer <tensorflow.python.keras.layers.core.Dense object at 0x7fc243d1a810>, because it is not built.\n",
      "WARNING:tensorflow:Skipping full serialization of Keras layer <tensorflow.python.keras.layers.core.Dense object at 0x7fc243d1ac10>, because it is not built.\n",
      "WARNING:tensorflow:Skipping full serialization of Keras layer <tensorflow.python.keras.layers.core.Dense object at 0x7fc243d1afd0>, because it is not built.\n",
      "WARNING:absl:Found untraced functions such as embedding_layer_call_fn, embedding_layer_call_and_return_conditional_losses, dense_layer_call_fn, dense_layer_call_and_return_conditional_losses, dense_1_layer_call_fn while saving (showing 5 of 25). These functions will not be directly callable after loading.\n",
      "INFO:tensorflow:Assets written to: /content/drive/MyDrive/ecARR/checkpoint/keras.modelM1_ab2/assets\n"
     ]
    },
    {
     "name": "stdout",
     "output_type": "stream",
     "text": [
      "Epoch 35/100\n",
      "493/493 [==============================] - 18s 37ms/step - loss: 0.0493 - accuracy: 0.9855 - val_loss: 0.0632 - val_accuracy: 0.9845\n",
      "\n",
      "Epoch 00035: val_loss did not improve from 0.05880\n",
      "Epoch 36/100\n",
      "493/493 [==============================] - 18s 37ms/step - loss: 0.0464 - accuracy: 0.9864 - val_loss: 0.0651 - val_accuracy: 0.9831\n",
      "\n",
      "Epoch 00036: val_loss did not improve from 0.05880\n",
      "Epoch 37/100\n",
      "493/493 [==============================] - 18s 37ms/step - loss: 0.0492 - accuracy: 0.9854 - val_loss: 0.0615 - val_accuracy: 0.9835\n",
      "\n",
      "Epoch 00037: val_loss did not improve from 0.05880\n",
      "Epoch 38/100\n",
      "493/493 [==============================] - 18s 37ms/step - loss: 0.0480 - accuracy: 0.9856 - val_loss: 0.0638 - val_accuracy: 0.9832\n",
      "\n",
      "Epoch 00038: val_loss did not improve from 0.05880\n",
      "Epoch 39/100\n",
      "493/493 [==============================] - 18s 37ms/step - loss: 0.0480 - accuracy: 0.9853 - val_loss: 0.0651 - val_accuracy: 0.9830\n",
      "\n",
      "Epoch 00039: val_loss did not improve from 0.05880\n",
      "\n",
      "Epoch 00039: ReduceLROnPlateau reducing learning rate to 0.0008100000384729356.\n",
      "Epoch 40/100\n",
      "493/493 [==============================] - 18s 37ms/step - loss: 0.0444 - accuracy: 0.9864 - val_loss: 0.0588 - val_accuracy: 0.9845\n",
      "\n",
      "Epoch 00040: val_loss did not improve from 0.05880\n",
      "Epoch 41/100\n",
      "493/493 [==============================] - 18s 37ms/step - loss: 0.0455 - accuracy: 0.9861 - val_loss: 0.0598 - val_accuracy: 0.9841\n",
      "\n",
      "Epoch 00041: val_loss did not improve from 0.05880\n",
      "Epoch 42/100\n",
      "493/493 [==============================] - 18s 37ms/step - loss: 0.0435 - accuracy: 0.9869 - val_loss: 0.0594 - val_accuracy: 0.9844\n",
      "\n",
      "Epoch 00042: val_loss did not improve from 0.05880\n",
      "Epoch 43/100\n",
      "493/493 [==============================] - 18s 37ms/step - loss: 0.0440 - accuracy: 0.9865 - val_loss: 0.0623 - val_accuracy: 0.9843\n",
      "\n",
      "Epoch 00043: val_loss did not improve from 0.05880\n",
      "Epoch 44/100\n",
      "493/493 [==============================] - 18s 37ms/step - loss: 0.0438 - accuracy: 0.9869 - val_loss: 0.0568 - val_accuracy: 0.9848\n"
     ]
    },
    {
     "name": "stderr",
     "output_type": "stream",
     "text": [
      "WARNING:tensorflow:Skipping full serialization of Keras layer <modelM1_ab2.MultiHeadAttention object at 0x7fc243be9bd0>, because it is not built.\n",
      "WARNING:tensorflow:Skipping full serialization of Keras layer <modelM1_ab2.MultiHeadAttention object at 0x7fc243d05c50>, because it is not built.\n",
      "WARNING:tensorflow:Skipping full serialization of Keras layer <modelM1_ab2.MultiHeadAttention object at 0x7fc243d0bdd0>, because it is not built.\n",
      "WARNING:tensorflow:Skipping full serialization of Keras layer <modelM1_ab2.MultiHeadAttention object at 0x7fc243d10f50>, because it is not built.\n",
      "WARNING:tensorflow:Skipping full serialization of Keras layer <tensorflow.python.keras.layers.normalization.LayerNormalization object at 0x7fc243ca18d0>, because it is not built.\n",
      "WARNING:tensorflow:Skipping full serialization of Keras layer <tensorflow.python.keras.layers.normalization.LayerNormalization object at 0x7fc243d1a210>, because it is not built.\n",
      "WARNING:tensorflow:Skipping full serialization of Keras layer <tensorflow.python.keras.layers.normalization.LayerNormalization object at 0x7fc243ca1ed0>, because it is not built.\n",
      "WARNING:tensorflow:Skipping full serialization of Keras layer <tensorflow.python.keras.layers.normalization.LayerNormalization object at 0x7fc243cc41d0>, because it is not built.\n",
      "WARNING:tensorflow:Skipping full serialization of Keras layer <tensorflow.python.keras.layers.core.Dropout object at 0x7fc243ca1910>, because it is not built.\n",
      "WARNING:tensorflow:Skipping full serialization of Keras layer <tensorflow.python.keras.layers.core.Dropout object at 0x7fc243be9f90>, because it is not built.\n",
      "WARNING:tensorflow:Skipping full serialization of Keras layer <tensorflow.python.keras.layers.core.Dropout object at 0x7fc243cc49d0>, because it is not built.\n",
      "WARNING:tensorflow:Skipping full serialization of Keras layer <tensorflow.python.keras.layers.core.Dropout object at 0x7fc243be9290>, because it is not built.\n",
      "WARNING:tensorflow:Skipping full serialization of Keras layer <tensorflow.python.keras.layers.normalization_v2.BatchNormalization object at 0x7fc243cd7150>, because it is not built.\n",
      "WARNING:tensorflow:Skipping full serialization of Keras layer <tensorflow.python.keras.layers.core.Dense object at 0x7fc243cd7650>, because it is not built.\n",
      "WARNING:tensorflow:Skipping full serialization of Keras layer <tensorflow.python.keras.layers.core.Dense object at 0x7fc243cd7b50>, because it is not built.\n"
     ]
    },
    {
     "name": "stdout",
     "output_type": "stream",
     "text": [
      "\n",
      "Epoch 00044: val_loss improved from 0.05880 to 0.05678, saving model to /content/drive/MyDrive/ecARR/checkpoint/keras.modelM1_ab2\n"
     ]
    },
    {
     "name": "stderr",
     "output_type": "stream",
     "text": [
      "WARNING:tensorflow:Skipping full serialization of Keras layer <tensorflow.python.keras.layers.core.Dense object at 0x7fc243ceccd0>, because it is not built.\n",
      "WARNING:tensorflow:Skipping full serialization of Keras layer <tensorflow.python.keras.layers.core.Dense object at 0x7fc243cecfd0>, because it is not built.\n",
      "WARNING:tensorflow:Skipping full serialization of Keras layer <tensorflow.python.keras.layers.core.Dense object at 0x7fc243d05610>, because it is not built.\n",
      "WARNING:tensorflow:Skipping full serialization of Keras layer <tensorflow.python.keras.layers.core.Dense object at 0x7fc243d05a10>, because it is not built.\n",
      "WARNING:tensorflow:Skipping full serialization of Keras layer <tensorflow.python.keras.layers.core.Dense object at 0x7fc243d05f10>, because it is not built.\n",
      "WARNING:tensorflow:Skipping full serialization of Keras layer <tensorflow.python.keras.layers.core.Dense object at 0x7fc243d0b410>, because it is not built.\n",
      "WARNING:tensorflow:Skipping full serialization of Keras layer <tensorflow.python.keras.layers.core.Dense object at 0x7fc243d93750>, because it is not built.\n",
      "WARNING:tensorflow:Skipping full serialization of Keras layer <tensorflow.python.keras.layers.core.Dense object at 0x7fc243d0bb90>, because it is not built.\n",
      "WARNING:tensorflow:Skipping full serialization of Keras layer <tensorflow.python.keras.layers.core.Dense object at 0x7fc243d0bd50>, because it is not built.\n",
      "WARNING:tensorflow:Skipping full serialization of Keras layer <tensorflow.python.keras.layers.core.Dense object at 0x7fc243d10590>, because it is not built.\n",
      "WARNING:tensorflow:Skipping full serialization of Keras layer <tensorflow.python.keras.layers.core.Dense object at 0x7fc243d10950>, because it is not built.\n",
      "WARNING:tensorflow:Skipping full serialization of Keras layer <tensorflow.python.keras.layers.core.Dense object at 0x7fc243d10d50>, because it is not built.\n",
      "WARNING:tensorflow:Skipping full serialization of Keras layer <tensorflow.python.keras.layers.core.Dense object at 0x7fc243d1a310>, because it is not built.\n",
      "WARNING:tensorflow:Skipping full serialization of Keras layer <tensorflow.python.keras.layers.core.Dense object at 0x7fc243d1a810>, because it is not built.\n",
      "WARNING:tensorflow:Skipping full serialization of Keras layer <tensorflow.python.keras.layers.core.Dense object at 0x7fc243d1ac10>, because it is not built.\n",
      "WARNING:tensorflow:Skipping full serialization of Keras layer <tensorflow.python.keras.layers.core.Dense object at 0x7fc243d1afd0>, because it is not built.\n",
      "WARNING:absl:Found untraced functions such as embedding_layer_call_fn, embedding_layer_call_and_return_conditional_losses, dense_layer_call_fn, dense_layer_call_and_return_conditional_losses, dense_1_layer_call_fn while saving (showing 5 of 25). These functions will not be directly callable after loading.\n",
      "INFO:tensorflow:Assets written to: /content/drive/MyDrive/ecARR/checkpoint/keras.modelM1_ab2/assets\n"
     ]
    },
    {
     "name": "stdout",
     "output_type": "stream",
     "text": [
      "Epoch 45/100\n",
      "493/493 [==============================] - 18s 37ms/step - loss: 0.0430 - accuracy: 0.9867 - val_loss: 0.0587 - val_accuracy: 0.9840\n",
      "\n",
      "Epoch 00045: val_loss did not improve from 0.05678\n",
      "Epoch 46/100\n",
      "493/493 [==============================] - 18s 37ms/step - loss: 0.0419 - accuracy: 0.9874 - val_loss: 0.0615 - val_accuracy: 0.9848\n",
      "\n",
      "Epoch 00046: val_loss did not improve from 0.05678\n",
      "Epoch 47/100\n",
      "493/493 [==============================] - 18s 37ms/step - loss: 0.0414 - accuracy: 0.9870 - val_loss: 0.0624 - val_accuracy: 0.9833\n",
      "\n",
      "Epoch 00047: val_loss did not improve from 0.05678\n",
      "Epoch 48/100\n",
      "493/493 [==============================] - 18s 37ms/step - loss: 0.0407 - accuracy: 0.9874 - val_loss: 0.0641 - val_accuracy: 0.9832\n",
      "\n",
      "Epoch 00048: val_loss did not improve from 0.05678\n",
      "Epoch 49/100\n",
      "493/493 [==============================] - 18s 37ms/step - loss: 0.0413 - accuracy: 0.9871 - val_loss: 0.0619 - val_accuracy: 0.9849\n",
      "\n",
      "Epoch 00049: val_loss did not improve from 0.05678\n",
      "\n",
      "Epoch 00049: ReduceLROnPlateau reducing learning rate to 0.0007290000503417104.\n",
      "Epoch 50/100\n",
      "493/493 [==============================] - 18s 37ms/step - loss: 0.0402 - accuracy: 0.9878 - val_loss: 0.0577 - val_accuracy: 0.9852\n",
      "\n",
      "Epoch 00050: val_loss did not improve from 0.05678\n",
      "Epoch 51/100\n",
      "493/493 [==============================] - 18s 37ms/step - loss: 0.0385 - accuracy: 0.9880 - val_loss: 0.0635 - val_accuracy: 0.9842\n",
      "\n",
      "Epoch 00051: val_loss did not improve from 0.05678\n",
      "Epoch 52/100\n",
      "493/493 [==============================] - 18s 37ms/step - loss: 0.0390 - accuracy: 0.9878 - val_loss: 0.0605 - val_accuracy: 0.9847\n",
      "\n",
      "Epoch 00052: val_loss did not improve from 0.05678\n",
      "Epoch 53/100\n",
      "493/493 [==============================] - 18s 36ms/step - loss: 0.0380 - accuracy: 0.9880 - val_loss: 0.0669 - val_accuracy: 0.9840\n",
      "\n",
      "Epoch 00053: val_loss did not improve from 0.05678\n",
      "Epoch 54/100\n",
      "493/493 [==============================] - 18s 37ms/step - loss: 0.0381 - accuracy: 0.9882 - val_loss: 0.0606 - val_accuracy: 0.9848\n",
      "\n",
      "Epoch 00054: val_loss did not improve from 0.05678\n",
      "\n",
      "Epoch 00054: ReduceLROnPlateau reducing learning rate to 0.0006561000715009868.\n",
      "Epoch 55/100\n",
      "493/493 [==============================] - 18s 37ms/step - loss: 0.0368 - accuracy: 0.9882 - val_loss: 0.0618 - val_accuracy: 0.9849\n",
      "\n",
      "Epoch 00055: val_loss did not improve from 0.05678\n",
      "Epoch 56/100\n",
      "493/493 [==============================] - 18s 37ms/step - loss: 0.0375 - accuracy: 0.9885 - val_loss: 0.0582 - val_accuracy: 0.9851\n",
      "\n",
      "Epoch 00056: val_loss did not improve from 0.05678\n",
      "Epoch 57/100\n",
      "493/493 [==============================] - 18s 37ms/step - loss: 0.0364 - accuracy: 0.9883 - val_loss: 0.0596 - val_accuracy: 0.9854\n",
      "\n",
      "Epoch 00057: val_loss did not improve from 0.05678\n",
      "Epoch 58/100\n",
      "493/493 [==============================] - 18s 37ms/step - loss: 0.0344 - accuracy: 0.9892 - val_loss: 0.0579 - val_accuracy: 0.9854\n",
      "\n",
      "Epoch 00058: val_loss did not improve from 0.05678\n",
      "Epoch 59/100\n",
      "493/493 [==============================] - 18s 37ms/step - loss: 0.0355 - accuracy: 0.9885 - val_loss: 0.0635 - val_accuracy: 0.9842\n",
      "\n",
      "Epoch 00059: val_loss did not improve from 0.05678\n",
      "\n",
      "Epoch 00059: ReduceLROnPlateau reducing learning rate to 0.0005904900433961303.\n",
      "Epoch 60/100\n",
      "493/493 [==============================] - 18s 37ms/step - loss: 0.0342 - accuracy: 0.9892 - val_loss: 0.0605 - val_accuracy: 0.9848\n",
      "\n",
      "Epoch 00060: val_loss did not improve from 0.05678\n",
      "Epoch 61/100\n",
      "493/493 [==============================] - 18s 37ms/step - loss: 0.0340 - accuracy: 0.9886 - val_loss: 0.0610 - val_accuracy: 0.9848\n",
      "\n",
      "Epoch 00061: val_loss did not improve from 0.05678\n",
      "Epoch 62/100\n",
      "493/493 [==============================] - 18s 37ms/step - loss: 0.0347 - accuracy: 0.9890 - val_loss: 0.0573 - val_accuracy: 0.9852\n",
      "\n",
      "Epoch 00062: val_loss did not improve from 0.05678\n",
      "Epoch 63/100\n",
      "493/493 [==============================] - 33s 67ms/step - loss: 0.0340 - accuracy: 0.9894 - val_loss: 0.0613 - val_accuracy: 0.9851\n",
      "\n",
      "Epoch 00063: val_loss did not improve from 0.05678\n",
      "Epoch 64/100\n",
      "493/493 [==============================] - 18s 37ms/step - loss: 0.0331 - accuracy: 0.9894 - val_loss: 0.0587 - val_accuracy: 0.9851\n",
      "\n",
      "Epoch 00064: val_loss did not improve from 0.05678\n",
      "\n",
      "Epoch 00064: ReduceLROnPlateau reducing learning rate to 0.0005314410547725857.\n",
      "Epoch 00064: early stopping\n"
     ]
    }
   ],
   "source": [
    "!rm -r /content/drive/MyDrive/ecARR/checkpoint/keras.modelM1_ab2\n",
    "\n",
    "opt= tf.keras.optimizers.Adam(\n",
    "    learning_rate=0.001, beta_1=0.9, beta_2=0.999, epsilon=1e-07, name='Adam'\n",
    ")\n",
    "\n",
    "#for loss try sample_weight\n",
    "model_classifier.compile(\n",
    "                      optimizer=opt,\n",
    "                      loss=\"sparse_categorical_crossentropy\",\n",
    "                      metrics=['accuracy'],\n",
    "                      loss_weights=None\n",
    "                      )\n",
    "\n",
    "\n",
    "early_stopping = tf.keras.callbacks.EarlyStopping(monitor='val_loss', min_delta=0, patience=20, verbose=1)\n",
    "reduce_lr = tf.keras.callbacks.ReduceLROnPlateau(monitor='val_loss', factor=0.9, patience=5,\n",
    "                              verbose=1, mode='auto', min_delta=0.0001, cooldown=0, min_lr=0.0001)\n",
    "model_checkpoint = tf.keras.callbacks.ModelCheckpoint(BASEPATH + \"checkpoint/keras.modelM1_ab2\",\n",
    "                                                      monitor='val_loss', save_best_only=True, verbose=1)\n",
    "\n",
    "callbacks = [early_stopping, model_checkpoint, reduce_lr]\n",
    "\n",
    "model_history = model_classifier.fit(\n",
    "              x=x_train,\n",
    "              y=y_train,\n",
    "              batch_size=params['batch_size'],\n",
    "              epochs=params['epochs'],\n",
    "              verbose=1,\n",
    "              callbacks=callbacks,\n",
    "              validation_data=(x_val, y_val),\n",
    "              shuffle=True,\n",
    "              class_weight=None,\n",
    "              sample_weight=None,\n",
    "              initial_epoch=0\n",
    "              )"
   ]
  },
  {
   "cell_type": "code",
   "execution_count": null,
   "metadata": {
    "colab": {
     "base_uri": "https://localhost:8080/",
     "height": 295
    },
    "executionInfo": {
     "elapsed": 51231,
     "status": "ok",
     "timestamp": 1627405742205,
     "user": {
      "displayName": "Sadegh Mohammadi",
      "photoUrl": "https://lh3.googleusercontent.com/a-/AOh14Gg1iSjGV7iV5kzZZOpCoWfb-aIlclvodBw_eT5JzA=s64",
      "userId": "02781745993139771132"
     },
     "user_tz": 420
    },
    "id": "kmoNvLfz8ER8",
    "outputId": "f37679c8-f142-4eac-db2a-d77ce342222c"
   },
   "outputs": [
    {
     "data": {
      "image/png": "[encoded data removed]",
      "text/plain": [
       "<Figure size 432x288 with 1 Axes>"
      ]
     },
     "metadata": {
      "needs_background": "light",
      "tags": []
     },
     "output_type": "display_data"
    }
   ],
   "source": [
    "plot_loss(model_history)"
   ]
  },
  {
   "cell_type": "code",
   "execution_count": null,
   "metadata": {
    "id": "e6QEha8ryTbH"
   },
   "outputs": [],
   "source": [
    "import pickle\n",
    "with open(BASEPATH+'model_historyM1_ab2.history', 'wb') as f:\n",
    "  pickle.dump(model_history.history, f)\n"
   ]
  },
  {
   "cell_type": "code",
   "execution_count": null,
   "metadata": {
    "colab": {
     "base_uri": "https://localhost:8080/"
    },
    "executionInfo": {
     "elapsed": 9,
     "status": "ok",
     "timestamp": 1627405742207,
     "user": {
      "displayName": "Sadegh Mohammadi",
      "photoUrl": "https://lh3.googleusercontent.com/a-/AOh14Gg1iSjGV7iV5kzZZOpCoWfb-aIlclvodBw_eT5JzA=s64",
      "userId": "02781745993139771132"
     },
     "user_tz": 420
    },
    "id": "FU-pzf53kFev",
    "outputId": "4f683089-2e9a-4f42-d5a8-0da547f615da"
   },
   "outputs": [
    {
     "data": {
      "text/plain": [
       "(0.05678131431341171, 43)"
      ]
     },
     "execution_count": 15,
     "metadata": {
      "tags": []
     },
     "output_type": "execute_result"
    }
   ],
   "source": [
    "a =model_history.history\n",
    "min(a['val_loss']), a['val_loss'].index(min(a['val_loss']))"
   ]
  },
  {
   "cell_type": "markdown",
   "metadata": {
    "id": "DQkAk3O5iaOY"
   },
   "source": [
    "# Loading Model and results"
   ]
  },
  {
   "cell_type": "code",
   "execution_count": 10,
   "metadata": {
    "colab": {
     "base_uri": "https://localhost:8080/",
     "height": 35
    },
    "executionInfo": {
     "elapsed": 2918,
     "status": "ok",
     "timestamp": 1629698740148,
     "user": {
      "displayName": "Sadegh Mohammadi",
      "photoUrl": "https://lh3.googleusercontent.com/a-/AOh14Gg1iSjGV7iV5kzZZOpCoWfb-aIlclvodBw_eT5JzA=s64",
      "userId": "02781745993139771132"
     },
     "user_tz": -270
    },
    "id": "8C8axIoViOLm",
    "outputId": "f208a8a6-59ca-4387-e5fa-5b867bfc48d9"
   },
   "outputs": [
    {
     "data": {
      "application/vnd.google.colaboratory.intrinsic+json": {
       "type": "string"
      },
      "text/plain": [
       "'multi_head_attention_classifier'"
      ]
     },
     "execution_count": 10,
     "metadata": {},
     "output_type": "execute_result"
    }
   ],
   "source": [
    "loaded_model = tf.keras.models.load_model(BASEPATH+'checkpoint/keras.modelM1_ab2')\n",
    "loaded_model.name"
   ]
  },
  {
   "cell_type": "code",
   "execution_count": 11,
   "metadata": {
    "colab": {
     "base_uri": "https://localhost:8080/"
    },
    "executionInfo": {
     "elapsed": 9,
     "status": "ok",
     "timestamp": 1629698740149,
     "user": {
      "displayName": "Sadegh Mohammadi",
      "photoUrl": "https://lh3.googleusercontent.com/a-/AOh14Gg1iSjGV7iV5kzZZOpCoWfb-aIlclvodBw_eT5JzA=s64",
      "userId": "02781745993139771132"
     },
     "user_tz": -270
    },
    "id": "QYraRcRxB0bv",
    "outputId": "f7fb1e16-7011-4ab4-e9b3-0e0665c9a37d"
   },
   "outputs": [
    {
     "name": "stdout",
     "output_type": "stream",
     "text": [
      "Model: \"multi_head_attention_classifier\"\n",
      "_________________________________________________________________\n",
      "Layer (type)                 Output Shape              Param #   \n",
      "=================================================================\n",
      "embedding_layer (EmbeddingLa multiple                  1664      \n",
      "_________________________________________________________________\n",
      "multi_head_attention (MultiH multiple                  16384     \n",
      "_________________________________________________________________\n",
      "multi_head_attention_1 (Mult multiple                  0         \n",
      "_________________________________________________________________\n",
      "multi_head_attention_2 (Mult multiple                  0         \n",
      "_________________________________________________________________\n",
      "multi_head_attention_3 (Mult multiple                  0         \n",
      "_________________________________________________________________\n",
      "multi_head_attention_4 (Mult multiple                  0         \n",
      "_________________________________________________________________\n",
      "layer_normalization (LayerNo multiple                  128       \n",
      "_________________________________________________________________\n",
      "layer_normalization_1 (Layer multiple                  128       \n",
      "_________________________________________________________________\n",
      "layer_normalization_2 (Layer multiple                  0         \n",
      "_________________________________________________________________\n",
      "layer_normalization_3 (Layer multiple                  0         \n",
      "_________________________________________________________________\n",
      "layer_normalization_4 (Layer multiple                  0         \n",
      "_________________________________________________________________\n",
      "layer_normalization_5 (Layer multiple                  0         \n",
      "_________________________________________________________________\n",
      "dropout (Dropout)            multiple                  0         \n",
      "_________________________________________________________________\n",
      "dropout_1 (Dropout)          multiple                  0         \n",
      "_________________________________________________________________\n",
      "dropout_2 (Dropout)          multiple                  0         \n",
      "_________________________________________________________________\n",
      "dropout_3 (Dropout)          multiple                  0         \n",
      "_________________________________________________________________\n",
      "dropout_4 (Dropout)          multiple                  0         \n",
      "_________________________________________________________________\n",
      "dropout_5 (Dropout)          multiple                  0         \n",
      "_________________________________________________________________\n",
      "batch_normalization (BatchNo multiple                  0         \n",
      "_________________________________________________________________\n",
      "dense_20 (Dense)             multiple                  0         \n",
      "_________________________________________________________________\n",
      "dense_21 (Dense)             multiple                  0         \n",
      "_________________________________________________________________\n",
      "flatten (Flatten)            multiple                  0         \n",
      "_________________________________________________________________\n",
      "dense_22 (Dense)             multiple                  24975     \n",
      "=================================================================\n",
      "Total params: 43,279\n",
      "Trainable params: 43,279\n",
      "Non-trainable params: 0\n",
      "_________________________________________________________________\n"
     ]
    }
   ],
   "source": [
    "loaded_model.summary()"
   ]
  },
  {
   "cell_type": "code",
   "execution_count": 12,
   "metadata": {
    "colab": {
     "base_uri": "https://localhost:8080/"
    },
    "executionInfo": {
     "elapsed": 3048,
     "status": "ok",
     "timestamp": 1629698743191,
     "user": {
      "displayName": "Sadegh Mohammadi",
      "photoUrl": "https://lh3.googleusercontent.com/a-/AOh14Gg1iSjGV7iV5kzZZOpCoWfb-aIlclvodBw_eT5JzA=s64",
      "userId": "02781745993139771132"
     },
     "user_tz": -270
    },
    "id": "xORFdEMo2CO2",
    "outputId": "732cf26e-a689-4c4c-d163-df6b6a16c078"
   },
   "outputs": [
    {
     "name": "stdout",
     "output_type": "stream",
     "text": [
      "CPU times: user 3.31 s, sys: 634 ms, total: 3.94 s\n",
      "Wall time: 3.18 s\n"
     ]
    }
   ],
   "source": [
    "%%time\n",
    "y_pred_prob = loaded_model.predict(x_test)"
   ]
  },
  {
   "cell_type": "code",
   "execution_count": 13,
   "metadata": {
    "colab": {
     "base_uri": "https://localhost:8080/"
    },
    "executionInfo": {
     "elapsed": 6,
     "status": "ok",
     "timestamp": 1629698743192,
     "user": {
      "displayName": "Sadegh Mohammadi",
      "photoUrl": "https://lh3.googleusercontent.com/a-/AOh14Gg1iSjGV7iV5kzZZOpCoWfb-aIlclvodBw_eT5JzA=s64",
      "userId": "02781745993139771132"
     },
     "user_tz": -270
    },
    "id": "nvPKZXNAO-GA",
    "outputId": "809c1820-31f1-42e8-cb75-50cca6e1de79"
   },
   "outputs": [
    {
     "data": {
      "text/plain": [
       "0.16707920792079206"
      ]
     },
     "execution_count": 13,
     "metadata": {},
     "output_type": "execute_result"
    }
   ],
   "source": [
    "3.51/21008*1000"
   ]
  },
  {
   "cell_type": "code",
   "execution_count": 14,
   "metadata": {
    "executionInfo": {
     "elapsed": 3,
     "status": "ok",
     "timestamp": 1629698743192,
     "user": {
      "displayName": "Sadegh Mohammadi",
      "photoUrl": "https://lh3.googleusercontent.com/a-/AOh14Gg1iSjGV7iV5kzZZOpCoWfb-aIlclvodBw_eT5JzA=s64",
      "userId": "02781745993139771132"
     },
     "user_tz": -270
    },
    "id": "m-1JZgxHgVxS"
   },
   "outputs": [],
   "source": [
    "y_pred = integerMapping(list(y_pred_prob.argmax(axis=-1)), intMapDict, inverse=True)\n",
    "y_true = y_test"
   ]
  },
  {
   "cell_type": "markdown",
   "metadata": {
    "id": "M_MQf22sLP2r"
   },
   "source": [
    "Precision or Positive Predictive Value (PPV):  TP/(TP+FP)\n",
    "\n",
    "Sensitivity or Recall: TP/(TP+FN)\n",
    "\n",
    "Specificity: TN/(TN+FP)\n",
    "\n",
    "Accuracy (ACC): (TP+TN)/(TP+TN+FP+FN)"
   ]
  },
  {
   "cell_type": "code",
   "execution_count": 15,
   "metadata": {
    "colab": {
     "base_uri": "https://localhost:8080/",
     "height": 1000
    },
    "executionInfo": {
     "elapsed": 3237,
     "status": "ok",
     "timestamp": 1629698746426,
     "user": {
      "displayName": "Sadegh Mohammadi",
      "photoUrl": "https://lh3.googleusercontent.com/a-/AOh14Gg1iSjGV7iV5kzZZOpCoWfb-aIlclvodBw_eT5JzA=s64",
      "userId": "02781745993139771132"
     },
     "user_tz": -270
    },
    "id": "MVdqqAxPgYqU",
    "outputId": "bc210270-7276-4730-a2a6-ffdf25921e3f"
   },
   "outputs": [
    {
     "name": "stderr",
     "output_type": "stream",
     "text": [
      "/usr/local/lib/python3.7/dist-packages/sklearn/metrics/_classification.py:1272: UndefinedMetricWarning: Precision and F-score are ill-defined and being set to 0.0 in labels with no predicted samples. Use `zero_division` parameter to control this behavior.\n",
      "  _warn_prf(average, modifier, msg_start, len(result))\n"
     ]
    },
    {
     "name": "stdout",
     "output_type": "stream",
     "text": [
      "              precision    recall  f1-score   support\n",
      "\n",
      "           /     0.9986    0.9986    0.9986       724\n",
      "           A     0.9219    0.8585    0.8891       509\n",
      "           E     1.0000    1.0000    1.0000        21\n",
      "           F     0.9113    0.7063    0.7958       160\n",
      "           J     0.9333    0.8235    0.8750        17\n",
      "           L     0.9888    0.9888    0.9888      1614\n",
      "           N     0.9880    0.9944    0.9912     14952\n",
      "           Q     0.0000    0.0000    0.0000         3\n",
      "           R     0.9972    0.9924    0.9948      1451\n",
      "           S     0.0000    0.0000    0.0000         1\n",
      "           V     0.9627    0.9607    0.9617      1425\n",
      "           a     0.8800    0.7333    0.8000        30\n",
      "           e     0.7500    1.0000    0.8571         3\n",
      "           f     1.0000    0.9423    0.9703        52\n",
      "           j     0.6512    0.6087    0.6292        46\n",
      "\n",
      "    accuracy                         0.9846     21008\n",
      "   macro avg     0.7989    0.7738    0.7835     21008\n",
      "weighted avg     0.9841    0.9846    0.9842     21008\n",
      "\n"
     ]
    },
    {
     "name": "stderr",
     "output_type": "stream",
     "text": [
      "/content/drive/MyDrive/ecARR/report.py:54: RuntimeWarning: invalid value encountered in true_divide\n",
      "  PPV = TP/(TP+FP)*100 # Precision, positive predictive value (PPV)\n"
     ]
    },
    {
     "name": "stdout",
     "output_type": "stream",
     "text": [
      "              precision    recall  f1-score   support\n",
      "\n",
      "           F     0.9113    0.7063    0.7958       160\n",
      "           N     0.9913    0.9961    0.9937     18066\n",
      "           Q     1.0000    0.9923    0.9961       779\n",
      "           S     0.9241    0.8528    0.8870       557\n",
      "           V     0.9633    0.9613    0.9623      1446\n",
      "\n",
      "    accuracy                         0.9876     21008\n",
      "   macro avg     0.9580    0.9017    0.9270     21008\n",
      "weighted avg     0.9873    0.9876    0.9873     21008\n",
      "\n"
     ]
    },
    {
     "data": {
      "text/html": [
       "<div>\n",
       "<style scoped>\n",
       "    .dataframe tbody tr th:only-of-type {\n",
       "        vertical-align: middle;\n",
       "    }\n",
       "\n",
       "    .dataframe tbody tr th {\n",
       "        vertical-align: top;\n",
       "    }\n",
       "\n",
       "    .dataframe thead th {\n",
       "        text-align: right;\n",
       "    }\n",
       "</style>\n",
       "<table border=\"1\" class=\"dataframe\">\n",
       "  <thead>\n",
       "    <tr style=\"text-align: right;\">\n",
       "      <th></th>\n",
       "      <th>Class</th>\n",
       "      <th>(PPV)Precision</th>\n",
       "      <th>(Sensitivity)Recall</th>\n",
       "      <th>Specificity</th>\n",
       "      <th>F1</th>\n",
       "    </tr>\n",
       "  </thead>\n",
       "  <tbody>\n",
       "    <tr>\n",
       "      <th>0</th>\n",
       "      <td>F</td>\n",
       "      <td>91.13</td>\n",
       "      <td>70.62</td>\n",
       "      <td>99.95</td>\n",
       "      <td>79.58</td>\n",
       "    </tr>\n",
       "    <tr>\n",
       "      <th>1</th>\n",
       "      <td>N</td>\n",
       "      <td>99.13</td>\n",
       "      <td>99.61</td>\n",
       "      <td>94.63</td>\n",
       "      <td>99.37</td>\n",
       "    </tr>\n",
       "    <tr>\n",
       "      <th>2</th>\n",
       "      <td>Q</td>\n",
       "      <td>100.00</td>\n",
       "      <td>99.23</td>\n",
       "      <td>100.00</td>\n",
       "      <td>99.61</td>\n",
       "    </tr>\n",
       "    <tr>\n",
       "      <th>3</th>\n",
       "      <td>S</td>\n",
       "      <td>92.41</td>\n",
       "      <td>85.28</td>\n",
       "      <td>99.81</td>\n",
       "      <td>88.70</td>\n",
       "    </tr>\n",
       "    <tr>\n",
       "      <th>4</th>\n",
       "      <td>V</td>\n",
       "      <td>96.33</td>\n",
       "      <td>96.13</td>\n",
       "      <td>99.73</td>\n",
       "      <td>96.23</td>\n",
       "    </tr>\n",
       "  </tbody>\n",
       "</table>\n",
       "</div>"
      ],
      "text/plain": [
       "  Class  (PPV)Precision  (Sensitivity)Recall  Specificity     F1\n",
       "0     F           91.13                70.62        99.95  79.58\n",
       "1     N           99.13                99.61        94.63  99.37\n",
       "2     Q          100.00                99.23       100.00  99.61\n",
       "3     S           92.41                85.28        99.81  88.70\n",
       "4     V           96.33                96.13        99.73  96.23"
      ]
     },
     "execution_count": 15,
     "metadata": {},
     "output_type": "execute_result"
    },
    {
     "data": {
      "image/png": "[encoded data removed]",
      "text/plain": [
       "<Figure size 800x800 with 2 Axes>"
      ]
     },
     "metadata": {
      "needs_background": "light"
     },
     "output_type": "display_data"
    },
    {
     "data": {
      "image/png": "[encoded data removed]",
      "text/plain": [
       "<Figure size 800x800 with 2 Axes>"
      ]
     },
     "metadata": {
      "needs_background": "light"
     },
     "output_type": "display_data"
    }
   ],
   "source": [
    "labels = [k for k,v in intMapDict.items()]\n",
    "report = Reports(yTrue=y_true, yPred=y_pred, labels=labels)\n",
    "normalize = None\n",
    "report.plotConfusionMatrix(normalize=normalize, values_format='')\n",
    "print(report.classificationReport())\n",
    "report.metricsTable()\n",
    "\n",
    "\n",
    "y_pred_AAMI = mappingAAMI(y_pred, MAP_AAMI)\n",
    "y_true_AAMI = mappingAAMI(y_true, MAP_AAMI)\n",
    "labels_AAMI = ['N','V','S','F','Q']\n",
    "report = Reports(yTrue=y_true_AAMI, yPred=y_pred_AAMI, labels=labels_AAMI)\n",
    "report.plotConfusionMatrix(normalize=normalize, values_format='')\n",
    "print(report.classificationReport())\n",
    "report.metricsTable()\n"
   ]
  },
  {
   "cell_type": "code",
   "execution_count": null,
   "metadata": {
    "colab": {
     "base_uri": "https://localhost:8080/"
    },
    "executionInfo": {
     "elapsed": 30,
     "status": "ok",
     "timestamp": 1627405747416,
     "user": {
      "displayName": "Sadegh Mohammadi",
      "photoUrl": "https://lh3.googleusercontent.com/a-/AOh14Gg1iSjGV7iV5kzZZOpCoWfb-aIlclvodBw_eT5JzA=s64",
      "userId": "02781745993139771132"
     },
     "user_tz": 420
    },
    "id": "Nd2lu35qgbMx",
    "outputId": "621688b3-4e43-4df5-e86f-c94e1bb9a55a"
   },
   "outputs": [
    {
     "data": {
      "text/plain": [
       "(0.9845773038842346, 0.9875761614623001)"
      ]
     },
     "execution_count": 20,
     "metadata": {
      "tags": []
     },
     "output_type": "execute_result"
    }
   ],
   "source": [
    "from sklearn.metrics import accuracy_score\n",
    "accuracy_score(y_true,y_pred),accuracy_score(y_true_AAMI,y_pred_AAMI)"
   ]
  },
  {
   "cell_type": "code",
   "execution_count": 16,
   "metadata": {
    "executionInfo": {
     "elapsed": 865,
     "status": "ok",
     "timestamp": 1629698785529,
     "user": {
      "displayName": "Sadegh Mohammadi",
      "photoUrl": "https://lh3.googleusercontent.com/a-/AOh14Gg1iSjGV7iV5kzZZOpCoWfb-aIlclvodBw_eT5JzA=s64",
      "userId": "02781745993139771132"
     },
     "user_tz": -270
    },
    "id": "uD_PbOnInXMX"
   },
   "outputs": [],
   "source": [
    "from sklearn.metrics import confusion_matrix, ConfusionMatrixDisplay, classification_report, accuracy_score\n",
    "import matplotlib.pylab as pylab\n",
    "import pandas as pd\n",
    "import numpy as np\n",
    "\n",
    "class Reports:\n",
    "  '''\n",
    "  Generate reports for the model\n",
    "  '''\n",
    "  def __init__(self, yTrue, yPred, labels=None):\n",
    "    self.yTrue = yTrue\n",
    "    self.yPred = yPred\n",
    "    self.labels = labels\n",
    "  \n",
    "  def confusionMatrix(self, normalize=None):\n",
    "    return confusion_matrix(self.yTrue, self.yPred, normalize=normalize)\n",
    "\n",
    "\n",
    "\n",
    "  def plotConfusionMatrix(self, normalize=None, cmap='Blues', values_format='.2%'):\n",
    "    #print(pylab.rcParams)\n",
    "    params = {'legend.fontsize': 4,\n",
    "              'figure.figsize': (4, 4),\n",
    "              'axes.labelsize': 4,\n",
    "              'axes.titlesize': 4,\n",
    "              'xtick.labelsize': 4,\n",
    "              'ytick.labelsize': 4,\n",
    "              'font.size': 4.0,\n",
    "              'figure.dpi': 200,\n",
    "              'legend.frameon': False}\n",
    "    #pylab.rcParams.update(params)\n",
    "    if not self.labels: \n",
    "      print('Labels are not provided!')\n",
    "    cm = self.confusionMatrix(normalize=normalize)\n",
    "    disp = ConfusionMatrixDisplay(confusion_matrix = cm, display_labels=sorted(self.labels))\n",
    "    disp.plot(include_values=True, cmap=cmap, values_format=values_format)\n",
    "\n",
    "\n",
    "\n",
    "  def classificationReport(self, digits=4):\n",
    "    report=classification_report(self.yTrue, self.yPred, digits=digits)\n",
    "    return report\n",
    "\n",
    "  def metrics(self):\n",
    "    #arrays with length equal to num classes\n",
    "    cfm = self.confusionMatrix()\n",
    "    FP = cfm.sum(axis=0) - np.diag(cfm) \n",
    "    FN = cfm.sum(axis=1) - np.diag(cfm)\n",
    "    TP = np.diag(cfm)\n",
    "    TN = cfm.sum() - (FP + FN + TP)\n",
    "\n",
    "    TPR = TP/(TP+FN)*100 # Sensitivity, recall\n",
    "    TNR = TN/(TN+FP)*100 # Specificity, true negative rate\n",
    "    PPV = TP/(TP+FP)*100 # Precision, positive predictive value (PPV)\n",
    "    NPV = TN/(TN+FN)*100  # Negative predictive value\n",
    "    FPR = FP/(FP+TN)*100  # False positive rate\n",
    "    FNR = FN/(TP+FN)*100  # False negative rate\n",
    "    ACC = (TP+TN)/(TP+FP+FN+TN)*100  # Accuracy of each class\n",
    "    F1=2*(PPV*TPR)/(PPV+TPR)\n",
    "    out = {'Class':sorted(self.labels),'(PPV)Precision':PPV,'(Sensitivity)Recall':TPR,'Specificity':TNR,'F1':F1}\n",
    "    return out\n",
    "\n",
    "  def metricsTable(self):\n",
    "    mt = self.metrics()\n",
    "    df = pd.DataFrame(mt).round(2)\n",
    "    return df\n",
    "  \n",
    "  def metricsArray(self):\n",
    "    mt = self.metrics()\n",
    "    df = pd.DataFrame(mt).round(2)\n",
    "    return df.to_numpy()\n",
    "\n",
    "  def accuracy(self):\n",
    "    return round(accuracy_score(self.yTrue, self.yPred)*100,2)\n"
   ]
  },
  {
   "cell_type": "code",
   "execution_count": 17,
   "metadata": {
    "colab": {
     "base_uri": "https://localhost:8080/",
     "height": 1000
    },
    "executionInfo": {
     "elapsed": 2585,
     "status": "ok",
     "timestamp": 1629698788108,
     "user": {
      "displayName": "Sadegh Mohammadi",
      "photoUrl": "https://lh3.googleusercontent.com/a-/AOh14Gg1iSjGV7iV5kzZZOpCoWfb-aIlclvodBw_eT5JzA=s64",
      "userId": "02781745993139771132"
     },
     "user_tz": -270
    },
    "id": "o65Dcj4OBx5-",
    "outputId": "973e5d00-30bb-401d-bc64-1984ce2ef77b"
   },
   "outputs": [
    {
     "name": "stderr",
     "output_type": "stream",
     "text": [
      "/usr/local/lib/python3.7/dist-packages/sklearn/metrics/_classification.py:1272: UndefinedMetricWarning: Precision and F-score are ill-defined and being set to 0.0 in labels with no predicted samples. Use `zero_division` parameter to control this behavior.\n",
      "  _warn_prf(average, modifier, msg_start, len(result))\n",
      "/usr/local/lib/python3.7/dist-packages/ipykernel_launcher.py:54: RuntimeWarning: invalid value encountered in true_divide\n"
     ]
    },
    {
     "name": "stdout",
     "output_type": "stream",
     "text": [
      "              precision    recall  f1-score   support\n",
      "\n",
      "           /     0.9986    0.9986    0.9986       724\n",
      "           A     0.9219    0.8585    0.8891       509\n",
      "           E     1.0000    1.0000    1.0000        21\n",
      "           F     0.9113    0.7063    0.7958       160\n",
      "           J     0.9333    0.8235    0.8750        17\n",
      "           L     0.9888    0.9888    0.9888      1614\n",
      "           N     0.9880    0.9944    0.9912     14952\n",
      "           Q     0.0000    0.0000    0.0000         3\n",
      "           R     0.9972    0.9924    0.9948      1451\n",
      "           S     0.0000    0.0000    0.0000         1\n",
      "           V     0.9627    0.9607    0.9617      1425\n",
      "           a     0.8800    0.7333    0.8000        30\n",
      "           e     0.7500    1.0000    0.8571         3\n",
      "           f     1.0000    0.9423    0.9703        52\n",
      "           j     0.6512    0.6087    0.6292        46\n",
      "\n",
      "    accuracy                         0.9846     21008\n",
      "   macro avg     0.7989    0.7738    0.7835     21008\n",
      "weighted avg     0.9841    0.9846    0.9842     21008\n",
      "\n",
      "              precision    recall  f1-score   support\n",
      "\n",
      "           F     0.9113    0.7063    0.7958       160\n",
      "           N     0.9913    0.9961    0.9937     18066\n",
      "           Q     1.0000    0.9923    0.9961       779\n",
      "           S     0.9241    0.8528    0.8870       557\n",
      "           V     0.9633    0.9613    0.9623      1446\n",
      "\n",
      "    accuracy                         0.9876     21008\n",
      "   macro avg     0.9580    0.9017    0.9270     21008\n",
      "weighted avg     0.9873    0.9876    0.9873     21008\n",
      "\n"
     ]
    },
    {
     "data": {
      "text/html": [
       "<div>\n",
       "<style scoped>\n",
       "    .dataframe tbody tr th:only-of-type {\n",
       "        vertical-align: middle;\n",
       "    }\n",
       "\n",
       "    .dataframe tbody tr th {\n",
       "        vertical-align: top;\n",
       "    }\n",
       "\n",
       "    .dataframe thead th {\n",
       "        text-align: right;\n",
       "    }\n",
       "</style>\n",
       "<table border=\"1\" class=\"dataframe\">\n",
       "  <thead>\n",
       "    <tr style=\"text-align: right;\">\n",
       "      <th></th>\n",
       "      <th>Class</th>\n",
       "      <th>(PPV)Precision</th>\n",
       "      <th>(Sensitivity)Recall</th>\n",
       "      <th>Specificity</th>\n",
       "      <th>F1</th>\n",
       "    </tr>\n",
       "  </thead>\n",
       "  <tbody>\n",
       "    <tr>\n",
       "      <th>0</th>\n",
       "      <td>F</td>\n",
       "      <td>91.13</td>\n",
       "      <td>70.62</td>\n",
       "      <td>99.95</td>\n",
       "      <td>79.58</td>\n",
       "    </tr>\n",
       "    <tr>\n",
       "      <th>1</th>\n",
       "      <td>N</td>\n",
       "      <td>99.13</td>\n",
       "      <td>99.61</td>\n",
       "      <td>94.63</td>\n",
       "      <td>99.37</td>\n",
       "    </tr>\n",
       "    <tr>\n",
       "      <th>2</th>\n",
       "      <td>Q</td>\n",
       "      <td>100.00</td>\n",
       "      <td>99.23</td>\n",
       "      <td>100.00</td>\n",
       "      <td>99.61</td>\n",
       "    </tr>\n",
       "    <tr>\n",
       "      <th>3</th>\n",
       "      <td>S</td>\n",
       "      <td>92.41</td>\n",
       "      <td>85.28</td>\n",
       "      <td>99.81</td>\n",
       "      <td>88.70</td>\n",
       "    </tr>\n",
       "    <tr>\n",
       "      <th>4</th>\n",
       "      <td>V</td>\n",
       "      <td>96.33</td>\n",
       "      <td>96.13</td>\n",
       "      <td>99.73</td>\n",
       "      <td>96.23</td>\n",
       "    </tr>\n",
       "  </tbody>\n",
       "</table>\n",
       "</div>"
      ],
      "text/plain": [
       "  Class  (PPV)Precision  (Sensitivity)Recall  Specificity     F1\n",
       "0     F           91.13                70.62        99.95  79.58\n",
       "1     N           99.13                99.61        94.63  99.37\n",
       "2     Q          100.00                99.23       100.00  99.61\n",
       "3     S           92.41                85.28        99.81  88.70\n",
       "4     V           96.33                96.13        99.73  96.23"
      ]
     },
     "execution_count": 17,
     "metadata": {},
     "output_type": "execute_result"
    },
    {
     "data": {
      "image/png": "[encoded data removed]",
      "text/plain": [
       "<Figure size 1200x1200 with 2 Axes>"
      ]
     },
     "metadata": {
      "needs_background": "light"
     },
     "output_type": "display_data"
    }
   ],
   "source": [
    "import matplotlib.pyplot as plt\n",
    "plt.style.use('/content/drive/MyDrive/ecARR/plotstyle.txt')\n",
    "\n",
    "labels = [k for k,v in intMapDict.items()]\n",
    "report = Reports(yTrue=y_true, yPred=y_pred, labels=labels)\n",
    "normalize = 'true'\n",
    "#report.plotConfusionMatrix(normalize=normalize, values_format='')\n",
    "print(report.classificationReport())\n",
    "report.metricsTable()\n",
    "\n",
    "\n",
    "y_pred_AAMI = mappingAAMI(y_pred, MAP_AAMI)\n",
    "y_true_AAMI = mappingAAMI(y_true, MAP_AAMI)\n",
    "labels_AAMI = ['N','V','S','F','Q']\n",
    "report = Reports(yTrue=y_true_AAMI, yPred=y_pred_AAMI, labels=labels_AAMI)\n",
    "report.plotConfusionMatrix(normalize=normalize, values_format='.2%')\n",
    "print(report.classificationReport())\n",
    "report.metricsTable()\n"
   ]
  },
  {
   "cell_type": "code",
   "execution_count": null,
   "metadata": {
    "colab": {
     "base_uri": "https://localhost:8080/",
     "height": 206
    },
    "executionInfo": {
     "elapsed": 1211,
     "status": "ok",
     "timestamp": 1627526856834,
     "user": {
      "displayName": "Sadegh Mohammadi",
      "photoUrl": "https://lh3.googleusercontent.com/a-/AOh14Gg1iSjGV7iV5kzZZOpCoWfb-aIlclvodBw_eT5JzA=s64",
      "userId": "02781745993139771132"
     },
     "user_tz": -270
    },
    "id": "PVY1GueqBybW",
    "outputId": "836d94b3-0e5c-47d3-f24c-25ec814727a4"
   },
   "outputs": [
    {
     "data": {
      "text/html": [
       "<div>\n",
       "<style scoped>\n",
       "    .dataframe tbody tr th:only-of-type {\n",
       "        vertical-align: middle;\n",
       "    }\n",
       "\n",
       "    .dataframe tbody tr th {\n",
       "        vertical-align: top;\n",
       "    }\n",
       "\n",
       "    .dataframe thead th {\n",
       "        text-align: right;\n",
       "    }\n",
       "</style>\n",
       "<table border=\"1\" class=\"dataframe\">\n",
       "  <thead>\n",
       "    <tr style=\"text-align: right;\">\n",
       "      <th></th>\n",
       "      <th>0</th>\n",
       "      <th>1</th>\n",
       "      <th>2</th>\n",
       "      <th>3</th>\n",
       "      <th>4</th>\n",
       "    </tr>\n",
       "  </thead>\n",
       "  <tbody>\n",
       "    <tr>\n",
       "      <th>0</th>\n",
       "      <td>70.62</td>\n",
       "      <td>18.12</td>\n",
       "      <td>0.00</td>\n",
       "      <td>0.62</td>\n",
       "      <td>10.62</td>\n",
       "    </tr>\n",
       "    <tr>\n",
       "      <th>1</th>\n",
       "      <td>0.03</td>\n",
       "      <td>99.61</td>\n",
       "      <td>0.00</td>\n",
       "      <td>0.19</td>\n",
       "      <td>0.17</td>\n",
       "    </tr>\n",
       "    <tr>\n",
       "      <th>2</th>\n",
       "      <td>0.00</td>\n",
       "      <td>0.51</td>\n",
       "      <td>99.23</td>\n",
       "      <td>0.00</td>\n",
       "      <td>0.26</td>\n",
       "    </tr>\n",
       "    <tr>\n",
       "      <th>3</th>\n",
       "      <td>0.00</td>\n",
       "      <td>14.18</td>\n",
       "      <td>0.00</td>\n",
       "      <td>85.28</td>\n",
       "      <td>0.54</td>\n",
       "    </tr>\n",
       "    <tr>\n",
       "      <th>4</th>\n",
       "      <td>0.41</td>\n",
       "      <td>3.18</td>\n",
       "      <td>0.00</td>\n",
       "      <td>0.28</td>\n",
       "      <td>96.13</td>\n",
       "    </tr>\n",
       "  </tbody>\n",
       "</table>\n",
       "</div>"
      ],
      "text/plain": [
       "       0      1      2      3      4\n",
       "0  70.62  18.12   0.00   0.62  10.62\n",
       "1   0.03  99.61   0.00   0.19   0.17\n",
       "2   0.00   0.51  99.23   0.00   0.26\n",
       "3   0.00  14.18   0.00  85.28   0.54\n",
       "4   0.41   3.18   0.00   0.28  96.13"
      ]
     },
     "execution_count": 30,
     "metadata": {
      "tags": []
     },
     "output_type": "execute_result"
    }
   ],
   "source": [
    "from sklearn.metrics import confusion_matrix\n",
    "np.set_printoptions(suppress=True, formatter={'float_kind':'{:.2f}'.format})\n",
    "cfm=confusion_matrix(y_true_AAMI, y_pred_AAMI, labels=sorted(labels_AAMI),normalize='true')*100\n",
    "cfm\n",
    "import pandas as pd\n",
    "pd.DataFrame(cfm).round(2)"
   ]
  },
  {
   "cell_type": "code",
   "execution_count": null,
   "metadata": {
    "id": "IIuFo6drJ9nz"
   },
   "outputs": [],
   "source": []
  }
 ],
 "metadata": {
  "colab": {
   "authorship_tag": "ABX9TyO5mdlokQ62wz4XipxYXZ75",
   "collapsed_sections": [],
   "mount_file_id": "1fzJdm7C34G_Kjk8wdz1l7I3yEPqs5Glq",
   "name": "ecARR2--modelM1_ab2(model-6).ipynb",
   "provenance": [
    {
     "file_id": "1YaU60VHIf7MwsqXX51ZtF5BRCyR_e1Wg",
     "timestamp": 1627403996239
    },
    {
     "file_id": "133QOje8skPCCjNXcjrUaHu9X-8ZUftwA",
     "timestamp": 1627396655995
    },
    {
     "file_id": "1aFoa8_DXOWB5SeAlcqk_JWGiXoBdQ_FN",
     "timestamp": 1626525095859
    },
    {
     "file_id": "1fkYTddhxNyw8p4vm0sjN00AKjYW7tzGg",
     "timestamp": 1626338627875
    },
    {
     "file_id": "1QHiJsRztLO38ZAqf5m2-lg2EEBSJu54_",
     "timestamp": 1626271867171
    },
    {
     "file_id": "1OanqZQe6Z-s__bgCMsU4E5NwZ4GlkKAb",
     "timestamp": 1626260810890
    },
    {
     "file_id": "1ajoUnxS_-KBUO0E3qP5vMK4xhguXHB8J",
     "timestamp": 1626256396609
    },
    {
     "file_id": "1BEORilBHH51WD3__8FNn9cqtdpnOOjBs",
     "timestamp": 1626254594644
    },
    {
     "file_id": "1GCc_iQ_3eCvevL4SjeY4keTIOOphyA10",
     "timestamp": 1626200488415
    },
    {
     "file_id": "1TVGoEmRhXcnrJjQ-uwY2uYNgZtutXkG7",
     "timestamp": 1626197059796
    },
    {
     "file_id": "1epbcXpaFZQRGyY_8cIREkID0jixJrSMb",
     "timestamp": 1626171676267
    },
    {
     "file_id": "1WkhnRvK7gXEIpJr4pzZn7K1NevHif6E3",
     "timestamp": 1625594198161
    },
    {
     "file_id": "169yA24spslJbJOdPx218P863AhHPaozi",
     "timestamp": 1625576664712
    },
    {
     "file_id": "1WIbdDF5DzCSO_VNWwYa_KDyVyMsRUQlb",
     "timestamp": 1624949937104
    },
    {
     "file_id": "10VRsJX9k8kIVR7KsOaJJXzy9BXEcV4oZ",
     "timestamp": 1624787399733
    }
   ]
  },
  "kernelspec": {
   "display_name": "Python 3 (ipykernel)",
   "language": "python",
   "name": "python3"
  },
  "language_info": {
   "codemirror_mode": {
    "name": "ipython",
    "version": 3
   },
   "file_extension": ".py",
   "mimetype": "text/x-python",
   "name": "python",
   "nbconvert_exporter": "python",
   "pygments_lexer": "ipython3",
   "version": "3.10.4"
  }
 },
 "nbformat": 4,
 "nbformat_minor": 1
}
