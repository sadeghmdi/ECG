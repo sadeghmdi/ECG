{
 "cells": [
  {
   "cell_type": "code",
   "execution_count": 100,
   "metadata": {
    "executionInfo": {
     "elapsed": 9798,
     "status": "ok",
     "timestamp": 1629698724230,
     "user": {
      "displayName": "Sadegh Mohammadi",
      "photoUrl": "https://lh3.googleusercontent.com/a-/AOh14Gg1iSjGV7iV5kzZZOpCoWfb-aIlclvodBw_eT5JzA=s64",
      "userId": "02781745993139771132"
     },
     "user_tz": -270
    },
    "id": "E9pJ0y9MaIlB"
   },
   "outputs": [],
   "source": [
    "%%capture\n",
    "BASEPATH = '../'\n",
    "import sys\n",
    "sys.path.insert(0,'..')\n",
    "\n",
    "import numpy as np\n",
    "import os\n",
    "import tensorflow as tf\n",
    "import pandas as pd\n",
    "import matplotlib.pyplot as plt\n",
    "from pyecg.utils import reset_seed, plot_spectogram, plot_loss, load_data\n",
    "from pyecg.utils import integer_mapping, mapping_AAMI, calc_class_weights\n",
    "from pyecg.data_info import *\n",
    "from pyecg.data_preprocessing import clean_inf_nan,clean_IQR,clean_IQR_class\n",
    "from pyecg.data_handling import DataHandling,slice_data\n",
    "from pyecg.report import Reports\n",
    "from pyecg.utils import sig_similarity_report,sig_similarity_hist\n",
    "\n",
    "\n",
    "\n",
    "reset_seed() "
   ]
  },
  {
   "cell_type": "markdown",
   "metadata": {},
   "source": [
    "# Proto"
   ]
  },
  {
   "cell_type": "code",
   "execution_count": 101,
   "metadata": {},
   "outputs": [],
   "source": [
    "datasets = {1:'raw',2:'stft'}\n",
    "models = {1:'conv1d', 2:'conv2d', 3:'anomaly_fcn',\n",
    "          4:'anomaly_conv1d',5:'anomaly_conv2d',\n",
    "          6:'beat_model',7:'beat_conv1d_rri_paral'}\n",
    "\n",
    "CONFIG = {}\n",
    "CONFIG['dataset'] = datasets[1]\n",
    "CONFIG['model'] = models[7]\n",
    "CONFIG['model_type'] = 'CLF' #CLF or AE\n",
    "CONFIG['augment'] = False \n",
    "CONFIG['sliced_targets'] = None #{'N':0,'A':1,'V':2} #None  #{'N':0,'A':1}\n",
    "CONFIG['AAMI'] = False \n",
    "CONFIG['class_weight'] = False \n",
    "CONFIG['normalization'] = None       #'zscore' 'minmax' , None, 'max' "
   ]
  },
  {
   "cell_type": "markdown",
   "metadata": {},
   "source": [
    "# Data"
   ]
  },
  {
   "cell_type": "code",
   "execution_count": 107,
   "metadata": {},
   "outputs": [
    {
     "name": "stdout",
     "output_type": "stream",
     "text": [
      "file loaded: ../data/train.beat\n",
      "shape of \"waveforms\" is (27090, 800)\n",
      "shape of \"beat_feats\" is (27090, 2)\n",
      "shape of \"labels\" is (27090,)\n",
      "                N     L     R   j   e     V    E    A  S   a   J    F  f  /  Q\n",
      "train.beat  20200  1457  1592  14  16  2482  105  684  2  98  30  404  0  0  6\n",
      "file loaded: ../data/val.beat\n",
      "shape of \"waveforms\" is (23491, 800)\n",
      "shape of \"beat_feats\" is (23491, 2)\n",
      "shape of \"labels\" is (23491,)\n",
      "              N     L     R  j  e     V  E    A  S  a  J  F  f  /  Q\n",
      "val.beat  17562  2473  2149  1  0  1181  0  113  0  0  2  8  0  0  2\n"
     ]
    }
   ],
   "source": [
    "#Load data\n",
    "dh = DataHandling(base_path='../data')\n",
    "\n",
    "if CONFIG['dataset'] == 'raw':\n",
    "    ds_train = dh.load_data(file_name = 'train.beat')\n",
    "    x_train, r_train, y_train = ds_train.values()\n",
    "    \n",
    "    ds_val = dh.load_data(file_name = 'val.beat')\n",
    "    x_val, r_val, y_val = ds_val.values()\n",
    "\n",
    "elif CONFIG['dataset'] == 'stft':\n",
    "    ds_train = dh.load_data(file_path = '../data/DS1_train_stft.dat')\n",
    "    x_train, y_train, r_train = ds_train.values()\n",
    "    ds_val = load_data(file_path = '../data/DS1_val_stft.dat')\n",
    "    x_val, y_val, r_val = ds_val.values()\n"
   ]
  },
  {
   "cell_type": "code",
   "execution_count": 108,
   "metadata": {},
   "outputs": [],
   "source": [
    "ds_train = clean_inf_nan(ds_train)\n",
    "x_train, r_train, y_train = ds_train.values()"
   ]
  },
  {
   "cell_type": "code",
   "execution_count": 109,
   "metadata": {},
   "outputs": [
    {
     "data": {
      "text/plain": [
       "(3.0571681682263936, -3.531306100843774, 0.05353817446333654)"
      ]
     },
     "execution_count": 109,
     "metadata": {},
     "output_type": "execute_result"
    }
   ],
   "source": [
    "xx =  x_train.flatten()\n",
    "max(xx),min(xx),sum(xx)/len(xx) "
   ]
  },
  {
   "cell_type": "code",
   "execution_count": 110,
   "metadata": {},
   "outputs": [
    {
     "data": {
      "text/plain": [
       "(84.32786885245812, 0.2768924302789901, 1.0125611883700758)"
      ]
     },
     "execution_count": 110,
     "metadata": {},
     "output_type": "execute_result"
    }
   ],
   "source": [
    "rr =  r_train.flatten()\n",
    "max(rr),min(rr),sum(rr)/len(rr) "
   ]
  },
  {
   "cell_type": "code",
   "execution_count": 111,
   "metadata": {},
   "outputs": [
    {
     "data": {
      "text/plain": [
       "<AxesSubplot:>"
      ]
     },
     "execution_count": 111,
     "metadata": {},
     "output_type": "execute_result"
    },
    {
     "data": {
      "image/png": "[encoded data removed]",
      "text/plain": [
       "<Figure size 640x480 with 1 Axes>"
      ]
     },
     "metadata": {},
     "output_type": "display_data"
    }
   ],
   "source": [
    "r_train.shape\n",
    "pd.DataFrame(r_train).boxplot()"
   ]
  },
  {
   "cell_type": "code",
   "execution_count": 112,
   "metadata": {},
   "outputs": [
    {
     "data": {
      "text/plain": [
       "['A', 'E', 'F', 'J', 'L', 'N', 'Q', 'R', 'S', 'V', 'a', 'e', 'j']"
      ]
     },
     "execution_count": 112,
     "metadata": {},
     "output_type": "execute_result"
    }
   ],
   "source": [
    "list(np.unique(y_train))"
   ]
  },
  {
   "cell_type": "raw",
   "metadata": {},
   "source": [
    "#cleaning\n",
    "ds_train = clean_IQR_class(ds_train,factor=1.9)"
   ]
  },
  {
   "cell_type": "code",
   "execution_count": 113,
   "metadata": {},
   "outputs": [
    {
     "data": {
      "text/plain": [
       "(27090, 2)"
      ]
     },
     "execution_count": 113,
     "metadata": {},
     "output_type": "execute_result"
    }
   ],
   "source": [
    "x_train, r_train, y_train = ds_train.values()\n",
    "r_train.shape"
   ]
  },
  {
   "cell_type": "code",
   "execution_count": 114,
   "metadata": {},
   "outputs": [
    {
     "data": {
      "text/plain": [
       "<AxesSubplot:>"
      ]
     },
     "execution_count": 114,
     "metadata": {},
     "output_type": "execute_result"
    },
    {
     "data": {
      "image/png": "[encoded data removed]",
      "text/plain": [
       "<Figure size 640x480 with 1 Axes>"
      ]
     },
     "metadata": {},
     "output_type": "display_data"
    }
   ],
   "source": [
    "pd.DataFrame(r_train).boxplot()"
   ]
  },
  {
   "cell_type": "code",
   "execution_count": 115,
   "metadata": {},
   "outputs": [
    {
     "data": {
      "text/plain": [
       "(84.32786885245812, 0.2768924302789901, 1.0125611883700758)"
      ]
     },
     "execution_count": 115,
     "metadata": {},
     "output_type": "execute_result"
    }
   ],
   "source": [
    "rr =  r_train.flatten()\n",
    "max(rr),min(rr),sum(rr)/len(rr) "
   ]
  },
  {
   "cell_type": "raw",
   "metadata": {},
   "source": [
    "#on cleaned\n",
    "for i in range(r_train.shape[1]):\n",
    "    cleaned_df =pd.DataFrame(r_train)\n",
    "    cleaned_df['Labels'] = y_train\n",
    "    cleaned_df=cleaned_df[cleaned_df['Labels'].isin(['N','A','V'])]\n",
    "    cleaned_df.boxplot(column=i,by='Labels')"
   ]
  },
  {
   "cell_type": "code",
   "execution_count": 116,
   "metadata": {},
   "outputs": [],
   "source": [
    "ix = dh.search_label(ds_train,'N')"
   ]
  },
  {
   "cell_type": "code",
   "execution_count": null,
   "metadata": {},
   "outputs": [],
   "source": []
  },
  {
   "cell_type": "code",
   "execution_count": 117,
   "metadata": {
    "colab": {
     "base_uri": "https://localhost:8080/"
    },
    "executionInfo": {
     "elapsed": 12,
     "status": "ok",
     "timestamp": 1629698737237,
     "user": {
      "displayName": "Sadegh Mohammadi",
      "photoUrl": "https://lh3.googleusercontent.com/a-/AOh14Gg1iSjGV7iV5kzZZOpCoWfb-aIlclvodBw_eT5JzA=s64",
      "userId": "02781745993139771132"
     },
     "user_tz": -270
    },
    "id": "zagl4yIHIHg4",
    "outputId": "3db07e3b-cc61-42d8-f67b-9f6542e087e0"
   },
   "outputs": [
    {
     "data": {
      "text/html": [
       "<div>\n",
       "<style scoped>\n",
       "    .dataframe tbody tr th:only-of-type {\n",
       "        vertical-align: middle;\n",
       "    }\n",
       "\n",
       "    .dataframe tbody tr th {\n",
       "        vertical-align: top;\n",
       "    }\n",
       "\n",
       "    .dataframe thead th {\n",
       "        text-align: right;\n",
       "    }\n",
       "</style>\n",
       "<table border=\"1\" class=\"dataframe\">\n",
       "  <thead>\n",
       "    <tr style=\"text-align: right;\">\n",
       "      <th></th>\n",
       "      <th>N</th>\n",
       "      <th>L</th>\n",
       "      <th>R</th>\n",
       "      <th>j</th>\n",
       "      <th>e</th>\n",
       "      <th>V</th>\n",
       "      <th>E</th>\n",
       "      <th>A</th>\n",
       "      <th>S</th>\n",
       "      <th>a</th>\n",
       "      <th>J</th>\n",
       "      <th>F</th>\n",
       "      <th>f</th>\n",
       "      <th>/</th>\n",
       "      <th>Q</th>\n",
       "    </tr>\n",
       "  </thead>\n",
       "  <tbody>\n",
       "    <tr>\n",
       "      <th>train</th>\n",
       "      <td>20200</td>\n",
       "      <td>1457</td>\n",
       "      <td>1592</td>\n",
       "      <td>14</td>\n",
       "      <td>16</td>\n",
       "      <td>2482</td>\n",
       "      <td>105</td>\n",
       "      <td>684</td>\n",
       "      <td>2</td>\n",
       "      <td>98</td>\n",
       "      <td>30</td>\n",
       "      <td>404</td>\n",
       "      <td>0</td>\n",
       "      <td>0</td>\n",
       "      <td>6</td>\n",
       "    </tr>\n",
       "    <tr>\n",
       "      <th>val</th>\n",
       "      <td>17562</td>\n",
       "      <td>2473</td>\n",
       "      <td>2149</td>\n",
       "      <td>1</td>\n",
       "      <td>0</td>\n",
       "      <td>1181</td>\n",
       "      <td>0</td>\n",
       "      <td>113</td>\n",
       "      <td>0</td>\n",
       "      <td>0</td>\n",
       "      <td>2</td>\n",
       "      <td>8</td>\n",
       "      <td>0</td>\n",
       "      <td>0</td>\n",
       "      <td>2</td>\n",
       "    </tr>\n",
       "  </tbody>\n",
       "</table>\n",
       "</div>"
      ],
      "text/plain": [
       "           N     L     R   j   e     V    E    A  S   a   J    F  f  /  Q\n",
       "train  20200  1457  1592  14  16  2482  105  684  2  98  30  404  0  0  6\n",
       "val    17562  2473  2149   1   0  1181    0  113  0   0   2    8  0  0  2"
      ]
     },
     "execution_count": 117,
     "metadata": {},
     "output_type": "execute_result"
    }
   ],
   "source": [
    "rp1 = dh.report_stats_table([y_train, y_val], ['train','val'])\n",
    "rp1 "
   ]
  },
  {
   "cell_type": "code",
   "execution_count": 118,
   "metadata": {},
   "outputs": [],
   "source": [
    "#slice data\n",
    "if CONFIG['sliced_targets'] is not None:\n",
    "    from pyecg.data_handling import slice_data\n",
    "    sliced_targets = CONFIG['sliced_targets']\n",
    "    ds_train = slice_data(ds_train, sliced_targets)\n",
    "    x_train, r_train, y_train = ds_train.values()\n",
    "    ds_val = slice_data(ds_val, sliced_targets)\n",
    "    x_val, r_val, y_val = ds_val.values()\n",
    "    rp2 = dh.report_stats_table([y_train, y_val], ['train','val'])\n",
    "    print(rp2)"
   ]
  },
  {
   "cell_type": "code",
   "execution_count": 119,
   "metadata": {},
   "outputs": [
    {
     "data": {
      "text/plain": [
       "(3.0571681682263936, -3.531306100843774, 0.05353817446333654)"
      ]
     },
     "execution_count": 119,
     "metadata": {},
     "output_type": "execute_result"
    }
   ],
   "source": [
    "#Normalization\n",
    "if CONFIG['normalization'] == 'zscore':\n",
    "    from sklearn.preprocessing import StandardScaler\n",
    "    standardscaler_x = StandardScaler()\n",
    "    x_train = standardscaler_x.fit_transform(x_train)\n",
    "    x_val = standardscaler_x.transform(x_val) \n",
    "    \n",
    "    standardscaler_r = StandardScaler()\n",
    "    r_train = standardscaler_r.fit_transform(r_train)\n",
    "    r_val = standardscaler_r.transform(r_val) \n",
    "\n",
    "if CONFIG['normalization'] == 'minmax':\n",
    "    from sklearn.preprocessing import MinMaxScaler\n",
    "    scaler_x = MinMaxScaler(feature_range=(-1,1)) \n",
    "    if len(x_train[0].shape)==1:\n",
    "        x_train = scaler_x.fit_transform(x_train)\n",
    "        x_val = scaler_x.transform(x_val)\n",
    "    elif len(x_train[0].shape)==2:\n",
    "        org_shape = x_train.shape\n",
    "        x_train = scaler_x.fit_transform(x_train.reshape((-1,1)))\n",
    "        x_train = x_train.reshape(org_shape)\n",
    "        org_shape = x_val.shape\n",
    "        x_val = scaler_x.transform(x_val.reshape((-1,1)))\n",
    "        x_val = x_val.reshape(org_shape)\n",
    "\n",
    "    scaler_r = MinMaxScaler(feature_range=(-1,1))\n",
    "    r_train = scaler_r.fit_transform(r_train)\n",
    "    r_val = scaler_r.transform(r_val)   \n",
    "\n",
    "if CONFIG['normalization'] == 'max':   \n",
    "    max_x_train = max(x_train.flatten())\n",
    "    x_train = x_train/max_x_train\n",
    "    x_val = x_val/max_x_train\n",
    "\n",
    "xx =  x_train.flatten()\n",
    "max(xx),min(xx),sum(xx)/len(xx)"
   ]
  },
  {
   "cell_type": "code",
   "execution_count": 120,
   "metadata": {},
   "outputs": [
    {
     "data": {
      "text/plain": [
       "(84.32786885245812, 0.2768924302789901, 1.0125611883700758)"
      ]
     },
     "execution_count": 120,
     "metadata": {},
     "output_type": "execute_result"
    }
   ],
   "source": [
    "rr =  r_train.flatten()\n",
    "max(rr),min(rr),sum(rr)/len(rr) "
   ]
  },
  {
   "cell_type": "code",
   "execution_count": 121,
   "metadata": {},
   "outputs": [
    {
     "data": {
      "text/plain": [
       "<AxesSubplot:>"
      ]
     },
     "execution_count": 121,
     "metadata": {},
     "output_type": "execute_result"
    },
    {
     "data": {
      "image/png": "[encoded data removed]",
      "text/plain": [
       "<Figure size 640x480 with 1 Axes>"
      ]
     },
     "metadata": {},
     "output_type": "display_data"
    }
   ],
   "source": [
    "#normalized\n",
    "pd.DataFrame(r_train).boxplot()"
   ]
  },
  {
   "cell_type": "raw",
   "metadata": {},
   "source": [
    "pd.DataFrame(r_train).describe()"
   ]
  },
  {
   "cell_type": "raw",
   "metadata": {},
   "source": [
    "#on cleaned\n",
    "for i in range(r_train.shape[1]):\n",
    "    cleaned_df =pd.DataFrame(r_train)\n",
    "    cleaned_df['Labels'] = y_train\n",
    "    cleaned_df=cleaned_df[cleaned_df['Labels'].isin(['N','A','V'])]\n",
    "    cleaned_df.boxplot(column=i,by='Labels')"
   ]
  },
  {
   "cell_type": "code",
   "execution_count": 122,
   "metadata": {},
   "outputs": [],
   "source": [
    "if CONFIG['AAMI']:\n",
    "    y_train = mapping_AAMI(y_train, MAP_AAMI)\n",
    "    y_val = mapping_AAMI(y_val, MAP_AAMI)"
   ]
  },
  {
   "cell_type": "code",
   "execution_count": 123,
   "metadata": {},
   "outputs": [
    {
     "name": "stdout",
     "output_type": "stream",
     "text": [
      "           N     L     R   j   e     V    E    A  S   a   J    F  f  /  Q\n",
      "train  20200  1457  1592  14  16  2482  105  684  2  98  30  404  0  0  6\n",
      "val    17562  2473  2149   1   0  1181    0  113  0   0   2    8  0  0  2\n"
     ]
    }
   ],
   "source": [
    "rp2 = dh.report_stats_table([y_train, y_val], ['train','val'])\n",
    "print(rp2) "
   ]
  },
  {
   "cell_type": "code",
   "execution_count": 124,
   "metadata": {},
   "outputs": [
    {
     "name": "stdout",
     "output_type": "stream",
     "text": [
      "           N     L     R   j   e     V    E    A  S   a   J    F  f  /  Q\n",
      "train  20200  1457  1592  14  16  2482  105  684  2  98  30  404  0  0  6\n",
      "val    17562  2473  2149   1   0  1181    0  113  0   0   2    8  0  0  2\n"
     ]
    }
   ],
   "source": [
    "#augment\n",
    "if CONFIG['augment']==True:\n",
    "    from pyecg.data_augmentation import aug_decrease,aug_increase\n",
    "    ds_train = aug_decrease(ds_train, label='N', desired_size = 12000)\n",
    "    ds_train = aug_increase(ds_train, desired_size = 12000)\n",
    "    x_train, r_train, y_train = ds_train.values()\n",
    "    \n",
    "rp2 = dh.report_stats_table([y_train, y_val], ['train','val'])\n",
    "print(rp2)"
   ]
  },
  {
   "cell_type": "raw",
   "metadata": {},
   "source": [
    "#val augment\n",
    "from pyecg.data_augmentation import aug_decrease,aug_increase\n",
    "ds_val = aug_decrease(ds_val, label='N', desired_size = 12000)\n",
    "ds_val = aug_increase(ds_val, desired_size = 12000)\n",
    "x_val, r_val, y_val = ds_val.values()\n",
    "\n",
    "rp2 = dh.report_stats_table([y_train, y_val], ['train','val'])\n",
    "print(rp2)"
   ]
  },
  {
   "cell_type": "code",
   "execution_count": 125,
   "metadata": {
    "executionInfo": {
     "elapsed": 9,
     "status": "ok",
     "timestamp": 1629698737237,
     "user": {
      "displayName": "Sadegh Mohammadi",
      "photoUrl": "https://lh3.googleusercontent.com/a-/AOh14Gg1iSjGV7iV5kzZZOpCoWfb-aIlclvodBw_eT5JzA=s64",
      "userId": "02781745993139771132"
     },
     "user_tz": -270
    },
    "id": "u4LWVBgkF1NI"
   },
   "outputs": [],
   "source": [
    "#convert labels to integers\n",
    "targets = np.unique(y_train).tolist()\n",
    "FINAL_MAP_DICT = {targets[i]:i for i in range(len(targets))}\n",
    "\n",
    "\n",
    "y_train = integer_mapping(y_train, FINAL_MAP_DICT)\n",
    "y_val = integer_mapping(y_val, FINAL_MAP_DICT)"
   ]
  },
  {
   "cell_type": "code",
   "execution_count": 126,
   "metadata": {},
   "outputs": [
    {
     "data": {
      "text/plain": [
       "(array([ 0,  1,  2,  3,  4,  5,  6,  7,  8,  9, 10, 11, 12]), (27090, 2))"
      ]
     },
     "execution_count": 126,
     "metadata": {},
     "output_type": "execute_result"
    }
   ],
   "source": [
    "np.unique(y_train), r_train.shape"
   ]
  },
  {
   "cell_type": "code",
   "execution_count": null,
   "metadata": {},
   "outputs": [],
   "source": []
  },
  {
   "cell_type": "markdown",
   "metadata": {
    "id": "phHl-9TqPAKo"
   },
   "source": [
    "# Train"
   ]
  },
  {
   "cell_type": "code",
   "execution_count": 127,
   "metadata": {},
   "outputs": [],
   "source": [
    "if CONFIG['model'] == 'conv2d':\n",
    "    from pyecg.models.conv2d_rr import model_arch\n",
    "elif CONFIG['model'] == 'conv1d':\n",
    "    from pyecg.models.beat_conv1D import model_arch\n",
    "elif CONFIG['model'] == 'anomaly_fcn':\n",
    "    from pyecg.models.anomaly_FCN import model_arch\n",
    "elif CONFIG['model'] == 'anomaly_conv1d':\n",
    "    from pyecg.models.anomaly_conv1d import model_arch\n",
    "elif CONFIG['model'] == 'anomaly_conv2d':\n",
    "    from pyecg.models.anomaly_conv2d import model_arch\n",
    "elif CONFIG['model'] == 'beat_model':\n",
    "    from pyecg.models.beat_model import model_arch\n",
    "elif CONFIG['model'] == 'beat_conv1d_rri_paral':\n",
    "    from pyecg.models.beat_conv1d_rri_paral import model_arch   "
   ]
  },
  {
   "cell_type": "code",
   "execution_count": 128,
   "metadata": {
    "colab": {
     "base_uri": "https://localhost:8080/"
    },
    "executionInfo": {
     "elapsed": 20,
     "status": "ok",
     "timestamp": 1627404457302,
     "user": {
      "displayName": "Sadegh Mohammadi",
      "photoUrl": "https://lh3.googleusercontent.com/a-/AOh14Gg1iSjGV7iV5kzZZOpCoWfb-aIlclvodBw_eT5JzA=s64",
      "userId": "02781745993139771132"
     },
     "user_tz": 420
    },
    "id": "aeVdtly2Y4Ek",
    "outputId": "083ca1b2-b93e-4cb6-b048-c28ae7f3a93f"
   },
   "outputs": [],
   "source": [
    "params_model = {\n",
    "    'x_input_dim' : np.squeeze(x_train[0].shape),\n",
    "    'r_input_dim':r_train.shape[-1],\n",
    "    'num_classes' : len(np.unique(y_train)),\n",
    "    'dim_latent' : 10,\n",
    "    'regularizer' : None\n",
    "}\n",
    "params_train = {\n",
    "    'batch_size' : 128,\n",
    "    'epochs' : 4\n",
    "} "
   ]
  },
  {
   "cell_type": "code",
   "execution_count": 129,
   "metadata": {},
   "outputs": [
    {
     "data": {
      "text/plain": [
       "{'x_input_dim': array(800),\n",
       " 'r_input_dim': 2,\n",
       " 'num_classes': 13,\n",
       " 'dim_latent': 10,\n",
       " 'regularizer': None}"
      ]
     },
     "execution_count": 129,
     "metadata": {},
     "output_type": "execute_result"
    }
   ],
   "source": [
    "params_model"
   ]
  },
  {
   "cell_type": "code",
   "execution_count": 130,
   "metadata": {
    "id": "6GRPAf4mzJ3q"
   },
   "outputs": [
    {
     "name": "stdout",
     "output_type": "stream",
     "text": [
      "block1:\n",
      "\n",
      "Layer: FLATTEN_10/RESHAPE:0 -->  Output shape: [None, 368]\n",
      "block2:\n",
      "\n",
      "Layer: FLATTEN_11/RESHAPE:0 -->  Output shape: [None, 384]\n",
      "block3:\n",
      "\n",
      "Layer: FLATTEN_12/RESHAPE:0 -->  Output shape: [None, 392]\n",
      "block4:\n",
      "\n",
      "Layer: FLATTEN_13/RESHAPE:0 -->  Output shape: [None, 396]\n",
      "block5:\n",
      "\n",
      "Layer: FLATTEN_14/RESHAPE:0 -->  Output shape: [None, 398]\n",
      "\n",
      "Layer: DROPOUT_21/IDENTITY:0 -->  Output shape: [None, 1938]\n",
      "\n",
      "Layer: DROPOUT_22/IDENTITY:0 -->  Output shape: [None, 512]\n",
      "\n",
      "Layer: DROPOUT_23/IDENTITY:0 -->  Output shape: [None, 12]\n",
      "Model: \"Model_Conv1d_RR\"\n",
      "__________________________________________________________________________________________________\n",
      " Layer (type)                   Output Shape         Param #     Connected to                     \n",
      "==================================================================================================\n",
      " x_input (InputLayer)           [(None, 800)]        0           []                               \n",
      "                                                                                                  \n",
      " tf.expand_dims_2 (TFOpLambda)  (None, 800, 1)       0           ['x_input[0][0]']                \n",
      "                                                                                                  \n",
      " batch_normalization_12 (BatchN  (None, 800, 1)      4           ['tf.expand_dims_2[0][0]']       \n",
      " ormalization)                                                                                    \n",
      "                                                                                                  \n",
      " conv1d_10 (Conv1D)             (None, 737, 2)       130         ['batch_normalization_12[0][0]'] \n",
      "                                                                                                  \n",
      " conv1d_11 (Conv1D)             (None, 769, 2)       66          ['batch_normalization_12[0][0]'] \n",
      "                                                                                                  \n",
      " conv1d_12 (Conv1D)             (None, 785, 2)       34          ['batch_normalization_12[0][0]'] \n",
      "                                                                                                  \n",
      " conv1d_13 (Conv1D)             (None, 793, 2)       18          ['batch_normalization_12[0][0]'] \n",
      "                                                                                                  \n",
      " conv1d_14 (Conv1D)             (None, 797, 2)       10          ['batch_normalization_12[0][0]'] \n",
      "                                                                                                  \n",
      " batch_normalization_13 (BatchN  (None, 737, 2)      8           ['conv1d_10[0][0]']              \n",
      " ormalization)                                                                                    \n",
      "                                                                                                  \n",
      " batch_normalization_14 (BatchN  (None, 769, 2)      8           ['conv1d_11[0][0]']              \n",
      " ormalization)                                                                                    \n",
      "                                                                                                  \n",
      " batch_normalization_15 (BatchN  (None, 785, 2)      8           ['conv1d_12[0][0]']              \n",
      " ormalization)                                                                                    \n",
      "                                                                                                  \n",
      " batch_normalization_16 (BatchN  (None, 793, 2)      8           ['conv1d_13[0][0]']              \n",
      " ormalization)                                                                                    \n",
      "                                                                                                  \n",
      " batch_normalization_17 (BatchN  (None, 797, 2)      8           ['conv1d_14[0][0]']              \n",
      " ormalization)                                                                                    \n",
      "                                                                                                  \n",
      " tf.nn.relu_10 (TFOpLambda)     (None, 737, 2)       0           ['batch_normalization_13[0][0]'] \n",
      "                                                                                                  \n",
      " tf.nn.relu_11 (TFOpLambda)     (None, 769, 2)       0           ['batch_normalization_14[0][0]'] \n",
      "                                                                                                  \n",
      " tf.nn.relu_12 (TFOpLambda)     (None, 785, 2)       0           ['batch_normalization_15[0][0]'] \n",
      "                                                                                                  \n",
      " tf.nn.relu_13 (TFOpLambda)     (None, 793, 2)       0           ['batch_normalization_16[0][0]'] \n",
      "                                                                                                  \n",
      " tf.nn.relu_14 (TFOpLambda)     (None, 797, 2)       0           ['batch_normalization_17[0][0]'] \n",
      "                                                                                                  \n",
      " dropout_16 (Dropout)           (None, 737, 2)       0           ['tf.nn.relu_10[0][0]']          \n",
      "                                                                                                  \n",
      " dropout_17 (Dropout)           (None, 769, 2)       0           ['tf.nn.relu_11[0][0]']          \n",
      "                                                                                                  \n",
      " dropout_18 (Dropout)           (None, 785, 2)       0           ['tf.nn.relu_12[0][0]']          \n",
      "                                                                                                  \n",
      " dropout_19 (Dropout)           (None, 793, 2)       0           ['tf.nn.relu_13[0][0]']          \n",
      "                                                                                                  \n",
      " dropout_20 (Dropout)           (None, 797, 2)       0           ['tf.nn.relu_14[0][0]']          \n",
      "                                                                                                  \n",
      " max_pooling1d_10 (MaxPooling1D  (None, 184, 2)      0           ['dropout_16[0][0]']             \n",
      " )                                                                                                \n",
      "                                                                                                  \n",
      " max_pooling1d_11 (MaxPooling1D  (None, 192, 2)      0           ['dropout_17[0][0]']             \n",
      " )                                                                                                \n",
      "                                                                                                  \n",
      " max_pooling1d_12 (MaxPooling1D  (None, 196, 2)      0           ['dropout_18[0][0]']             \n",
      " )                                                                                                \n",
      "                                                                                                  \n",
      " max_pooling1d_13 (MaxPooling1D  (None, 198, 2)      0           ['dropout_19[0][0]']             \n",
      " )                                                                                                \n",
      "                                                                                                  \n",
      " max_pooling1d_14 (MaxPooling1D  (None, 199, 2)      0           ['dropout_20[0][0]']             \n",
      " )                                                                                                \n",
      "                                                                                                  \n",
      " flatten_10 (Flatten)           (None, 368)          0           ['max_pooling1d_10[0][0]']       \n",
      "                                                                                                  \n",
      " flatten_11 (Flatten)           (None, 384)          0           ['max_pooling1d_11[0][0]']       \n",
      "                                                                                                  \n",
      " flatten_12 (Flatten)           (None, 392)          0           ['max_pooling1d_12[0][0]']       \n",
      "                                                                                                  \n",
      " flatten_13 (Flatten)           (None, 396)          0           ['max_pooling1d_13[0][0]']       \n",
      "                                                                                                  \n"
     ]
    },
    {
     "name": "stdout",
     "output_type": "stream",
     "text": [
      " flatten_14 (Flatten)           (None, 398)          0           ['max_pooling1d_14[0][0]']       \n",
      "                                                                                                  \n",
      " concatenate_4 (Concatenate)    (None, 1938)         0           ['flatten_10[0][0]',             \n",
      "                                                                  'flatten_11[0][0]',             \n",
      "                                                                  'flatten_12[0][0]',             \n",
      "                                                                  'flatten_13[0][0]',             \n",
      "                                                                  'flatten_14[0][0]']             \n",
      "                                                                                                  \n",
      " dropout_21 (Dropout)           (None, 1938)         0           ['concatenate_4[0][0]']          \n",
      "                                                                                                  \n",
      " dense_6 (Dense)                (None, 512)          992768      ['dropout_21[0][0]']             \n",
      "                                                                                                  \n",
      " dropout_22 (Dropout)           (None, 512)          0           ['dense_6[0][0]']                \n",
      "                                                                                                  \n",
      " dense_7 (Dense)                (None, 10)           5130        ['dropout_22[0][0]']             \n",
      "                                                                                                  \n",
      " r_input (InputLayer)           [(None, 2)]          0           []                               \n",
      "                                                                                                  \n",
      " concatenate_5 (Concatenate)    (None, 12)           0           ['dense_7[0][0]',                \n",
      "                                                                  'r_input[0][0]']                \n",
      "                                                                                                  \n",
      " dropout_23 (Dropout)           (None, 12)           0           ['concatenate_5[0][0]']          \n",
      "                                                                                                  \n",
      " dense_8 (Dense)                (None, 13)           169         ['dropout_23[0][0]']             \n",
      "                                                                                                  \n",
      "==================================================================================================\n",
      "Total params: 998,369\n",
      "Trainable params: 998,347\n",
      "Non-trainable params: 22\n",
      "__________________________________________________________________________________________________\n"
     ]
    }
   ],
   "source": [
    "mymodel = model_arch(params_model)   \n",
    "mymodel.summary()"
   ]
  },
  {
   "cell_type": "code",
   "execution_count": 131,
   "metadata": {},
   "outputs": [],
   "source": [
    "#%%capture\n",
    "#!pip install focal-loss\n",
    "#from focal_loss import SparseCategoricalFocalLoss"
   ]
  },
  {
   "cell_type": "code",
   "execution_count": 132,
   "metadata": {},
   "outputs": [],
   "source": [
    "def my_log_loss(y_true, y_pred):\n",
    "    squared_difference = tf.square(tf.math.log(y_true + 5) - tf.math.log(y_pred + 5))\n",
    "    return tf.reduce_mean(squared_difference, axis=-1) "
   ]
  },
  {
   "cell_type": "code",
   "execution_count": 133,
   "metadata": {
    "colab": {
     "base_uri": "https://localhost:8080/"
    },
    "executionInfo": {
     "elapsed": 1233321,
     "status": "ok",
     "timestamp": 1627405690992,
     "user": {
      "displayName": "Sadegh Mohammadi",
      "photoUrl": "https://lh3.googleusercontent.com/a-/AOh14Gg1iSjGV7iV5kzZZOpCoWfb-aIlclvodBw_eT5JzA=s64",
      "userId": "02781745993139771132"
     },
     "user_tz": 420
    },
    "id": "PgOFHNu4PJtp",
    "outputId": "236dca1b-962b-4a84-fa6a-339eb48f965f"
   },
   "outputs": [],
   "source": [
    "!rm -r /media/ubuntu/usbdata/ecg/checkpoint/keras.BEST\n",
    "\n",
    "opt= tf.keras.optimizers.Adam(learning_rate=0.001, beta_1=0.9, beta_2=0.999, epsilon=1e-07, name='Adam')\n",
    "#opt = tf.keras.optimizers.SGD(learning_rate=0.01, momentum=0.9)\n",
    "\n",
    "def get_loss(model_type):\n",
    "    if model_type == 'AE':\n",
    "        loss = \"mse\"\n",
    "        #loss = 'binary_crossentropy'\n",
    "        #loss='mean_squared_logarithmic_error'\n",
    "        #loss = my_log_loss\n",
    "        #loss = 'cosine_similarity'\n",
    "    elif model_type == 'CLF':\n",
    "        loss = \"sparse_categorical_crossentropy\"\n",
    "        #loss=SparseCategoricalFocalLoss(gamma=3)\n",
    "    return loss\n",
    "\n",
    "def get_metrics(model_type):\n",
    "    if model_type == 'AE':\n",
    "        metrics = None\n",
    "    elif model_type == 'CLF':\n",
    "        metrics = ['accuracy']\n",
    "    return metrics\n",
    "    \n",
    "\n",
    "mymodel.compile(\n",
    "              optimizer = opt,\n",
    "              loss = get_loss(CONFIG['model_type']),\n",
    "              metrics = get_metrics(CONFIG['model_type']),\n",
    "              loss_weights = None\n",
    "              )\n",
    "\n",
    "\n",
    "early_stopping = tf.keras.callbacks.EarlyStopping(monitor='val_loss', min_delta=0, patience=8, verbose=1)\n",
    "reduce_lr = tf.keras.callbacks.ReduceLROnPlateau(monitor='val_loss', factor=0.9, patience=5,\n",
    "                              verbose=1, mode='auto', min_delta=0.0001, cooldown=0, min_lr=0.0001)\n",
    "model_checkpoint = tf.keras.callbacks.ModelCheckpoint(BASEPATH + \"checkpoint/keras.BEST\",\n",
    "                                                      monitor='val_loss', save_best_only=True, verbose=1)\n",
    "import time\n",
    "batch_sleep = tf.keras.callbacks.LambdaCallback(on_batch_end=lambda batch,logs: time.sleep(.3))\n",
    "\n",
    "callbacks = [early_stopping, model_checkpoint, reduce_lr, batch_sleep]  \n",
    "#callbacks = [batch_sleep]  "
   ]
  },
  {
   "cell_type": "code",
   "execution_count": 134,
   "metadata": {},
   "outputs": [],
   "source": [
    "calc_class_weights(CONFIG['class_weight'], y_train)"
   ]
  },
  {
   "cell_type": "code",
   "execution_count": 135,
   "metadata": {},
   "outputs": [],
   "source": [
    "#model output\n",
    "if CONFIG['model_type'] == 'AE':\n",
    "    output_shape = mymodel.output_shape\n",
    "    if isinstance(output_shape,list) and len(output_shape) == 2:\n",
    "        y_train_ = [x_train,r_train]\n",
    "        y_val_ = [x_val,r_val]   \n",
    "    elif not isinstance(output_shape,list):\n",
    "        y_train_ = x_train\n",
    "        y_val_ = x_val \n",
    "else:\n",
    "    y_train_ = y_train \n",
    "    y_val_ = y_val \n",
    "\n",
    "#model input   \n",
    "input_shape = mymodel.input_shape\n",
    "if isinstance(input_shape,list) and len(input_shape) == 2:\n",
    "    x_train_ = {'x_input':x_train, 'r_input':r_train}\n",
    "    x_val_ = {'x_input':x_val, 'r_input':r_val}   \n",
    "elif not isinstance(input_shape,list): \n",
    "    x_train_ = x_train\n",
    "    x_val_ = x_val    \n",
    "    "
   ]
  },
  {
   "cell_type": "code",
   "execution_count": 136,
   "metadata": {},
   "outputs": [
    {
     "name": "stdout",
     "output_type": "stream",
     "text": [
      "Epoch 1/4\n",
      "212/212 [==============================] - ETA: 0s - loss: 0.8188 - accuracy: 0.7594\n",
      "Epoch 1: val_loss improved from inf to 1.44480, saving model to ../checkpoint/keras.BEST\n"
     ]
    },
    {
     "name": "stderr",
     "output_type": "stream",
     "text": [
      "WARNING:absl:Found untraced functions such as _jit_compiled_convolution_op, _jit_compiled_convolution_op, _jit_compiled_convolution_op, _jit_compiled_convolution_op, _jit_compiled_convolution_op while saving (showing 5 of 5). These functions will not be directly callable after loading.\n"
     ]
    },
    {
     "name": "stdout",
     "output_type": "stream",
     "text": [
      "212/212 [==============================] - 124s 567ms/step - loss: 0.8188 - accuracy: 0.7594 - val_loss: 1.4448 - val_accuracy: 0.6947 - lr: 0.0010\n",
      "Epoch 2/4\n",
      "212/212 [==============================] - ETA: 0s - loss: 0.3993 - accuracy: 0.8865\n",
      "Epoch 2: val_loss did not improve from 1.44480\n",
      "212/212 [==============================] - 114s 539ms/step - loss: 0.3993 - accuracy: 0.8865 - val_loss: 1.6558 - val_accuracy: 0.7078 - lr: 0.0010\n",
      "Epoch 3/4\n",
      "212/212 [==============================] - ETA: 0s - loss: 0.2686 - accuracy: 0.9222\n",
      "Epoch 3: val_loss did not improve from 1.44480\n",
      "212/212 [==============================] - 113s 534ms/step - loss: 0.2686 - accuracy: 0.9222 - val_loss: 1.4728 - val_accuracy: 0.7090 - lr: 0.0010\n",
      "Epoch 4/4\n",
      "212/212 [==============================] - ETA: 0s - loss: 0.2297 - accuracy: 0.9313\n",
      "Epoch 4: val_loss improved from 1.44480 to 1.41167, saving model to ../checkpoint/keras.BEST\n"
     ]
    },
    {
     "name": "stderr",
     "output_type": "stream",
     "text": [
      "WARNING:absl:Found untraced functions such as _jit_compiled_convolution_op, _jit_compiled_convolution_op, _jit_compiled_convolution_op, _jit_compiled_convolution_op, _jit_compiled_convolution_op while saving (showing 5 of 5). These functions will not be directly callable after loading.\n"
     ]
    },
    {
     "name": "stdout",
     "output_type": "stream",
     "text": [
      "212/212 [==============================] - 118s 558ms/step - loss: 0.2297 - accuracy: 0.9313 - val_loss: 1.4117 - val_accuracy: 0.7236 - lr: 0.0010\n",
      "CPU times: user 11min 7s, sys: 18.9 s, total: 11min 26s\n",
      "Wall time: 7min 50s\n"
     ]
    }
   ],
   "source": [
    "%%time\n",
    "\n",
    "#model fitting\n",
    "model_history = mymodel.fit(\n",
    "              x=x_train_,\n",
    "              y=y_train_,\n",
    "              batch_size=params_train['batch_size'],\n",
    "              epochs=params_train['epochs'],\n",
    "              verbose=1,\n",
    "              callbacks=callbacks,\n",
    "              validation_data=(x_val_, y_val_),\n",
    "              shuffle=True,\n",
    "              class_weight= calc_class_weights(CONFIG['class_weight'], y_train),    #None,\n",
    "              sample_weight=None,\n",
    "              initial_epoch=0\n",
    "              )"
   ]
  },
  {
   "cell_type": "raw",
   "metadata": {},
   "source": [
    "#save model\n",
    "mymodel.save(BASEPATH+'saved_models/mymodel')"
   ]
  },
  {
   "cell_type": "code",
   "execution_count": 138,
   "metadata": {
    "colab": {
     "base_uri": "https://localhost:8080/",
     "height": 295
    },
    "executionInfo": {
     "elapsed": 51231,
     "status": "ok",
     "timestamp": 1627405742205,
     "user": {
      "displayName": "Sadegh Mohammadi",
      "photoUrl": "https://lh3.googleusercontent.com/a-/AOh14Gg1iSjGV7iV5kzZZOpCoWfb-aIlclvodBw_eT5JzA=s64",
      "userId": "02781745993139771132"
     },
     "user_tz": 420
    },
    "id": "kmoNvLfz8ER8",
    "outputId": "f37679c8-f142-4eac-db2a-d77ce342222c"
   },
   "outputs": [
    {
     "data": {
      "image/png": "[encoded data removed]",
      "text/plain": [
       "<Figure size 640x480 with 1 Axes>"
      ]
     },
     "metadata": {},
     "output_type": "display_data"
    }
   ],
   "source": [
    "plot_loss(model_history) "
   ]
  },
  {
   "cell_type": "markdown",
   "metadata": {
    "id": "e6QEha8ryTbH"
   },
   "source": [
    "import pickle\n",
    "with open(BASEPATH+'history/EXP1.hist', 'wb') as f:\n",
    "  pickle.dump(model_history.history, f)"
   ]
  },
  {
   "cell_type": "markdown",
   "metadata": {
    "colab": {
     "base_uri": "https://localhost:8080/"
    },
    "executionInfo": {
     "elapsed": 9,
     "status": "ok",
     "timestamp": 1627405742207,
     "user": {
      "displayName": "Sadegh Mohammadi",
      "photoUrl": "https://lh3.googleusercontent.com/a-/AOh14Gg1iSjGV7iV5kzZZOpCoWfb-aIlclvodBw_eT5JzA=s64",
      "userId": "02781745993139771132"
     },
     "user_tz": 420
    },
    "id": "FU-pzf53kFev",
    "outputId": "4f683089-2e9a-4f42-d5a8-0da547f615da"
   },
   "source": [
    "a =model_history.history\n",
    "min(a['val_loss']), a['val_loss'].index(min(a['val_loss']))"
   ]
  },
  {
   "cell_type": "markdown",
   "metadata": {
    "id": "DQkAk3O5iaOY"
   },
   "source": [
    "# Loading Model"
   ]
  },
  {
   "cell_type": "code",
   "execution_count": 150,
   "metadata": {
    "colab": {
     "base_uri": "https://localhost:8080/",
     "height": 35
    },
    "executionInfo": {
     "elapsed": 2918,
     "status": "ok",
     "timestamp": 1629698740148,
     "user": {
      "displayName": "Sadegh Mohammadi",
      "photoUrl": "https://lh3.googleusercontent.com/a-/AOh14Gg1iSjGV7iV5kzZZOpCoWfb-aIlclvodBw_eT5JzA=s64",
      "userId": "02781745993139771132"
     },
     "user_tz": -270
    },
    "id": "8C8axIoViOLm",
    "outputId": "f208a8a6-59ca-4387-e5fa-5b867bfc48d9"
   },
   "outputs": [
    {
     "data": {
      "text/plain": [
       "'Model_Conv1d_RR'"
      ]
     },
     "execution_count": 150,
     "metadata": {},
     "output_type": "execute_result"
    }
   ],
   "source": [
    "loaded_model = tf.keras.models.load_model(BASEPATH+'checkpoint/keras.BEST')\n",
    "#mymodel = tf.keras.models.load_model(BASEPATH+'saved_models/mymodel')\n",
    "#loaded_model = mymodel\n",
    "loaded_model.name\n",
    "#loaded_model.summary()"
   ]
  },
  {
   "cell_type": "code",
   "execution_count": 151,
   "metadata": {},
   "outputs": [
    {
     "name": "stdout",
     "output_type": "stream",
     "text": [
      "file loaded: ../data/test.beat\n",
      "shape of \"waveforms\" is (49272, 800)\n",
      "shape of \"beat_feats\" is (49272, 2)\n",
      "shape of \"labels\" is (49272,)\n",
      "               N     L     R    j  e     V  E     A  S   a   J    F  f  /  Q\n",
      "test.beat  36118  4089  3441  213  0  3194  1  1720  0  50  51  388  0  0  7\n"
     ]
    }
   ],
   "source": [
    "#Load Preprocessed Test Set\n",
    "dh = DataHandling(base_path='../data')\n",
    "if CONFIG['dataset'] == 'raw':\n",
    "    ds_test = dh.load_data(file_name = 'test.beat')\n",
    "    ds_test = clean_inf_nan(ds_test)\n",
    "    x_test, r_test, y_test = ds_test.values()   \n",
    "    \n",
    "elif CONFIG['dataset'] == 'stft':\n",
    "    ds_test = dh.load_data(file_name = 'DS2_stft.dat')\n",
    "    x_test, y_test, r_test = ds_test.values() "
   ]
  },
  {
   "cell_type": "code",
   "execution_count": 152,
   "metadata": {},
   "outputs": [],
   "source": [
    "#slice test data\n",
    "if CONFIG['sliced_targets'] != None and params_model['num_classes']>1:\n",
    "    from pyecg.data_handling import slice_data\n",
    "    sliced_targets = CONFIG['sliced_targets']\n",
    "    ds_test = slice_data(ds_test, sliced_targets)\n",
    "    x_test, r_test, y_test = ds_test.values() "
   ]
  },
  {
   "cell_type": "code",
   "execution_count": 153,
   "metadata": {},
   "outputs": [
    {
     "data": {
      "text/html": [
       "<div>\n",
       "<style scoped>\n",
       "    .dataframe tbody tr th:only-of-type {\n",
       "        vertical-align: middle;\n",
       "    }\n",
       "\n",
       "    .dataframe tbody tr th {\n",
       "        vertical-align: top;\n",
       "    }\n",
       "\n",
       "    .dataframe thead th {\n",
       "        text-align: right;\n",
       "    }\n",
       "</style>\n",
       "<table border=\"1\" class=\"dataframe\">\n",
       "  <thead>\n",
       "    <tr style=\"text-align: right;\">\n",
       "      <th></th>\n",
       "      <th>N</th>\n",
       "      <th>L</th>\n",
       "      <th>R</th>\n",
       "      <th>j</th>\n",
       "      <th>e</th>\n",
       "      <th>V</th>\n",
       "      <th>E</th>\n",
       "      <th>A</th>\n",
       "      <th>S</th>\n",
       "      <th>a</th>\n",
       "      <th>J</th>\n",
       "      <th>F</th>\n",
       "      <th>f</th>\n",
       "      <th>/</th>\n",
       "      <th>Q</th>\n",
       "    </tr>\n",
       "  </thead>\n",
       "  <tbody>\n",
       "    <tr>\n",
       "      <th>test</th>\n",
       "      <td>36118</td>\n",
       "      <td>4089</td>\n",
       "      <td>3441</td>\n",
       "      <td>213</td>\n",
       "      <td>0</td>\n",
       "      <td>3194</td>\n",
       "      <td>1</td>\n",
       "      <td>1720</td>\n",
       "      <td>0</td>\n",
       "      <td>50</td>\n",
       "      <td>51</td>\n",
       "      <td>388</td>\n",
       "      <td>0</td>\n",
       "      <td>0</td>\n",
       "      <td>7</td>\n",
       "    </tr>\n",
       "  </tbody>\n",
       "</table>\n",
       "</div>"
      ],
      "text/plain": [
       "          N     L     R    j  e     V  E     A  S   a   J    F  f  /  Q\n",
       "test  36118  4089  3441  213  0  3194  1  1720  0  50  51  388  0  0  7"
      ]
     },
     "execution_count": 153,
     "metadata": {},
     "output_type": "execute_result"
    }
   ],
   "source": [
    "rp2 = dh.report_stats_table([y_test], ['test'])\n",
    "rp2"
   ]
  },
  {
   "cell_type": "code",
   "execution_count": 154,
   "metadata": {},
   "outputs": [],
   "source": [
    "y_true = y_test.copy()\n",
    "\n",
    "if CONFIG['AAMI']:\n",
    "    y_true = mapping_AAMI(y_true, MAP_AAMI)"
   ]
  },
  {
   "cell_type": "code",
   "execution_count": 155,
   "metadata": {},
   "outputs": [],
   "source": [
    "if CONFIG['normalization'] == 'zscore':\n",
    "    x_test = standardscaler_x.transform(x_test) \n",
    "    r_test = standardscaler_r.transform(r_test) \n",
    "\n",
    "if CONFIG['normalization'] == 'minmax':\n",
    "    x_test = scaler_x.transform(x_test)\n",
    "    r_test = scaler_r.transform(r_test)\n",
    "    \n",
    "if CONFIG['normalization'] == 'max':   \n",
    "    x_test = x_test/max_x_train"
   ]
  },
  {
   "cell_type": "code",
   "execution_count": 156,
   "metadata": {},
   "outputs": [],
   "source": [
    "if isinstance(input_shape,list) and len(input_shape) == 2:\n",
    "    x_test = {'x_input':x_test, 'r_input':r_test}\n",
    "    "
   ]
  },
  {
   "cell_type": "code",
   "execution_count": 157,
   "metadata": {
    "colab": {
     "base_uri": "https://localhost:8080/"
    },
    "executionInfo": {
     "elapsed": 3048,
     "status": "ok",
     "timestamp": 1629698743191,
     "user": {
      "displayName": "Sadegh Mohammadi",
      "photoUrl": "https://lh3.googleusercontent.com/a-/AOh14Gg1iSjGV7iV5kzZZOpCoWfb-aIlclvodBw_eT5JzA=s64",
      "userId": "02781745993139771132"
     },
     "user_tz": -270
    },
    "id": "xORFdEMo2CO2",
    "outputId": "732cf26e-a689-4c4c-d163-df6b6a16c078"
   },
   "outputs": [
    {
     "name": "stderr",
     "output_type": "stream",
     "text": [
      "2022-06-03 16:44:01.462251: W tensorflow/core/framework/cpu_allocator_impl.cc:82] Allocation of 157670400 exceeds 10% of free system memory.\n"
     ]
    },
    {
     "name": "stdout",
     "output_type": "stream",
     "text": [
      "1540/1540 [==============================] - 25s 16ms/step\n",
      "CPU times: user 1min 4s, sys: 1.41 s, total: 1min 5s\n",
      "Wall time: 25.7 s\n"
     ]
    },
    {
     "data": {
      "text/plain": [
       "(49272, 13)"
      ]
     },
     "execution_count": 157,
     "metadata": {},
     "output_type": "execute_result"
    }
   ],
   "source": [
    "%%time\n",
    "y_pred_p = loaded_model.predict(x_test)\n",
    "y_pred_p.shape"
   ]
  },
  {
   "cell_type": "code",
   "execution_count": 158,
   "metadata": {},
   "outputs": [],
   "source": [
    "def apply_uncertainty(probabilities, true, thr = 0.98):\n",
    "    prop_max = np.max(probabilities,axis=1)\n",
    "    probs = probabilities[np.where(prop_max>thr)[0]]\n",
    "    y_true = true[np.where(prop_max>thr)[0]]\n",
    "    return probs,y_true"
   ]
  },
  {
   "cell_type": "code",
   "execution_count": 159,
   "metadata": {},
   "outputs": [
    {
     "name": "stdout",
     "output_type": "stream",
     "text": [
      "            N     L     R    j  e     V    E     A  S   a   J    F  f  /  Q\n",
      "y_pred  43509     1   316    0  0  4952  131   230  0   0   0  133  0  0  0\n",
      "y_true  36118  4089  3441  213  0  3194    1  1720  0  50  51  388  0  0  7\n"
     ]
    },
    {
     "name": "stderr",
     "output_type": "stream",
     "text": [
      "/media/ubuntu/usbdata/ecg/ecgenv/lib/python3.10/site-packages/sklearn/metrics/_classification.py:1327: UndefinedMetricWarning: Precision and F-score are ill-defined and being set to 0.0 in labels with no predicted samples. Use `zero_division` parameter to control this behavior.\n",
      "  _warn_prf(average, modifier, msg_start, len(result))\n",
      "/media/ubuntu/usbdata/ecg/ecgenv/lib/python3.10/site-packages/sklearn/metrics/_classification.py:1327: UndefinedMetricWarning: Precision and F-score are ill-defined and being set to 0.0 in labels with no predicted samples. Use `zero_division` parameter to control this behavior.\n",
      "  _warn_prf(average, modifier, msg_start, len(result))\n",
      "/media/ubuntu/usbdata/ecg/ecgenv/lib/python3.10/site-packages/sklearn/metrics/_classification.py:1327: UndefinedMetricWarning: Precision and F-score are ill-defined and being set to 0.0 in labels with no predicted samples. Use `zero_division` parameter to control this behavior.\n",
      "  _warn_prf(average, modifier, msg_start, len(result))\n"
     ]
    },
    {
     "name": "stdout",
     "output_type": "stream",
     "text": [
      "              precision    recall  f1-score   support\n",
      "\n",
      "           A     0.1348    0.0180    0.0318      1720\n",
      "           E     0.0000    0.0000    0.0000         1\n",
      "           F     0.5714    0.1959    0.2917       388\n",
      "           J     0.0000    0.0000    0.0000        51\n",
      "           L     0.0000    0.0000    0.0000      4089\n",
      "           N     0.7840    0.9444    0.8567     36118\n",
      "           Q     0.0000    0.0000    0.0000         7\n",
      "           R     0.0475    0.0044    0.0080      3441\n",
      "           V     0.5810    0.9008    0.7064      3194\n",
      "           a     0.0000    0.0000    0.0000        50\n",
      "           j     0.0000    0.0000    0.0000       213\n",
      "\n",
      "    accuracy                         0.7531     49272\n",
      "   macro avg     0.1926    0.1876    0.1722     49272\n",
      "weighted avg     0.6249    0.7531    0.6778     49272\n",
      "\n",
      "[[   31     0     0     0     0  1669     0     0    20     0     0]\n",
      " [    0     0     0     0     0     1     0     0     0     0     0]\n",
      " [    0     0    76     0     0   270     0     0    42     0     0]\n",
      " [    0     0     0     0     0    51     0     0     0     0     0]\n",
      " [    1   125     3     0     0  3577     0    63   320     0     0]\n",
      " [  158     1     9     0     1 34110     0   201  1638     0     0]\n",
      " [    0     0     0     0     0     3     0     2     2     0     0]\n",
      " [    0     0     0     0     0  3381     0    15    45     0     0]\n",
      " [   29     5    45     0     0   209     0    29  2877     0     0]\n",
      " [   11     0     0     0     0    31     0     0     8     0     0]\n",
      " [    0     0     0     0     0   207     0     6     0     0     0]]\n"
     ]
    }
   ],
   "source": [
    "if CONFIG['model_type'] == 'CLF':\n",
    "    y_pred = integer_mapping(list(y_pred_p.argmax(axis=-1)), FINAL_MAP_DICT, inverse=True)\n",
    "    dh = DataHandling() \n",
    "    rp2 = dh.report_stats_table([y_pred, y_true], ['y_pred','y_true'])\n",
    "    print(rp2)\n",
    "    labels = [k for k,v in INT_MAP_DICT.items()]\n",
    "    report = Reports(y_true=y_true, y_pred=y_pred, labels=labels)\n",
    "    normalize = None\n",
    "    #report.plot_confusion_matrix(normalize=normalize, values_format='')\n",
    "    print(report.the_classification_report())\n",
    "    #report.metrics_table() \n",
    "    from sklearn.metrics import confusion_matrix, classification_report\n",
    "    print(confusion_matrix(y_true, y_pred)) "
   ]
  },
  {
   "cell_type": "code",
   "execution_count": 160,
   "metadata": {},
   "outputs": [
    {
     "name": "stdout",
     "output_type": "stream",
     "text": [
      "            N    L     R   j  e     V  E   A  S  a   J   F  f  /  Q\n",
      "y_pred  18192    0     0   0  0  1571  0   0  0  0   0   0  0  0  0\n",
      "y_true  15827  531  1713  14  0  1588  1  37  0  2  11  35  0  0  4\n",
      "              precision    recall  f1-score   support\n",
      "\n",
      "           A     0.0000    0.0000    0.0000        37\n",
      "           E     0.0000    0.0000    0.0000         1\n",
      "           F     0.0000    0.0000    0.0000        35\n",
      "           J     0.0000    0.0000    0.0000        11\n",
      "           L     0.0000    0.0000    0.0000       531\n",
      "           N     0.8696    0.9996    0.9301     15827\n",
      "           Q     0.0000    0.0000    0.0000         4\n",
      "           R     0.0000    0.0000    0.0000      1713\n",
      "           V     0.9936    0.9830    0.9883      1588\n",
      "           a     0.0000    0.0000    0.0000         2\n",
      "           j     0.0000    0.0000    0.0000        14\n",
      "\n",
      "    accuracy                         0.8795     19763\n",
      "   macro avg     0.1694    0.1802    0.1744     19763\n",
      "weighted avg     0.7763    0.8795    0.8242     19763\n",
      "\n",
      "[[    0     0     0     0     0    37     0     0     0     0     0]\n",
      " [    0     0     0     0     0     1     0     0     0     0     0]\n",
      " [    0     0     0     0     0    33     0     0     2     0     0]\n",
      " [    0     0     0     0     0    11     0     0     0     0     0]\n",
      " [    0     0     0     0     0   531     0     0     0     0     0]\n",
      " [    0     0     0     0     0 15820     0     0     7     0     0]\n",
      " [    0     0     0     0     0     3     0     0     1     0     0]\n",
      " [    0     0     0     0     0  1713     0     0     0     0     0]\n",
      " [    0     0     0     0     0    27     0     0  1561     0     0]\n",
      " [    0     0     0     0     0     2     0     0     0     0     0]\n",
      " [    0     0     0     0     0    14     0     0     0     0     0]]\n"
     ]
    },
    {
     "name": "stderr",
     "output_type": "stream",
     "text": [
      "/media/ubuntu/usbdata/ecg/ecgenv/lib/python3.10/site-packages/sklearn/metrics/_classification.py:1327: UndefinedMetricWarning: Precision and F-score are ill-defined and being set to 0.0 in labels with no predicted samples. Use `zero_division` parameter to control this behavior.\n",
      "  _warn_prf(average, modifier, msg_start, len(result))\n",
      "/media/ubuntu/usbdata/ecg/ecgenv/lib/python3.10/site-packages/sklearn/metrics/_classification.py:1327: UndefinedMetricWarning: Precision and F-score are ill-defined and being set to 0.0 in labels with no predicted samples. Use `zero_division` parameter to control this behavior.\n",
      "  _warn_prf(average, modifier, msg_start, len(result))\n",
      "/media/ubuntu/usbdata/ecg/ecgenv/lib/python3.10/site-packages/sklearn/metrics/_classification.py:1327: UndefinedMetricWarning: Precision and F-score are ill-defined and being set to 0.0 in labels with no predicted samples. Use `zero_division` parameter to control this behavior.\n",
      "  _warn_prf(average, modifier, msg_start, len(result))\n"
     ]
    }
   ],
   "source": [
    "if CONFIG['model_type'] == 'CLF':\n",
    "    #apply uncertainty\n",
    "    y_pred_p, y_true = apply_uncertainty(y_pred_p,y_true, thr = 0.99)\n",
    "    \n",
    "    y_pred = integer_mapping(list(y_pred_p.argmax(axis=-1)), FINAL_MAP_DICT, inverse=True)\n",
    "    dh = DataHandling() \n",
    "    rp2 = dh.report_stats_table([y_pred, y_true], ['y_pred','y_true'])\n",
    "    print(rp2)\n",
    "    labels = [k for k,v in INT_MAP_DICT.items()]\n",
    "    report = Reports(y_true=y_true, y_pred=y_pred, labels=labels)\n",
    "    normalize = None\n",
    "    #report.plot_confusion_matrix(normalize=normalize, values_format='')\n",
    "    print(report.the_classification_report())\n",
    "    #report.metrics_table() \n",
    "    from sklearn.metrics import confusion_matrix, classification_report\n",
    "    print(confusion_matrix(y_true, y_pred)) "
   ]
  },
  {
   "cell_type": "code",
   "execution_count": 92,
   "metadata": {},
   "outputs": [
    {
     "data": {
      "text/plain": [
       "{'A': 0,\n",
       " 'F': 1,\n",
       " 'J': 2,\n",
       " 'L': 3,\n",
       " 'N': 4,\n",
       " 'Q': 5,\n",
       " 'R': 6,\n",
       " 'S': 7,\n",
       " 'V': 8,\n",
       " 'a': 9,\n",
       " 'e': 10,\n",
       " 'j': 11}"
      ]
     },
     "execution_count": 92,
     "metadata": {},
     "output_type": "execute_result"
    }
   ],
   "source": [
    "FINAL_MAP_DICT"
   ]
  },
  {
   "cell_type": "code",
   "execution_count": 93,
   "metadata": {},
   "outputs": [
    {
     "name": "stdout",
     "output_type": "stream",
     "text": [
      "8/8 [==============================] - 0s 12ms/step\n"
     ]
    },
    {
     "data": {
      "text/plain": [
       "array([[2.9631322e-03, 3.8409428e-04, 1.6792435e-03, ..., 2.1111974e-04,\n",
       "        6.9163673e-07, 1.2419335e-05],\n",
       "       [7.9539955e-02, 3.3953149e-02, 7.8643724e-02, ..., 4.8527386e-02,\n",
       "        6.7490581e-03, 9.7260186e-03],\n",
       "       [4.7626399e-02, 2.5371868e-02, 7.2344825e-02, ..., 2.9505324e-02,\n",
       "        7.2534783e-03, 1.0670590e-02],\n",
       "       ...,\n",
       "       [7.3895186e-02, 4.0490884e-02, 7.3230170e-02, ..., 4.4945680e-02,\n",
       "        8.9346031e-03, 1.2000818e-02],\n",
       "       [6.4469799e-02, 2.7226204e-02, 4.8375651e-02, ..., 2.6413709e-02,\n",
       "        2.3066287e-03, 4.9149692e-03],\n",
       "       [5.1018585e-02, 1.7277660e-02, 3.2758687e-02, ..., 1.6374908e-02,\n",
       "        7.9654146e-04, 2.3008040e-03]], dtype=float32)"
      ]
     },
     "execution_count": 93,
     "metadata": {},
     "output_type": "execute_result"
    }
   ],
   "source": [
    "#uncertainty\n",
    "from pyecg.data_handling import slice_data\n",
    "sliced_targets = {'A':0}\n",
    "ds_test_c = slice_data(ds_test, sliced_targets)\n",
    "x_test, r_test, y_test = ds_test_c.values()\n",
    "if isinstance(input_shape,list) and len(input_shape) == 2:\n",
    "    x_test = {'x_input':x_test, 'r_input':r_test}\n",
    "y_pred_p = loaded_model.predict(x_test)\n",
    "y_pred_p"
   ]
  },
  {
   "cell_type": "code",
   "execution_count": 94,
   "metadata": {},
   "outputs": [
    {
     "data": {
      "text/plain": [
       "(250, 12)"
      ]
     },
     "execution_count": 94,
     "metadata": {},
     "output_type": "execute_result"
    }
   ],
   "source": [
    "y_pred_p.shape"
   ]
  },
  {
   "cell_type": "code",
   "execution_count": 95,
   "metadata": {},
   "outputs": [],
   "source": [
    "prop_max = np.max(y_pred_p,axis=1)"
   ]
  },
  {
   "cell_type": "code",
   "execution_count": 96,
   "metadata": {},
   "outputs": [
    {
     "data": {
      "text/plain": [
       "(array([ 2., 10., 14., 26., 90., 17., 15., 16., 20., 40.]),\n",
       " array([0.27363515, 0.34621915, 0.4188032 , 0.4913872 , 0.5639712 ,\n",
       "        0.6365552 , 0.7091392 , 0.78172326, 0.8543073 , 0.92689127,\n",
       "        0.9994753 ], dtype=float32),\n",
       " <BarContainer object of 10 artists>)"
      ]
     },
     "execution_count": 96,
     "metadata": {},
     "output_type": "execute_result"
    },
    {
     "data": {
      "image/png": "[encoded data removed]",
      "text/plain": [
       "<Figure size 640x480 with 1 Axes>"
      ]
     },
     "metadata": {},
     "output_type": "display_data"
    }
   ],
   "source": [
    "plt.hist(prop_max) "
   ]
  },
  {
   "cell_type": "code",
   "execution_count": 97,
   "metadata": {},
   "outputs": [
    {
     "data": {
      "text/plain": [
       "(47,)"
      ]
     },
     "execution_count": 97,
     "metadata": {},
     "output_type": "execute_result"
    }
   ],
   "source": [
    "np.where(prop_max>0.9)[0].shape"
   ]
  },
  {
   "cell_type": "code",
   "execution_count": 98,
   "metadata": {},
   "outputs": [
    {
     "data": {
      "text/plain": [
       "(250,)"
      ]
     },
     "execution_count": 98,
     "metadata": {},
     "output_type": "execute_result"
    }
   ],
   "source": [
    "prop_max.shape"
   ]
  },
  {
   "cell_type": "code",
   "execution_count": 99,
   "metadata": {},
   "outputs": [
    {
     "data": {
      "text/plain": [
       "(47,)"
      ]
     },
     "execution_count": 99,
     "metadata": {},
     "output_type": "execute_result"
    }
   ],
   "source": [
    "prop_max[np.where(prop_max>0.9)[0]].shape"
   ]
  },
  {
   "cell_type": "code",
   "execution_count": null,
   "metadata": {},
   "outputs": [],
   "source": []
  }
 ],
 "metadata": {
  "colab": {
   "authorship_tag": "ABX9TyO5mdlokQ62wz4XipxYXZ75",
   "collapsed_sections": [],
   "mount_file_id": "1fzJdm7C34G_Kjk8wdz1l7I3yEPqs5Glq",
   "name": "ecARR2--modelM1_ab2(model-6).ipynb",
   "provenance": [
    {
     "file_id": "1YaU60VHIf7MwsqXX51ZtF5BRCyR_e1Wg",
     "timestamp": 1627403996239
    },
    {
     "file_id": "133QOje8skPCCjNXcjrUaHu9X-8ZUftwA",
     "timestamp": 1627396655995
    },
    {
     "file_id": "1aFoa8_DXOWB5SeAlcqk_JWGiXoBdQ_FN",
     "timestamp": 1626525095859
    },
    {
     "file_id": "1fkYTddhxNyw8p4vm0sjN00AKjYW7tzGg",
     "timestamp": 1626338627875
    },
    {
     "file_id": "1QHiJsRztLO38ZAqf5m2-lg2EEBSJu54_",
     "timestamp": 1626271867171
    },
    {
     "file_id": "1OanqZQe6Z-s__bgCMsU4E5NwZ4GlkKAb",
     "timestamp": 1626260810890
    },
    {
     "file_id": "1ajoUnxS_-KBUO0E3qP5vMK4xhguXHB8J",
     "timestamp": 1626256396609
    },
    {
     "file_id": "1BEORilBHH51WD3__8FNn9cqtdpnOOjBs",
     "timestamp": 1626254594644
    },
    {
     "file_id": "1GCc_iQ_3eCvevL4SjeY4keTIOOphyA10",
     "timestamp": 1626200488415
    },
    {
     "file_id": "1TVGoEmRhXcnrJjQ-uwY2uYNgZtutXkG7",
     "timestamp": 1626197059796
    },
    {
     "file_id": "1epbcXpaFZQRGyY_8cIREkID0jixJrSMb",
     "timestamp": 1626171676267
    },
    {
     "file_id": "1WkhnRvK7gXEIpJr4pzZn7K1NevHif6E3",
     "timestamp": 1625594198161
    },
    {
     "file_id": "169yA24spslJbJOdPx218P863AhHPaozi",
     "timestamp": 1625576664712
    },
    {
     "file_id": "1WIbdDF5DzCSO_VNWwYa_KDyVyMsRUQlb",
     "timestamp": 1624949937104
    },
    {
     "file_id": "10VRsJX9k8kIVR7KsOaJJXzy9BXEcV4oZ",
     "timestamp": 1624787399733
    }
   ]
  },
  "kernelspec": {
   "display_name": "Python 3 (ipykernel)",
   "language": "python",
   "name": "python3"
  },
  "language_info": {
   "codemirror_mode": {
    "name": "ipython",
    "version": 3
   },
   "file_extension": ".py",
   "mimetype": "text/x-python",
   "name": "python",
   "nbconvert_exporter": "python",
   "pygments_lexer": "ipython3",
   "version": "3.10.4"
  }
 },
 "nbformat": 4,
 "nbformat_minor": 1
}
