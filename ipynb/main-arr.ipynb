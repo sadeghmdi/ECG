{
 "cells": [
  {
   "cell_type": "code",
   "execution_count": 1,
   "metadata": {
    "executionInfo": {
     "elapsed": 9798,
     "status": "ok",
     "timestamp": 1629698724230,
     "user": {
      "displayName": "Sadegh Mohammadi",
      "photoUrl": "https://lh3.googleusercontent.com/a-/AOh14Gg1iSjGV7iV5kzZZOpCoWfb-aIlclvodBw_eT5JzA=s64",
      "userId": "02781745993139771132"
     },
     "user_tz": -270
    },
    "id": "E9pJ0y9MaIlB"
   },
   "outputs": [
    {
     "name": "stderr",
     "output_type": "stream",
     "text": [
      "2022-04-20 07:01:35.763928: W tensorflow/stream_executor/platform/default/dso_loader.cc:64] Could not load dynamic library 'libcudart.so.11.0'; dlerror: libcudart.so.11.0: cannot open shared object file: No such file or directory\n",
      "2022-04-20 07:01:35.763954: I tensorflow/stream_executor/cuda/cudart_stub.cc:29] Ignore above cudart dlerror if you do not have a GPU set up on your machine.\n",
      "2022-04-20 07:01:37.401467: W tensorflow/stream_executor/platform/default/dso_loader.cc:64] Could not load dynamic library 'libcuda.so.1'; dlerror: libcuda.so.1: cannot open shared object file: No such file or directory\n",
      "2022-04-20 07:01:37.401489: W tensorflow/stream_executor/cuda/cuda_driver.cc:269] failed call to cuInit: UNKNOWN ERROR (303)\n",
      "2022-04-20 07:01:37.401506: I tensorflow/stream_executor/cuda/cuda_diagnostics.cc:156] kernel driver does not appear to be running on this host (mypc-zen): /proc/driver/nvidia/version does not exist\n",
      "2022-04-20 07:01:37.401659: I tensorflow/core/platform/cpu_feature_guard.cc:151] This TensorFlow binary is optimized with oneAPI Deep Neural Network Library (oneDNN) to use the following CPU instructions in performance-critical operations:  AVX2 FMA\n",
      "To enable them in other operations, rebuild TensorFlow with the appropriate compiler flags.\n"
     ]
    }
   ],
   "source": [
    "%%capture\n",
    "BASEPATH = '../'\n",
    "import sys\n",
    "sys.path.insert(0,'..')\n",
    "\n",
    "import numpy as np\n",
    "import os\n",
    "import tensorflow as tf\n",
    "import pandas as pd\n",
    "import matplotlib.pyplot as plt\n",
    "from sklearn.metrics import confusion_matrix, classification_report\n",
    "from pyecg.utils import reset_seed, plot_spectogram, plot_loss, load_data\n",
    "from pyecg.utils import calc_class_weights\n",
    "from pyecg.data_info import *\n",
    "from pyecg.data_handling import DataHandling\n",
    "from pyecg.report import Reports\n",
    "from pyecg.data_preprocessing import clean_inf_nan,clean_IQR\n",
    "from pyecg.utils import sig_similarity_report,sig_similarity_hist\n",
    "from pyecg.data_handling import slice_data\n",
    "from pyecg.data_arrhythmia import *\n",
    "\n",
    "\n",
    "reset_seed() "
   ]
  },
  {
   "cell_type": "markdown",
   "metadata": {},
   "source": [
    "# Proto"
   ]
  },
  {
   "cell_type": "code",
   "execution_count": 2,
   "metadata": {},
   "outputs": [],
   "source": [
    "datasets = {1:'raw_arr'}\n",
    "models = {1:'conv1d_arr'}\n",
    "\n",
    "CONFIG = {}\n",
    "CONFIG['dataset'] = datasets[1]\n",
    "CONFIG['model'] = models[1]\n",
    "CONFIG['model_type'] = 'CLF' #CLF or AE\n",
    "CONFIG['augment'] = False \n",
    "CONFIG['sliced_targets'] = None #{'N':0} #None  #{'N':0,'A':1}\n",
    "CONFIG['AAMI'] = False \n",
    "CONFIG['class_weight'] = False \n",
    "CONFIG['normalization'] = None      #'zscore' 'minmax' , None, 'max' "
   ]
  },
  {
   "cell_type": "markdown",
   "metadata": {},
   "source": [
    "# Data"
   ]
  },
  {
   "cell_type": "code",
   "execution_count": 3,
   "metadata": {},
   "outputs": [
    {
     "name": "stdout",
     "output_type": "stream",
     "text": [
      "File loaded: ../data/train.arr\n"
     ]
    }
   ],
   "source": [
    "#Load data\n",
    "if CONFIG['dataset'] == 'raw_arr':\n",
    "    annotated_records, samples_info = load_data(file_path = '../data/train.arr')"
   ]
  },
  {
   "cell_type": "code",
   "execution_count": 4,
   "metadata": {},
   "outputs": [
    {
     "data": {
      "text/plain": [
       "10800"
      ]
     },
     "execution_count": 4,
     "metadata": {},
     "output_type": "execute_result"
    }
   ],
   "source": [
    "samples_info[0][2]-samples_info[0][1]  #win size"
   ]
  },
  {
   "cell_type": "code",
   "execution_count": 5,
   "metadata": {},
   "outputs": [
    {
     "data": {
      "text/plain": [
       "(array(['(AB', '(AFIB', '(AFL', '(B', '(BII', '(N', '(SBR'], dtype='<U5'),\n",
       " array([   211,  26343,    736,   1438,   3093, 143157,   9986]))"
      ]
     },
     "execution_count": 5,
     "metadata": {},
     "output_type": "execute_result"
    }
   ],
   "source": [
    "labels=[]\n",
    "for sample in samples_info:\n",
    "    labels.append(sample[3])\n",
    "len(labels)\n",
    "np.unique(labels,return_counts=True)"
   ]
  },
  {
   "cell_type": "code",
   "execution_count": 6,
   "metadata": {},
   "outputs": [
    {
     "data": {
      "text/plain": [
       "169500"
      ]
     },
     "execution_count": 6,
     "metadata": {},
     "output_type": "execute_result"
    }
   ],
   "source": [
    "cleaned = []\n",
    "for sample in samples_info:\n",
    "    if sample[3] in ['(AFIB','(N']:\n",
    "        cleaned.append(sample)\n",
    "samples_info = cleaned  \n",
    "len(samples_info)"
   ]
  },
  {
   "cell_type": "code",
   "execution_count": 7,
   "metadata": {},
   "outputs": [
    {
     "data": {
      "text/plain": [
       "169500"
      ]
     },
     "execution_count": 7,
     "metadata": {},
     "output_type": "execute_result"
    }
   ],
   "source": [
    "labels=[]\n",
    "for sample in samples_info:\n",
    "    labels.append(sample[3])\n",
    "len(labels)"
   ]
  },
  {
   "cell_type": "code",
   "execution_count": 8,
   "metadata": {},
   "outputs": [
    {
     "data": {
      "text/plain": [
       "['(AFIB', '(N']"
      ]
     },
     "execution_count": 8,
     "metadata": {},
     "output_type": "execute_result"
    }
   ],
   "source": [
    "class_labels = list(np.unique(labels))\n",
    "class_labels"
   ]
  },
  {
   "cell_type": "code",
   "execution_count": 9,
   "metadata": {},
   "outputs": [
    {
     "data": {
      "text/plain": [
       "650000"
      ]
     },
     "execution_count": 9,
     "metadata": {},
     "output_type": "execute_result"
    }
   ],
   "source": [
    "len(annotated_records[0]['signal']) #signal length"
   ]
  },
  {
   "cell_type": "code",
   "execution_count": 10,
   "metadata": {},
   "outputs": [],
   "source": [
    "labels=[]\n",
    "s=[]\n",
    "c=0\n",
    "for sample in samples_info:\n",
    "    c += 1\n",
    "    if sample[3] == '(N' and bool(c%5): #20\n",
    "        continue\n",
    "    labels.append(sample[3])\n",
    "    s.append(sample)\n",
    "len(s)\n",
    "samples_info = s"
   ]
  },
  {
   "cell_type": "code",
   "execution_count": 11,
   "metadata": {},
   "outputs": [
    {
     "data": {
      "text/plain": [
       "(array(['(AFIB', '(N'], dtype='<U5'), array([26343, 28631]))"
      ]
     },
     "execution_count": 11,
     "metadata": {},
     "output_type": "execute_result"
    }
   ],
   "source": [
    "np.unique(labels,return_counts=True)"
   ]
  },
  {
   "cell_type": "code",
   "execution_count": null,
   "metadata": {},
   "outputs": [],
   "source": []
  },
  {
   "cell_type": "markdown",
   "metadata": {
    "id": "phHl-9TqPAKo"
   },
   "source": [
    "# Train"
   ]
  },
  {
   "cell_type": "code",
   "execution_count": 12,
   "metadata": {},
   "outputs": [],
   "source": [
    "if CONFIG['model'] == 'conv1d_arr':\n",
    "    from pyecg.models.conv1d_arr import model_arch"
   ]
  },
  {
   "cell_type": "code",
   "execution_count": 13,
   "metadata": {
    "colab": {
     "base_uri": "https://localhost:8080/"
    },
    "executionInfo": {
     "elapsed": 20,
     "status": "ok",
     "timestamp": 1627404457302,
     "user": {
      "displayName": "Sadegh Mohammadi",
      "photoUrl": "https://lh3.googleusercontent.com/a-/AOh14Gg1iSjGV7iV5kzZZOpCoWfb-aIlclvodBw_eT5JzA=s64",
      "userId": "02781745993139771132"
     },
     "user_tz": 420
    },
    "id": "aeVdtly2Y4Ek",
    "outputId": "083ca1b2-b93e-4cb6-b048-c28ae7f3a93f"
   },
   "outputs": [],
   "source": [
    "params_model = {\n",
    "    'x_input_dim' : samples_info[0][2]-samples_info[0][1],  #win size\n",
    "    'num_classes' : len(np.unique(labels)),\n",
    "    'regularizer' : None\n",
    "}\n",
    "params_train = {\n",
    "    'batch_size' : 256,\n",
    "    'epochs' : 1\n",
    "} "
   ]
  },
  {
   "cell_type": "code",
   "execution_count": 14,
   "metadata": {
    "id": "6GRPAf4mzJ3q"
   },
   "outputs": [
    {
     "name": "stdout",
     "output_type": "stream",
     "text": [
      "\n",
      "Layer: BATCH_NORMALIZATION/BATCHNORM/ADD_1:0 -->  Output shape: [None, 9, 1]\n",
      "\n",
      "Layer: DROPOUT/IDENTITY:0 -->  Output shape: [None, 2048]\n",
      "\n",
      "Layer: DROPOUT_1/IDENTITY:0 -->  Output shape: [None, 512]\n",
      "\n",
      "Layer: DENSE_2/RELU:0 -->  Output shape: [None, 256]\n",
      "\n",
      "Layer: DENSE_3/SOFTMAX:0 -->  Output shape: [None, 2]\n"
     ]
    }
   ],
   "source": [
    "mymodel = model_arch(params_model)                                          "
   ]
  },
  {
   "cell_type": "code",
   "execution_count": 15,
   "metadata": {},
   "outputs": [
    {
     "name": "stdout",
     "output_type": "stream",
     "text": [
      "Model: \"Model_Conv1d_ARR\"\n",
      "__________________________________________________________________________________________________\n",
      " Layer (type)                   Output Shape         Param #     Connected to                     \n",
      "==================================================================================================\n",
      " input_rri_feats (InputLayer)   [(None, 9)]          0           []                               \n",
      "                                                                                                  \n",
      " tf.expand_dims (TFOpLambda)    (None, 9, 1)         0           ['input_rri_feats[0][0]']        \n",
      "                                                                                                  \n",
      " batch_normalization (BatchNorm  (None, 9, 1)        4           ['tf.expand_dims[0][0]']         \n",
      " alization)                                                                                       \n",
      "                                                                                                  \n",
      " flatten (Flatten)              (None, 9)            0           ['batch_normalization[0][0]']    \n",
      "                                                                                                  \n",
      " dense (Dense)                  (None, 2048)         20480       ['flatten[0][0]']                \n",
      "                                                                                                  \n",
      " dropout (Dropout)              (None, 2048)         0           ['dense[0][0]']                  \n",
      "                                                                                                  \n",
      " dense_1 (Dense)                (None, 512)          1049088     ['dropout[0][0]']                \n",
      "                                                                                                  \n",
      " dropout_1 (Dropout)            (None, 512)          0           ['dense_1[0][0]']                \n",
      "                                                                                                  \n",
      " dense_2 (Dense)                (None, 256)          131328      ['dropout_1[0][0]']              \n",
      "                                                                                                  \n",
      " dropout_2 (Dropout)            (None, 256)          0           ['dense_2[0][0]']                \n",
      "                                                                                                  \n",
      " input_waveform (InputLayer)    [(None, 10800)]      0           []                               \n",
      "                                                                                                  \n",
      " input_rri (InputLayer)         [(None, 20)]         0           []                               \n",
      "                                                                                                  \n",
      " dense_3 (Dense)                (None, 2)            514         ['dropout_2[0][0]']              \n",
      "                                                                                                  \n",
      "==================================================================================================\n",
      "Total params: 1,201,414\n",
      "Trainable params: 1,201,412\n",
      "Non-trainable params: 2\n",
      "__________________________________________________________________________________________________\n"
     ]
    }
   ],
   "source": [
    "mymodel.summary()"
   ]
  },
  {
   "cell_type": "code",
   "execution_count": 16,
   "metadata": {},
   "outputs": [],
   "source": [
    "#%%capture\n",
    "#!pip install focal-loss\n",
    "#from focal_loss import SparseCategoricalFocalLoss"
   ]
  },
  {
   "cell_type": "code",
   "execution_count": 17,
   "metadata": {},
   "outputs": [],
   "source": [
    "def my_log_loss(y_true, y_pred):\n",
    "    squared_difference = tf.square(tf.math.log(y_true + 5) - tf.math.log(y_pred + 5))\n",
    "    return tf.reduce_mean(squared_difference, axis=-1) "
   ]
  },
  {
   "cell_type": "code",
   "execution_count": 18,
   "metadata": {
    "colab": {
     "base_uri": "https://localhost:8080/"
    },
    "executionInfo": {
     "elapsed": 1233321,
     "status": "ok",
     "timestamp": 1627405690992,
     "user": {
      "displayName": "Sadegh Mohammadi",
      "photoUrl": "https://lh3.googleusercontent.com/a-/AOh14Gg1iSjGV7iV5kzZZOpCoWfb-aIlclvodBw_eT5JzA=s64",
      "userId": "02781745993139771132"
     },
     "user_tz": 420
    },
    "id": "PgOFHNu4PJtp",
    "outputId": "236dca1b-962b-4a84-fa6a-339eb48f965f"
   },
   "outputs": [
    {
     "name": "stdout",
     "output_type": "stream",
     "text": [
      "rm: cannot remove '/media/mypc/STORAGE1/codes/heartbeat/checkpoint/keras.EXP1': No such file or directory\r\n"
     ]
    }
   ],
   "source": [
    "!rm -r /media/mypc/STORAGE1/codes/heartbeat/checkpoint/keras.EXP1\n",
    "\n",
    "opt= tf.keras.optimizers.Adam(learning_rate=0.003, beta_1=0.9, beta_2=0.999, epsilon=1e-07, name='Adam')\n",
    "#opt = tf.keras.optimizers.SGD(learning_rate=0.01, momentum=0.9)\n",
    "\n",
    "def get_loss(model_type):\n",
    "    if model_type == 'AE':\n",
    "        loss = \"mse\"\n",
    "        #loss = 'binary_crossentropy'\n",
    "        #loss='mean_squared_logarithmic_error'\n",
    "        #loss = my_log_loss\n",
    "        #loss = 'cosine_similarity'\n",
    "    else:\n",
    "        loss = \"sparse_categorical_crossentropy\"\n",
    "        #loss=SparseCategoricalFocalLoss(gamma=3)\n",
    "    return loss\n",
    "\n",
    "def get_metrics(model_type):\n",
    "    if model_type == 'AE':\n",
    "        metrics = None\n",
    "    else:\n",
    "        metrics = ['accuracy']\n",
    "    return metrics\n",
    "    \n",
    "\n",
    "mymodel.compile(\n",
    "              optimizer = opt,\n",
    "              loss = get_loss(CONFIG['model_type']),\n",
    "              metrics = get_metrics(CONFIG['model_type']),\n",
    "              loss_weights = None,\n",
    "              run_eagerly = False\n",
    "              )\n",
    "\n",
    "\n",
    "early_stopping = tf.keras.callbacks.EarlyStopping(monitor='val_loss', min_delta=0, patience=8, verbose=1)\n",
    "reduce_lr = tf.keras.callbacks.ReduceLROnPlateau(monitor='val_loss', factor=0.9, patience=5,\n",
    "                              verbose=1, mode='auto', min_delta=0.0001, cooldown=0, min_lr=0.0001)\n",
    "model_checkpoint = tf.keras.callbacks.ModelCheckpoint(BASEPATH + \"checkpoint/keras.EXP1\",\n",
    "                                                      monitor='val_loss', save_best_only=True, verbose=1)\n",
    "import time\n",
    "batch_sleep = tf.keras.callbacks.LambdaCallback(on_batch_end=lambda batch,logs: time.sleep(0.5))\n",
    "\n",
    "callbacks = [early_stopping, model_checkpoint, reduce_lr, batch_sleep]  \n",
    "callbacks = [batch_sleep]  "
   ]
  },
  {
   "cell_type": "code",
   "execution_count": 19,
   "metadata": {},
   "outputs": [
    {
     "data": {
      "text/plain": [
       "['(AFIB', '(N']"
      ]
     },
     "execution_count": 19,
     "metadata": {},
     "output_type": "execute_result"
    }
   ],
   "source": [
    "class_labels"
   ]
  },
  {
   "cell_type": "code",
   "execution_count": 20,
   "metadata": {},
   "outputs": [],
   "source": [
    "train_generator = ECGSequence(annotated_records, samples_info, class_labels,\n",
    "                              batch_size=params_train['batch_size'])"
   ]
  },
  {
   "cell_type": "code",
   "execution_count": 21,
   "metadata": {},
   "outputs": [
    {
     "data": {
      "text/plain": [
       "array([1.1381945e+03, 1.4752034e+02, 1.1555555e+03, 5.3333331e+02,\n",
       "       1.2960908e-01, 1.0624803e+02, 1.0662166e+02, 9.3676135e-02,\n",
       "       1.0000000e+02], dtype=float32)"
      ]
     },
     "execution_count": 21,
     "metadata": {},
     "output_type": "execute_result"
    }
   ],
   "source": [
    "train_generator.__getitem__(0)[0][2][9]"
   ]
  },
  {
   "cell_type": "code",
   "execution_count": 49,
   "metadata": {},
   "outputs": [
    {
     "name": "stderr",
     "output_type": "stream",
     "text": [
      "<timed exec>:2: UserWarning: `Model.fit_generator` is deprecated and will be removed in a future version. Please use `Model.fit`, which supports generators.\n"
     ]
    },
    {
     "name": "stdout",
     "output_type": "stream",
     "text": [
      "215/215 [==============================] - 127s 587ms/step - loss: 0.1754 - accuracy: 0.9268\n",
      "CPU times: user 2min 4s, sys: 42.2 s, total: 2min 46s\n",
      "Wall time: 2min 7s\n"
     ]
    }
   ],
   "source": [
    "%%time\n",
    "\n",
    "#model fitting\n",
    "model_history = mymodel.fit_generator(generator=train_generator,\n",
    "                                    #validation_data=validation_generator,\n",
    "                                    use_multiprocessing=True,\n",
    "                                    #workers=2,\n",
    "                                    epochs=params_train['epochs'],\n",
    "                                    verbose=1,\n",
    "                                    callbacks=callbacks\n",
    "                                     )\n"
   ]
  },
  {
   "cell_type": "raw",
   "metadata": {},
   "source": [
    "#save model\n",
    "mymodel.save(BASEPATH+'saved_models/mymodel.af')"
   ]
  },
  {
   "cell_type": "code",
   "execution_count": 50,
   "metadata": {
    "colab": {
     "base_uri": "https://localhost:8080/",
     "height": 295
    },
    "executionInfo": {
     "elapsed": 51231,
     "status": "ok",
     "timestamp": 1627405742205,
     "user": {
      "displayName": "Sadegh Mohammadi",
      "photoUrl": "https://lh3.googleusercontent.com/a-/AOh14Gg1iSjGV7iV5kzZZOpCoWfb-aIlclvodBw_eT5JzA=s64",
      "userId": "02781745993139771132"
     },
     "user_tz": 420
    },
    "id": "kmoNvLfz8ER8",
    "outputId": "f37679c8-f142-4eac-db2a-d77ce342222c"
   },
   "outputs": [],
   "source": [
    "#plot_loss(model_history) "
   ]
  },
  {
   "cell_type": "markdown",
   "metadata": {
    "id": "e6QEha8ryTbH"
   },
   "source": [
    "import pickle\n",
    "with open(BASEPATH+'history/EXP1.hist', 'wb') as f:\n",
    "  pickle.dump(model_history.history, f)"
   ]
  },
  {
   "cell_type": "markdown",
   "metadata": {
    "colab": {
     "base_uri": "https://localhost:8080/"
    },
    "executionInfo": {
     "elapsed": 9,
     "status": "ok",
     "timestamp": 1627405742207,
     "user": {
      "displayName": "Sadegh Mohammadi",
      "photoUrl": "https://lh3.googleusercontent.com/a-/AOh14Gg1iSjGV7iV5kzZZOpCoWfb-aIlclvodBw_eT5JzA=s64",
      "userId": "02781745993139771132"
     },
     "user_tz": 420
    },
    "id": "FU-pzf53kFev",
    "outputId": "4f683089-2e9a-4f42-d5a8-0da547f615da"
   },
   "source": [
    "a =model_history.history\n",
    "min(a['val_loss']), a['val_loss'].index(min(a['val_loss']))"
   ]
  },
  {
   "cell_type": "markdown",
   "metadata": {
    "id": "DQkAk3O5iaOY"
   },
   "source": [
    "# Loading Model"
   ]
  },
  {
   "cell_type": "code",
   "execution_count": 51,
   "metadata": {
    "colab": {
     "base_uri": "https://localhost:8080/",
     "height": 35
    },
    "executionInfo": {
     "elapsed": 2918,
     "status": "ok",
     "timestamp": 1629698740148,
     "user": {
      "displayName": "Sadegh Mohammadi",
      "photoUrl": "https://lh3.googleusercontent.com/a-/AOh14Gg1iSjGV7iV5kzZZOpCoWfb-aIlclvodBw_eT5JzA=s64",
      "userId": "02781745993139771132"
     },
     "user_tz": -270
    },
    "id": "8C8axIoViOLm",
    "outputId": "f208a8a6-59ca-4387-e5fa-5b867bfc48d9"
   },
   "outputs": [
    {
     "data": {
      "text/plain": [
       "'Model_Conv1d_ARR'"
      ]
     },
     "execution_count": 51,
     "metadata": {},
     "output_type": "execute_result"
    }
   ],
   "source": [
    "#loaded_model = tf.keras.models.load_model(BASEPATH+'checkpoint/keras.EXP1')\n",
    "#mymodel = tf.keras.models.load_model(BASEPATH+'saved_models/mymodel.af')\n",
    "loaded_model = mymodel\n",
    "loaded_model.name \n",
    "#loaded_model.summary() "
   ]
  },
  {
   "cell_type": "code",
   "execution_count": 60,
   "metadata": {},
   "outputs": [
    {
     "name": "stdout",
     "output_type": "stream",
     "text": [
      "File loaded: ../data/test.arr\n"
     ]
    }
   ],
   "source": [
    "#Load Test Set\n",
    "#Load data\n",
    "if CONFIG['dataset'] == 'raw_arr': \n",
    "    annotated_records_test, samples_info_test = load_data(file_path = '../data/test.arr')"
   ]
  },
  {
   "cell_type": "code",
   "execution_count": 61,
   "metadata": {},
   "outputs": [
    {
     "data": {
      "text/plain": [
       "2139"
      ]
     },
     "execution_count": 61,
     "metadata": {},
     "output_type": "execute_result"
    }
   ],
   "source": [
    "len(samples_info_test)"
   ]
  },
  {
   "cell_type": "code",
   "execution_count": 62,
   "metadata": {},
   "outputs": [
    {
     "data": {
      "text/plain": [
       "2056"
      ]
     },
     "execution_count": 62,
     "metadata": {},
     "output_type": "execute_result"
    }
   ],
   "source": [
    "cleaned = []\n",
    "for sample in samples_info_test:\n",
    "    if sample[3] in class_labels:\n",
    "        cleaned.append(sample)\n",
    "samples_info_test = cleaned  \n",
    "len(samples_info_test)"
   ]
  },
  {
   "cell_type": "code",
   "execution_count": 63,
   "metadata": {},
   "outputs": [
    {
     "data": {
      "text/plain": [
       "(array(['(AFIB', '(N'], dtype='<U5'), array([  98, 1958]))"
      ]
     },
     "execution_count": 63,
     "metadata": {},
     "output_type": "execute_result"
    }
   ],
   "source": [
    "labels=[]\n",
    "for sample in samples_info_test:\n",
    "    labels.append(sample[3])\n",
    "len(labels)\n",
    "\n",
    "np.unique(labels,return_counts=True)"
   ]
  },
  {
   "cell_type": "raw",
   "metadata": {},
   "source": [
    "labels=[]\n",
    "s=[]\n",
    "c=0\n",
    "for sample in samples_info_test:\n",
    "    c += 1\n",
    "    if bool(c%20): #20\n",
    "        continue\n",
    "    labels.append(sample[3])\n",
    "    s.append(sample)\n",
    "len(s)\n",
    "samples_info_test = s"
   ]
  },
  {
   "cell_type": "code",
   "execution_count": 64,
   "metadata": {},
   "outputs": [
    {
     "data": {
      "text/plain": [
       "(array(['(AFIB', '(N'], dtype='<U5'), array([  98, 1958]))"
      ]
     },
     "execution_count": 64,
     "metadata": {},
     "output_type": "execute_result"
    }
   ],
   "source": [
    "labels=[]\n",
    "for sample in samples_info_test:\n",
    "    labels.append(sample[3])\n",
    "len(labels)\n",
    "\n",
    "np.unique(labels,return_counts=True)"
   ]
  },
  {
   "cell_type": "code",
   "execution_count": 65,
   "metadata": {},
   "outputs": [],
   "source": [
    "batch_size=128\n",
    "test_generator = ECGSequence(annotated_records_test, samples_info_test, class_labels,\n",
    "                              batch_size=batch_size) "
   ]
  },
  {
   "cell_type": "code",
   "execution_count": 66,
   "metadata": {},
   "outputs": [
    {
     "name": "stderr",
     "output_type": "stream",
     "text": [
      "/tmp/ipykernel_11175/4183120069.py:8: UserWarning: `Model.predict_generator` is deprecated and will be removed in a future version. Please use `Model.predict`, which supports generators.\n",
      "  probs = loaded_model.predict_generator(samples[0])\n"
     ]
    }
   ],
   "source": [
    "labels_true=[]\n",
    "labels_pred = []\n",
    "all_samples = []\n",
    "for i in range(round(len(samples_info_test)/batch_size)): \n",
    "    samples = test_generator.__getitem__(i)\n",
    "    \n",
    "    labels_true.extend(samples[1])\n",
    "    probs = loaded_model.predict_generator(samples[0])\n",
    "    labels_pred.extend(list(np.argmax(probs,axis=1)))\n",
    "    \n",
    "    all_samples.extend((samples[0][0]).tolist())\n",
    "assert len(labels_true) == len(labels_pred)"
   ]
  },
  {
   "cell_type": "code",
   "execution_count": 67,
   "metadata": {},
   "outputs": [
    {
     "name": "stdout",
     "output_type": "stream",
     "text": [
      "              precision    recall  f1-score   support\n",
      "\n",
      "           0       0.27      0.83      0.41        98\n",
      "           1       0.99      0.89      0.94      1950\n",
      "\n",
      "    accuracy                           0.88      2048\n",
      "   macro avg       0.63      0.86      0.67      2048\n",
      "weighted avg       0.96      0.88      0.91      2048\n",
      "\n",
      "[[  81   17]\n",
      " [ 220 1730]]\n"
     ]
    }
   ],
   "source": [
    "if CONFIG['model_type'] == 'CLF':\n",
    "    from sklearn.metrics import confusion_matrix, classification_report\n",
    "    print(classification_report(labels_true, labels_pred))\n",
    "    print(confusion_matrix(labels_true, labels_pred)) "
   ]
  },
  {
   "cell_type": "code",
   "execution_count": null,
   "metadata": {},
   "outputs": [],
   "source": []
  },
  {
   "cell_type": "code",
   "execution_count": null,
   "metadata": {},
   "outputs": [],
   "source": []
  },
  {
   "cell_type": "code",
   "execution_count": null,
   "metadata": {},
   "outputs": [],
   "source": []
  },
  {
   "cell_type": "code",
   "execution_count": null,
   "metadata": {},
   "outputs": [],
   "source": []
  },
  {
   "cell_type": "code",
   "execution_count": 33,
   "metadata": {},
   "outputs": [],
   "source": [
    "#check which? ectopic"
   ]
  },
  {
   "cell_type": "code",
   "execution_count": 34,
   "metadata": {},
   "outputs": [],
   "source": [
    "ix_pred0 = np.where(np.array(labels_pred)==0)[0]\n",
    "ix_tru0 = np.where(np.array(labels_true)==0)[0]"
   ]
  },
  {
   "cell_type": "code",
   "execution_count": 35,
   "metadata": {},
   "outputs": [
    {
     "data": {
      "text/plain": [
       "array([  19,   36,   41,   45,   50,  104,  107,  116,  148,  149,  157,\n",
       "        185,  250,  261,  265,  319,  331,  357,  367,  402,  428,  429,\n",
       "        441,  485,  523,  617,  643,  711,  714,  716,  720,  733,  754,\n",
       "        756,  791,  800,  802,  838,  881,  892,  894,  906,  915,  929,\n",
       "        937,  972,  978,  980, 1002, 1014, 1022, 1047, 1055, 1069, 1072,\n",
       "       1109, 1121, 1128, 1132, 1142, 1152, 1159, 1264, 1294, 1319, 1354,\n",
       "       1363, 1388, 1396, 1410, 1443, 1464, 1479, 1485, 1508, 1524, 1527,\n",
       "       1558, 1562, 1642, 1659, 1671, 1684, 1699, 1705, 1712, 1732, 1739,\n",
       "       1751, 1804, 1805, 1822, 1827, 1839, 1854, 1857, 1875, 1905])"
      ]
     },
     "execution_count": 35,
     "metadata": {},
     "output_type": "execute_result"
    }
   ],
   "source": [
    "ix_tru0"
   ]
  },
  {
   "cell_type": "code",
   "execution_count": 36,
   "metadata": {},
   "outputs": [
    {
     "data": {
      "text/plain": [
       "(280, 98)"
      ]
     },
     "execution_count": 36,
     "metadata": {},
     "output_type": "execute_result"
    }
   ],
   "source": [
    "len(ix_pred0),len(ix_tru0)"
   ]
  },
  {
   "cell_type": "code",
   "execution_count": 37,
   "metadata": {},
   "outputs": [
    {
     "data": {
      "text/plain": [
       "185"
      ]
     },
     "execution_count": 37,
     "metadata": {},
     "output_type": "execute_result"
    }
   ],
   "source": [
    "dif = list(set(ix_pred0)-set(ix_tru0))\n",
    "len(dif)"
   ]
  },
  {
   "cell_type": "code",
   "execution_count": 38,
   "metadata": {},
   "outputs": [
    {
     "data": {
      "text/plain": [
       "[1537,\n",
       " 8,\n",
       " 524,\n",
       " 525,\n",
       " 529,\n",
       " 535,\n",
       " 26,\n",
       " 1053,\n",
       " 541,\n",
       " 1054,\n",
       " 34,\n",
       " 549,\n",
       " 40,\n",
       " 554,\n",
       " 46,\n",
       " 1582,\n",
       " 53,\n",
       " 55,\n",
       " 1081,\n",
       " 61,\n",
       " 1602,\n",
       " 579,\n",
       " 581,\n",
       " 70,\n",
       " 1095,\n",
       " 73,\n",
       " 586,\n",
       " 1099,\n",
       " 76,\n",
       " 591,\n",
       " 1104,\n",
       " 85,\n",
       " 599,\n",
       " 603,\n",
       " 95,\n",
       " 1631,\n",
       " 99,\n",
       " 613,\n",
       " 1637,\n",
       " 1127,\n",
       " 616,\n",
       " 1646,\n",
       " 628,\n",
       " 1143,\n",
       " 1656,\n",
       " 633,\n",
       " 128,\n",
       " 1665,\n",
       " 642,\n",
       " 131,\n",
       " 132,\n",
       " 133,\n",
       " 644,\n",
       " 648,\n",
       " 1162,\n",
       " 1165,\n",
       " 1171,\n",
       " 1181,\n",
       " 1696,\n",
       " 674,\n",
       " 1186,\n",
       " 1190,\n",
       " 1710,\n",
       " 175,\n",
       " 1714,\n",
       " 1203,\n",
       " 180,\n",
       " 693,\n",
       " 695,\n",
       " 188,\n",
       " 1728,\n",
       " 705,\n",
       " 1729,\n",
       " 195,\n",
       " 708,\n",
       " 198,\n",
       " 710,\n",
       " 1738,\n",
       " 1740,\n",
       " 207,\n",
       " 1743,\n",
       " 1744,\n",
       " 1748,\n",
       " 214,\n",
       " 219,\n",
       " 1759,\n",
       " 226,\n",
       " 227,\n",
       " 1252,\n",
       " 1764,\n",
       " 231,\n",
       " 232,\n",
       " 234,\n",
       " 1260,\n",
       " 238,\n",
       " 1774,\n",
       " 1775,\n",
       " 755,\n",
       " 1274,\n",
       " 1787,\n",
       " 252,\n",
       " 260,\n",
       " 777,\n",
       " 778,\n",
       " 1289,\n",
       " 782,\n",
       " 786,\n",
       " 1811,\n",
       " 1303,\n",
       " 1817,\n",
       " 290,\n",
       " 1314,\n",
       " 295,\n",
       " 1321,\n",
       " 1834,\n",
       " 1323,\n",
       " 1836,\n",
       " 302,\n",
       " 303,\n",
       " 815,\n",
       " 1841,\n",
       " 1335,\n",
       " 314,\n",
       " 321,\n",
       " 835,\n",
       " 1863,\n",
       " 330,\n",
       " 1361,\n",
       " 851,\n",
       " 340,\n",
       " 344,\n",
       " 1369,\n",
       " 1371,\n",
       " 352,\n",
       " 864,\n",
       " 1380,\n",
       " 869,\n",
       " 359,\n",
       " 372,\n",
       " 1911,\n",
       " 1401,\n",
       " 1404,\n",
       " 1918,\n",
       " 384,\n",
       " 1920,\n",
       " 899,\n",
       " 900,\n",
       " 1413,\n",
       " 1926,\n",
       " 1431,\n",
       " 921,\n",
       " 415,\n",
       " 1441,\n",
       " 420,\n",
       " 934,\n",
       " 1959,\n",
       " 426,\n",
       " 1450,\n",
       " 1972,\n",
       " 954,\n",
       " 1468,\n",
       " 446,\n",
       " 1986,\n",
       " 963,\n",
       " 964,\n",
       " 1476,\n",
       " 1992,\n",
       " 458,\n",
       " 1995,\n",
       " 461,\n",
       " 1999,\n",
       " 976,\n",
       " 1489,\n",
       " 2001,\n",
       " 982,\n",
       " 985,\n",
       " 1499,\n",
       " 478,\n",
       " 479,\n",
       " 480,\n",
       " 1503,\n",
       " 2019,\n",
       " 1512,\n",
       " 2028,\n",
       " 1522]"
      ]
     },
     "execution_count": 38,
     "metadata": {},
     "output_type": "execute_result"
    }
   ],
   "source": [
    "dif"
   ]
  },
  {
   "cell_type": "code",
   "execution_count": 39,
   "metadata": {},
   "outputs": [
    {
     "data": {
      "text/plain": [
       "2048"
      ]
     },
     "execution_count": 39,
     "metadata": {},
     "output_type": "execute_result"
    }
   ],
   "source": [
    "len(all_samples)"
   ]
  },
  {
   "cell_type": "code",
   "execution_count": 40,
   "metadata": {},
   "outputs": [
    {
     "data": {
      "text/plain": [
       "[<matplotlib.lines.Line2D at 0x7f8f90ea3f40>]"
      ]
     },
     "execution_count": 40,
     "metadata": {},
     "output_type": "execute_result"
    },
    {
     "data": {
      "image/png": "[encoded data removed]",
      "text/plain": [
       "<Figure size 1440x720 with 1 Axes>"
      ]
     },
     "metadata": {
      "needs_background": "light"
     },
     "output_type": "display_data"
    }
   ],
   "source": [
    "import matplotlib.pyplot as plt\n",
    "plt.figure(figsize=(20,10))\n",
    "plt.plot(all_samples[823][:3000])"
   ]
  },
  {
   "cell_type": "code",
   "execution_count": null,
   "metadata": {},
   "outputs": [],
   "source": []
  }
 ],
 "metadata": {
  "colab": {
   "authorship_tag": "ABX9TyO5mdlokQ62wz4XipxYXZ75",
   "collapsed_sections": [],
   "mount_file_id": "1fzJdm7C34G_Kjk8wdz1l7I3yEPqs5Glq",
   "name": "ecARR2--modelM1_ab2(model-6).ipynb",
   "provenance": [
    {
     "file_id": "1YaU60VHIf7MwsqXX51ZtF5BRCyR_e1Wg",
     "timestamp": 1627403996239
    },
    {
     "file_id": "133QOje8skPCCjNXcjrUaHu9X-8ZUftwA",
     "timestamp": 1627396655995
    },
    {
     "file_id": "1aFoa8_DXOWB5SeAlcqk_JWGiXoBdQ_FN",
     "timestamp": 1626525095859
    },
    {
     "file_id": "1fkYTddhxNyw8p4vm0sjN00AKjYW7tzGg",
     "timestamp": 1626338627875
    },
    {
     "file_id": "1QHiJsRztLO38ZAqf5m2-lg2EEBSJu54_",
     "timestamp": 1626271867171
    },
    {
     "file_id": "1OanqZQe6Z-s__bgCMsU4E5NwZ4GlkKAb",
     "timestamp": 1626260810890
    },
    {
     "file_id": "1ajoUnxS_-KBUO0E3qP5vMK4xhguXHB8J",
     "timestamp": 1626256396609
    },
    {
     "file_id": "1BEORilBHH51WD3__8FNn9cqtdpnOOjBs",
     "timestamp": 1626254594644
    },
    {
     "file_id": "1GCc_iQ_3eCvevL4SjeY4keTIOOphyA10",
     "timestamp": 1626200488415
    },
    {
     "file_id": "1TVGoEmRhXcnrJjQ-uwY2uYNgZtutXkG7",
     "timestamp": 1626197059796
    },
    {
     "file_id": "1epbcXpaFZQRGyY_8cIREkID0jixJrSMb",
     "timestamp": 1626171676267
    },
    {
     "file_id": "1WkhnRvK7gXEIpJr4pzZn7K1NevHif6E3",
     "timestamp": 1625594198161
    },
    {
     "file_id": "169yA24spslJbJOdPx218P863AhHPaozi",
     "timestamp": 1625576664712
    },
    {
     "file_id": "1WIbdDF5DzCSO_VNWwYa_KDyVyMsRUQlb",
     "timestamp": 1624949937104
    },
    {
     "file_id": "10VRsJX9k8kIVR7KsOaJJXzy9BXEcV4oZ",
     "timestamp": 1624787399733
    }
   ]
  },
  "kernelspec": {
   "display_name": "Python 3 (ipykernel)",
   "language": "python",
   "name": "python3"
  },
  "language_info": {
   "codemirror_mode": {
    "name": "ipython",
    "version": 3
   },
   "file_extension": ".py",
   "mimetype": "text/x-python",
   "name": "python",
   "nbconvert_exporter": "python",
   "pygments_lexer": "ipython3",
   "version": "3.10.4"
  }
 },
 "nbformat": 4,
 "nbformat_minor": 1
}
