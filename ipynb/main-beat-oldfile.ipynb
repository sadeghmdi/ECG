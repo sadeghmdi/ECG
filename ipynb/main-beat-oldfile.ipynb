{
 "cells": [
  {
   "cell_type": "code",
   "execution_count": 1,
   "metadata": {
    "executionInfo": {
     "elapsed": 9798,
     "status": "ok",
     "timestamp": 1629698724230,
     "user": {
      "displayName": "Sadegh Mohammadi",
      "photoUrl": "https://lh3.googleusercontent.com/a-/AOh14Gg1iSjGV7iV5kzZZOpCoWfb-aIlclvodBw_eT5JzA=s64",
      "userId": "02781745993139771132"
     },
     "user_tz": -270
    },
    "id": "E9pJ0y9MaIlB"
   },
   "outputs": [
    {
     "name": "stderr",
     "output_type": "stream",
     "text": [
      "2022-06-02 20:26:41.529507: W tensorflow/stream_executor/platform/default/dso_loader.cc:64] Could not load dynamic library 'libcudart.so.11.0'; dlerror: libcudart.so.11.0: cannot open shared object file: No such file or directory\n",
      "2022-06-02 20:26:41.529546: I tensorflow/stream_executor/cuda/cudart_stub.cc:29] Ignore above cudart dlerror if you do not have a GPU set up on your machine.\n",
      "2022-06-02 20:26:52.377247: W tensorflow/stream_executor/platform/default/dso_loader.cc:64] Could not load dynamic library 'libcuda.so.1'; dlerror: libcuda.so.1: cannot open shared object file: No such file or directory\n",
      "2022-06-02 20:26:52.377289: W tensorflow/stream_executor/cuda/cuda_driver.cc:269] failed call to cuInit: UNKNOWN ERROR (303)\n",
      "2022-06-02 20:26:52.377336: I tensorflow/stream_executor/cuda/cuda_diagnostics.cc:156] kernel driver does not appear to be running on this host (ubuntu): /proc/driver/nvidia/version does not exist\n",
      "2022-06-02 20:26:52.377627: I tensorflow/core/platform/cpu_feature_guard.cc:193] This TensorFlow binary is optimized with oneAPI Deep Neural Network Library (oneDNN) to use the following CPU instructions in performance-critical operations:  AVX2 FMA\n",
      "To enable them in other operations, rebuild TensorFlow with the appropriate compiler flags.\n"
     ]
    }
   ],
   "source": [
    "%%capture\n",
    "BASEPATH = '../'\n",
    "import sys\n",
    "sys.path.insert(0,'..')\n",
    "\n",
    "import numpy as np\n",
    "import os\n",
    "import tensorflow as tf\n",
    "import pandas as pd\n",
    "import matplotlib.pyplot as plt\n",
    "from pyecg.utils import reset_seed, plot_spectogram, plot_loss, load_data\n",
    "from pyecg.utils import integer_mapping, mapping_AAMI, calc_class_weights\n",
    "from pyecg.data_info import *\n",
    "from pyecg.data_preprocessing import clean_inf_nan,clean_IQR,clean_IQR_class\n",
    "from pyecg.data_handling import DataHandling,slice_data\n",
    "from pyecg.report import Reports\n",
    "from pyecg.utils import sig_similarity_report,sig_similarity_hist\n",
    "\n",
    "\n",
    "\n",
    "reset_seed() "
   ]
  },
  {
   "cell_type": "markdown",
   "metadata": {},
   "source": [
    "# Proto"
   ]
  },
  {
   "cell_type": "code",
   "execution_count": 2,
   "metadata": {},
   "outputs": [],
   "source": [
    "datasets = {1:'raw',2:'stft',3:'raw_arr'}\n",
    "models = {1:'conv1d', 2:'conv2d', 3:'anomaly_fcn',4:'anomaly_conv1d',5:'anomaly_conv2d',6:'beat_model'}\n",
    "\n",
    "CONFIG = {}\n",
    "CONFIG['dataset'] = datasets[1]\n",
    "CONFIG['model'] = models[6]\n",
    "CONFIG['model_type'] = 'CLF' #CLF or AE\n",
    "CONFIG['augment'] = False \n",
    "CONFIG['sliced_targets'] = {'N':0,'A':1,'V':2} #None  #{'N':0,'A':1}\n",
    "CONFIG['AAMI'] = False \n",
    "CONFIG['class_weight'] = False \n",
    "CONFIG['normalization'] = 'zscore'       #'zscore' 'minmax' , None, 'max' "
   ]
  },
  {
   "cell_type": "markdown",
   "metadata": {},
   "source": [
    "# Data"
   ]
  },
  {
   "cell_type": "code",
   "execution_count": 76,
   "metadata": {},
   "outputs": [
    {
     "name": "stdout",
     "output_type": "stream",
     "text": [
      "file loaded: ../data/train.beat\n",
      "shape of \"waveforms\" is (27090, 800)\n",
      "shape of \"beat_feats\" is (27090, 2)\n",
      "shape of \"labels\" is (27090,)\n",
      "                N     L     R   j   e     V    E    A  S   a   J    F  f  /  Q\n",
      "train.beat  20200  1457  1592  14  16  2482  105  684  2  98  30  404  0  0  6\n",
      "file loaded: ../data/val.beat\n",
      "shape of \"waveforms\" is (23491, 800)\n",
      "shape of \"beat_feats\" is (23491, 2)\n",
      "shape of \"labels\" is (23491,)\n",
      "              N     L     R  j  e     V  E    A  S  a  J  F  f  /  Q\n",
      "val.beat  17562  2473  2149  1  0  1181  0  113  0  0  2  8  0  0  2\n"
     ]
    }
   ],
   "source": [
    "#Load data\n",
    "dh = DataHandling(base_path='../data')\n",
    "\n",
    "if CONFIG['dataset'] == 'raw':\n",
    "    ds_train = dh.load_data(file_name = 'train.beat')\n",
    "    x_train, r_train, y_train = ds_train.values()\n",
    "    \n",
    "    ds_val = dh.load_data(file_name = 'val.beat')\n",
    "    x_val, r_val, y_val = ds_val.values()\n",
    "\n",
    "elif CONFIG['dataset'] == 'stft':\n",
    "    ds_train = dh.load_data(file_path = '../data/DS1_train_stft.dat')\n",
    "    x_train, y_train, r_train = ds_train.values()\n",
    "    ds_val = load_data(file_path = '../data/DS1_val_stft.dat')\n",
    "    x_val, y_val, r_val = ds_val.values()\n",
    "    \n",
    "elif CONFIG['dataset'] == 'raw_arr':\n",
    "    annotated_records, samples_info = load_data(file_path = '../data/DS1_samples.arr')\n",
    "    \n",
    "#x_train.shape, len(y_train), r_train.shape,len(y_val)"
   ]
  },
  {
   "cell_type": "code",
   "execution_count": 77,
   "metadata": {},
   "outputs": [],
   "source": [
    "ds_train = clean_inf_nan(ds_train)\n",
    "x_train, r_train, y_train = ds_train.values()"
   ]
  },
  {
   "cell_type": "code",
   "execution_count": 78,
   "metadata": {},
   "outputs": [
    {
     "data": {
      "text/plain": [
       "(3.0571681682263936, -3.531306100843774, 0.05353817446333654)"
      ]
     },
     "execution_count": 78,
     "metadata": {},
     "output_type": "execute_result"
    }
   ],
   "source": [
    "xx =  x_train.flatten()\n",
    "max(xx),min(xx),sum(xx)/len(xx) "
   ]
  },
  {
   "cell_type": "code",
   "execution_count": 79,
   "metadata": {},
   "outputs": [
    {
     "data": {
      "text/plain": [
       "(84.32786885245812, 0.2768924302789901, 1.0125611883700758)"
      ]
     },
     "execution_count": 79,
     "metadata": {},
     "output_type": "execute_result"
    }
   ],
   "source": [
    "rr =  r_train.flatten()\n",
    "max(rr),min(rr),sum(rr)/len(rr) "
   ]
  },
  {
   "cell_type": "code",
   "execution_count": 80,
   "metadata": {},
   "outputs": [
    {
     "data": {
      "text/plain": [
       "<AxesSubplot:>"
      ]
     },
     "execution_count": 80,
     "metadata": {},
     "output_type": "execute_result"
    },
    {
     "data": {
      "image/png": "[encoded data removed]",
      "text/plain": [
       "<Figure size 640x480 with 1 Axes>"
      ]
     },
     "metadata": {},
     "output_type": "display_data"
    }
   ],
   "source": [
    "r_train.shape\n",
    "pd.DataFrame(r_train).boxplot()"
   ]
  },
  {
   "cell_type": "code",
   "execution_count": 81,
   "metadata": {},
   "outputs": [
    {
     "data": {
      "text/plain": [
       "['A', 'E', 'F', 'J', 'L', 'N', 'Q', 'R', 'S', 'V', 'a', 'e', 'j']"
      ]
     },
     "execution_count": 81,
     "metadata": {},
     "output_type": "execute_result"
    }
   ],
   "source": [
    "list(np.unique(y_train))"
   ]
  },
  {
   "cell_type": "code",
   "execution_count": 82,
   "metadata": {},
   "outputs": [],
   "source": [
    "#cleaning\n",
    "ds_train = clean_IQR_class(ds_train,factor=1.9)"
   ]
  },
  {
   "cell_type": "code",
   "execution_count": 83,
   "metadata": {},
   "outputs": [
    {
     "data": {
      "text/plain": [
       "(22077, 2)"
      ]
     },
     "execution_count": 83,
     "metadata": {},
     "output_type": "execute_result"
    }
   ],
   "source": [
    "x_train, r_train, y_train = ds_train.values()\n",
    "r_train.shape"
   ]
  },
  {
   "cell_type": "code",
   "execution_count": 84,
   "metadata": {},
   "outputs": [
    {
     "data": {
      "text/plain": [
       "<AxesSubplot:>"
      ]
     },
     "execution_count": 84,
     "metadata": {},
     "output_type": "execute_result"
    },
    {
     "data": {
      "image/png": "[encoded data removed]",
      "text/plain": [
       "<Figure size 640x480 with 1 Axes>"
      ]
     },
     "metadata": {},
     "output_type": "display_data"
    }
   ],
   "source": [
    "pd.DataFrame(r_train).boxplot()"
   ]
  },
  {
   "cell_type": "code",
   "execution_count": 85,
   "metadata": {},
   "outputs": [
    {
     "data": {
      "text/plain": [
       "(2.5839416058394966, 0.2768924302789901, 0.9966791943172087)"
      ]
     },
     "execution_count": 85,
     "metadata": {},
     "output_type": "execute_result"
    }
   ],
   "source": [
    "rr =  r_train.flatten()\n",
    "max(rr),min(rr),sum(rr)/len(rr) "
   ]
  },
  {
   "cell_type": "raw",
   "metadata": {},
   "source": [
    "#on cleaned\n",
    "for i in range(r_train.shape[1]):\n",
    "    cleaned_df =pd.DataFrame(r_train)\n",
    "    cleaned_df['Labels'] = y_train\n",
    "    cleaned_df=cleaned_df[cleaned_df['Labels'].isin(['N','A','V'])]\n",
    "    cleaned_df.boxplot(column=i,by='Labels')"
   ]
  },
  {
   "cell_type": "code",
   "execution_count": 86,
   "metadata": {},
   "outputs": [],
   "source": [
    "ix = dh.search_label(ds_train,'N')"
   ]
  },
  {
   "cell_type": "code",
   "execution_count": null,
   "metadata": {},
   "outputs": [],
   "source": []
  },
  {
   "cell_type": "code",
   "execution_count": 87,
   "metadata": {
    "colab": {
     "base_uri": "https://localhost:8080/"
    },
    "executionInfo": {
     "elapsed": 12,
     "status": "ok",
     "timestamp": 1629698737237,
     "user": {
      "displayName": "Sadegh Mohammadi",
      "photoUrl": "https://lh3.googleusercontent.com/a-/AOh14Gg1iSjGV7iV5kzZZOpCoWfb-aIlclvodBw_eT5JzA=s64",
      "userId": "02781745993139771132"
     },
     "user_tz": -270
    },
    "id": "zagl4yIHIHg4",
    "outputId": "3db07e3b-cc61-42d8-f67b-9f6542e087e0"
   },
   "outputs": [
    {
     "data": {
      "text/html": [
       "<div>\n",
       "<style scoped>\n",
       "    .dataframe tbody tr th:only-of-type {\n",
       "        vertical-align: middle;\n",
       "    }\n",
       "\n",
       "    .dataframe tbody tr th {\n",
       "        vertical-align: top;\n",
       "    }\n",
       "\n",
       "    .dataframe thead th {\n",
       "        text-align: right;\n",
       "    }\n",
       "</style>\n",
       "<table border=\"1\" class=\"dataframe\">\n",
       "  <thead>\n",
       "    <tr style=\"text-align: right;\">\n",
       "      <th></th>\n",
       "      <th>N</th>\n",
       "      <th>L</th>\n",
       "      <th>R</th>\n",
       "      <th>j</th>\n",
       "      <th>e</th>\n",
       "      <th>V</th>\n",
       "      <th>E</th>\n",
       "      <th>A</th>\n",
       "      <th>S</th>\n",
       "      <th>a</th>\n",
       "      <th>J</th>\n",
       "      <th>F</th>\n",
       "      <th>f</th>\n",
       "      <th>/</th>\n",
       "      <th>Q</th>\n",
       "    </tr>\n",
       "  </thead>\n",
       "  <tbody>\n",
       "    <tr>\n",
       "      <th>train</th>\n",
       "      <td>15461</td>\n",
       "      <td>1425</td>\n",
       "      <td>1465</td>\n",
       "      <td>12</td>\n",
       "      <td>14</td>\n",
       "      <td>2458</td>\n",
       "      <td>94</td>\n",
       "      <td>630</td>\n",
       "      <td>2</td>\n",
       "      <td>94</td>\n",
       "      <td>26</td>\n",
       "      <td>392</td>\n",
       "      <td>0</td>\n",
       "      <td>0</td>\n",
       "      <td>4</td>\n",
       "    </tr>\n",
       "    <tr>\n",
       "      <th>val</th>\n",
       "      <td>17562</td>\n",
       "      <td>2473</td>\n",
       "      <td>2149</td>\n",
       "      <td>1</td>\n",
       "      <td>0</td>\n",
       "      <td>1181</td>\n",
       "      <td>0</td>\n",
       "      <td>113</td>\n",
       "      <td>0</td>\n",
       "      <td>0</td>\n",
       "      <td>2</td>\n",
       "      <td>8</td>\n",
       "      <td>0</td>\n",
       "      <td>0</td>\n",
       "      <td>2</td>\n",
       "    </tr>\n",
       "  </tbody>\n",
       "</table>\n",
       "</div>"
      ],
      "text/plain": [
       "           N     L     R   j   e     V   E    A  S   a   J    F  f  /  Q\n",
       "train  15461  1425  1465  12  14  2458  94  630  2  94  26  392  0  0  4\n",
       "val    17562  2473  2149   1   0  1181   0  113  0   0   2    8  0  0  2"
      ]
     },
     "execution_count": 87,
     "metadata": {},
     "output_type": "execute_result"
    }
   ],
   "source": [
    "rp1 = dh.report_stats_table([y_train, y_val], ['train','val'])\n",
    "rp1 "
   ]
  },
  {
   "cell_type": "code",
   "execution_count": 88,
   "metadata": {},
   "outputs": [
    {
     "name": "stdout",
     "output_type": "stream",
     "text": [
      "           N  L  R  j  e     V  E    A  S  a  J  F  f  /  Q\n",
      "train  15461  0  0  0  0  2458  0  630  0  0  0  0  0  0  0\n",
      "val    17562  0  0  0  0  1181  0  113  0  0  0  0  0  0  0\n"
     ]
    }
   ],
   "source": [
    "#slice data\n",
    "if CONFIG['sliced_targets'] is not None:\n",
    "    from pyecg.data_handling import slice_data\n",
    "    sliced_targets = CONFIG['sliced_targets']\n",
    "    ds_train = slice_data(ds_train, sliced_targets)\n",
    "    x_train, r_train, y_train = ds_train.values()\n",
    "    ds_val = slice_data(ds_val, sliced_targets)\n",
    "    x_val, r_val, y_val = ds_val.values()\n",
    "    rp2 = dh.report_stats_table([y_train, y_val], ['train','val'])\n",
    "    print(rp2)"
   ]
  },
  {
   "cell_type": "code",
   "execution_count": 89,
   "metadata": {},
   "outputs": [
    {
     "data": {
      "text/plain": [
       "(25.89501641092118, -19.31897968231408, 9.433638199951033e-16)"
      ]
     },
     "execution_count": 89,
     "metadata": {},
     "output_type": "execute_result"
    }
   ],
   "source": [
    "#Normalization\n",
    "if CONFIG['normalization'] == 'zscore':\n",
    "    from sklearn.preprocessing import StandardScaler\n",
    "    standardscaler_x = StandardScaler()\n",
    "    x_train = standardscaler_x.fit_transform(x_train)\n",
    "    x_val = standardscaler_x.transform(x_val) \n",
    "    \n",
    "    standardscaler_r = StandardScaler()\n",
    "    r_train = standardscaler_r.fit_transform(r_train)\n",
    "    r_val = standardscaler_r.transform(r_val) \n",
    "\n",
    "if CONFIG['normalization'] == 'minmax':\n",
    "    from sklearn.preprocessing import MinMaxScaler\n",
    "    scaler_x = MinMaxScaler(feature_range=(-1,1)) \n",
    "    if len(x_train[0].shape)==1:\n",
    "        x_train = scaler_x.fit_transform(x_train)\n",
    "        x_val = scaler_x.transform(x_val)\n",
    "    elif len(x_train[0].shape)==2:\n",
    "        org_shape = x_train.shape\n",
    "        x_train = scaler_x.fit_transform(x_train.reshape((-1,1)))\n",
    "        x_train = x_train.reshape(org_shape)\n",
    "        org_shape = x_val.shape\n",
    "        x_val = scaler_x.transform(x_val.reshape((-1,1)))\n",
    "        x_val = x_val.reshape(org_shape)\n",
    "\n",
    "    scaler_r = MinMaxScaler(feature_range=(-1,1))\n",
    "    r_train = scaler_r.fit_transform(r_train)\n",
    "    r_val = scaler_r.transform(r_val)   \n",
    "\n",
    "if CONFIG['normalization'] == 'max':   \n",
    "    max_x_train = max(x_train.flatten())\n",
    "    x_train = x_train/max_x_train\n",
    "    x_val = x_val/max_x_train\n",
    "\n",
    "xx =  x_train.flatten()\n",
    "max(xx),min(xx),sum(xx)/len(xx)"
   ]
  },
  {
   "cell_type": "code",
   "execution_count": 90,
   "metadata": {},
   "outputs": [
    {
     "data": {
      "text/plain": [
       "(7.931465198242735, -6.303113456941081, 1.557484321636121e-14)"
      ]
     },
     "execution_count": 90,
     "metadata": {},
     "output_type": "execute_result"
    }
   ],
   "source": [
    "rr =  r_train.flatten()\n",
    "max(rr),min(rr),sum(rr)/len(rr) "
   ]
  },
  {
   "cell_type": "code",
   "execution_count": 91,
   "metadata": {},
   "outputs": [
    {
     "data": {
      "text/plain": [
       "<AxesSubplot:>"
      ]
     },
     "execution_count": 91,
     "metadata": {},
     "output_type": "execute_result"
    },
    {
     "data": {
      "image/png": "[encoded data removed]",
      "text/plain": [
       "<Figure size 640x480 with 1 Axes>"
      ]
     },
     "metadata": {},
     "output_type": "display_data"
    }
   ],
   "source": [
    "#normalized\n",
    "pd.DataFrame(r_train).boxplot()"
   ]
  },
  {
   "cell_type": "raw",
   "metadata": {},
   "source": [
    "pd.DataFrame(r_train).describe()"
   ]
  },
  {
   "cell_type": "raw",
   "metadata": {},
   "source": [
    "#on cleaned\n",
    "for i in range(r_train.shape[1]):\n",
    "    cleaned_df =pd.DataFrame(r_train)\n",
    "    cleaned_df['Labels'] = y_train\n",
    "    cleaned_df=cleaned_df[cleaned_df['Labels'].isin(['N','A','V'])]\n",
    "    cleaned_df.boxplot(column=i,by='Labels')"
   ]
  },
  {
   "cell_type": "code",
   "execution_count": 92,
   "metadata": {},
   "outputs": [],
   "source": [
    "if CONFIG['AAMI']:\n",
    "    y_train = mapping_AAMI(y_train, MAP_AAMI)\n",
    "    y_val = mapping_AAMI(y_val, MAP_AAMI)"
   ]
  },
  {
   "cell_type": "code",
   "execution_count": 93,
   "metadata": {},
   "outputs": [
    {
     "name": "stdout",
     "output_type": "stream",
     "text": [
      "           N  L  R  j  e     V  E    A  S  a  J  F  f  /  Q\n",
      "train  15461  0  0  0  0  2458  0  630  0  0  0  0  0  0  0\n",
      "val    17562  0  0  0  0  1181  0  113  0  0  0  0  0  0  0\n"
     ]
    }
   ],
   "source": [
    "rp2 = dh.report_stats_table([y_train, y_val], ['train','val'])\n",
    "print(rp2) "
   ]
  },
  {
   "cell_type": "code",
   "execution_count": 94,
   "metadata": {},
   "outputs": [
    {
     "name": "stdout",
     "output_type": "stream",
     "text": [
      "           N  L  R  j  e     V  E    A  S  a  J  F  f  /  Q\n",
      "train  15461  0  0  0  0  2458  0  630  0  0  0  0  0  0  0\n",
      "val    17562  0  0  0  0  1181  0  113  0  0  0  0  0  0  0\n"
     ]
    }
   ],
   "source": [
    "#augment\n",
    "if CONFIG['augment']==True:\n",
    "    from pyecg.data_augmentation import aug_decrease,aug_increase\n",
    "    ds_train = aug_decrease(ds_train, label='N', desired_size = 12000)\n",
    "    ds_train = aug_increase(ds_train, desired_size = 12000)\n",
    "    x_train, r_train, y_train = ds_train.values()\n",
    "    \n",
    "rp2 = dh.report_stats_table([y_train, y_val], ['train','val'])\n",
    "print(rp2)"
   ]
  },
  {
   "cell_type": "raw",
   "metadata": {},
   "source": [
    "#val augment\n",
    "from pyecg.data_augmentation import aug_decrease,aug_increase\n",
    "ds_val = aug_decrease(ds_val, label='N', desired_size = 12000)\n",
    "ds_val = aug_increase(ds_val, desired_size = 12000)\n",
    "x_val, r_val, y_val = ds_val.values()\n",
    "\n",
    "rp2 = dh.report_stats_table([y_train, y_val], ['train','val'])\n",
    "print(rp2)"
   ]
  },
  {
   "cell_type": "code",
   "execution_count": 73,
   "metadata": {
    "executionInfo": {
     "elapsed": 9,
     "status": "ok",
     "timestamp": 1629698737237,
     "user": {
      "displayName": "Sadegh Mohammadi",
      "photoUrl": "https://lh3.googleusercontent.com/a-/AOh14Gg1iSjGV7iV5kzZZOpCoWfb-aIlclvodBw_eT5JzA=s64",
      "userId": "02781745993139771132"
     },
     "user_tz": -270
    },
    "id": "u4LWVBgkF1NI"
   },
   "outputs": [],
   "source": [
    "#convert labels to integers\n",
    "targets = np.unique(y_train).tolist()\n",
    "FINAL_MAP_DICT = {targets[i]:i for i in range(len(targets))}\n",
    "\n",
    "\n",
    "y_train = integer_mapping(y_train, FINAL_MAP_DICT)\n",
    "y_val = integer_mapping(y_val, FINAL_MAP_DICT)"
   ]
  },
  {
   "cell_type": "code",
   "execution_count": 95,
   "metadata": {},
   "outputs": [
    {
     "data": {
      "text/plain": [
       "(array(['A', 'N', 'V'], dtype='<U1'), (18549, 2))"
      ]
     },
     "execution_count": 95,
     "metadata": {},
     "output_type": "execute_result"
    }
   ],
   "source": [
    "np.unique(y_train), r_train.shape"
   ]
  },
  {
   "cell_type": "code",
   "execution_count": 75,
   "metadata": {},
   "outputs": [],
   "source": [
    "#FINAL_MAP_DICT"
   ]
  },
  {
   "cell_type": "code",
   "execution_count": null,
   "metadata": {},
   "outputs": [],
   "source": []
  },
  {
   "cell_type": "markdown",
   "metadata": {
    "id": "phHl-9TqPAKo"
   },
   "source": [
    "# Train"
   ]
  },
  {
   "cell_type": "code",
   "execution_count": 23,
   "metadata": {},
   "outputs": [],
   "source": [
    "if CONFIG['model'] == 'conv2d':\n",
    "    from pyecg.models.conv2d_rr import model_arch\n",
    "elif CONFIG['model'] == 'conv1d':\n",
    "    from pyecg.models.conv1d_rr_paral import model_arch\n",
    "elif CONFIG['model'] == 'anomaly_fcn':\n",
    "    from pyecg.models.anomaly_FCN import model_arch\n",
    "elif CONFIG['model'] == 'anomaly_conv1d':\n",
    "    from pyecg.models.anomaly_conv1d import model_arch\n",
    "elif CONFIG['model'] == 'anomaly_conv2d':\n",
    "    from pyecg.models.anomaly_conv2d import model_arch\n",
    "elif CONFIG['model'] == 'beat_model':\n",
    "    from pyecg.models.beat_model import model_arch"
   ]
  },
  {
   "cell_type": "code",
   "execution_count": 44,
   "metadata": {
    "colab": {
     "base_uri": "https://localhost:8080/"
    },
    "executionInfo": {
     "elapsed": 20,
     "status": "ok",
     "timestamp": 1627404457302,
     "user": {
      "displayName": "Sadegh Mohammadi",
      "photoUrl": "https://lh3.googleusercontent.com/a-/AOh14Gg1iSjGV7iV5kzZZOpCoWfb-aIlclvodBw_eT5JzA=s64",
      "userId": "02781745993139771132"
     },
     "user_tz": 420
    },
    "id": "aeVdtly2Y4Ek",
    "outputId": "083ca1b2-b93e-4cb6-b048-c28ae7f3a93f"
   },
   "outputs": [],
   "source": [
    "params_model = {\n",
    "    'x_input_dim' : np.squeeze(x_train[0].shape),\n",
    "    'r_input_dim':r_train.shape[-1],\n",
    "    'num_classes' : len(np.unique(y_train)),\n",
    "    'dim_latent' : 10,\n",
    "    'regularizer' : None\n",
    "}\n",
    "params_train = {\n",
    "    'batch_size' : 128,\n",
    "    'epochs' : 5\n",
    "} "
   ]
  },
  {
   "cell_type": "code",
   "execution_count": 26,
   "metadata": {
    "id": "6GRPAf4mzJ3q"
   },
   "outputs": [
    {
     "name": "stdout",
     "output_type": "stream",
     "text": [
      "Model: \"Model_Beat\"\n",
      "__________________________________________________________________________________________________\n",
      " Layer (type)                   Output Shape         Param #     Connected to                     \n",
      "==================================================================================================\n",
      " r_input (InputLayer)           [(None, 145)]        0           []                               \n",
      "                                                                                                  \n",
      " tf.expand_dims (TFOpLambda)    (None, 145, 1)       0           ['r_input[0][0]']                \n",
      "                                                                                                  \n",
      " batch_normalization (BatchNorm  (None, 145, 1)      4           ['tf.expand_dims[0][0]']         \n",
      " alization)                                                                                       \n",
      "                                                                                                  \n",
      " flatten (Flatten)              (None, 145)          0           ['batch_normalization[0][0]']    \n",
      "                                                                                                  \n",
      " dense (Dense)                  (None, 256)          37376       ['flatten[0][0]']                \n",
      "                                                                                                  \n",
      " dropout (Dropout)              (None, 256)          0           ['dense[0][0]']                  \n",
      "                                                                                                  \n",
      " dense_1 (Dense)                (None, 128)          32896       ['dropout[0][0]']                \n",
      "                                                                                                  \n",
      " dropout_1 (Dropout)            (None, 128)          0           ['dense_1[0][0]']                \n",
      "                                                                                                  \n",
      " x_input (InputLayer)           [(None, 220)]        0           []                               \n",
      "                                                                                                  \n",
      " dense_2 (Dense)                (None, 3)            387         ['dropout_1[0][0]']              \n",
      "                                                                                                  \n",
      "==================================================================================================\n",
      "Total params: 70,663\n",
      "Trainable params: 70,661\n",
      "Non-trainable params: 2\n",
      "__________________________________________________________________________________________________\n"
     ]
    }
   ],
   "source": [
    "mymodel = model_arch(params_model)   \n",
    "mymodel.summary()"
   ]
  },
  {
   "cell_type": "code",
   "execution_count": 27,
   "metadata": {},
   "outputs": [],
   "source": [
    "#%%capture\n",
    "#!pip install focal-loss\n",
    "#from focal_loss import SparseCategoricalFocalLoss"
   ]
  },
  {
   "cell_type": "code",
   "execution_count": 28,
   "metadata": {},
   "outputs": [],
   "source": [
    "def my_log_loss(y_true, y_pred):\n",
    "    squared_difference = tf.square(tf.math.log(y_true + 5) - tf.math.log(y_pred + 5))\n",
    "    return tf.reduce_mean(squared_difference, axis=-1) "
   ]
  },
  {
   "cell_type": "code",
   "execution_count": 29,
   "metadata": {
    "colab": {
     "base_uri": "https://localhost:8080/"
    },
    "executionInfo": {
     "elapsed": 1233321,
     "status": "ok",
     "timestamp": 1627405690992,
     "user": {
      "displayName": "Sadegh Mohammadi",
      "photoUrl": "https://lh3.googleusercontent.com/a-/AOh14Gg1iSjGV7iV5kzZZOpCoWfb-aIlclvodBw_eT5JzA=s64",
      "userId": "02781745993139771132"
     },
     "user_tz": 420
    },
    "id": "PgOFHNu4PJtp",
    "outputId": "236dca1b-962b-4a84-fa6a-339eb48f965f"
   },
   "outputs": [],
   "source": [
    "!rm -r /media/mypc/STORAGE1/codes/heartbeat/checkpoint/keras.EXP1\n",
    "\n",
    "opt= tf.keras.optimizers.Adam(learning_rate=0.001, beta_1=0.9, beta_2=0.999, epsilon=1e-07, name='Adam')\n",
    "#opt = tf.keras.optimizers.SGD(learning_rate=0.01, momentum=0.9)\n",
    "\n",
    "def get_loss(model_type):\n",
    "    if model_type == 'AE':\n",
    "        loss = \"mse\"\n",
    "        #loss = 'binary_crossentropy'\n",
    "        #loss='mean_squared_logarithmic_error'\n",
    "        #loss = my_log_loss\n",
    "        #loss = 'cosine_similarity'\n",
    "    elif model_type == 'CLF':\n",
    "        loss = \"sparse_categorical_crossentropy\"\n",
    "        #loss=SparseCategoricalFocalLoss(gamma=3)\n",
    "    return loss\n",
    "\n",
    "def get_metrics(model_type):\n",
    "    if model_type == 'AE':\n",
    "        metrics = None\n",
    "    elif model_type == 'CLF':\n",
    "        metrics = ['accuracy']\n",
    "    return metrics\n",
    "    \n",
    "\n",
    "mymodel.compile(\n",
    "              optimizer = opt,\n",
    "              loss = get_loss(CONFIG['model_type']),\n",
    "              metrics = get_metrics(CONFIG['model_type']),\n",
    "              loss_weights = None\n",
    "              )\n",
    "\n",
    "\n",
    "early_stopping = tf.keras.callbacks.EarlyStopping(monitor='val_loss', min_delta=0, patience=8, verbose=1)\n",
    "reduce_lr = tf.keras.callbacks.ReduceLROnPlateau(monitor='val_loss', factor=0.9, patience=5,\n",
    "                              verbose=1, mode='auto', min_delta=0.0001, cooldown=0, min_lr=0.0001)\n",
    "model_checkpoint = tf.keras.callbacks.ModelCheckpoint(BASEPATH + \"checkpoint/keras.EXP1\",\n",
    "                                                      monitor='val_loss', save_best_only=True, verbose=1)\n",
    "import time\n",
    "batch_sleep = tf.keras.callbacks.LambdaCallback(on_batch_end=lambda batch,logs: time.sleep(.3))\n",
    "\n",
    "callbacks = [early_stopping, model_checkpoint, reduce_lr, batch_sleep]  \n",
    "#callbacks = [batch_sleep]  "
   ]
  },
  {
   "cell_type": "code",
   "execution_count": 30,
   "metadata": {},
   "outputs": [],
   "source": [
    "calc_class_weights(CONFIG['class_weight'], y_train)"
   ]
  },
  {
   "cell_type": "code",
   "execution_count": 31,
   "metadata": {},
   "outputs": [],
   "source": [
    "#model output\n",
    "if CONFIG['model_type'] == 'AE':\n",
    "    output_shape = mymodel.output_shape\n",
    "    if isinstance(output_shape,list) and len(output_shape) == 2:\n",
    "        y_train_ = [x_train,r_train]\n",
    "        y_val_ = [x_val,r_val]   \n",
    "    elif not isinstance(output_shape,list):\n",
    "        y_train_ = x_train\n",
    "        y_val_ = x_val \n",
    "else:\n",
    "    y_train_ = y_train \n",
    "    y_val_ = y_val \n",
    "\n",
    "#model input   \n",
    "input_shape = mymodel.input_shape\n",
    "if isinstance(input_shape,list) and len(input_shape) == 2:\n",
    "    x_train_ = {'x_input':x_train, 'r_input':r_train}\n",
    "    x_val_ = {'x_input':x_val, 'r_input':r_val}   \n",
    "elif not isinstance(input_shape,list): \n",
    "    x_train_ = x_train\n",
    "    x_val_ = x_val    \n",
    "    "
   ]
  },
  {
   "cell_type": "code",
   "execution_count": 32,
   "metadata": {},
   "outputs": [
    {
     "name": "stdout",
     "output_type": "stream",
     "text": [
      "Epoch 1/5\n",
      "31/31 [==============================] - ETA: 0s - loss: 0.2662 - accuracy: 0.9190\n",
      "Epoch 1: val_loss improved from inf to 0.13234, saving model to ../checkpoint/keras.EXP1\n"
     ]
    },
    {
     "name": "stderr",
     "output_type": "stream",
     "text": [
      "2022-04-22 05:19:07.785142: W tensorflow/python/util/util.cc:368] Sets are not currently considered sequences, but this may change in the future, so consider avoiding using them.\n"
     ]
    },
    {
     "name": "stdout",
     "output_type": "stream",
     "text": [
      "31/31 [==============================] - 12s 362ms/step - loss: 0.2662 - accuracy: 0.9190 - val_loss: 0.1323 - val_accuracy: 0.9577 - lr: 0.0010\n",
      "Epoch 2/5\n",
      "31/31 [==============================] - ETA: 0s - loss: 0.0177 - accuracy: 0.9951\n",
      "Epoch 2: val_loss improved from 0.13234 to 0.06365, saving model to ../checkpoint/keras.EXP1\n",
      "31/31 [==============================] - 12s 374ms/step - loss: 0.0177 - accuracy: 0.9951 - val_loss: 0.0637 - val_accuracy: 0.9786 - lr: 0.0010\n",
      "Epoch 3/5\n",
      "31/31 [==============================] - ETA: 0s - loss: 0.0076 - accuracy: 0.9979\n",
      "Epoch 3: val_loss improved from 0.06365 to 0.06303, saving model to ../checkpoint/keras.EXP1\n",
      "31/31 [==============================] - 11s 368ms/step - loss: 0.0076 - accuracy: 0.9979 - val_loss: 0.0630 - val_accuracy: 0.9795 - lr: 0.0010\n",
      "Epoch 4/5\n",
      "31/31 [==============================] - ETA: 0s - loss: 0.0047 - accuracy: 0.9990\n",
      "Epoch 4: val_loss improved from 0.06303 to 0.05732, saving model to ../checkpoint/keras.EXP1\n",
      "31/31 [==============================] - 11s 358ms/step - loss: 0.0047 - accuracy: 0.9990 - val_loss: 0.0573 - val_accuracy: 0.9818 - lr: 0.0010\n",
      "Epoch 5/5\n",
      "31/31 [==============================] - ETA: 0s - loss: 0.0028 - accuracy: 0.9997\n",
      "Epoch 5: val_loss did not improve from 0.05732\n",
      "31/31 [==============================] - 10s 321ms/step - loss: 0.0028 - accuracy: 0.9997 - val_loss: 0.0619 - val_accuracy: 0.9805 - lr: 0.0010\n",
      "CPU times: user 9.87 s, sys: 967 ms, total: 10.8 s\n",
      "Wall time: 56.1 s\n"
     ]
    }
   ],
   "source": [
    "%%time\n",
    "\n",
    "#model fitting\n",
    "model_history = mymodel.fit(\n",
    "              x=x_train_,\n",
    "              y=y_train_,\n",
    "              batch_size=params_train['batch_size'],\n",
    "              epochs=params_train['epochs'],\n",
    "              verbose=1,\n",
    "              callbacks=callbacks,\n",
    "              validation_data=(x_val_, y_val_),\n",
    "              shuffle=True,\n",
    "              class_weight= calc_class_weights(CONFIG['class_weight'], y_train),    #None,\n",
    "              sample_weight=None,\n",
    "              initial_epoch=0\n",
    "              )"
   ]
  },
  {
   "cell_type": "raw",
   "metadata": {},
   "source": [
    "#save model\n",
    "mymodel.save(BASEPATH+'saved_models/mymodel')"
   ]
  },
  {
   "cell_type": "code",
   "execution_count": 33,
   "metadata": {
    "colab": {
     "base_uri": "https://localhost:8080/",
     "height": 295
    },
    "executionInfo": {
     "elapsed": 51231,
     "status": "ok",
     "timestamp": 1627405742205,
     "user": {
      "displayName": "Sadegh Mohammadi",
      "photoUrl": "https://lh3.googleusercontent.com/a-/AOh14Gg1iSjGV7iV5kzZZOpCoWfb-aIlclvodBw_eT5JzA=s64",
      "userId": "02781745993139771132"
     },
     "user_tz": 420
    },
    "id": "kmoNvLfz8ER8",
    "outputId": "f37679c8-f142-4eac-db2a-d77ce342222c"
   },
   "outputs": [
    {
     "data": {
      "image/png": "[encoded data removed]",
      "text/plain": [
       "<Figure size 432x288 with 1 Axes>"
      ]
     },
     "metadata": {
      "needs_background": "light"
     },
     "output_type": "display_data"
    }
   ],
   "source": [
    "plot_loss(model_history) "
   ]
  },
  {
   "cell_type": "markdown",
   "metadata": {
    "id": "e6QEha8ryTbH"
   },
   "source": [
    "import pickle\n",
    "with open(BASEPATH+'history/EXP1.hist', 'wb') as f:\n",
    "  pickle.dump(model_history.history, f)"
   ]
  },
  {
   "cell_type": "markdown",
   "metadata": {
    "colab": {
     "base_uri": "https://localhost:8080/"
    },
    "executionInfo": {
     "elapsed": 9,
     "status": "ok",
     "timestamp": 1627405742207,
     "user": {
      "displayName": "Sadegh Mohammadi",
      "photoUrl": "https://lh3.googleusercontent.com/a-/AOh14Gg1iSjGV7iV5kzZZOpCoWfb-aIlclvodBw_eT5JzA=s64",
      "userId": "02781745993139771132"
     },
     "user_tz": 420
    },
    "id": "FU-pzf53kFev",
    "outputId": "4f683089-2e9a-4f42-d5a8-0da547f615da"
   },
   "source": [
    "a =model_history.history\n",
    "min(a['val_loss']), a['val_loss'].index(min(a['val_loss']))"
   ]
  },
  {
   "cell_type": "markdown",
   "metadata": {
    "id": "DQkAk3O5iaOY"
   },
   "source": [
    "# Loading Model"
   ]
  },
  {
   "cell_type": "code",
   "execution_count": 26,
   "metadata": {
    "colab": {
     "base_uri": "https://localhost:8080/",
     "height": 35
    },
    "executionInfo": {
     "elapsed": 2918,
     "status": "ok",
     "timestamp": 1629698740148,
     "user": {
      "displayName": "Sadegh Mohammadi",
      "photoUrl": "https://lh3.googleusercontent.com/a-/AOh14Gg1iSjGV7iV5kzZZOpCoWfb-aIlclvodBw_eT5JzA=s64",
      "userId": "02781745993139771132"
     },
     "user_tz": -270
    },
    "id": "8C8axIoViOLm",
    "outputId": "f208a8a6-59ca-4387-e5fa-5b867bfc48d9"
   },
   "outputs": [
    {
     "data": {
      "text/plain": [
       "'Model_Beat'"
      ]
     },
     "execution_count": 26,
     "metadata": {},
     "output_type": "execute_result"
    }
   ],
   "source": [
    "loaded_model = tf.keras.models.load_model(BASEPATH+'checkpoint/keras.EXP1')\n",
    "#mymodel = tf.keras.models.load_model(BASEPATH+'saved_models/mymodel')\n",
    "#loaded_model = mymodel\n",
    "loaded_model.name\n",
    "#loaded_model.summary()"
   ]
  },
  {
   "cell_type": "code",
   "execution_count": 96,
   "metadata": {},
   "outputs": [
    {
     "name": "stdout",
     "output_type": "stream",
     "text": [
      "file loaded: ../data/test.beat\n",
      "shape of \"waveforms\" is (49272, 800)\n",
      "shape of \"beat_feats\" is (49272, 2)\n",
      "shape of \"labels\" is (49272,)\n",
      "               N     L     R    j  e     V  E     A  S   a   J    F  f  /  Q\n",
      "test.beat  36118  4089  3441  213  0  3194  1  1720  0  50  51  388  0  0  7\n"
     ]
    }
   ],
   "source": [
    "#Load Preprocessed Test Set\n",
    "dh = DataHandling(base_path='../data')\n",
    "if CONFIG['dataset'] == 'raw':\n",
    "    ds_test = dh.load_data(file_name = 'test.beat')\n",
    "    ds_test = clean_inf_nan(ds_test)\n",
    "    x_test, r_test, y_test = ds_test.values()   \n",
    "    \n",
    "elif CONFIG['dataset'] == 'stft':\n",
    "    ds_test = dh.load_data(file_name = 'DS2_stft.dat')\n",
    "    x_test, y_test, r_test = ds_test.values() "
   ]
  },
  {
   "cell_type": "code",
   "execution_count": 97,
   "metadata": {},
   "outputs": [],
   "source": [
    "#slice test data\n",
    "if CONFIG['sliced_targets'] != None and params_model['num_classes']>1:\n",
    "    from pyecg.data_handling import slice_data\n",
    "    sliced_targets = CONFIG['sliced_targets']\n",
    "    ds_test = slice_data(ds_test, sliced_targets)\n",
    "    x_test, r_test, y_test = ds_test.values()"
   ]
  },
  {
   "cell_type": "code",
   "execution_count": 98,
   "metadata": {},
   "outputs": [
    {
     "data": {
      "text/html": [
       "<div>\n",
       "<style scoped>\n",
       "    .dataframe tbody tr th:only-of-type {\n",
       "        vertical-align: middle;\n",
       "    }\n",
       "\n",
       "    .dataframe tbody tr th {\n",
       "        vertical-align: top;\n",
       "    }\n",
       "\n",
       "    .dataframe thead th {\n",
       "        text-align: right;\n",
       "    }\n",
       "</style>\n",
       "<table border=\"1\" class=\"dataframe\">\n",
       "  <thead>\n",
       "    <tr style=\"text-align: right;\">\n",
       "      <th></th>\n",
       "      <th>N</th>\n",
       "      <th>L</th>\n",
       "      <th>R</th>\n",
       "      <th>j</th>\n",
       "      <th>e</th>\n",
       "      <th>V</th>\n",
       "      <th>E</th>\n",
       "      <th>A</th>\n",
       "      <th>S</th>\n",
       "      <th>a</th>\n",
       "      <th>J</th>\n",
       "      <th>F</th>\n",
       "      <th>f</th>\n",
       "      <th>/</th>\n",
       "      <th>Q</th>\n",
       "    </tr>\n",
       "  </thead>\n",
       "  <tbody>\n",
       "    <tr>\n",
       "      <th>test</th>\n",
       "      <td>36118</td>\n",
       "      <td>0</td>\n",
       "      <td>0</td>\n",
       "      <td>0</td>\n",
       "      <td>0</td>\n",
       "      <td>3194</td>\n",
       "      <td>0</td>\n",
       "      <td>1720</td>\n",
       "      <td>0</td>\n",
       "      <td>0</td>\n",
       "      <td>0</td>\n",
       "      <td>0</td>\n",
       "      <td>0</td>\n",
       "      <td>0</td>\n",
       "      <td>0</td>\n",
       "    </tr>\n",
       "  </tbody>\n",
       "</table>\n",
       "</div>"
      ],
      "text/plain": [
       "          N  L  R  j  e     V  E     A  S  a  J  F  f  /  Q\n",
       "test  36118  0  0  0  0  3194  0  1720  0  0  0  0  0  0  0"
      ]
     },
     "execution_count": 98,
     "metadata": {},
     "output_type": "execute_result"
    }
   ],
   "source": [
    "rp2 = dh.report_stats_table([y_test], ['test'])\n",
    "rp2"
   ]
  },
  {
   "cell_type": "code",
   "execution_count": 99,
   "metadata": {},
   "outputs": [],
   "source": [
    "y_true = y_test.copy()\n",
    "\n",
    "if CONFIG['AAMI']:\n",
    "    y_true = mapping_AAMI(y_true, MAP_AAMI)"
   ]
  },
  {
   "cell_type": "code",
   "execution_count": 100,
   "metadata": {},
   "outputs": [],
   "source": [
    "if CONFIG['normalization'] == 'zscore':\n",
    "    x_test = standardscaler_x.transform(x_test) \n",
    "    r_test = standardscaler_r.transform(r_test) \n",
    "\n",
    "if CONFIG['normalization'] == 'minmax':\n",
    "    x_test = scaler_x.transform(x_test)\n",
    "    r_test = scaler_r.transform(r_test)\n",
    "    \n",
    "if CONFIG['normalization'] == 'max':   \n",
    "    x_test = x_test/max_x_train"
   ]
  },
  {
   "cell_type": "code",
   "execution_count": 101,
   "metadata": {},
   "outputs": [
    {
     "ename": "NameError",
     "evalue": "name 'input_shape' is not defined",
     "output_type": "error",
     "traceback": [
      "\u001b[0;31m---------------------------------------------------------------------------\u001b[0m",
      "\u001b[0;31mNameError\u001b[0m                                 Traceback (most recent call last)",
      "Input \u001b[0;32mIn [101]\u001b[0m, in \u001b[0;36m<cell line: 1>\u001b[0;34m()\u001b[0m\n\u001b[0;32m----> 1\u001b[0m \u001b[38;5;28;01mif\u001b[39;00m \u001b[38;5;28misinstance\u001b[39m(\u001b[43minput_shape\u001b[49m,\u001b[38;5;28mlist\u001b[39m) \u001b[38;5;129;01mand\u001b[39;00m \u001b[38;5;28mlen\u001b[39m(input_shape) \u001b[38;5;241m==\u001b[39m \u001b[38;5;241m2\u001b[39m:\n\u001b[1;32m      2\u001b[0m     x_test \u001b[38;5;241m=\u001b[39m {\u001b[38;5;124m'\u001b[39m\u001b[38;5;124mx_input\u001b[39m\u001b[38;5;124m'\u001b[39m:x_test, \u001b[38;5;124m'\u001b[39m\u001b[38;5;124mr_input\u001b[39m\u001b[38;5;124m'\u001b[39m:r_test}\n",
      "\u001b[0;31mNameError\u001b[0m: name 'input_shape' is not defined"
     ]
    }
   ],
   "source": [
    "if isinstance(input_shape,list) and len(input_shape) == 2:\n",
    "    x_test = {'x_input':x_test, 'r_input':r_test}\n",
    "    "
   ]
  },
  {
   "cell_type": "code",
   "execution_count": 102,
   "metadata": {
    "colab": {
     "base_uri": "https://localhost:8080/"
    },
    "executionInfo": {
     "elapsed": 3048,
     "status": "ok",
     "timestamp": 1629698743191,
     "user": {
      "displayName": "Sadegh Mohammadi",
      "photoUrl": "https://lh3.googleusercontent.com/a-/AOh14Gg1iSjGV7iV5kzZZOpCoWfb-aIlclvodBw_eT5JzA=s64",
      "userId": "02781745993139771132"
     },
     "user_tz": -270
    },
    "id": "xORFdEMo2CO2",
    "outputId": "732cf26e-a689-4c4c-d163-df6b6a16c078"
   },
   "outputs": [
    {
     "ename": "NameError",
     "evalue": "name 'loaded_model' is not defined",
     "output_type": "error",
     "traceback": [
      "\u001b[0;31m---------------------------------------------------------------------------\u001b[0m",
      "\u001b[0;31mNameError\u001b[0m                                 Traceback (most recent call last)",
      "File \u001b[0;32m<timed exec>:1\u001b[0m, in \u001b[0;36m<module>\u001b[0;34m\u001b[0m\n",
      "\u001b[0;31mNameError\u001b[0m: name 'loaded_model' is not defined"
     ]
    }
   ],
   "source": [
    "%%time\n",
    "y_pred_p = loaded_model.predict(x_test)\n",
    "y_pred_p.shape"
   ]
  },
  {
   "cell_type": "code",
   "execution_count": 59,
   "metadata": {},
   "outputs": [
    {
     "name": "stdout",
     "output_type": "stream",
     "text": [
      "            N  L  R  j  e     V  E     A  S  a  J  F  f  /  Q\n",
      "y_pred  33849  0  0  0  0  6397  0   786  0  0  0  0  0  0  0\n",
      "y_true  36118  0  0  0  0  3194  0  1720  0  0  0  0  0  0  0\n",
      "              precision    recall  f1-score   support\n",
      "\n",
      "           A     0.0840    0.0384    0.0527      1720\n",
      "           N     0.9694    0.9085    0.9379     36118\n",
      "           V     0.4787    0.9587    0.6385      3194\n",
      "\n",
      "    accuracy                         0.8759     41032\n",
      "   macro avg     0.5107    0.6352    0.5430     41032\n",
      "weighted avg     0.8941    0.8759    0.8775     41032\n",
      "\n",
      "[[   66   960   694]\n",
      " [  665 32812  2641]\n",
      " [   55    77  3062]]\n"
     ]
    }
   ],
   "source": [
    "if CONFIG['model_type'] == 'CLF':\n",
    "    y_pred = integer_mapping(list(y_pred_p.argmax(axis=-1)), FINAL_MAP_DICT, inverse=True)\n",
    "    dh = DataHandling() \n",
    "    rp2 = dh.report_stats_table([y_pred, y_true], ['y_pred','y_true'])\n",
    "    print(rp2)\n",
    "    labels = [k for k,v in INT_MAP_DICT.items()]\n",
    "    report = Reports(y_true=y_true, y_pred=y_pred, labels=labels)\n",
    "    normalize = None\n",
    "    #report.plot_confusion_matrix(normalize=normalize, values_format='')\n",
    "    print(report.the_classification_report())\n",
    "    #report.metrics_table() \n",
    "    from sklearn.metrics import confusion_matrix, classification_report\n",
    "    print(confusion_matrix(y_true, y_pred)) "
   ]
  },
  {
   "cell_type": "code",
   "execution_count": null,
   "metadata": {},
   "outputs": [],
   "source": []
  },
  {
   "cell_type": "code",
   "execution_count": null,
   "metadata": {},
   "outputs": [],
   "source": []
  },
  {
   "cell_type": "code",
   "execution_count": 43,
   "metadata": {},
   "outputs": [
    {
     "ename": "NameError",
     "evalue": "name 'pritndsafg' is not defined",
     "output_type": "error",
     "traceback": [
      "\u001b[0;31m---------------------------------------------------------------------------\u001b[0m",
      "\u001b[0;31mNameError\u001b[0m                                 Traceback (most recent call last)",
      "\u001b[0;32m/tmp/ipykernel_13485/3649912290.py\u001b[0m in \u001b[0;36m<module>\u001b[0;34m\u001b[0m\n\u001b[0;32m----> 1\u001b[0;31m \u001b[0mpritndsafg\u001b[0m\u001b[0;34m(\u001b[0m\u001b[0;34m)\u001b[0m\u001b[0;34m\u001b[0m\u001b[0;34m\u001b[0m\u001b[0m\n\u001b[0m",
      "\u001b[0;31mNameError\u001b[0m: name 'pritndsafg' is not defined"
     ]
    }
   ],
   "source": [
    "pritndsafg()"
   ]
  },
  {
   "cell_type": "markdown",
   "metadata": {},
   "source": [
    "# ML classical (RF)"
   ]
  },
  {
   "cell_type": "code",
   "execution_count": 103,
   "metadata": {},
   "outputs": [
    {
     "data": {
      "text/plain": [
       "((18549, 2), (18549,), (18856, 2), (18856,))"
      ]
     },
     "execution_count": 103,
     "metadata": {},
     "output_type": "execute_result"
    }
   ],
   "source": [
    "r_train.shape,y_train.shape,r_val.shape,y_val.shape"
   ]
  },
  {
   "cell_type": "code",
   "execution_count": 131,
   "metadata": {},
   "outputs": [
    {
     "data": {
      "text/html": [
       "<style>#sk-container-id-15 {color: black;background-color: white;}#sk-container-id-15 pre{padding: 0;}#sk-container-id-15 div.sk-toggleable {background-color: white;}#sk-container-id-15 label.sk-toggleable__label {cursor: pointer;display: block;width: 100%;margin-bottom: 0;padding: 0.3em;box-sizing: border-box;text-align: center;}#sk-container-id-15 label.sk-toggleable__label-arrow:before {content: \"▸\";float: left;margin-right: 0.25em;color: #696969;}#sk-container-id-15 label.sk-toggleable__label-arrow:hover:before {color: black;}#sk-container-id-15 div.sk-estimator:hover label.sk-toggleable__label-arrow:before {color: black;}#sk-container-id-15 div.sk-toggleable__content {max-height: 0;max-width: 0;overflow: hidden;text-align: left;background-color: #f0f8ff;}#sk-container-id-15 div.sk-toggleable__content pre {margin: 0.2em;color: black;border-radius: 0.25em;background-color: #f0f8ff;}#sk-container-id-15 input.sk-toggleable__control:checked~div.sk-toggleable__content {max-height: 200px;max-width: 100%;overflow: auto;}#sk-container-id-15 input.sk-toggleable__control:checked~label.sk-toggleable__label-arrow:before {content: \"▾\";}#sk-container-id-15 div.sk-estimator input.sk-toggleable__control:checked~label.sk-toggleable__label {background-color: #d4ebff;}#sk-container-id-15 div.sk-label input.sk-toggleable__control:checked~label.sk-toggleable__label {background-color: #d4ebff;}#sk-container-id-15 input.sk-hidden--visually {border: 0;clip: rect(1px 1px 1px 1px);clip: rect(1px, 1px, 1px, 1px);height: 1px;margin: -1px;overflow: hidden;padding: 0;position: absolute;width: 1px;}#sk-container-id-15 div.sk-estimator {font-family: monospace;background-color: #f0f8ff;border: 1px dotted black;border-radius: 0.25em;box-sizing: border-box;margin-bottom: 0.5em;}#sk-container-id-15 div.sk-estimator:hover {background-color: #d4ebff;}#sk-container-id-15 div.sk-parallel-item::after {content: \"\";width: 100%;border-bottom: 1px solid gray;flex-grow: 1;}#sk-container-id-15 div.sk-label:hover label.sk-toggleable__label {background-color: #d4ebff;}#sk-container-id-15 div.sk-serial::before {content: \"\";position: absolute;border-left: 1px solid gray;box-sizing: border-box;top: 0;bottom: 0;left: 50%;z-index: 0;}#sk-container-id-15 div.sk-serial {display: flex;flex-direction: column;align-items: center;background-color: white;padding-right: 0.2em;padding-left: 0.2em;position: relative;}#sk-container-id-15 div.sk-item {position: relative;z-index: 1;}#sk-container-id-15 div.sk-parallel {display: flex;align-items: stretch;justify-content: center;background-color: white;position: relative;}#sk-container-id-15 div.sk-item::before, #sk-container-id-15 div.sk-parallel-item::before {content: \"\";position: absolute;border-left: 1px solid gray;box-sizing: border-box;top: 0;bottom: 0;left: 50%;z-index: -1;}#sk-container-id-15 div.sk-parallel-item {display: flex;flex-direction: column;z-index: 1;position: relative;background-color: white;}#sk-container-id-15 div.sk-parallel-item:first-child::after {align-self: flex-end;width: 50%;}#sk-container-id-15 div.sk-parallel-item:last-child::after {align-self: flex-start;width: 50%;}#sk-container-id-15 div.sk-parallel-item:only-child::after {width: 0;}#sk-container-id-15 div.sk-dashed-wrapped {border: 1px dashed gray;margin: 0 0.4em 0.5em 0.4em;box-sizing: border-box;padding-bottom: 0.4em;background-color: white;}#sk-container-id-15 div.sk-label label {font-family: monospace;font-weight: bold;display: inline-block;line-height: 1.2em;}#sk-container-id-15 div.sk-label-container {text-align: center;}#sk-container-id-15 div.sk-container {/* jupyter's `normalize.less` sets `[hidden] { display: none; }` but bootstrap.min.css set `[hidden] { display: none !important; }` so we also need the `!important` here to be able to override the default hidden behavior on the sphinx rendered scikit-learn.org. See: https://github.com/scikit-learn/scikit-learn/issues/21755 */display: inline-block !important;position: relative;}#sk-container-id-15 div.sk-text-repr-fallback {display: none;}</style><div id=\"sk-container-id-15\" class=\"sk-top-container\"><div class=\"sk-text-repr-fallback\"><pre>RandomForestClassifier(min_samples_leaf=2, n_jobs=-1, random_state=986)</pre><b>In a Jupyter environment, please rerun this cell to show the HTML representation or trust the notebook. <br />On GitHub, the HTML representation is unable to render, please try loading this page with nbviewer.org.</b></div><div class=\"sk-container\" hidden><div class=\"sk-item\"><div class=\"sk-estimator sk-toggleable\"><input class=\"sk-toggleable__control sk-hidden--visually\" id=\"sk-estimator-id-15\" type=\"checkbox\" checked><label for=\"sk-estimator-id-15\" class=\"sk-toggleable__label sk-toggleable__label-arrow\">RandomForestClassifier</label><div class=\"sk-toggleable__content\"><pre>RandomForestClassifier(min_samples_leaf=2, n_jobs=-1, random_state=986)</pre></div></div></div></div></div>"
      ],
      "text/plain": [
       "RandomForestClassifier(min_samples_leaf=2, n_jobs=-1, random_state=986)"
      ]
     },
     "execution_count": 131,
     "metadata": {},
     "output_type": "execute_result"
    }
   ],
   "source": [
    "from sklearn.ensemble import RandomForestClassifier\n",
    "clf = RandomForestClassifier(n_estimators=100,\n",
    "                             criterion='gini', #gini entropy\n",
    "                             min_samples_split=2,\n",
    "                             min_samples_leaf=2,\n",
    "                             class_weight=None, #balanced_subsample balanced None\n",
    "                             ccp_alpha=0.0,\n",
    "                             bootstrap=True,\n",
    "                             #max_samples=5000,\n",
    "                             random_state=986,\n",
    "                             warm_start=False,\n",
    "                             n_jobs=-1)\n",
    "clf.fit(r_train, y_train)"
   ]
  },
  {
   "cell_type": "code",
   "execution_count": 132,
   "metadata": {},
   "outputs": [
    {
     "name": "stdout",
     "output_type": "stream",
     "text": [
      "              precision    recall  f1-score   support\n",
      "\n",
      "           A       0.03      0.03      0.03      1720\n",
      "           N       0.95      0.75      0.84     36118\n",
      "           V       0.26      0.90      0.40      3194\n",
      "\n",
      "    accuracy                           0.73     41032\n",
      "   macro avg       0.41      0.56      0.42     41032\n",
      "weighted avg       0.86      0.73      0.77     41032\n",
      "\n",
      "[[   44  1096   580]\n",
      " [ 1117 27234  7767]\n",
      " [  114   212  2868]]\n"
     ]
    }
   ],
   "source": [
    "y_true = y_test\n",
    "y_pred = clf.predict(r_test)\n",
    "#y_pred = integer_mapping(y_pred, FINAL_MAP_DICT, inverse=True)\n",
    "\n",
    "from sklearn.metrics import confusion_matrix, classification_report\n",
    "print(classification_report(y_true, y_pred))\n",
    "print(confusion_matrix(y_true, y_pred)) "
   ]
  },
  {
   "cell_type": "code",
   "execution_count": 87,
   "metadata": {},
   "outputs": [],
   "source": [
    "fi = clf.feature_importances_"
   ]
  },
  {
   "cell_type": "code",
   "execution_count": 88,
   "metadata": {},
   "outputs": [],
   "source": [
    "finame=(\n",
    "['ratio_pre_avg', 'ratio_post_avg'])"
   ]
  },
  {
   "cell_type": "code",
   "execution_count": 89,
   "metadata": {},
   "outputs": [
    {
     "data": {
      "text/plain": [
       "<BarContainer object of 2 artists>"
      ]
     },
     "execution_count": 89,
     "metadata": {},
     "output_type": "execute_result"
    },
    {
     "data": {
      "image/png": "[encoded data removed]",
      "text/plain": [
       "<Figure size 640x480 with 1 Axes>"
      ]
     },
     "metadata": {},
     "output_type": "display_data"
    }
   ],
   "source": [
    "plt.bar(range(len(fi)),fi)"
   ]
  },
  {
   "cell_type": "code",
   "execution_count": 90,
   "metadata": {},
   "outputs": [
    {
     "data": {
      "text/html": [
       "<div>\n",
       "<style scoped>\n",
       "    .dataframe tbody tr th:only-of-type {\n",
       "        vertical-align: middle;\n",
       "    }\n",
       "\n",
       "    .dataframe tbody tr th {\n",
       "        vertical-align: top;\n",
       "    }\n",
       "\n",
       "    .dataframe thead th {\n",
       "        text-align: right;\n",
       "    }\n",
       "</style>\n",
       "<table border=\"1\" class=\"dataframe\">\n",
       "  <thead>\n",
       "    <tr style=\"text-align: right;\">\n",
       "      <th></th>\n",
       "      <th>Feat</th>\n",
       "      <th>FI</th>\n",
       "    </tr>\n",
       "  </thead>\n",
       "  <tbody>\n",
       "    <tr>\n",
       "      <th>0</th>\n",
       "      <td>ratio_pre_avg</td>\n",
       "      <td>0.521202</td>\n",
       "    </tr>\n",
       "    <tr>\n",
       "      <th>1</th>\n",
       "      <td>ratio_post_avg</td>\n",
       "      <td>0.478798</td>\n",
       "    </tr>\n",
       "  </tbody>\n",
       "</table>\n",
       "</div>"
      ],
      "text/plain": [
       "             Feat        FI\n",
       "0   ratio_pre_avg  0.521202\n",
       "1  ratio_post_avg  0.478798"
      ]
     },
     "execution_count": 90,
     "metadata": {},
     "output_type": "execute_result"
    }
   ],
   "source": [
    "pd.DataFrame(zip(finame,fi),columns=['Feat','FI']).sort_values(by='FI',ascending=False).head(30)"
   ]
  },
  {
   "cell_type": "markdown",
   "metadata": {},
   "source": [
    "# ML classical (XGB)"
   ]
  },
  {
   "cell_type": "code",
   "execution_count": 95,
   "metadata": {},
   "outputs": [
    {
     "data": {
      "text/plain": [
       "((18549, 2), (18549,), (18856, 2), (18856,))"
      ]
     },
     "execution_count": 95,
     "metadata": {},
     "output_type": "execute_result"
    }
   ],
   "source": [
    "r_train.shape,y_train.shape,r_val.shape,y_val.shape"
   ]
  },
  {
   "cell_type": "code",
   "execution_count": 96,
   "metadata": {},
   "outputs": [
    {
     "data": {
      "text/html": [
       "<style>#sk-container-id-4 {color: black;background-color: white;}#sk-container-id-4 pre{padding: 0;}#sk-container-id-4 div.sk-toggleable {background-color: white;}#sk-container-id-4 label.sk-toggleable__label {cursor: pointer;display: block;width: 100%;margin-bottom: 0;padding: 0.3em;box-sizing: border-box;text-align: center;}#sk-container-id-4 label.sk-toggleable__label-arrow:before {content: \"▸\";float: left;margin-right: 0.25em;color: #696969;}#sk-container-id-4 label.sk-toggleable__label-arrow:hover:before {color: black;}#sk-container-id-4 div.sk-estimator:hover label.sk-toggleable__label-arrow:before {color: black;}#sk-container-id-4 div.sk-toggleable__content {max-height: 0;max-width: 0;overflow: hidden;text-align: left;background-color: #f0f8ff;}#sk-container-id-4 div.sk-toggleable__content pre {margin: 0.2em;color: black;border-radius: 0.25em;background-color: #f0f8ff;}#sk-container-id-4 input.sk-toggleable__control:checked~div.sk-toggleable__content {max-height: 200px;max-width: 100%;overflow: auto;}#sk-container-id-4 input.sk-toggleable__control:checked~label.sk-toggleable__label-arrow:before {content: \"▾\";}#sk-container-id-4 div.sk-estimator input.sk-toggleable__control:checked~label.sk-toggleable__label {background-color: #d4ebff;}#sk-container-id-4 div.sk-label input.sk-toggleable__control:checked~label.sk-toggleable__label {background-color: #d4ebff;}#sk-container-id-4 input.sk-hidden--visually {border: 0;clip: rect(1px 1px 1px 1px);clip: rect(1px, 1px, 1px, 1px);height: 1px;margin: -1px;overflow: hidden;padding: 0;position: absolute;width: 1px;}#sk-container-id-4 div.sk-estimator {font-family: monospace;background-color: #f0f8ff;border: 1px dotted black;border-radius: 0.25em;box-sizing: border-box;margin-bottom: 0.5em;}#sk-container-id-4 div.sk-estimator:hover {background-color: #d4ebff;}#sk-container-id-4 div.sk-parallel-item::after {content: \"\";width: 100%;border-bottom: 1px solid gray;flex-grow: 1;}#sk-container-id-4 div.sk-label:hover label.sk-toggleable__label {background-color: #d4ebff;}#sk-container-id-4 div.sk-serial::before {content: \"\";position: absolute;border-left: 1px solid gray;box-sizing: border-box;top: 0;bottom: 0;left: 50%;z-index: 0;}#sk-container-id-4 div.sk-serial {display: flex;flex-direction: column;align-items: center;background-color: white;padding-right: 0.2em;padding-left: 0.2em;position: relative;}#sk-container-id-4 div.sk-item {position: relative;z-index: 1;}#sk-container-id-4 div.sk-parallel {display: flex;align-items: stretch;justify-content: center;background-color: white;position: relative;}#sk-container-id-4 div.sk-item::before, #sk-container-id-4 div.sk-parallel-item::before {content: \"\";position: absolute;border-left: 1px solid gray;box-sizing: border-box;top: 0;bottom: 0;left: 50%;z-index: -1;}#sk-container-id-4 div.sk-parallel-item {display: flex;flex-direction: column;z-index: 1;position: relative;background-color: white;}#sk-container-id-4 div.sk-parallel-item:first-child::after {align-self: flex-end;width: 50%;}#sk-container-id-4 div.sk-parallel-item:last-child::after {align-self: flex-start;width: 50%;}#sk-container-id-4 div.sk-parallel-item:only-child::after {width: 0;}#sk-container-id-4 div.sk-dashed-wrapped {border: 1px dashed gray;margin: 0 0.4em 0.5em 0.4em;box-sizing: border-box;padding-bottom: 0.4em;background-color: white;}#sk-container-id-4 div.sk-label label {font-family: monospace;font-weight: bold;display: inline-block;line-height: 1.2em;}#sk-container-id-4 div.sk-label-container {text-align: center;}#sk-container-id-4 div.sk-container {/* jupyter's `normalize.less` sets `[hidden] { display: none; }` but bootstrap.min.css set `[hidden] { display: none !important; }` so we also need the `!important` here to be able to override the default hidden behavior on the sphinx rendered scikit-learn.org. See: https://github.com/scikit-learn/scikit-learn/issues/21755 */display: inline-block !important;position: relative;}#sk-container-id-4 div.sk-text-repr-fallback {display: none;}</style><div id=\"sk-container-id-4\" class=\"sk-top-container\"><div class=\"sk-text-repr-fallback\"><pre>XGBClassifier(base_score=0.5, booster=&#x27;gbtree&#x27;, callbacks=None,\n",
       "              colsample_bylevel=1, colsample_bynode=1, colsample_bytree=1,\n",
       "              early_stopping_rounds=None, enable_categorical=False,\n",
       "              eval_metric=None, gamma=0, gpu_id=-1, grow_policy=&#x27;depthwise&#x27;,\n",
       "              importance_type=None, interaction_constraints=&#x27;&#x27;,\n",
       "              learning_rate=0.300000012, max_bin=256, max_cat_to_onehot=4,\n",
       "              max_delta_step=0, max_depth=6, max_leaves=0, min_child_weight=1,\n",
       "              missing=nan, monotone_constraints=&#x27;()&#x27;, n_estimators=1000,\n",
       "              n_jobs=0, num_parallel_tree=1, objective=&#x27;multi:softprob&#x27;,\n",
       "              predictor=&#x27;auto&#x27;, random_state=0, reg_alpha=0, ...)</pre><b>In a Jupyter environment, please rerun this cell to show the HTML representation or trust the notebook. <br />On GitHub, the HTML representation is unable to render, please try loading this page with nbviewer.org.</b></div><div class=\"sk-container\" hidden><div class=\"sk-item\"><div class=\"sk-estimator sk-toggleable\"><input class=\"sk-toggleable__control sk-hidden--visually\" id=\"sk-estimator-id-4\" type=\"checkbox\" checked><label for=\"sk-estimator-id-4\" class=\"sk-toggleable__label sk-toggleable__label-arrow\">XGBClassifier</label><div class=\"sk-toggleable__content\"><pre>XGBClassifier(base_score=0.5, booster=&#x27;gbtree&#x27;, callbacks=None,\n",
       "              colsample_bylevel=1, colsample_bynode=1, colsample_bytree=1,\n",
       "              early_stopping_rounds=None, enable_categorical=False,\n",
       "              eval_metric=None, gamma=0, gpu_id=-1, grow_policy=&#x27;depthwise&#x27;,\n",
       "              importance_type=None, interaction_constraints=&#x27;&#x27;,\n",
       "              learning_rate=0.300000012, max_bin=256, max_cat_to_onehot=4,\n",
       "              max_delta_step=0, max_depth=6, max_leaves=0, min_child_weight=1,\n",
       "              missing=nan, monotone_constraints=&#x27;()&#x27;, n_estimators=1000,\n",
       "              n_jobs=0, num_parallel_tree=1, objective=&#x27;multi:softprob&#x27;,\n",
       "              predictor=&#x27;auto&#x27;, random_state=0, reg_alpha=0, ...)</pre></div></div></div></div></div>"
      ],
      "text/plain": [
       "XGBClassifier(base_score=0.5, booster='gbtree', callbacks=None,\n",
       "              colsample_bylevel=1, colsample_bynode=1, colsample_bytree=1,\n",
       "              early_stopping_rounds=None, enable_categorical=False,\n",
       "              eval_metric=None, gamma=0, gpu_id=-1, grow_policy='depthwise',\n",
       "              importance_type=None, interaction_constraints='',\n",
       "              learning_rate=0.300000012, max_bin=256, max_cat_to_onehot=4,\n",
       "              max_delta_step=0, max_depth=6, max_leaves=0, min_child_weight=1,\n",
       "              missing=nan, monotone_constraints='()', n_estimators=1000,\n",
       "              n_jobs=0, num_parallel_tree=1, objective='multi:softprob',\n",
       "              predictor='auto', random_state=0, reg_alpha=0, ...)"
      ]
     },
     "execution_count": 96,
     "metadata": {},
     "output_type": "execute_result"
    }
   ],
   "source": [
    "from xgboost import XGBClassifier\n",
    "xgbclf = XGBClassifier(n_estimators=1000)\n",
    "xgbclf.fit(r_train,y_train)"
   ]
  },
  {
   "cell_type": "code",
   "execution_count": 97,
   "metadata": {},
   "outputs": [
    {
     "name": "stdout",
     "output_type": "stream",
     "text": [
      "              precision    recall  f1-score   support\n",
      "\n",
      "           A       0.04      0.04      0.04      1720\n",
      "           N       0.95      0.75      0.84     36118\n",
      "           V       0.26      0.88      0.40      3194\n",
      "\n",
      "    accuracy                           0.73     41032\n",
      "   macro avg       0.42      0.56      0.43     41032\n",
      "weighted avg       0.86      0.73      0.77     41032\n",
      "\n",
      "[[   76  1072   572]\n",
      " [ 1707 27058  7353]\n",
      " [  169   210  2815]]\n"
     ]
    }
   ],
   "source": [
    "y_true = y_test\n",
    "y_pred = xgbclf.predict(r_test)\n",
    "y_pred = integer_mapping(y_pred, FINAL_MAP_DICT, inverse=True)\n",
    "\n",
    "from sklearn.metrics import confusion_matrix, classification_report\n",
    "print(classification_report(y_true, y_pred))\n",
    "print(confusion_matrix(y_true, y_pred))"
   ]
  },
  {
   "cell_type": "code",
   "execution_count": null,
   "metadata": {},
   "outputs": [],
   "source": []
  },
  {
   "cell_type": "code",
   "execution_count": null,
   "metadata": {},
   "outputs": [],
   "source": []
  },
  {
   "cell_type": "code",
   "execution_count": null,
   "metadata": {},
   "outputs": [],
   "source": []
  },
  {
   "cell_type": "code",
   "execution_count": null,
   "metadata": {},
   "outputs": [],
   "source": []
  },
  {
   "cell_type": "code",
   "execution_count": null,
   "metadata": {},
   "outputs": [],
   "source": []
  },
  {
   "cell_type": "code",
   "execution_count": null,
   "metadata": {},
   "outputs": [],
   "source": []
  },
  {
   "cell_type": "code",
   "execution_count": null,
   "metadata": {},
   "outputs": [],
   "source": [
    "pikfgjk()"
   ]
  },
  {
   "cell_type": "code",
   "execution_count": null,
   "metadata": {},
   "outputs": [],
   "source": [
    "if CONFIG['model_type'] == 'AE':\n",
    "    sig_similarity_report(x_test,y_pred_p,y_test)"
   ]
  },
  {
   "cell_type": "code",
   "execution_count": null,
   "metadata": {},
   "outputs": [],
   "source": [
    "if CONFIG['dataset'] == 'stft':\n",
    "    ind = dh.search_type(y_true, sym='N')\n",
    "\n",
    "    n = 9\n",
    "\n",
    "    fig, (ax1, ax2) = plt.subplots(1, 2)\n",
    "    #fig.suptitle('#:{} class:{} '.format(n,sym))\n",
    "    ax1.imshow(x_test[ind[n]].T)\n",
    "    ax2.imshow(np.squeeze(y_pred_p[ind[n]]).T)\n",
    "    ax1.invert_yaxis() \n",
    "    ax2.invert_yaxis() "
   ]
  },
  {
   "cell_type": "code",
   "execution_count": null,
   "metadata": {},
   "outputs": [],
   "source": []
  },
  {
   "cell_type": "code",
   "execution_count": null,
   "metadata": {},
   "outputs": [],
   "source": [
    "ind = dh.search_label(y_true, sym='N')\n",
    "import matplotlib.pyplot as plt\n",
    "n = 2000\n",
    "plt.plot(x_test[ind[n]])\n",
    "plt.plot(y_pred_p[ind[n]]) "
   ]
  },
  {
   "cell_type": "code",
   "execution_count": null,
   "metadata": {},
   "outputs": [],
   "source": [
    "output_shape = mymodel.output_shape\n",
    "if isinstance(output_shape,list) and len(output_shape) == 2:\n",
    "    mse = []\n",
    "    syms = []\n",
    "    for s in np.unique(y_true):\n",
    "        ind = dh.search_type(y_true, sym=s)\n",
    "        err = np.mean(np.square(r_test[ind] - y_pred_p[1][ind]))\n",
    "        mse.append(err)\n",
    "        syms.append(s)\n",
    "        \n",
    "    dict_res_r = {'sym':syms, 'mse_r':mse}\n",
    "    df_r = pd.DataFrame(dict_res_r)\n",
    "    print(df_r.sort_values(by='mse_r')) \n",
    "    \n",
    "    ind = dh.search_type(y_true, sym='A')\n",
    "    n = 100\n",
    "    plt.plot(r_test[ind[n]])\n",
    "    plt.plot(y_pred_p[1][ind[n]]) \n",
    "    \n",
    "    df = pd.concat([df_x,df_r['mse_r']],axis=1)\n",
    "    df['mse_sum'] = df[['mse_x','mse_r']].sum(axis=1)\n",
    "    df.sort_values(by='mse_sum') "
   ]
  },
  {
   "cell_type": "code",
   "execution_count": null,
   "metadata": {},
   "outputs": [],
   "source": []
  },
  {
   "cell_type": "code",
   "execution_count": null,
   "metadata": {},
   "outputs": [],
   "source": [
    "#fake signal\n",
    "in_array = np.linspace(-2*np.pi, 2*np.pi, 220)\n",
    "out_array = -1*np.sin(in_array)+np.sin(3*in_array)\n",
    "out_array = out_array.reshape(1,-1)\n",
    "out_array += 0.2*np.random.rand(1,220)\n",
    "\n",
    "y_pred = loaded_model.predict(out_array)\n",
    "\n",
    "plt.plot(out_array[0])\n",
    "plt.plot(y_pred[0])\n",
    "\n",
    "\n",
    "from sklearn.metrics import mean_squared_error\n",
    "cosine_similarity = tf.keras.metrics.CosineSimilarity(axis=-1)\n",
    "from fastdtw import fastdtw\n",
    "from pyecg.utils import normalized_cross_corr\n",
    "\n",
    "print(np.mean(np.square(out_array.flatten() - y_pred.flatten())))\n",
    "print(cosine_similarity(out_array, y_pred).numpy())\n",
    "print(fastdtw(out_array,y_pred)[0])\n",
    "print(normalized_cross_corr(out_array[0],y_pred[0]))"
   ]
  },
  {
   "cell_type": "code",
   "execution_count": null,
   "metadata": {},
   "outputs": [],
   "source": []
  },
  {
   "cell_type": "markdown",
   "metadata": {},
   "source": [
    "# Latent"
   ]
  },
  {
   "cell_type": "code",
   "execution_count": null,
   "metadata": {},
   "outputs": [],
   "source": [
    "ds_train = load_data(file_path = '../data/DS1_train.dat')\n",
    "x_train, y_train, r_train = ds_train.values() "
   ]
  },
  {
   "cell_type": "code",
   "execution_count": null,
   "metadata": {},
   "outputs": [],
   "source": []
  },
  {
   "cell_type": "code",
   "execution_count": null,
   "metadata": {},
   "outputs": [],
   "source": []
  },
  {
   "cell_type": "code",
   "execution_count": null,
   "metadata": {},
   "outputs": [],
   "source": [
    "from pyecg.data_handling import slice_data\n",
    "ds_train = slice_data(ds_train, ['N']) \n",
    "x_train, y_train, r_train = ds_train.values()"
   ]
  },
  {
   "cell_type": "code",
   "execution_count": null,
   "metadata": {},
   "outputs": [],
   "source": [
    "ds_train = clean_inf_nan(ds_train)\n",
    "x_train, y_train, r_train = ds_train.values()"
   ]
  },
  {
   "cell_type": "code",
   "execution_count": null,
   "metadata": {},
   "outputs": [],
   "source": [
    "plt.plot(r_train[:,1])"
   ]
  },
  {
   "cell_type": "code",
   "execution_count": null,
   "metadata": {},
   "outputs": [],
   "source": [
    "x_train.shape,r_train.shape,len(y_train)"
   ]
  },
  {
   "cell_type": "code",
   "execution_count": null,
   "metadata": {},
   "outputs": [],
   "source": [
    "ds_train = clean_IQR(ds_train)\n",
    "x_train, y_train, r_train = ds_train.values()\n",
    "x_train.shape,r_train.shape,len(y_train) "
   ]
  },
  {
   "cell_type": "code",
   "execution_count": null,
   "metadata": {},
   "outputs": [],
   "source": [
    "hh=plt.hist(r_train[:,70],bins=100) "
   ]
  },
  {
   "cell_type": "code",
   "execution_count": null,
   "metadata": {},
   "outputs": [],
   "source": [
    "min(r_train[:,70]),max(r_train[:,70])"
   ]
  },
  {
   "cell_type": "code",
   "execution_count": null,
   "metadata": {},
   "outputs": [],
   "source": [
    "from sklearn.preprocessing import MinMaxScaler\n",
    "\n",
    "scaler_r = MinMaxScaler(feature_range=(0,1))\n",
    "r_train = scaler_r.fit_transform(r_train)\n",
    "r_test = scaler_r.transform(r_test)  "
   ]
  },
  {
   "cell_type": "code",
   "execution_count": null,
   "metadata": {},
   "outputs": [],
   "source": [
    "from sklearn.preprocessing import StandardScaler\n",
    "standardscaler_r = StandardScaler()\n",
    "r_train = standardscaler_r.fit_transform(r_train)\n",
    "r_test = standardscaler_r.transform(r_test) "
   ]
  },
  {
   "cell_type": "code",
   "execution_count": null,
   "metadata": {},
   "outputs": [],
   "source": [
    "max(r_train.flatten()),max(r_test.flatten())"
   ]
  },
  {
   "cell_type": "code",
   "execution_count": null,
   "metadata": {},
   "outputs": [],
   "source": [
    "x = x_train\n",
    "r = r_train\n",
    "y = y_train\n",
    "\n",
    "\n",
    "encoder = tf.keras.Model(mymodel.input, mymodel.get_layer('latent').output)\n",
    "x_lat_train = encoder.predict(x) "
   ]
  },
  {
   "cell_type": "code",
   "execution_count": null,
   "metadata": {},
   "outputs": [],
   "source": [
    "x_lat_train[10]"
   ]
  },
  {
   "cell_type": "code",
   "execution_count": null,
   "metadata": {},
   "outputs": [],
   "source": [
    "%%time\n",
    "\n",
    "new_x = np.concatenate((x_lat_train, r_train), axis=-1)\n",
    "#new_x = r_train\n",
    "print('shape of new_x: '+str(new_x.shape))\n",
    "\n",
    "\n",
    "ind = dh.search_type(y_train, sym='N')\n",
    "new_x_train = new_x[ind] \n",
    "print('shape of new_x: '+str(new_x_train.shape))\n",
    "\n",
    "\n",
    "params_model = {\n",
    "    'x_input_dim' : np.squeeze(new_x_train[0].shape),\n",
    "    'r_input_dim':r_train.shape[-1],\n",
    "    'num_classes' : len(np.unique(y_train)),\n",
    "    'dim_latent' : 4,\n",
    "    'regularizer' : None\n",
    "}\n",
    "\n",
    "mymodel2 = model_arch(params_model)                                          \n",
    "\n",
    "mymodel2.compile(\n",
    "              optimizer = opt,\n",
    "              loss = get_loss(CONFIG['model_type']),\n",
    "              metrics = get_metrics(CONFIG['model_type']),\n",
    "              loss_weights = None\n",
    "              )\n",
    "\n",
    "model_history2 = mymodel2.fit(\n",
    "              x = new_x_train,\n",
    "              y = new_x_train,\n",
    "              batch_size = params_train['batch_size'],\n",
    "              epochs=5,\n",
    "              verbose=1,\n",
    "              callbacks=callbacks,\n",
    "              #validation_data=({'x_input':x_val, 'r_input':r_val}, y_val_),\n",
    "              shuffle=True,\n",
    "              #class_weight= calc_class_weights(CONFIG['class_weight'], y_train),    #None,\n",
    "              sample_weight=None,\n",
    "              initial_epoch=0\n",
    "              ) "
   ]
  },
  {
   "cell_type": "code",
   "execution_count": null,
   "metadata": {},
   "outputs": [],
   "source": [
    "mymodel2.summary()"
   ]
  },
  {
   "cell_type": "code",
   "execution_count": null,
   "metadata": {},
   "outputs": [],
   "source": [
    "#on train set\n",
    "import matplotlib.pyplot as plt\n",
    "n = 200\n",
    "plt.plot(new_x_train[n])\n",
    "new_pred_train = mymodel2.predict(new_x_train) \n",
    "plt.plot(new_pred_train[n]) "
   ]
  },
  {
   "cell_type": "code",
   "execution_count": null,
   "metadata": {},
   "outputs": [],
   "source": [
    "#save model\n",
    "mymodel2.save(BASEPATH+'saved_models/mymodel2') "
   ]
  },
  {
   "cell_type": "code",
   "execution_count": null,
   "metadata": {},
   "outputs": [],
   "source": [
    "x = x_test\n",
    "r = r_test\n",
    "y = y_test\n",
    "\n",
    "x_lat_test = encoder.predict(x)\n",
    "new_x_test = np.concatenate((x_lat_test, r_test), axis=-1)\n",
    "#new_x_test = r_test\n",
    "\n",
    "new_pred_test = mymodel2.predict(new_x_test) "
   ]
  },
  {
   "cell_type": "code",
   "execution_count": null,
   "metadata": {},
   "outputs": [],
   "source": [
    "max(new_x_test.flatten())"
   ]
  },
  {
   "cell_type": "code",
   "execution_count": null,
   "metadata": {},
   "outputs": [],
   "source": [
    "min(x_lat_train.flatten())"
   ]
  },
  {
   "cell_type": "code",
   "execution_count": null,
   "metadata": {},
   "outputs": [],
   "source": [
    "#sig_similarity_report(new_x_test, new_pred_test, y_test) "
   ]
  },
  {
   "cell_type": "code",
   "execution_count": null,
   "metadata": {},
   "outputs": [],
   "source": [
    "#On test\n",
    "ind = dh.search_type(y_test, sym='V')\n",
    "import matplotlib.pyplot as plt\n",
    "n = 200\n",
    "plt.plot(new_x_test[ind[n]])\n",
    "plt.plot(new_pred_test[ind[n]]) "
   ]
  },
  {
   "cell_type": "code",
   "execution_count": null,
   "metadata": {},
   "outputs": [],
   "source": [
    "df = sig_similarity_hist(new_x_test, new_pred_test, y_test) \n",
    "df.groupby('SYM').mean().sort_values(by='DTW')"
   ]
  },
  {
   "cell_type": "code",
   "execution_count": null,
   "metadata": {},
   "outputs": [],
   "source": [
    "for sym in pd.unique(df['SYM']):\n",
    "    ax = df[df['SYM']==sym].hist(column='DTW',bins=50, legend=True)\n",
    "    ax[0][0].set_xlim(0,15)\n",
    "    #ax[0][0].set_xticks(np.arange(0,15,1))\n",
    "    plt.title(sym)\n",
    "    \n",
    "\n",
    "    \n",
    "#df.hist(column='DTW',bins=30, legend=True)\n",
    "    "
   ]
  },
  {
   "cell_type": "code",
   "execution_count": null,
   "metadata": {},
   "outputs": [],
   "source": []
  },
  {
   "cell_type": "code",
   "execution_count": null,
   "metadata": {},
   "outputs": [],
   "source": []
  },
  {
   "cell_type": "code",
   "execution_count": null,
   "metadata": {},
   "outputs": [],
   "source": []
  },
  {
   "cell_type": "code",
   "execution_count": null,
   "metadata": {},
   "outputs": [],
   "source": [
    "syms = pd.unique(df['SYM'])\n",
    "\n",
    "fig, axes = plt.subplots(4,3, sharex=False, sharey=False)\n",
    "\n",
    "for i in range(len(syms)): \n",
    "    y = i//3\n",
    "    x = i % 3\n",
    "    #print('({},{})'.format(y,x))\n",
    "    ax = axes[y][x]\n",
    "    ax.hist(df[df['SYM']==syms[i]],bins=40)\n",
    "    ax.set_title(syms[i])\n",
    "\n",
    "\n",
    "plt.show()"
   ]
  },
  {
   "cell_type": "code",
   "execution_count": null,
   "metadata": {},
   "outputs": [],
   "source": []
  },
  {
   "cell_type": "code",
   "execution_count": null,
   "metadata": {},
   "outputs": [],
   "source": []
  },
  {
   "cell_type": "code",
   "execution_count": null,
   "metadata": {},
   "outputs": [],
   "source": [
    "x_lat = x_lat_test\n",
    "y = y_test\n",
    "\n",
    "#ind = dh.search_type(y, sym='j')\n",
    "ind = list(np.arange(len(y)))\n",
    "\n",
    "x_loc = x_lat[ind,0]\n",
    "y_loc = x_lat[ind,1]\n",
    "yy = [y[i] for i in ind]\n",
    "\n",
    "labels = np.unique(y)\n",
    "colors = np.arange(0,len(labels))\n",
    "l_c_dict = dict(zip(labels,colors))\n",
    "y_c = [l_c_dict[l] for l in yy] \n",
    "\n",
    "y_c\n",
    "plt.figure(figsize=(6,6))\n",
    "plt.scatter(x_loc,y_loc, s=.1, c=y_c)\n"
   ]
  },
  {
   "cell_type": "code",
   "execution_count": null,
   "metadata": {},
   "outputs": [],
   "source": [
    "x_lat = x_lat_train\n",
    "y = y_train\n",
    "\n",
    "ind = dh.search_type(y, sym='j')\n",
    "ind = list(np.arange(len(y)))\n",
    "\n",
    "x_loc = x_lat[ind,0]\n",
    "y_loc = x_lat[ind,1]\n",
    "yy = [y[i] for i in ind]\n",
    "\n",
    "labels = np.unique(y)\n",
    "colors = np.arange(0,len(labels))\n",
    "l_c_dict = dict(zip(labels,colors))\n",
    "y_c = [l_c_dict[l] for l in yy]\n",
    "\n",
    "y_c\n",
    "plt.figure(figsize=(6,6))\n",
    "plt.scatter(x_loc,y_loc, s=.1, c=y_c)\n"
   ]
  },
  {
   "cell_type": "code",
   "execution_count": null,
   "metadata": {},
   "outputs": [],
   "source": []
  },
  {
   "cell_type": "code",
   "execution_count": null,
   "metadata": {},
   "outputs": [],
   "source": [
    "latent_features.shape, r_train.shape, len(y_train)"
   ]
  },
  {
   "cell_type": "code",
   "execution_count": null,
   "metadata": {},
   "outputs": [],
   "source": [
    "new_x.shape"
   ]
  },
  {
   "cell_type": "code",
   "execution_count": null,
   "metadata": {},
   "outputs": [],
   "source": [
    "new_pred = mymodel2.predict([new_x, r_test])"
   ]
  },
  {
   "cell_type": "code",
   "execution_count": null,
   "metadata": {},
   "outputs": [],
   "source": []
  },
  {
   "cell_type": "code",
   "execution_count": null,
   "metadata": {},
   "outputs": [],
   "source": [
    "x = new_x\n",
    "r = r_train\n",
    "y = y_train\n",
    "\n",
    "encoder2 = tf.keras.Model(mymodel2.input, mymodel2.get_layer('latent').output)\n",
    "latent_features = encoder2.predict([x,r])"
   ]
  },
  {
   "cell_type": "code",
   "execution_count": null,
   "metadata": {},
   "outputs": [],
   "source": [
    "latent_features[0] "
   ]
  },
  {
   "cell_type": "code",
   "execution_count": null,
   "metadata": {},
   "outputs": [],
   "source": [
    "ind = dh.search_type(y, sym='e')\n",
    "ind = list(np.arange(len(y)))\n",
    "\n",
    "x_loc = latent_features[ind,0]\n",
    "y_loc = latent_features[ind,1]\n",
    "yy = [y[i] for i in ind]\n",
    "y_c = [l_c_dict[l] for l in yy]\n",
    "\n",
    "y_c\n",
    "plt.figure(figsize=(6,6))\n",
    "plt.scatter(x_loc,y_loc, s=.1,alpha=.5, c=y_c)  "
   ]
  },
  {
   "cell_type": "code",
   "execution_count": null,
   "metadata": {},
   "outputs": [],
   "source": []
  },
  {
   "cell_type": "markdown",
   "metadata": {},
   "source": [
    "# Anomaly"
   ]
  },
  {
   "cell_type": "code",
   "execution_count": null,
   "metadata": {},
   "outputs": [],
   "source": [
    "ds_train = load_data(file_path = '../data/DS1_train.dat')\n",
    "ds_train = clean_inf_nan(ds_train)\n",
    "x_train, y_train, r_train = ds_train.values()\n",
    "#r_train = r_train[:,:]\n",
    "r_train.shape"
   ]
  },
  {
   "cell_type": "code",
   "execution_count": null,
   "metadata": {},
   "outputs": [],
   "source": [
    "syms = np.unique(y_train)\n",
    "\n",
    "x_tt=[]\n",
    "y_tt=[]\n",
    "r_tt=[]\n",
    "for sym in syms:\n",
    "    ds_t = slice_data(ds_train, [sym])\n",
    "    ds_t = clean_IQR(ds_t, factor=5.5)\n",
    "    x_t, y_t, r_t = ds_t.values()\n",
    "    x_tt.extend(list(x_t))\n",
    "    y_tt.extend(list(y_t))\n",
    "    r_tt.extend(list(r_t))\n",
    "    \n",
    "x_tt = np.array(x_tt)\n",
    "r_tt = np.array(r_tt)    \n",
    "ds_train = {'x':x_tt,'y':y_tt,'r':r_tt}\n"
   ]
  },
  {
   "cell_type": "code",
   "execution_count": null,
   "metadata": {},
   "outputs": [],
   "source": [
    "len(x_tt),len(y_tt),len(r_tt)"
   ]
  },
  {
   "cell_type": "raw",
   "metadata": {},
   "source": [
    "ds_train = slice_data(ds_train, ['N'])\n",
    "x_train, y_train, r_train = ds_train.values()"
   ]
  },
  {
   "cell_type": "code",
   "execution_count": null,
   "metadata": {},
   "outputs": [],
   "source": [
    "from sklearn.preprocessing import MinMaxScaler\n",
    "\n",
    "scaler_r = MinMaxScaler(feature_range=(-1,1))\n",
    "r_train = scaler_r.fit_transform(r_train)\n",
    "#r_test = scaler_r.transform(r_test)  "
   ]
  },
  {
   "cell_type": "code",
   "execution_count": null,
   "metadata": {},
   "outputs": [],
   "source": [
    "from sklearn.preprocessing import StandardScaler\n",
    "standardscaler_r = StandardScaler()\n",
    "r_train = standardscaler_r.fit_transform(r_train)\n",
    "#r_test = standardscaler_r.transform(r_test) "
   ]
  },
  {
   "cell_type": "code",
   "execution_count": null,
   "metadata": {},
   "outputs": [],
   "source": []
  },
  {
   "cell_type": "code",
   "execution_count": null,
   "metadata": {},
   "outputs": [],
   "source": [
    "print('data shape:{}, min: {}, max: {}'.format(r_train.shape, min(r_train.flatten()), max(r_train.flatten())))\n",
    "\n",
    "import numpy as np\n",
    "\n",
    "from sklearn.ensemble import IsolationForest\n",
    "from sklearn.svm import OneClassSVM\n",
    "from sklearn.neighbors import LocalOutlierFactor\n",
    "\n",
    "X_train = r_train\n",
    "\n",
    "#clf = IsolationForest(n_estimators=40,contamination=0.25, warm_start=True)\n",
    "clf = OneClassSVM(gamma='auto', nu=0.25)\n",
    "#clf = LocalOutlierFactor(n_neighbors=20, novelty=True, contamination=0.26)\n",
    "clf.fit(X_train) "
   ]
  },
  {
   "cell_type": "code",
   "execution_count": null,
   "metadata": {},
   "outputs": [],
   "source": [
    "#predict\n",
    "ds_test = clean_inf_nan(ds_test)\n",
    "x_test, y_test, r_test = ds_test.values()\n",
    "\n",
    "Y_TEST = y_train\n",
    "X_TEST = r_train\n",
    "pred_anomaly = clf.predict(X_TEST)\n",
    "pred_anomaly.shape"
   ]
  },
  {
   "cell_type": "code",
   "execution_count": null,
   "metadata": {},
   "outputs": [],
   "source": [
    "list(np.unique(Y_TEST))"
   ]
  },
  {
   "cell_type": "raw",
   "metadata": {},
   "source": [
    "ind = dh.search_type(y_train, sym='R')\n",
    "pred_anomaly_c = pred_anomaly[ind]\n",
    "print(pred_anomaly_c.shape)\n",
    "plt.hist(pred_anomaly_c, bins=2, density=True)"
   ]
  },
  {
   "cell_type": "code",
   "execution_count": null,
   "metadata": {},
   "outputs": [],
   "source": [
    "X_TEST.shape"
   ]
  },
  {
   "cell_type": "code",
   "execution_count": null,
   "metadata": {},
   "outputs": [],
   "source": [
    "fig, axes = plt.subplots(5,3, sharex=True, sharey=False)\n",
    "\n",
    "fig.set_figheight(15)\n",
    "fig.set_figwidth(15)\n",
    "\n",
    "syms = list(np.unique(Y_TEST))\n",
    "pos=[]\n",
    "neg=[]\n",
    "for i in range(len(syms)): \n",
    "    y = i//3\n",
    "    x = i % 3\n",
    "    #print('({},{})'.format(y,x))\n",
    "    ax = axes[y][x] \n",
    "    ind = dh.search_type(Y_TEST, sym=syms[i])\n",
    "    pred_anomaly_c = pred_anomaly[ind] \n",
    "    #print(pred_anomaly_c.shape) \n",
    "    #hh=plt.hist(pred_anomaly_c,bins=3)\n",
    "    aa=ax.hist(pred_anomaly_c,bins=2, density=True)\n",
    "    if syms[i] !='N':\n",
    "        pos.append(aa[0][1])\n",
    "        neg.append(aa[0][0])\n",
    "    else:\n",
    "        pos.append(aa[0][0])\n",
    "        neg.append(aa[0][1])        \n",
    "    ax.set_title(syms[i]) \n",
    "print('score: '+str((sum(np.array(neg)-np.array(pos)))/len(pos)))\n",
    "plt.show()"
   ]
  },
  {
   "cell_type": "code",
   "execution_count": null,
   "metadata": {},
   "outputs": [],
   "source": []
  },
  {
   "cell_type": "markdown",
   "metadata": {},
   "source": [
    "# Binary "
   ]
  },
  {
   "cell_type": "code",
   "execution_count": null,
   "metadata": {},
   "outputs": [],
   "source": [
    "ds_train = load_data(file_path = '../data/DS1_train.dat')\n",
    "ds_train = clean_inf_nan(ds_train)\n",
    "x_train, y_train, r_train = ds_train.values()\n",
    "y_train = ['Normal' if item=='N' else 'Abnormal' for item in y_train]\n",
    "#r_train = r_train[:,:] \n",
    "r_train.shape "
   ]
  },
  {
   "cell_type": "raw",
   "metadata": {},
   "source": [
    "cl_wei = calc_class_weights(True, y_train)\n",
    "cl_wei"
   ]
  },
  {
   "cell_type": "code",
   "execution_count": null,
   "metadata": {},
   "outputs": [],
   "source": [
    "%%time\n",
    "from sklearn import svm\n",
    "clf = svm.SVC(kernel='rbf',C=0.9)\n",
    "clf.fit(r_train, y_train)"
   ]
  },
  {
   "cell_type": "code",
   "execution_count": null,
   "metadata": {},
   "outputs": [],
   "source": [
    "#predict\n",
    "ds_test = load_data(file_path = '../data/DS2.dat')\n",
    "ds_test = clean_inf_nan(ds_test)\n",
    "x_test, y_test, r_test = ds_test.values() \n",
    "y_test = ['Normal' if item=='N' else 'Abnormal' for item in y_test ]\n",
    "\n",
    "on_test_set = True\n",
    "\n",
    "Y_TEST = y_train\n",
    "X_TEST = r_train\n",
    "if on_test_set == True:\n",
    "    Y_TEST = y_test\n",
    "    X_TEST = r_test\n",
    "\n",
    "y_pred = clf.predict(X_TEST)\n",
    "y_pred.shape"
   ]
  },
  {
   "cell_type": "code",
   "execution_count": null,
   "metadata": {},
   "outputs": [],
   "source": [
    "y_pred"
   ]
  },
  {
   "cell_type": "code",
   "execution_count": null,
   "metadata": {},
   "outputs": [],
   "source": [
    "from sklearn.metrics import confusion_matrix, classification_report\n",
    "confusion_matrix(y_pred,Y_TEST)"
   ]
  },
  {
   "cell_type": "code",
   "execution_count": null,
   "metadata": {},
   "outputs": [],
   "source": [
    "print(classification_report(y_pred,Y_TEST))"
   ]
  },
  {
   "cell_type": "code",
   "execution_count": null,
   "metadata": {},
   "outputs": [],
   "source": []
  },
  {
   "cell_type": "code",
   "execution_count": null,
   "metadata": {},
   "outputs": [],
   "source": []
  }
 ],
 "metadata": {
  "colab": {
   "authorship_tag": "ABX9TyO5mdlokQ62wz4XipxYXZ75",
   "collapsed_sections": [],
   "mount_file_id": "1fzJdm7C34G_Kjk8wdz1l7I3yEPqs5Glq",
   "name": "ecARR2--modelM1_ab2(model-6).ipynb",
   "provenance": [
    {
     "file_id": "1YaU60VHIf7MwsqXX51ZtF5BRCyR_e1Wg",
     "timestamp": 1627403996239
    },
    {
     "file_id": "133QOje8skPCCjNXcjrUaHu9X-8ZUftwA",
     "timestamp": 1627396655995
    },
    {
     "file_id": "1aFoa8_DXOWB5SeAlcqk_JWGiXoBdQ_FN",
     "timestamp": 1626525095859
    },
    {
     "file_id": "1fkYTddhxNyw8p4vm0sjN00AKjYW7tzGg",
     "timestamp": 1626338627875
    },
    {
     "file_id": "1QHiJsRztLO38ZAqf5m2-lg2EEBSJu54_",
     "timestamp": 1626271867171
    },
    {
     "file_id": "1OanqZQe6Z-s__bgCMsU4E5NwZ4GlkKAb",
     "timestamp": 1626260810890
    },
    {
     "file_id": "1ajoUnxS_-KBUO0E3qP5vMK4xhguXHB8J",
     "timestamp": 1626256396609
    },
    {
     "file_id": "1BEORilBHH51WD3__8FNn9cqtdpnOOjBs",
     "timestamp": 1626254594644
    },
    {
     "file_id": "1GCc_iQ_3eCvevL4SjeY4keTIOOphyA10",
     "timestamp": 1626200488415
    },
    {
     "file_id": "1TVGoEmRhXcnrJjQ-uwY2uYNgZtutXkG7",
     "timestamp": 1626197059796
    },
    {
     "file_id": "1epbcXpaFZQRGyY_8cIREkID0jixJrSMb",
     "timestamp": 1626171676267
    },
    {
     "file_id": "1WkhnRvK7gXEIpJr4pzZn7K1NevHif6E3",
     "timestamp": 1625594198161
    },
    {
     "file_id": "169yA24spslJbJOdPx218P863AhHPaozi",
     "timestamp": 1625576664712
    },
    {
     "file_id": "1WIbdDF5DzCSO_VNWwYa_KDyVyMsRUQlb",
     "timestamp": 1624949937104
    },
    {
     "file_id": "10VRsJX9k8kIVR7KsOaJJXzy9BXEcV4oZ",
     "timestamp": 1624787399733
    }
   ]
  },
  "kernelspec": {
   "display_name": "Python 3 (ipykernel)",
   "language": "python",
   "name": "python3"
  },
  "language_info": {
   "codemirror_mode": {
    "name": "ipython",
    "version": 3
   },
   "file_extension": ".py",
   "mimetype": "text/x-python",
   "name": "python",
   "nbconvert_exporter": "python",
   "pygments_lexer": "ipython3",
   "version": "3.10.4"
  }
 },
 "nbformat": 4,
 "nbformat_minor": 1
}
