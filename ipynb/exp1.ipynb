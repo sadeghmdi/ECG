{
 "cells": [
  {
   "cell_type": "code",
   "execution_count": 1,
   "metadata": {
    "executionInfo": {
     "elapsed": 9798,
     "status": "ok",
     "timestamp": 1629698724230,
     "user": {
      "displayName": "Sadegh Mohammadi",
      "photoUrl": "https://lh3.googleusercontent.com/a-/AOh14Gg1iSjGV7iV5kzZZOpCoWfb-aIlclvodBw_eT5JzA=s64",
      "userId": "02781745993139771132"
     },
     "user_tz": -270
    },
    "id": "E9pJ0y9MaIlB"
   },
   "outputs": [],
   "source": [
    "%%capture\n",
    "#!pip install wfdb\n",
    "BASEPATH = '../'\n",
    "import sys\n",
    "sys.path.insert(0,'../py')\n",
    "print(sys.path)\n",
    "import numpy as np\n",
    "import os\n",
    "os.environ['TF_CPP_MIN_LOG_LEVEL'] = '3'\n",
    "import tensorflow as tf\n",
    "tf.get_logger().setLevel('ERROR')\n",
    "from utils import reset_seed, plot_spectogram, plot_loss, load_data\n",
    "from utils import integer_mapping, mapping_AAMI, MAP_AAMI, INT_MAP_DICT\n",
    "from data_handling import DataHandling\n",
    "from data_preprocessing import DataPreprocessing\n",
    "from report import Reports\n",
    "from models.model_with_one_mhb import MultiHeadAttentionClassifier \n",
    "\n",
    "reset_seed()"
   ]
  },
  {
   "cell_type": "markdown",
   "metadata": {},
   "source": [
    "# Data"
   ]
  },
  {
   "cell_type": "raw",
   "metadata": {
    "executionInfo": {
     "elapsed": 5,
     "status": "ok",
     "timestamp": 1629698724231,
     "user": {
      "displayName": "Sadegh Mohammadi",
      "photoUrl": "https://lh3.googleusercontent.com/a-/AOh14Gg1iSjGV7iV5kzZZOpCoWfb-aIlclvodBw_eT5JzA=s64",
      "userId": "02781745993139771132"
     },
     "user_tz": -270
    },
    "id": "RwOJWmp9xqDR"
   },
   "source": [
    "#Load Preprocessed data\n",
    "features_train, y_train = load_data(file_path = '../data/DS1_features.dat')\n",
    "features_train.shape, len(y_train)"
   ]
  },
  {
   "cell_type": "code",
   "execution_count": 2,
   "metadata": {},
   "outputs": [
    {
     "name": "stdout",
     "output_type": "stream",
     "text": [
      "File loaded: ../data/DS1_features_train.dat\n",
      "File loaded: ../data/DS1_features_val.dat\n"
     ]
    },
    {
     "data": {
      "text/plain": [
       "((48664, 30, 40), 48664, (25500, 30, 40), 25500)"
      ]
     },
     "execution_count": 2,
     "metadata": {},
     "output_type": "execute_result"
    }
   ],
   "source": [
    "#Load Preprocessed data\n",
    "x_train, y_train = load_data(file_path = '../data/DS1_features_train.dat')\n",
    "#Load Preprocessed data\n",
    "x_val, y_val = load_data(file_path = '../data/DS1_features_val.dat')\n",
    "x_train.shape, len(y_train), x_val.shape, len(y_val)"
   ]
  },
  {
   "cell_type": "code",
   "execution_count": 3,
   "metadata": {},
   "outputs": [],
   "source": [
    "mean_train = np.mean(x_train)\n",
    "std_train = np.std(x_train)\n",
    "\n",
    "def stndr(arr,mean,std):\n",
    "    X = arr.copy()\n",
    "    X = (X - np.mean(X)) / np.std(X)\n",
    "    return X\n",
    "\n",
    "x_train = stndr(x_train,mean_train,std_train)\n",
    "x_val = stndr(x_val,mean_train,std_train)"
   ]
  },
  {
   "cell_type": "markdown",
   "metadata": {},
   "source": [
    "from sklearn.model_selection import train_test_split\n",
    "x_train, x_val, y_train, y_val  = train_test_split(features_train, y_train, \n",
    "                                                   test_size=0.30,stratify = y_train, \n",
    "                                                   random_state=142, shuffle=True)"
   ]
  },
  {
   "cell_type": "code",
   "execution_count": 4,
   "metadata": {
    "colab": {
     "base_uri": "https://localhost:8080/"
    },
    "executionInfo": {
     "elapsed": 12,
     "status": "ok",
     "timestamp": 1629698737237,
     "user": {
      "displayName": "Sadegh Mohammadi",
      "photoUrl": "https://lh3.googleusercontent.com/a-/AOh14Gg1iSjGV7iV5kzZZOpCoWfb-aIlclvodBw_eT5JzA=s64",
      "userId": "02781745993139771132"
     },
     "user_tz": -270
    },
    "id": "zagl4yIHIHg4",
    "outputId": "3db07e3b-cc61-42d8-f67b-9f6542e087e0"
   },
   "outputs": [
    {
     "data": {
      "text/html": [
       "<div>\n",
       "<style scoped>\n",
       "    .dataframe tbody tr th:only-of-type {\n",
       "        vertical-align: middle;\n",
       "    }\n",
       "\n",
       "    .dataframe tbody tr th {\n",
       "        vertical-align: top;\n",
       "    }\n",
       "\n",
       "    .dataframe thead th {\n",
       "        text-align: right;\n",
       "    }\n",
       "</style>\n",
       "<table border=\"1\" class=\"dataframe\">\n",
       "  <thead>\n",
       "    <tr style=\"text-align: right;\">\n",
       "      <th></th>\n",
       "      <th>N</th>\n",
       "      <th>L</th>\n",
       "      <th>R</th>\n",
       "      <th>j</th>\n",
       "      <th>e</th>\n",
       "      <th>V</th>\n",
       "      <th>E</th>\n",
       "      <th>A</th>\n",
       "      <th>S</th>\n",
       "      <th>a</th>\n",
       "      <th>J</th>\n",
       "      <th>F</th>\n",
       "      <th>f</th>\n",
       "      <th>/</th>\n",
       "      <th>Q</th>\n",
       "    </tr>\n",
       "  </thead>\n",
       "  <tbody>\n",
       "    <tr>\n",
       "      <th>train</th>\n",
       "      <td>19044</td>\n",
       "      <td>3948</td>\n",
       "      <td>3780</td>\n",
       "      <td>2008</td>\n",
       "      <td>2008</td>\n",
       "      <td>3682</td>\n",
       "      <td>2028</td>\n",
       "      <td>2025</td>\n",
       "      <td>2001</td>\n",
       "      <td>2050</td>\n",
       "      <td>2016</td>\n",
       "      <td>2070</td>\n",
       "      <td>0</td>\n",
       "      <td>0</td>\n",
       "      <td>2004</td>\n",
       "    </tr>\n",
       "    <tr>\n",
       "      <th>val</th>\n",
       "      <td>19043</td>\n",
       "      <td>1973</td>\n",
       "      <td>1890</td>\n",
       "      <td>8</td>\n",
       "      <td>8</td>\n",
       "      <td>1842</td>\n",
       "      <td>53</td>\n",
       "      <td>405</td>\n",
       "      <td>1</td>\n",
       "      <td>50</td>\n",
       "      <td>16</td>\n",
       "      <td>207</td>\n",
       "      <td>0</td>\n",
       "      <td>0</td>\n",
       "      <td>4</td>\n",
       "    </tr>\n",
       "  </tbody>\n",
       "</table>\n",
       "</div>"
      ],
      "text/plain": [
       "           N     L     R     j     e     V     E     A     S     a     J  \\\n",
       "train  19044  3948  3780  2008  2008  3682  2028  2025  2001  2050  2016   \n",
       "val    19043  1973  1890     8     8  1842    53   405     1    50    16   \n",
       "\n",
       "          F  f  /     Q  \n",
       "train  2070  0  0  2004  \n",
       "val     207  0  0     4  "
      ]
     },
     "execution_count": 4,
     "metadata": {},
     "output_type": "execute_result"
    }
   ],
   "source": [
    "dh = DataHandling()\n",
    "rp1 = dh.report_stats_table([y_train, y_val], ['train','val'])\n",
    "rp1"
   ]
  },
  {
   "cell_type": "code",
   "execution_count": 5,
   "metadata": {
    "executionInfo": {
     "elapsed": 9,
     "status": "ok",
     "timestamp": 1629698737237,
     "user": {
      "displayName": "Sadegh Mohammadi",
      "photoUrl": "https://lh3.googleusercontent.com/a-/AOh14Gg1iSjGV7iV5kzZZOpCoWfb-aIlclvodBw_eT5JzA=s64",
      "userId": "02781745993139771132"
     },
     "user_tz": -270
    },
    "id": "u4LWVBgkF1NI"
   },
   "outputs": [],
   "source": [
    "y_train = integer_mapping(y_train, INT_MAP_DICT)\n",
    "y_val = integer_mapping(y_val, INT_MAP_DICT)"
   ]
  },
  {
   "cell_type": "markdown",
   "metadata": {
    "id": "phHl-9TqPAKo"
   },
   "source": [
    "# Train"
   ]
  },
  {
   "cell_type": "code",
   "execution_count": 6,
   "metadata": {
    "colab": {
     "base_uri": "https://localhost:8080/"
    },
    "executionInfo": {
     "elapsed": 20,
     "status": "ok",
     "timestamp": 1627404457302,
     "user": {
      "displayName": "Sadegh Mohammadi",
      "photoUrl": "https://lh3.googleusercontent.com/a-/AOh14Gg1iSjGV7iV5kzZZOpCoWfb-aIlclvodBw_eT5JzA=s64",
      "userId": "02781745993139771132"
     },
     "user_tz": 420
    },
    "id": "aeVdtly2Y4Ek",
    "outputId": "083ca1b2-b93e-4cb6-b048-c28ae7f3a93f"
   },
   "outputs": [
    {
     "name": "stdout",
     "output_type": "stream",
     "text": [
      "{'seq_len': 30, 'd_model': 40, 'num_heads': 2, 'num_classes': 15, 'drate': 0.15, 'batch_size': 128, 'epochs': 60}\n"
     ]
    }
   ],
   "source": [
    "params = {\n",
    "    'seq_len' : x_train.shape[-2],\n",
    "    'd_model' : x_train.shape[-1],\n",
    "    'num_heads' : 2,\n",
    "    'num_classes' : 15,\n",
    "    'drate' : 0.15,\n",
    "    'batch_size' : 128,\n",
    "    'epochs' : 60\n",
    "}\n",
    "print(params)"
   ]
  },
  {
   "cell_type": "code",
   "execution_count": 7,
   "metadata": {
    "id": "6GRPAf4mzJ3q"
   },
   "outputs": [],
   "source": [
    "model_classifier  = MultiHeadAttentionClassifier(\n",
    "                                            seq_len=params['seq_len'],\n",
    "                                            d_model = params['d_model'],\n",
    "                                            num_heads = params['num_heads'],\n",
    "                                            num_classes=params['num_classes'],\n",
    "                                            drate=params['drate']\n",
    "                                            )"
   ]
  },
  {
   "cell_type": "code",
   "execution_count": 10,
   "metadata": {},
   "outputs": [
    {
     "data": {
      "text/plain": [
       "<tf.Tensor: shape=(2, 3), dtype=float32, numpy=\n",
       "array([[0.35605016, 0.29659483, 0.347355  ],\n",
       "       [0.35542873, 0.30340004, 0.3411712 ]], dtype=float32)>"
      ]
     },
     "execution_count": 10,
     "metadata": {},
     "output_type": "execute_result"
    }
   ],
   "source": [
    "batch_size = 2;seq_len = 3;d_model = 5;num_heads = 1;num_classes = 3\n",
    "cls = MultiHeadAttentionClassifier(seq_len, d_model, num_heads, num_classes, drate=0.15)\n",
    "x=tf.random.uniform((batch_size,seq_len,d_model))\n",
    "cls.compile()\n",
    "cls(x)"
   ]
  },
  {
   "cell_type": "code",
   "execution_count": null,
   "metadata": {},
   "outputs": [],
   "source": []
  },
  {
   "cell_type": "code",
   "execution_count": null,
   "metadata": {},
   "outputs": [],
   "source": []
  },
  {
   "cell_type": "code",
   "execution_count": 11,
   "metadata": {
    "colab": {
     "base_uri": "https://localhost:8080/"
    },
    "executionInfo": {
     "elapsed": 1233321,
     "status": "ok",
     "timestamp": 1627405690992,
     "user": {
      "displayName": "Sadegh Mohammadi",
      "photoUrl": "https://lh3.googleusercontent.com/a-/AOh14Gg1iSjGV7iV5kzZZOpCoWfb-aIlclvodBw_eT5JzA=s64",
      "userId": "02781745993139771132"
     },
     "user_tz": 420
    },
    "id": "PgOFHNu4PJtp",
    "outputId": "236dca1b-962b-4a84-fa6a-339eb48f965f"
   },
   "outputs": [
    {
     "name": "stdout",
     "output_type": "stream",
     "text": [
      "rm: cannot remove '/media/mypc/STORAGE1/codes/heartbeat/checkpoint/keras.EXP1': No such file or directory\r\n"
     ]
    }
   ],
   "source": [
    "!rm -r /media/mypc/STORAGE1/codes/heartbeat/checkpoint/keras.EXP1\n",
    "\n",
    "opt= tf.keras.optimizers.Adam(\n",
    "    learning_rate=0.001, beta_1=0.9, beta_2=0.999, epsilon=1e-07, name='Adam'\n",
    ")\n",
    "\n",
    "#for loss try sample_weight\n",
    "model_classifier.compile(\n",
    "                      optimizer=opt,\n",
    "                      loss=\"sparse_categorical_crossentropy\",\n",
    "                      metrics=['accuracy'],\n",
    "                      loss_weights=None\n",
    "                      )\n",
    "\n",
    "\n",
    "early_stopping = tf.keras.callbacks.EarlyStopping(monitor='val_loss', min_delta=0, patience=20, verbose=1)\n",
    "reduce_lr = tf.keras.callbacks.ReduceLROnPlateau(monitor='val_loss', factor=0.9, patience=5,\n",
    "                              verbose=1, mode='auto', min_delta=0.0001, cooldown=0, min_lr=0.0001)\n",
    "model_checkpoint = tf.keras.callbacks.ModelCheckpoint(BASEPATH + \"checkpoint/keras.EXP1\",\n",
    "                                                      monitor='val_loss', save_best_only=True, verbose=1)\n",
    "\n",
    "callbacks = [early_stopping, model_checkpoint, reduce_lr]\n"
   ]
  },
  {
   "cell_type": "code",
   "execution_count": 12,
   "metadata": {},
   "outputs": [
    {
     "name": "stdout",
     "output_type": "stream",
     "text": [
      "Epoch 1/60\n",
      "279/279 [==============================] - 7s 19ms/step - loss: 0.3862 - accuracy: 0.8951 - val_loss: 0.5178 - val_accuracy: 0.8900\n",
      "\n",
      "Epoch 00001: val_loss improved from inf to 0.51779, saving model to ../checkpoint/keras.EXP1\n"
     ]
    },
    {
     "name": "stderr",
     "output_type": "stream",
     "text": [
      "WARNING:absl:Found untraced functions such as embedding_layer_call_fn, embedding_layer_call_and_return_conditional_losses, dense_layer_call_fn, dense_layer_call_and_return_conditional_losses, dense_1_layer_call_fn while saving (showing 5 of 25). These functions will not be directly callable after loading.\n"
     ]
    },
    {
     "name": "stdout",
     "output_type": "stream",
     "text": [
      "Epoch 2/60\n",
      "279/279 [==============================] - 5s 18ms/step - loss: 0.2371 - accuracy: 0.9398 - val_loss: 0.2608 - val_accuracy: 0.9230\n",
      "\n",
      "Epoch 00002: val_loss improved from 0.51779 to 0.26082, saving model to ../checkpoint/keras.EXP1\n"
     ]
    },
    {
     "name": "stderr",
     "output_type": "stream",
     "text": [
      "WARNING:absl:Found untraced functions such as embedding_layer_call_fn, embedding_layer_call_and_return_conditional_losses, dense_layer_call_fn, dense_layer_call_and_return_conditional_losses, dense_1_layer_call_fn while saving (showing 5 of 25). These functions will not be directly callable after loading.\n"
     ]
    },
    {
     "name": "stdout",
     "output_type": "stream",
     "text": [
      "Epoch 3/60\n",
      "279/279 [==============================] - 4s 15ms/step - loss: 0.1960 - accuracy: 0.9511 - val_loss: 0.4778 - val_accuracy: 0.8828\n",
      "\n",
      "Epoch 00003: val_loss did not improve from 0.26082\n",
      "Epoch 4/60\n",
      "279/279 [==============================] - 5s 17ms/step - loss: 0.1727 - accuracy: 0.9572 - val_loss: 0.4908 - val_accuracy: 0.8901\n",
      "\n",
      "Epoch 00004: val_loss did not improve from 0.26082\n",
      "Epoch 5/60\n",
      "279/279 [==============================] - 5s 17ms/step - loss: 0.1515 - accuracy: 0.9627 - val_loss: 0.4027 - val_accuracy: 0.8988\n",
      "\n",
      "Epoch 00005: val_loss did not improve from 0.26082\n",
      "Epoch 6/60\n",
      "279/279 [==============================] - 5s 16ms/step - loss: 0.1398 - accuracy: 0.9659 - val_loss: 0.6038 - val_accuracy: 0.8863\n",
      "\n",
      "Epoch 00006: val_loss did not improve from 0.26082\n",
      "Epoch 7/60\n",
      "279/279 [==============================] - 5s 18ms/step - loss: 0.1240 - accuracy: 0.9680 - val_loss: 0.5221 - val_accuracy: 0.8793\n",
      "\n",
      "Epoch 00007: val_loss did not improve from 0.26082\n",
      "\n",
      "Epoch 00007: ReduceLROnPlateau reducing learning rate to 0.0009000000427477062.\n",
      "Epoch 8/60\n",
      "279/279 [==============================] - 5s 19ms/step - loss: 0.1119 - accuracy: 0.9720 - val_loss: 0.5542 - val_accuracy: 0.8853\n",
      "\n",
      "Epoch 00008: val_loss did not improve from 0.26082\n",
      "Epoch 9/60\n",
      "279/279 [==============================] - 5s 18ms/step - loss: 0.1058 - accuracy: 0.9721 - val_loss: 0.5492 - val_accuracy: 0.8782\n",
      "\n",
      "Epoch 00009: val_loss did not improve from 0.26082\n",
      "Epoch 10/60\n",
      "279/279 [==============================] - 5s 17ms/step - loss: 0.1031 - accuracy: 0.9738 - val_loss: 0.5290 - val_accuracy: 0.8824\n",
      "\n",
      "Epoch 00010: val_loss did not improve from 0.26082\n",
      "Epoch 11/60\n",
      "279/279 [==============================] - 5s 18ms/step - loss: 0.0954 - accuracy: 0.9759 - val_loss: 0.5277 - val_accuracy: 0.8949\n",
      "\n",
      "Epoch 00011: val_loss did not improve from 0.26082\n",
      "Epoch 12/60\n",
      "279/279 [==============================] - 5s 17ms/step - loss: 0.0894 - accuracy: 0.9767 - val_loss: 0.8646 - val_accuracy: 0.8684\n",
      "\n",
      "Epoch 00012: val_loss did not improve from 0.26082\n",
      "\n",
      "Epoch 00012: ReduceLROnPlateau reducing learning rate to 0.0008100000384729356.\n",
      "Epoch 13/60\n",
      "279/279 [==============================] - 5s 19ms/step - loss: 0.0873 - accuracy: 0.9776 - val_loss: 0.7625 - val_accuracy: 0.8825\n",
      "\n",
      "Epoch 00013: val_loss did not improve from 0.26082\n",
      "Epoch 14/60\n",
      "279/279 [==============================] - 5s 19ms/step - loss: 0.0834 - accuracy: 0.9783 - val_loss: 0.4612 - val_accuracy: 0.9192\n",
      "\n",
      "Epoch 00014: val_loss did not improve from 0.26082\n",
      "Epoch 15/60\n",
      "279/279 [==============================] - 6s 21ms/step - loss: 0.0799 - accuracy: 0.9802 - val_loss: 0.7497 - val_accuracy: 0.8765\n",
      "\n",
      "Epoch 00015: val_loss did not improve from 0.26082\n",
      "Epoch 16/60\n",
      "279/279 [==============================] - 5s 18ms/step - loss: 0.0767 - accuracy: 0.9804 - val_loss: 1.0069 - val_accuracy: 0.8801\n",
      "\n",
      "Epoch 00016: val_loss did not improve from 0.26082\n",
      "Epoch 17/60\n",
      "279/279 [==============================] - 5s 18ms/step - loss: 0.0748 - accuracy: 0.9808 - val_loss: 0.6623 - val_accuracy: 0.8932\n",
      "\n",
      "Epoch 00017: val_loss did not improve from 0.26082\n",
      "\n",
      "Epoch 00017: ReduceLROnPlateau reducing learning rate to 0.0007290000503417104.\n",
      "Epoch 18/60\n",
      "279/279 [==============================] - 5s 18ms/step - loss: 0.0748 - accuracy: 0.9808 - val_loss: 0.8401 - val_accuracy: 0.8782\n",
      "\n",
      "Epoch 00018: val_loss did not improve from 0.26082\n",
      "Epoch 19/60\n",
      "279/279 [==============================] - 6s 22ms/step - loss: 0.0684 - accuracy: 0.9828 - val_loss: 1.0229 - val_accuracy: 0.8710\n",
      "\n",
      "Epoch 00019: val_loss did not improve from 0.26082\n",
      "Epoch 20/60\n",
      "279/279 [==============================] - 5s 19ms/step - loss: 0.0667 - accuracy: 0.9834 - val_loss: 1.1818 - val_accuracy: 0.8622\n",
      "\n",
      "Epoch 00020: val_loss did not improve from 0.26082\n",
      "Epoch 21/60\n",
      "279/279 [==============================] - 5s 17ms/step - loss: 0.0703 - accuracy: 0.9820 - val_loss: 0.9983 - val_accuracy: 0.8796\n",
      "\n",
      "Epoch 00021: val_loss did not improve from 0.26082\n",
      "Epoch 22/60\n",
      "279/279 [==============================] - 5s 19ms/step - loss: 0.0657 - accuracy: 0.9834 - val_loss: 1.1146 - val_accuracy: 0.8619\n",
      "\n",
      "Epoch 00022: val_loss did not improve from 0.26082\n",
      "\n",
      "Epoch 00022: ReduceLROnPlateau reducing learning rate to 0.0006561000715009868.\n",
      "Epoch 00022: early stopping\n",
      "CPU times: user 1min 59s, sys: 938 ms, total: 2min\n",
      "Wall time: 1min 57s\n"
     ]
    }
   ],
   "source": [
    "%%time\n",
    "\n",
    "model_history = model_classifier.fit(\n",
    "              x=x_train,\n",
    "              y=y_train,\n",
    "              batch_size=params['batch_size'],\n",
    "              epochs=params['epochs'],\n",
    "              verbose=1,\n",
    "              callbacks=callbacks,\n",
    "              validation_data=(x_val, y_val),\n",
    "              shuffle=True,\n",
    "              class_weight=None,\n",
    "              sample_weight=None,\n",
    "              initial_epoch=0\n",
    "              )"
   ]
  },
  {
   "cell_type": "code",
   "execution_count": 13,
   "metadata": {
    "colab": {
     "base_uri": "https://localhost:8080/",
     "height": 295
    },
    "executionInfo": {
     "elapsed": 51231,
     "status": "ok",
     "timestamp": 1627405742205,
     "user": {
      "displayName": "Sadegh Mohammadi",
      "photoUrl": "https://lh3.googleusercontent.com/a-/AOh14Gg1iSjGV7iV5kzZZOpCoWfb-aIlclvodBw_eT5JzA=s64",
      "userId": "02781745993139771132"
     },
     "user_tz": 420
    },
    "id": "kmoNvLfz8ER8",
    "outputId": "f37679c8-f142-4eac-db2a-d77ce342222c"
   },
   "outputs": [
    {
     "data": {
      "image/png": "[encoded data removed]",
      "text/plain": [
       "<Figure size 432x288 with 1 Axes>"
      ]
     },
     "metadata": {
      "needs_background": "light"
     },
     "output_type": "display_data"
    }
   ],
   "source": [
    "plot_loss(model_history)"
   ]
  },
  {
   "cell_type": "code",
   "execution_count": 14,
   "metadata": {
    "id": "e6QEha8ryTbH"
   },
   "outputs": [],
   "source": [
    "import pickle\n",
    "with open(BASEPATH+'history/EXP1.hist', 'wb') as f:\n",
    "  pickle.dump(model_history.history, f)\n"
   ]
  },
  {
   "cell_type": "code",
   "execution_count": 15,
   "metadata": {
    "colab": {
     "base_uri": "https://localhost:8080/"
    },
    "executionInfo": {
     "elapsed": 9,
     "status": "ok",
     "timestamp": 1627405742207,
     "user": {
      "displayName": "Sadegh Mohammadi",
      "photoUrl": "https://lh3.googleusercontent.com/a-/AOh14Gg1iSjGV7iV5kzZZOpCoWfb-aIlclvodBw_eT5JzA=s64",
      "userId": "02781745993139771132"
     },
     "user_tz": 420
    },
    "id": "FU-pzf53kFev",
    "outputId": "4f683089-2e9a-4f42-d5a8-0da547f615da"
   },
   "outputs": [
    {
     "data": {
      "text/plain": [
       "(0.26081758737564087, 1)"
      ]
     },
     "execution_count": 15,
     "metadata": {},
     "output_type": "execute_result"
    }
   ],
   "source": [
    "a =model_history.history\n",
    "min(a['val_loss']), a['val_loss'].index(min(a['val_loss']))"
   ]
  },
  {
   "cell_type": "markdown",
   "metadata": {
    "id": "DQkAk3O5iaOY"
   },
   "source": [
    "# Loading Model"
   ]
  },
  {
   "cell_type": "code",
   "execution_count": 16,
   "metadata": {
    "colab": {
     "base_uri": "https://localhost:8080/",
     "height": 35
    },
    "executionInfo": {
     "elapsed": 2918,
     "status": "ok",
     "timestamp": 1629698740148,
     "user": {
      "displayName": "Sadegh Mohammadi",
      "photoUrl": "https://lh3.googleusercontent.com/a-/AOh14Gg1iSjGV7iV5kzZZOpCoWfb-aIlclvodBw_eT5JzA=s64",
      "userId": "02781745993139771132"
     },
     "user_tz": -270
    },
    "id": "8C8axIoViOLm",
    "outputId": "f208a8a6-59ca-4387-e5fa-5b867bfc48d9"
   },
   "outputs": [
    {
     "data": {
      "text/plain": [
       "'multi_head_attention_classifier_1'"
      ]
     },
     "execution_count": 16,
     "metadata": {},
     "output_type": "execute_result"
    }
   ],
   "source": [
    "loaded_model = tf.keras.models.load_model(BASEPATH+'checkpoint/keras.EXP1')\n",
    "loaded_model.name"
   ]
  },
  {
   "cell_type": "code",
   "execution_count": 17,
   "metadata": {
    "colab": {
     "base_uri": "https://localhost:8080/"
    },
    "executionInfo": {
     "elapsed": 9,
     "status": "ok",
     "timestamp": 1629698740149,
     "user": {
      "displayName": "Sadegh Mohammadi",
      "photoUrl": "https://lh3.googleusercontent.com/a-/AOh14Gg1iSjGV7iV5kzZZOpCoWfb-aIlclvodBw_eT5JzA=s64",
      "userId": "02781745993139771132"
     },
     "user_tz": -270
    },
    "id": "QYraRcRxB0bv",
    "outputId": "f7fb1e16-7011-4ab4-e9b3-0e0665c9a37d"
   },
   "outputs": [],
   "source": [
    "#loaded_model.summary()"
   ]
  },
  {
   "cell_type": "code",
   "execution_count": 18,
   "metadata": {},
   "outputs": [
    {
     "name": "stdout",
     "output_type": "stream",
     "text": [
      "File loaded: ../data/DS2_features.dat\n"
     ]
    },
    {
     "data": {
      "text/plain": [
       "((49693, 30, 40), 49693)"
      ]
     },
     "execution_count": 18,
     "metadata": {},
     "output_type": "execute_result"
    }
   ],
   "source": [
    "#Load Preprocessed Test Set\n",
    "features_test, y_test = load_data(file_path = '../data/DS2_features.dat')\n",
    "x_test = features_test\n",
    "y_true = y_test.copy()\n",
    "features_test.shape, len(y_test)"
   ]
  },
  {
   "cell_type": "code",
   "execution_count": 25,
   "metadata": {},
   "outputs": [],
   "source": [
    "x_test = stndr(x_test,mean_train,std_train)"
   ]
  },
  {
   "cell_type": "code",
   "execution_count": 26,
   "metadata": {
    "colab": {
     "base_uri": "https://localhost:8080/"
    },
    "executionInfo": {
     "elapsed": 3048,
     "status": "ok",
     "timestamp": 1629698743191,
     "user": {
      "displayName": "Sadegh Mohammadi",
      "photoUrl": "https://lh3.googleusercontent.com/a-/AOh14Gg1iSjGV7iV5kzZZOpCoWfb-aIlclvodBw_eT5JzA=s64",
      "userId": "02781745993139771132"
     },
     "user_tz": -270
    },
    "id": "xORFdEMo2CO2",
    "outputId": "732cf26e-a689-4c4c-d163-df6b6a16c078"
   },
   "outputs": [
    {
     "name": "stdout",
     "output_type": "stream",
     "text": [
      "CPU times: user 2.17 s, sys: 155 ms, total: 2.32 s\n",
      "Wall time: 2.05 s\n"
     ]
    }
   ],
   "source": [
    "%%time\n",
    "y_pred_prob = loaded_model.predict(x_test)"
   ]
  },
  {
   "cell_type": "code",
   "execution_count": 27,
   "metadata": {
    "executionInfo": {
     "elapsed": 3,
     "status": "ok",
     "timestamp": 1629698743192,
     "user": {
      "displayName": "Sadegh Mohammadi",
      "photoUrl": "https://lh3.googleusercontent.com/a-/AOh14Gg1iSjGV7iV5kzZZOpCoWfb-aIlclvodBw_eT5JzA=s64",
      "userId": "02781745993139771132"
     },
     "user_tz": -270
    },
    "id": "m-1JZgxHgVxS"
   },
   "outputs": [],
   "source": [
    "y_pred = integer_mapping(list(y_pred_prob.argmax(axis=-1)), INT_MAP_DICT, inverse=True)"
   ]
  },
  {
   "cell_type": "code",
   "execution_count": 28,
   "metadata": {},
   "outputs": [
    {
     "data": {
      "text/html": [
       "<div>\n",
       "<style scoped>\n",
       "    .dataframe tbody tr th:only-of-type {\n",
       "        vertical-align: middle;\n",
       "    }\n",
       "\n",
       "    .dataframe tbody tr th {\n",
       "        vertical-align: top;\n",
       "    }\n",
       "\n",
       "    .dataframe thead th {\n",
       "        text-align: right;\n",
       "    }\n",
       "</style>\n",
       "<table border=\"1\" class=\"dataframe\">\n",
       "  <thead>\n",
       "    <tr style=\"text-align: right;\">\n",
       "      <th></th>\n",
       "      <th>N</th>\n",
       "      <th>L</th>\n",
       "      <th>R</th>\n",
       "      <th>j</th>\n",
       "      <th>e</th>\n",
       "      <th>V</th>\n",
       "      <th>E</th>\n",
       "      <th>A</th>\n",
       "      <th>S</th>\n",
       "      <th>a</th>\n",
       "      <th>J</th>\n",
       "      <th>F</th>\n",
       "      <th>f</th>\n",
       "      <th>/</th>\n",
       "      <th>Q</th>\n",
       "    </tr>\n",
       "  </thead>\n",
       "  <tbody>\n",
       "    <tr>\n",
       "      <th>y_pred</th>\n",
       "      <td>33102</td>\n",
       "      <td>3480</td>\n",
       "      <td>2812</td>\n",
       "      <td>3</td>\n",
       "      <td>180</td>\n",
       "      <td>6270</td>\n",
       "      <td>2</td>\n",
       "      <td>740</td>\n",
       "      <td>1</td>\n",
       "      <td>0</td>\n",
       "      <td>1417</td>\n",
       "      <td>1684</td>\n",
       "      <td>2</td>\n",
       "      <td>0</td>\n",
       "      <td>0</td>\n",
       "    </tr>\n",
       "    <tr>\n",
       "      <th>y_true</th>\n",
       "      <td>36428</td>\n",
       "      <td>4124</td>\n",
       "      <td>3476</td>\n",
       "      <td>213</td>\n",
       "      <td>0</td>\n",
       "      <td>3219</td>\n",
       "      <td>1</td>\n",
       "      <td>1736</td>\n",
       "      <td>0</td>\n",
       "      <td>50</td>\n",
       "      <td>51</td>\n",
       "      <td>388</td>\n",
       "      <td>0</td>\n",
       "      <td>0</td>\n",
       "      <td>7</td>\n",
       "    </tr>\n",
       "  </tbody>\n",
       "</table>\n",
       "</div>"
      ],
      "text/plain": [
       "            N     L     R    j    e     V  E     A  S   a     J     F  f  /  Q\n",
       "y_pred  33102  3480  2812    3  180  6270  2   740  1   0  1417  1684  2  0  0\n",
       "y_true  36428  4124  3476  213    0  3219  1  1736  0  50    51   388  0  0  7"
      ]
     },
     "execution_count": 28,
     "metadata": {},
     "output_type": "execute_result"
    }
   ],
   "source": [
    "dh = DataHandling()\n",
    "rp2 = dh.report_stats_table([y_pred, y_true], ['y_pred','y_true'])\n",
    "rp2"
   ]
  },
  {
   "cell_type": "markdown",
   "metadata": {
    "id": "M_MQf22sLP2r"
   },
   "source": [
    "Precision or Positive Predictive Value (PPV):  TP/(TP+FP)\n",
    "\n",
    "Sensitivity or Recall: TP/(TP+FN)\n",
    "\n",
    "Specificity: TN/(TN+FP)\n",
    "\n",
    "Accuracy (ACC): (TP+TN)/(TP+TN+FP+FN)"
   ]
  },
  {
   "cell_type": "code",
   "execution_count": 29,
   "metadata": {
    "colab": {
     "base_uri": "https://localhost:8080/",
     "height": 1000
    },
    "executionInfo": {
     "elapsed": 3237,
     "status": "ok",
     "timestamp": 1629698746426,
     "user": {
      "displayName": "Sadegh Mohammadi",
      "photoUrl": "https://lh3.googleusercontent.com/a-/AOh14Gg1iSjGV7iV5kzZZOpCoWfb-aIlclvodBw_eT5JzA=s64",
      "userId": "02781745993139771132"
     },
     "user_tz": -270
    },
    "id": "MVdqqAxPgYqU",
    "outputId": "bc210270-7276-4730-a2a6-ffdf25921e3f"
   },
   "outputs": [
    {
     "name": "stderr",
     "output_type": "stream",
     "text": [
      "/home/mypc/anaconda3/envs/ecg/lib/python3.9/site-packages/sklearn/metrics/_classification.py:1248: UndefinedMetricWarning: Precision and F-score are ill-defined and being set to 0.0 in labels with no predicted samples. Use `zero_division` parameter to control this behavior.\n",
      "  _warn_prf(average, modifier, msg_start, len(result))\n",
      "/home/mypc/anaconda3/envs/ecg/lib/python3.9/site-packages/sklearn/metrics/_classification.py:1248: UndefinedMetricWarning: Recall and F-score are ill-defined and being set to 0.0 in labels with no true samples. Use `zero_division` parameter to control this behavior.\n",
      "  _warn_prf(average, modifier, msg_start, len(result))\n",
      "/home/mypc/anaconda3/envs/ecg/lib/python3.9/site-packages/sklearn/metrics/_classification.py:1248: UndefinedMetricWarning: Precision and F-score are ill-defined and being set to 0.0 in labels with no predicted samples. Use `zero_division` parameter to control this behavior.\n",
      "  _warn_prf(average, modifier, msg_start, len(result))\n",
      "/home/mypc/anaconda3/envs/ecg/lib/python3.9/site-packages/sklearn/metrics/_classification.py:1248: UndefinedMetricWarning: Recall and F-score are ill-defined and being set to 0.0 in labels with no true samples. Use `zero_division` parameter to control this behavior.\n",
      "  _warn_prf(average, modifier, msg_start, len(result))\n",
      "/home/mypc/anaconda3/envs/ecg/lib/python3.9/site-packages/sklearn/metrics/_classification.py:1248: UndefinedMetricWarning: Precision and F-score are ill-defined and being set to 0.0 in labels with no predicted samples. Use `zero_division` parameter to control this behavior.\n",
      "  _warn_prf(average, modifier, msg_start, len(result))\n",
      "/home/mypc/anaconda3/envs/ecg/lib/python3.9/site-packages/sklearn/metrics/_classification.py:1248: UndefinedMetricWarning: Recall and F-score are ill-defined and being set to 0.0 in labels with no true samples. Use `zero_division` parameter to control this behavior.\n",
      "  _warn_prf(average, modifier, msg_start, len(result))\n"
     ]
    },
    {
     "name": "stdout",
     "output_type": "stream",
     "text": [
      "              precision    recall  f1-score   support\n",
      "\n",
      "           A     0.0027    0.0012    0.0016      1736\n",
      "           E     0.0000    0.0000    0.0000         1\n",
      "           F     0.0255    0.1108    0.0415       388\n",
      "           J     0.0000    0.0000    0.0000        51\n",
      "           L     0.0184    0.0155    0.0168      4124\n",
      "           N     0.8500    0.7724    0.8093     36428\n",
      "           Q     0.0000    0.0000    0.0000         7\n",
      "           R     0.0836    0.0676    0.0747      3476\n",
      "           S     0.0000    0.0000    0.0000         0\n",
      "           V     0.4159    0.8102    0.5497      3219\n",
      "           a     0.0000    0.0000    0.0000        50\n",
      "           e     0.0000    0.0000    0.0000         0\n",
      "           f     0.0000    0.0000    0.0000         0\n",
      "           j     0.0000    0.0000    0.0000       213\n",
      "\n",
      "    accuracy                         0.6256     49693\n",
      "   macro avg     0.0997    0.1270    0.1067     49693\n",
      "weighted avg     0.6577    0.6256    0.6359     49693\n",
      "\n",
      "              precision    recall  f1-score   support\n",
      "\n",
      "           F     0.0255    0.1108    0.0415       388\n",
      "           N     0.9409    0.8417    0.8885     44241\n",
      "           Q     0.0000    0.0000    0.0000         7\n",
      "           S     0.0079    0.0093    0.0085      1837\n",
      "           V     0.4158    0.8099    0.5495      3220\n",
      "\n",
      "    accuracy                         0.8031     49693\n",
      "   macro avg     0.2780    0.3543    0.2976     49693\n",
      "weighted avg     0.8651    0.8031    0.8273     49693\n",
      "\n"
     ]
    },
    {
     "data": {
      "text/html": [
       "<div>\n",
       "<style scoped>\n",
       "    .dataframe tbody tr th:only-of-type {\n",
       "        vertical-align: middle;\n",
       "    }\n",
       "\n",
       "    .dataframe tbody tr th {\n",
       "        vertical-align: top;\n",
       "    }\n",
       "\n",
       "    .dataframe thead th {\n",
       "        text-align: right;\n",
       "    }\n",
       "</style>\n",
       "<table border=\"1\" class=\"dataframe\">\n",
       "  <thead>\n",
       "    <tr style=\"text-align: right;\">\n",
       "      <th></th>\n",
       "      <th>Class</th>\n",
       "      <th>(PPV)Precision</th>\n",
       "      <th>(Sensitivity)Recall</th>\n",
       "      <th>Specificity</th>\n",
       "      <th>Accuracy</th>\n",
       "    </tr>\n",
       "  </thead>\n",
       "  <tbody>\n",
       "    <tr>\n",
       "      <th>0</th>\n",
       "      <td>F</td>\n",
       "      <td>2.55</td>\n",
       "      <td>11.08</td>\n",
       "      <td>96.67</td>\n",
       "      <td>96.00</td>\n",
       "    </tr>\n",
       "    <tr>\n",
       "      <th>1</th>\n",
       "      <td>N</td>\n",
       "      <td>94.09</td>\n",
       "      <td>84.17</td>\n",
       "      <td>57.10</td>\n",
       "      <td>81.20</td>\n",
       "    </tr>\n",
       "    <tr>\n",
       "      <th>2</th>\n",
       "      <td>Q</td>\n",
       "      <td>0.00</td>\n",
       "      <td>0.00</td>\n",
       "      <td>100.00</td>\n",
       "      <td>99.98</td>\n",
       "    </tr>\n",
       "    <tr>\n",
       "      <th>3</th>\n",
       "      <td>S</td>\n",
       "      <td>0.79</td>\n",
       "      <td>0.93</td>\n",
       "      <td>95.53</td>\n",
       "      <td>92.03</td>\n",
       "    </tr>\n",
       "    <tr>\n",
       "      <th>4</th>\n",
       "      <td>V</td>\n",
       "      <td>41.58</td>\n",
       "      <td>80.99</td>\n",
       "      <td>92.12</td>\n",
       "      <td>91.40</td>\n",
       "    </tr>\n",
       "  </tbody>\n",
       "</table>\n",
       "</div>"
      ],
      "text/plain": [
       "  Class  (PPV)Precision  (Sensitivity)Recall  Specificity  Accuracy\n",
       "0     F            2.55                11.08        96.67     96.00\n",
       "1     N           94.09                84.17        57.10     81.20\n",
       "2     Q            0.00                 0.00       100.00     99.98\n",
       "3     S            0.79                 0.93        95.53     92.03\n",
       "4     V           41.58                80.99        92.12     91.40"
      ]
     },
     "execution_count": 29,
     "metadata": {},
     "output_type": "execute_result"
    }
   ],
   "source": [
    "labels = [k for k,v in INT_MAP_DICT.items()]\n",
    "report = Reports(y_true=y_true, y_pred=y_pred, labels=labels)\n",
    "normalize = None\n",
    "#report.plot_confusion_matrix(normalize=normalize, values_format='')\n",
    "print(report.the_classification_report())\n",
    "#report.metrics_table()\n",
    "\n",
    "\n",
    "y_pred_AAMI = mapping_AAMI(y_pred, MAP_AAMI)\n",
    "y_true_AAMI = mapping_AAMI(y_true, MAP_AAMI)\n",
    "labels_AAMI = ['N','V','S','F','Q']\n",
    "report = Reports(y_true=y_true_AAMI, y_pred=y_pred_AAMI, labels=labels_AAMI)\n",
    "#report.plot_confusion_matrix(normalize=normalize, values_format='')\n",
    "print(report.the_classification_report())\n",
    "report.metrics_table()\n"
   ]
  },
  {
   "cell_type": "code",
   "execution_count": 30,
   "metadata": {
    "colab": {
     "base_uri": "https://localhost:8080/"
    },
    "executionInfo": {
     "elapsed": 30,
     "status": "ok",
     "timestamp": 1627405747416,
     "user": {
      "displayName": "Sadegh Mohammadi",
      "photoUrl": "https://lh3.googleusercontent.com/a-/AOh14Gg1iSjGV7iV5kzZZOpCoWfb-aIlclvodBw_eT5JzA=s64",
      "userId": "02781745993139771132"
     },
     "user_tz": 420
    },
    "id": "Nd2lu35qgbMx",
    "outputId": "621688b3-4e43-4df5-e86f-c94e1bb9a55a"
   },
   "outputs": [
    {
     "data": {
      "text/plain": [
       "(0.6256213148733222, 0.803050731491357)"
      ]
     },
     "execution_count": 30,
     "metadata": {},
     "output_type": "execute_result"
    }
   ],
   "source": [
    "from sklearn.metrics import accuracy_score\n",
    "accuracy_score(y_true,y_pred),accuracy_score(y_true_AAMI,y_pred_AAMI)"
   ]
  },
  {
   "cell_type": "code",
   "execution_count": 31,
   "metadata": {
    "colab": {
     "base_uri": "https://localhost:8080/",
     "height": 1000
    },
    "executionInfo": {
     "elapsed": 2585,
     "status": "ok",
     "timestamp": 1629698788108,
     "user": {
      "displayName": "Sadegh Mohammadi",
      "photoUrl": "https://lh3.googleusercontent.com/a-/AOh14Gg1iSjGV7iV5kzZZOpCoWfb-aIlclvodBw_eT5JzA=s64",
      "userId": "02781745993139771132"
     },
     "user_tz": -270
    },
    "id": "o65Dcj4OBx5-",
    "outputId": "973e5d00-30bb-401d-bc64-1984ce2ef77b"
   },
   "outputs": [
    {
     "ename": "NameError",
     "evalue": "name 'intMapDict' is not defined",
     "output_type": "error",
     "traceback": [
      "\u001b[0;31m---------------------------------------------------------------------------\u001b[0m",
      "\u001b[0;31mNameError\u001b[0m                                 Traceback (most recent call last)",
      "\u001b[0;32m/tmp/ipykernel_16011/4168975715.py\u001b[0m in \u001b[0;36m<module>\u001b[0;34m\u001b[0m\n\u001b[1;32m      2\u001b[0m \u001b[0;31m#plt.style.use('/content/drive/MyDrive/ecARR/plotstyle.txt')\u001b[0m\u001b[0;34m\u001b[0m\u001b[0;34m\u001b[0m\u001b[0;34m\u001b[0m\u001b[0m\n\u001b[1;32m      3\u001b[0m \u001b[0;34m\u001b[0m\u001b[0m\n\u001b[0;32m----> 4\u001b[0;31m \u001b[0mlabels\u001b[0m \u001b[0;34m=\u001b[0m \u001b[0;34m[\u001b[0m\u001b[0mk\u001b[0m \u001b[0;32mfor\u001b[0m \u001b[0mk\u001b[0m\u001b[0;34m,\u001b[0m\u001b[0mv\u001b[0m \u001b[0;32min\u001b[0m \u001b[0mintMapDict\u001b[0m\u001b[0;34m.\u001b[0m\u001b[0mitems\u001b[0m\u001b[0;34m(\u001b[0m\u001b[0;34m)\u001b[0m\u001b[0;34m]\u001b[0m\u001b[0;34m\u001b[0m\u001b[0;34m\u001b[0m\u001b[0m\n\u001b[0m\u001b[1;32m      5\u001b[0m \u001b[0mreport\u001b[0m \u001b[0;34m=\u001b[0m \u001b[0mReports\u001b[0m\u001b[0;34m(\u001b[0m\u001b[0myTrue\u001b[0m\u001b[0;34m=\u001b[0m\u001b[0my_true\u001b[0m\u001b[0;34m,\u001b[0m \u001b[0myPred\u001b[0m\u001b[0;34m=\u001b[0m\u001b[0my_pred\u001b[0m\u001b[0;34m,\u001b[0m \u001b[0mlabels\u001b[0m\u001b[0;34m=\u001b[0m\u001b[0mlabels\u001b[0m\u001b[0;34m)\u001b[0m\u001b[0;34m\u001b[0m\u001b[0;34m\u001b[0m\u001b[0m\n\u001b[1;32m      6\u001b[0m \u001b[0mnormalize\u001b[0m \u001b[0;34m=\u001b[0m \u001b[0;34m'true'\u001b[0m\u001b[0;34m\u001b[0m\u001b[0;34m\u001b[0m\u001b[0m\n",
      "\u001b[0;31mNameError\u001b[0m: name 'intMapDict' is not defined"
     ]
    }
   ],
   "source": [
    "import matplotlib.pyplot as plt\n",
    "#plt.style.use('/content/drive/MyDrive/ecARR/plotstyle.txt')\n",
    "\n",
    "labels = [k for k,v in intMapDict.items()]\n",
    "report = Reports(yTrue=y_true, yPred=y_pred, labels=labels)\n",
    "normalize = 'true'\n",
    "#report.plotConfusionMatrix(normalize=normalize, values_format='')\n",
    "print(report.classificationReport())\n",
    "report.metricsTable()\n",
    "\n",
    "\n",
    "y_pred_AAMI = mappingAAMI(y_pred, MAP_AAMI)\n",
    "y_true_AAMI = mappingAAMI(y_true, MAP_AAMI)\n",
    "labels_AAMI = ['N','V','S','F','Q']\n",
    "report = Reports(yTrue=y_true_AAMI, yPred=y_pred_AAMI, labels=labels_AAMI)\n",
    "report.plotConfusionMatrix(normalize=normalize, values_format='.2%')\n",
    "print(report.classificationReport())\n",
    "report.metricsTable()\n"
   ]
  },
  {
   "cell_type": "code",
   "execution_count": 32,
   "metadata": {
    "colab": {
     "base_uri": "https://localhost:8080/",
     "height": 206
    },
    "executionInfo": {
     "elapsed": 1211,
     "status": "ok",
     "timestamp": 1627526856834,
     "user": {
      "displayName": "Sadegh Mohammadi",
      "photoUrl": "https://lh3.googleusercontent.com/a-/AOh14Gg1iSjGV7iV5kzZZOpCoWfb-aIlclvodBw_eT5JzA=s64",
      "userId": "02781745993139771132"
     },
     "user_tz": -270
    },
    "id": "PVY1GueqBybW",
    "outputId": "836d94b3-0e5c-47d3-f24c-25ec814727a4"
   },
   "outputs": [
    {
     "data": {
      "text/html": [
       "<div>\n",
       "<style scoped>\n",
       "    .dataframe tbody tr th:only-of-type {\n",
       "        vertical-align: middle;\n",
       "    }\n",
       "\n",
       "    .dataframe tbody tr th {\n",
       "        vertical-align: top;\n",
       "    }\n",
       "\n",
       "    .dataframe thead th {\n",
       "        text-align: right;\n",
       "    }\n",
       "</style>\n",
       "<table border=\"1\" class=\"dataframe\">\n",
       "  <thead>\n",
       "    <tr style=\"text-align: right;\">\n",
       "      <th></th>\n",
       "      <th>0</th>\n",
       "      <th>1</th>\n",
       "      <th>2</th>\n",
       "      <th>3</th>\n",
       "      <th>4</th>\n",
       "    </tr>\n",
       "  </thead>\n",
       "  <tbody>\n",
       "    <tr>\n",
       "      <th>0</th>\n",
       "      <td>11.08</td>\n",
       "      <td>10.05</td>\n",
       "      <td>0.00</td>\n",
       "      <td>25.26</td>\n",
       "      <td>53.61</td>\n",
       "    </tr>\n",
       "    <tr>\n",
       "      <th>1</th>\n",
       "      <td>3.53</td>\n",
       "      <td>84.17</td>\n",
       "      <td>0.00</td>\n",
       "      <td>4.60</td>\n",
       "      <td>7.70</td>\n",
       "    </tr>\n",
       "    <tr>\n",
       "      <th>2</th>\n",
       "      <td>14.29</td>\n",
       "      <td>0.00</td>\n",
       "      <td>0.00</td>\n",
       "      <td>0.00</td>\n",
       "      <td>85.71</td>\n",
       "    </tr>\n",
       "    <tr>\n",
       "      <th>3</th>\n",
       "      <td>0.00</td>\n",
       "      <td>96.68</td>\n",
       "      <td>0.00</td>\n",
       "      <td>0.93</td>\n",
       "      <td>2.40</td>\n",
       "    </tr>\n",
       "    <tr>\n",
       "      <th>4</th>\n",
       "      <td>2.45</td>\n",
       "      <td>16.27</td>\n",
       "      <td>0.03</td>\n",
       "      <td>0.25</td>\n",
       "      <td>80.99</td>\n",
       "    </tr>\n",
       "  </tbody>\n",
       "</table>\n",
       "</div>"
      ],
      "text/plain": [
       "       0      1     2      3      4\n",
       "0  11.08  10.05  0.00  25.26  53.61\n",
       "1   3.53  84.17  0.00   4.60   7.70\n",
       "2  14.29   0.00  0.00   0.00  85.71\n",
       "3   0.00  96.68  0.00   0.93   2.40\n",
       "4   2.45  16.27  0.03   0.25  80.99"
      ]
     },
     "execution_count": 32,
     "metadata": {},
     "output_type": "execute_result"
    }
   ],
   "source": [
    "from sklearn.metrics import confusion_matrix\n",
    "np.set_printoptions(suppress=True, formatter={'float_kind':'{:.2f}'.format})\n",
    "cfm=confusion_matrix(y_true_AAMI, y_pred_AAMI, labels=sorted(labels_AAMI),normalize='true')*100\n",
    "cfm\n",
    "import pandas as pd\n",
    "pd.DataFrame(cfm).round(2)"
   ]
  },
  {
   "cell_type": "code",
   "execution_count": null,
   "metadata": {
    "id": "IIuFo6drJ9nz"
   },
   "outputs": [],
   "source": []
  },
  {
   "cell_type": "code",
   "execution_count": null,
   "metadata": {},
   "outputs": [],
   "source": []
  }
 ],
 "metadata": {
  "colab": {
   "authorship_tag": "ABX9TyO5mdlokQ62wz4XipxYXZ75",
   "collapsed_sections": [],
   "mount_file_id": "1fzJdm7C34G_Kjk8wdz1l7I3yEPqs5Glq",
   "name": "ecARR2--modelM1_ab2(model-6).ipynb",
   "provenance": [
    {
     "file_id": "1YaU60VHIf7MwsqXX51ZtF5BRCyR_e1Wg",
     "timestamp": 1627403996239
    },
    {
     "file_id": "133QOje8skPCCjNXcjrUaHu9X-8ZUftwA",
     "timestamp": 1627396655995
    },
    {
     "file_id": "1aFoa8_DXOWB5SeAlcqk_JWGiXoBdQ_FN",
     "timestamp": 1626525095859
    },
    {
     "file_id": "1fkYTddhxNyw8p4vm0sjN00AKjYW7tzGg",
     "timestamp": 1626338627875
    },
    {
     "file_id": "1QHiJsRztLO38ZAqf5m2-lg2EEBSJu54_",
     "timestamp": 1626271867171
    },
    {
     "file_id": "1OanqZQe6Z-s__bgCMsU4E5NwZ4GlkKAb",
     "timestamp": 1626260810890
    },
    {
     "file_id": "1ajoUnxS_-KBUO0E3qP5vMK4xhguXHB8J",
     "timestamp": 1626256396609
    },
    {
     "file_id": "1BEORilBHH51WD3__8FNn9cqtdpnOOjBs",
     "timestamp": 1626254594644
    },
    {
     "file_id": "1GCc_iQ_3eCvevL4SjeY4keTIOOphyA10",
     "timestamp": 1626200488415
    },
    {
     "file_id": "1TVGoEmRhXcnrJjQ-uwY2uYNgZtutXkG7",
     "timestamp": 1626197059796
    },
    {
     "file_id": "1epbcXpaFZQRGyY_8cIREkID0jixJrSMb",
     "timestamp": 1626171676267
    },
    {
     "file_id": "1WkhnRvK7gXEIpJr4pzZn7K1NevHif6E3",
     "timestamp": 1625594198161
    },
    {
     "file_id": "169yA24spslJbJOdPx218P863AhHPaozi",
     "timestamp": 1625576664712
    },
    {
     "file_id": "1WIbdDF5DzCSO_VNWwYa_KDyVyMsRUQlb",
     "timestamp": 1624949937104
    },
    {
     "file_id": "10VRsJX9k8kIVR7KsOaJJXzy9BXEcV4oZ",
     "timestamp": 1624787399733
    }
   ]
  },
  "kernelspec": {
   "display_name": "Python 3 (ipykernel)",
   "language": "python",
   "name": "python3"
  },
  "language_info": {
   "codemirror_mode": {
    "name": "ipython",
    "version": 3
   },
   "file_extension": ".py",
   "mimetype": "text/x-python",
   "name": "python",
   "nbconvert_exporter": "python",
   "pygments_lexer": "ipython3",
   "version": "3.10.4"
  }
 },
 "nbformat": 4,
 "nbformat_minor": 1
}
