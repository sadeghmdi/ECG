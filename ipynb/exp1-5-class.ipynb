{
 "cells": [
  {
   "cell_type": "code",
   "execution_count": 1,
   "metadata": {
    "executionInfo": {
     "elapsed": 9798,
     "status": "ok",
     "timestamp": 1629698724230,
     "user": {
      "displayName": "Sadegh Mohammadi",
      "photoUrl": "https://lh3.googleusercontent.com/a-/AOh14Gg1iSjGV7iV5kzZZOpCoWfb-aIlclvodBw_eT5JzA=s64",
      "userId": "02781745993139771132"
     },
     "user_tz": -270
    },
    "id": "E9pJ0y9MaIlB"
   },
   "outputs": [],
   "source": [
    "%%capture\n",
    "#!pip install wfdb\n",
    "BASEPATH = '../'\n",
    "import sys\n",
    "sys.path.insert(0,'..')\n",
    "\n",
    "import numpy as np\n",
    "import os\n",
    "os.environ['TF_CPP_MIN_LOG_LEVEL'] = '3'\n",
    "import tensorflow as tf\n",
    "tf.get_logger().setLevel('ERROR')\n",
    "from pyecg.utils import reset_seed, plot_spectogram, plot_loss, load_data\n",
    "from pyecg.utils import integer_mapping, mapping_AAMI\n",
    "from pyecg.data_info import *\n",
    "from pyecg.data_handling import DataHandling\n",
    "from pyecg.data_preprocessing import DataPreprocessing\n",
    "from pyecg.report import Reports\n",
    "from pyecg.models.conv1D import model_arch \n",
    "\n",
    "reset_seed()"
   ]
  },
  {
   "cell_type": "markdown",
   "metadata": {},
   "source": [
    "# Data"
   ]
  },
  {
   "cell_type": "raw",
   "metadata": {
    "executionInfo": {
     "elapsed": 5,
     "status": "ok",
     "timestamp": 1629698724231,
     "user": {
      "displayName": "Sadegh Mohammadi",
      "photoUrl": "https://lh3.googleusercontent.com/a-/AOh14Gg1iSjGV7iV5kzZZOpCoWfb-aIlclvodBw_eT5JzA=s64",
      "userId": "02781745993139771132"
     },
     "user_tz": -270
    },
    "id": "RwOJWmp9xqDR"
   },
   "source": [
    "#Load Preprocessed data\n",
    "features_train, y_train = load_data(file_path = '../data/DS1_features.dat')\n",
    "features_train.shape, len(y_train)"
   ]
  },
  {
   "cell_type": "code",
   "execution_count": 24,
   "metadata": {},
   "outputs": [
    {
     "name": "stdout",
     "output_type": "stream",
     "text": [
      "File loaded: ../data/DS1_features_train.dat\n",
      "File loaded: ../data/DS1_features_val.dat\n"
     ]
    },
    {
     "data": {
      "text/plain": [
       "((25500, 30, 40), 25500, (25500, 30, 40), 25500)"
      ]
     },
     "execution_count": 24,
     "metadata": {},
     "output_type": "execute_result"
    }
   ],
   "source": [
    "#Load Preprocessed data\n",
    "x_train, y_train = load_data(file_path = '../data/DS1_features_train.dat')\n",
    "#Load Preprocessed data\n",
    "x_val, y_val = load_data(file_path = '../data/DS1_features_val.dat')\n",
    "x_train.shape, len(y_train), x_val.shape, len(y_val)"
   ]
  },
  {
   "cell_type": "code",
   "execution_count": 25,
   "metadata": {},
   "outputs": [],
   "source": [
    "mean_train = np.mean(x_train)\n",
    "std_train = np.std(x_train)\n",
    "\n",
    "from data_handling import stndr\n",
    "\n",
    "x_train = stndr(x_train, mean_train, std_train)\n",
    "x_val = stndr(x_val, mean_train, std_train)"
   ]
  },
  {
   "cell_type": "code",
   "execution_count": 26,
   "metadata": {
    "colab": {
     "base_uri": "https://localhost:8080/"
    },
    "executionInfo": {
     "elapsed": 12,
     "status": "ok",
     "timestamp": 1629698737237,
     "user": {
      "displayName": "Sadegh Mohammadi",
      "photoUrl": "https://lh3.googleusercontent.com/a-/AOh14Gg1iSjGV7iV5kzZZOpCoWfb-aIlclvodBw_eT5JzA=s64",
      "userId": "02781745993139771132"
     },
     "user_tz": -270
    },
    "id": "zagl4yIHIHg4",
    "outputId": "3db07e3b-cc61-42d8-f67b-9f6542e087e0"
   },
   "outputs": [
    {
     "data": {
      "text/html": [
       "<div>\n",
       "<style scoped>\n",
       "    .dataframe tbody tr th:only-of-type {\n",
       "        vertical-align: middle;\n",
       "    }\n",
       "\n",
       "    .dataframe tbody tr th {\n",
       "        vertical-align: top;\n",
       "    }\n",
       "\n",
       "    .dataframe thead th {\n",
       "        text-align: right;\n",
       "    }\n",
       "</style>\n",
       "<table border=\"1\" class=\"dataframe\">\n",
       "  <thead>\n",
       "    <tr style=\"text-align: right;\">\n",
       "      <th></th>\n",
       "      <th>N</th>\n",
       "      <th>L</th>\n",
       "      <th>R</th>\n",
       "      <th>j</th>\n",
       "      <th>e</th>\n",
       "      <th>V</th>\n",
       "      <th>E</th>\n",
       "      <th>A</th>\n",
       "      <th>S</th>\n",
       "      <th>a</th>\n",
       "      <th>J</th>\n",
       "      <th>F</th>\n",
       "      <th>f</th>\n",
       "      <th>/</th>\n",
       "      <th>Q</th>\n",
       "    </tr>\n",
       "  </thead>\n",
       "  <tbody>\n",
       "    <tr>\n",
       "      <th>train</th>\n",
       "      <td>19043</td>\n",
       "      <td>1973</td>\n",
       "      <td>1890</td>\n",
       "      <td>8</td>\n",
       "      <td>8</td>\n",
       "      <td>1842</td>\n",
       "      <td>53</td>\n",
       "      <td>405</td>\n",
       "      <td>1</td>\n",
       "      <td>50</td>\n",
       "      <td>16</td>\n",
       "      <td>207</td>\n",
       "      <td>0</td>\n",
       "      <td>0</td>\n",
       "      <td>4</td>\n",
       "    </tr>\n",
       "    <tr>\n",
       "      <th>val</th>\n",
       "      <td>19044</td>\n",
       "      <td>1974</td>\n",
       "      <td>1890</td>\n",
       "      <td>8</td>\n",
       "      <td>8</td>\n",
       "      <td>1841</td>\n",
       "      <td>52</td>\n",
       "      <td>405</td>\n",
       "      <td>1</td>\n",
       "      <td>50</td>\n",
       "      <td>16</td>\n",
       "      <td>207</td>\n",
       "      <td>0</td>\n",
       "      <td>0</td>\n",
       "      <td>4</td>\n",
       "    </tr>\n",
       "  </tbody>\n",
       "</table>\n",
       "</div>"
      ],
      "text/plain": [
       "           N     L     R  j  e     V   E    A  S   a   J    F  f  /  Q\n",
       "train  19043  1973  1890  8  8  1842  53  405  1  50  16  207  0  0  4\n",
       "val    19044  1974  1890  8  8  1841  52  405  1  50  16  207  0  0  4"
      ]
     },
     "execution_count": 26,
     "metadata": {},
     "output_type": "execute_result"
    }
   ],
   "source": [
    "dh = DataHandling()\n",
    "rp1 = dh.report_stats_table([y_train, y_val], ['train','val'])\n",
    "rp1"
   ]
  },
  {
   "cell_type": "code",
   "execution_count": 27,
   "metadata": {},
   "outputs": [],
   "source": [
    "y_train = mapping_AAMI(y_train, MAP_AAMI)\n",
    "y_val = mapping_AAMI(y_val, MAP_AAMI)"
   ]
  },
  {
   "cell_type": "code",
   "execution_count": null,
   "metadata": {},
   "outputs": [],
   "source": [
    "rp2 = dh.report_stats_table([y_train, y_val], ['train','val'])\n",
    "rp2"
   ]
  },
  {
   "cell_type": "code",
   "execution_count": 28,
   "metadata": {
    "executionInfo": {
     "elapsed": 9,
     "status": "ok",
     "timestamp": 1629698737237,
     "user": {
      "displayName": "Sadegh Mohammadi",
      "photoUrl": "https://lh3.googleusercontent.com/a-/AOh14Gg1iSjGV7iV5kzZZOpCoWfb-aIlclvodBw_eT5JzA=s64",
      "userId": "02781745993139771132"
     },
     "user_tz": -270
    },
    "id": "u4LWVBgkF1NI"
   },
   "outputs": [],
   "source": [
    "INT_MAP_DICT = {'N':0,'V':1,'S':2,'F':3,'Q':4}\n",
    "y_train = integer_mapping(y_train, INT_MAP_DICT)\n",
    "y_val = integer_mapping(y_val, INT_MAP_DICT)"
   ]
  },
  {
   "cell_type": "markdown",
   "metadata": {
    "id": "phHl-9TqPAKo"
   },
   "source": [
    "# Train"
   ]
  },
  {
   "cell_type": "code",
   "execution_count": 29,
   "metadata": {
    "colab": {
     "base_uri": "https://localhost:8080/"
    },
    "executionInfo": {
     "elapsed": 20,
     "status": "ok",
     "timestamp": 1627404457302,
     "user": {
      "displayName": "Sadegh Mohammadi",
      "photoUrl": "https://lh3.googleusercontent.com/a-/AOh14Gg1iSjGV7iV5kzZZOpCoWfb-aIlclvodBw_eT5JzA=s64",
      "userId": "02781745993139771132"
     },
     "user_tz": 420
    },
    "id": "aeVdtly2Y4Ek",
    "outputId": "083ca1b2-b93e-4cb6-b048-c28ae7f3a93f"
   },
   "outputs": [
    {
     "name": "stdout",
     "output_type": "stream",
     "text": [
      "{'seq_len': 30, 'd_model': 40, 'num_heads': 2, 'num_classes': 5, 'drate': 0.5, 'batch_size': 256, 'epochs': 80}\n"
     ]
    }
   ],
   "source": [
    "params = {\n",
    "    'seq_len' : x_train.shape[-2],\n",
    "    'd_model' : x_train.shape[-1],\n",
    "    'num_heads' : 2,\n",
    "    'num_classes' : 5,\n",
    "    'drate' : 0.50,\n",
    "    'batch_size' : 256,\n",
    "    'epochs' : 80\n",
    "}\n",
    "print(params)"
   ]
  },
  {
   "cell_type": "code",
   "execution_count": 30,
   "metadata": {
    "id": "6GRPAf4mzJ3q"
   },
   "outputs": [],
   "source": [
    "model_classifier  = MultiHeadAttentionClassifier(\n",
    "                                            seq_len=params['seq_len'],\n",
    "                                            d_model = params['d_model'],\n",
    "                                            num_heads = params['num_heads'],\n",
    "                                            num_classes=params['num_classes'],\n",
    "                                            drate=params['drate']\n",
    "                                            )"
   ]
  },
  {
   "cell_type": "code",
   "execution_count": 31,
   "metadata": {
    "colab": {
     "base_uri": "https://localhost:8080/"
    },
    "executionInfo": {
     "elapsed": 1233321,
     "status": "ok",
     "timestamp": 1627405690992,
     "user": {
      "displayName": "Sadegh Mohammadi",
      "photoUrl": "https://lh3.googleusercontent.com/a-/AOh14Gg1iSjGV7iV5kzZZOpCoWfb-aIlclvodBw_eT5JzA=s64",
      "userId": "02781745993139771132"
     },
     "user_tz": 420
    },
    "id": "PgOFHNu4PJtp",
    "outputId": "236dca1b-962b-4a84-fa6a-339eb48f965f"
   },
   "outputs": [],
   "source": [
    "!rm -r /media/mypc/STORAGE1/codes/heartbeat/checkpoint/keras.EXP1\n",
    "\n",
    "opt= tf.keras.optimizers.Adam(\n",
    "    learning_rate=0.001, beta_1=0.9, beta_2=0.999, epsilon=1e-07, name='Adam'\n",
    ")\n",
    "\n",
    "#for loss try sample_weight\n",
    "model_classifier.compile(\n",
    "                      optimizer=opt,\n",
    "                      loss=\"sparse_categorical_crossentropy\",\n",
    "                      metrics=['accuracy'],\n",
    "                      loss_weights=None\n",
    "                      )\n",
    "\n",
    "\n",
    "early_stopping = tf.keras.callbacks.EarlyStopping(monitor='val_loss', min_delta=0, patience=8, verbose=1)\n",
    "reduce_lr = tf.keras.callbacks.ReduceLROnPlateau(monitor='val_loss', factor=0.9, patience=5,\n",
    "                              verbose=1, mode='auto', min_delta=0.0001, cooldown=0, min_lr=0.0001)\n",
    "model_checkpoint = tf.keras.callbacks.ModelCheckpoint(BASEPATH + \"checkpoint/keras.EXP1\",\n",
    "                                                      monitor='val_loss', save_best_only=True, verbose=1)\n",
    "\n",
    "callbacks = [early_stopping, model_checkpoint, reduce_lr]\n"
   ]
  },
  {
   "cell_type": "code",
   "execution_count": 32,
   "metadata": {},
   "outputs": [
    {
     "name": "stdout",
     "output_type": "stream",
     "text": [
      "Epoch 1/80\n",
      "100/100 [==============================] - 7s 72ms/step - loss: 0.3185 - accuracy: 0.9333 - val_loss: 0.1970 - val_accuracy: 0.9522\n",
      "\n",
      "Epoch 00001: val_loss improved from inf to 0.19696, saving model to ../checkpoint/keras.EXP1\n",
      "Epoch 2/80\n",
      "100/100 [==============================] - 7s 71ms/step - loss: 0.1937 - accuracy: 0.9547 - val_loss: 0.1789 - val_accuracy: 0.9584\n",
      "\n",
      "Epoch 00002: val_loss improved from 0.19696 to 0.17891, saving model to ../checkpoint/keras.EXP1\n",
      "Epoch 3/80\n",
      "100/100 [==============================] - 7s 69ms/step - loss: 0.1705 - accuracy: 0.9584 - val_loss: 0.1380 - val_accuracy: 0.9633\n",
      "\n",
      "Epoch 00003: val_loss improved from 0.17891 to 0.13805, saving model to ../checkpoint/keras.EXP1\n",
      "Epoch 4/80\n",
      "100/100 [==============================] - 7s 70ms/step - loss: 0.1566 - accuracy: 0.9612 - val_loss: 0.1306 - val_accuracy: 0.9653\n",
      "\n",
      "Epoch 00004: val_loss improved from 0.13805 to 0.13063, saving model to ../checkpoint/keras.EXP1\n",
      "Epoch 5/80\n",
      "100/100 [==============================] - 7s 68ms/step - loss: 0.1469 - accuracy: 0.9625 - val_loss: 0.1168 - val_accuracy: 0.9660\n",
      "\n",
      "Epoch 00005: val_loss improved from 0.13063 to 0.11678, saving model to ../checkpoint/keras.EXP1\n",
      "Epoch 6/80\n",
      "100/100 [==============================] - 7s 70ms/step - loss: 0.1418 - accuracy: 0.9636 - val_loss: 0.1256 - val_accuracy: 0.9655\n",
      "\n",
      "Epoch 00006: val_loss did not improve from 0.11678\n",
      "Epoch 7/80\n",
      "100/100 [==============================] - 8s 82ms/step - loss: 0.1317 - accuracy: 0.9664 - val_loss: 0.1031 - val_accuracy: 0.9704\n",
      "\n",
      "Epoch 00007: val_loss improved from 0.11678 to 0.10309, saving model to ../checkpoint/keras.EXP1\n",
      "Epoch 8/80\n",
      "100/100 [==============================] - 7s 74ms/step - loss: 0.1280 - accuracy: 0.9660 - val_loss: 0.1101 - val_accuracy: 0.9689\n",
      "\n",
      "Epoch 00008: val_loss did not improve from 0.10309\n",
      "Epoch 9/80\n",
      "100/100 [==============================] - 8s 75ms/step - loss: 0.1245 - accuracy: 0.9675 - val_loss: 0.0989 - val_accuracy: 0.9721\n",
      "\n",
      "Epoch 00009: val_loss improved from 0.10309 to 0.09886, saving model to ../checkpoint/keras.EXP1\n",
      "Epoch 10/80\n",
      "100/100 [==============================] - 7s 75ms/step - loss: 0.1231 - accuracy: 0.9677 - val_loss: 0.0997 - val_accuracy: 0.9724\n",
      "\n",
      "Epoch 00010: val_loss did not improve from 0.09886\n",
      "Epoch 11/80\n",
      "100/100 [==============================] - 8s 79ms/step - loss: 0.1179 - accuracy: 0.9695 - val_loss: 0.0968 - val_accuracy: 0.9740\n",
      "\n",
      "Epoch 00011: val_loss improved from 0.09886 to 0.09678, saving model to ../checkpoint/keras.EXP1\n",
      "Epoch 12/80\n",
      "100/100 [==============================] - 7s 75ms/step - loss: 0.1192 - accuracy: 0.9682 - val_loss: 0.0994 - val_accuracy: 0.9738\n",
      "\n",
      "Epoch 00012: val_loss did not improve from 0.09678\n",
      "Epoch 13/80\n",
      "100/100 [==============================] - 8s 84ms/step - loss: 0.1160 - accuracy: 0.9686 - val_loss: 0.1024 - val_accuracy: 0.9735\n",
      "\n",
      "Epoch 00013: val_loss did not improve from 0.09678\n",
      "Epoch 14/80\n",
      "100/100 [==============================] - 8s 80ms/step - loss: 0.1145 - accuracy: 0.9707 - val_loss: 0.0903 - val_accuracy: 0.9740\n",
      "\n",
      "Epoch 00014: val_loss improved from 0.09678 to 0.09025, saving model to ../checkpoint/keras.EXP1\n",
      "Epoch 15/80\n",
      "100/100 [==============================] - 8s 83ms/step - loss: 0.1124 - accuracy: 0.9708 - val_loss: 0.0995 - val_accuracy: 0.9767\n",
      "\n",
      "Epoch 00015: val_loss did not improve from 0.09025\n",
      "Epoch 16/80\n",
      "100/100 [==============================] - 8s 82ms/step - loss: 0.1108 - accuracy: 0.9695 - val_loss: 0.0940 - val_accuracy: 0.9764\n",
      "\n",
      "Epoch 00016: val_loss did not improve from 0.09025\n",
      "Epoch 17/80\n",
      "100/100 [==============================] - 8s 80ms/step - loss: 0.1046 - accuracy: 0.9721 - val_loss: 0.0909 - val_accuracy: 0.9746\n",
      "\n",
      "Epoch 00017: val_loss did not improve from 0.09025\n",
      "Epoch 18/80\n",
      "100/100 [==============================] - 8s 77ms/step - loss: 0.1049 - accuracy: 0.9715 - val_loss: 0.0881 - val_accuracy: 0.9775\n",
      "\n",
      "Epoch 00018: val_loss improved from 0.09025 to 0.08815, saving model to ../checkpoint/keras.EXP1\n",
      "Epoch 19/80\n",
      "100/100 [==============================] - 8s 79ms/step - loss: 0.1033 - accuracy: 0.9718 - val_loss: 0.0936 - val_accuracy: 0.9754\n",
      "\n",
      "Epoch 00019: val_loss did not improve from 0.08815\n",
      "Epoch 20/80\n",
      "100/100 [==============================] - 8s 83ms/step - loss: 0.1008 - accuracy: 0.9738 - val_loss: 0.0840 - val_accuracy: 0.9770\n",
      "\n",
      "Epoch 00020: val_loss improved from 0.08815 to 0.08403, saving model to ../checkpoint/keras.EXP1\n",
      "Epoch 21/80\n",
      "100/100 [==============================] - 8s 77ms/step - loss: 0.1039 - accuracy: 0.9720 - val_loss: 0.0865 - val_accuracy: 0.9775\n",
      "\n",
      "Epoch 00021: val_loss did not improve from 0.08403\n",
      "Epoch 22/80\n",
      "100/100 [==============================] - 8s 85ms/step - loss: 0.1038 - accuracy: 0.9718 - val_loss: 0.0839 - val_accuracy: 0.9775\n",
      "\n",
      "Epoch 00022: val_loss improved from 0.08403 to 0.08393, saving model to ../checkpoint/keras.EXP1\n",
      "Epoch 23/80\n",
      "100/100 [==============================] - 7s 75ms/step - loss: 0.0949 - accuracy: 0.9744 - val_loss: 0.0809 - val_accuracy: 0.9787\n",
      "\n",
      "Epoch 00023: val_loss improved from 0.08393 to 0.08090, saving model to ../checkpoint/keras.EXP1\n",
      "Epoch 24/80\n",
      "100/100 [==============================] - 8s 76ms/step - loss: 0.0957 - accuracy: 0.9739 - val_loss: 0.0736 - val_accuracy: 0.9805\n",
      "\n",
      "Epoch 00024: val_loss improved from 0.08090 to 0.07357, saving model to ../checkpoint/keras.EXP1\n",
      "Epoch 25/80\n",
      "100/100 [==============================] - 8s 78ms/step - loss: 0.0951 - accuracy: 0.9735 - val_loss: 0.0816 - val_accuracy: 0.9780\n",
      "\n",
      "Epoch 00025: val_loss did not improve from 0.07357\n",
      "Epoch 26/80\n",
      "100/100 [==============================] - 8s 83ms/step - loss: 0.0981 - accuracy: 0.9732 - val_loss: 0.0776 - val_accuracy: 0.9791\n",
      "\n",
      "Epoch 00026: val_loss did not improve from 0.07357\n",
      "Epoch 27/80\n",
      "100/100 [==============================] - 8s 80ms/step - loss: 0.0944 - accuracy: 0.9749 - val_loss: 0.0807 - val_accuracy: 0.9781\n",
      "\n",
      "Epoch 00027: val_loss did not improve from 0.07357\n",
      "Epoch 28/80\n",
      "100/100 [==============================] - 8s 85ms/step - loss: 0.0924 - accuracy: 0.9743 - val_loss: 0.0763 - val_accuracy: 0.9793\n",
      "\n",
      "Epoch 00028: val_loss did not improve from 0.07357\n",
      "Epoch 29/80\n",
      "100/100 [==============================] - 8s 82ms/step - loss: 0.0887 - accuracy: 0.9757 - val_loss: 0.0730 - val_accuracy: 0.9802\n",
      "\n",
      "Epoch 00029: val_loss improved from 0.07357 to 0.07297, saving model to ../checkpoint/keras.EXP1\n",
      "Epoch 30/80\n",
      "100/100 [==============================] - 8s 77ms/step - loss: 0.0908 - accuracy: 0.9760 - val_loss: 0.0776 - val_accuracy: 0.9786\n",
      "\n",
      "Epoch 00030: val_loss did not improve from 0.07297\n",
      "Epoch 31/80\n",
      "100/100 [==============================] - 9s 88ms/step - loss: 0.0882 - accuracy: 0.9770 - val_loss: 0.0764 - val_accuracy: 0.9790\n",
      "\n",
      "Epoch 00031: val_loss did not improve from 0.07297\n",
      "Epoch 32/80\n",
      "100/100 [==============================] - 9s 88ms/step - loss: 0.0895 - accuracy: 0.9753 - val_loss: 0.0700 - val_accuracy: 0.9809\n",
      "\n",
      "Epoch 00032: val_loss improved from 0.07297 to 0.07000, saving model to ../checkpoint/keras.EXP1\n",
      "Epoch 33/80\n",
      "100/100 [==============================] - 8s 83ms/step - loss: 0.0872 - accuracy: 0.9765 - val_loss: 0.0749 - val_accuracy: 0.9802\n",
      "\n",
      "Epoch 00033: val_loss did not improve from 0.07000\n",
      "Epoch 34/80\n",
      "100/100 [==============================] - 8s 81ms/step - loss: 0.0923 - accuracy: 0.9753 - val_loss: 0.0748 - val_accuracy: 0.9792\n",
      "\n",
      "Epoch 00034: val_loss did not improve from 0.07000\n",
      "Epoch 35/80\n",
      "100/100 [==============================] - 8s 82ms/step - loss: 0.0940 - accuracy: 0.9754 - val_loss: 0.0699 - val_accuracy: 0.9808\n",
      "\n",
      "Epoch 00035: val_loss improved from 0.07000 to 0.06993, saving model to ../checkpoint/keras.EXP1\n",
      "Epoch 36/80\n",
      "100/100 [==============================] - 8s 79ms/step - loss: 0.0867 - accuracy: 0.9768 - val_loss: 0.0696 - val_accuracy: 0.9815\n",
      "\n",
      "Epoch 00036: val_loss improved from 0.06993 to 0.06959, saving model to ../checkpoint/keras.EXP1\n",
      "Epoch 37/80\n",
      "100/100 [==============================] - 9s 88ms/step - loss: 0.0824 - accuracy: 0.9774 - val_loss: 0.0787 - val_accuracy: 0.9792\n",
      "\n",
      "Epoch 00037: val_loss did not improve from 0.06959\n",
      "Epoch 38/80\n",
      "100/100 [==============================] - 8s 81ms/step - loss: 0.0867 - accuracy: 0.9760 - val_loss: 0.0714 - val_accuracy: 0.9816\n"
     ]
    },
    {
     "name": "stdout",
     "output_type": "stream",
     "text": [
      "\n",
      "Epoch 00038: val_loss did not improve from 0.06959\n",
      "Epoch 39/80\n",
      "100/100 [==============================] - 8s 80ms/step - loss: 0.0819 - accuracy: 0.9779 - val_loss: 0.0670 - val_accuracy: 0.9831\n",
      "\n",
      "Epoch 00039: val_loss improved from 0.06959 to 0.06697, saving model to ../checkpoint/keras.EXP1\n",
      "Epoch 40/80\n",
      "100/100 [==============================] - 8s 84ms/step - loss: 0.0821 - accuracy: 0.9784 - val_loss: 0.0630 - val_accuracy: 0.9831\n",
      "\n",
      "Epoch 00040: val_loss improved from 0.06697 to 0.06300, saving model to ../checkpoint/keras.EXP1\n",
      "Epoch 41/80\n",
      "100/100 [==============================] - 8s 79ms/step - loss: 0.0807 - accuracy: 0.9789 - val_loss: 0.0683 - val_accuracy: 0.9822\n",
      "\n",
      "Epoch 00041: val_loss did not improve from 0.06300\n",
      "Epoch 42/80\n",
      "100/100 [==============================] - 9s 86ms/step - loss: 0.0776 - accuracy: 0.9793 - val_loss: 0.0692 - val_accuracy: 0.9825\n",
      "\n",
      "Epoch 00042: val_loss did not improve from 0.06300\n",
      "Epoch 43/80\n",
      "100/100 [==============================] - 9s 87ms/step - loss: 0.0798 - accuracy: 0.9783 - val_loss: 0.0694 - val_accuracy: 0.9813\n",
      "\n",
      "Epoch 00043: val_loss did not improve from 0.06300\n",
      "Epoch 44/80\n",
      "100/100 [==============================] - 8s 82ms/step - loss: 0.0811 - accuracy: 0.9785 - val_loss: 0.0669 - val_accuracy: 0.9832\n",
      "\n",
      "Epoch 00044: val_loss did not improve from 0.06300\n",
      "Epoch 45/80\n",
      "100/100 [==============================] - 8s 83ms/step - loss: 0.0779 - accuracy: 0.9791 - val_loss: 0.0699 - val_accuracy: 0.9827\n",
      "\n",
      "Epoch 00045: val_loss did not improve from 0.06300\n",
      "\n",
      "Epoch 00045: ReduceLROnPlateau reducing learning rate to 0.0009000000427477062.\n",
      "Epoch 46/80\n",
      "100/100 [==============================] - 8s 79ms/step - loss: 0.0777 - accuracy: 0.9789 - val_loss: 0.0673 - val_accuracy: 0.9838\n",
      "\n",
      "Epoch 00046: val_loss did not improve from 0.06300\n",
      "Epoch 47/80\n",
      "100/100 [==============================] - 8s 77ms/step - loss: 0.0774 - accuracy: 0.9791 - val_loss: 0.0639 - val_accuracy: 0.9831\n",
      "\n",
      "Epoch 00047: val_loss did not improve from 0.06300\n",
      "Epoch 48/80\n",
      "100/100 [==============================] - 8s 83ms/step - loss: 0.0751 - accuracy: 0.9803 - val_loss: 0.0604 - val_accuracy: 0.9849\n",
      "\n",
      "Epoch 00048: val_loss improved from 0.06300 to 0.06038, saving model to ../checkpoint/keras.EXP1\n",
      "Epoch 49/80\n",
      "100/100 [==============================] - 9s 95ms/step - loss: 0.0751 - accuracy: 0.9795 - val_loss: 0.0631 - val_accuracy: 0.9844\n",
      "\n",
      "Epoch 00049: val_loss did not improve from 0.06038\n",
      "Epoch 50/80\n",
      "100/100 [==============================] - 8s 84ms/step - loss: 0.0725 - accuracy: 0.9801 - val_loss: 0.0658 - val_accuracy: 0.9836\n",
      "\n",
      "Epoch 00050: val_loss did not improve from 0.06038\n",
      "Epoch 51/80\n",
      "100/100 [==============================] - 8s 81ms/step - loss: 0.0774 - accuracy: 0.9800 - val_loss: 0.0619 - val_accuracy: 0.9844\n",
      "\n",
      "Epoch 00051: val_loss did not improve from 0.06038\n",
      "Epoch 52/80\n",
      "100/100 [==============================] - 8s 78ms/step - loss: 0.0688 - accuracy: 0.9813 - val_loss: 0.0603 - val_accuracy: 0.9848\n",
      "\n",
      "Epoch 00052: val_loss improved from 0.06038 to 0.06029, saving model to ../checkpoint/keras.EXP1\n",
      "Epoch 53/80\n",
      "100/100 [==============================] - 7s 74ms/step - loss: 0.0780 - accuracy: 0.9795 - val_loss: 0.0628 - val_accuracy: 0.9849\n",
      "\n",
      "Epoch 00053: val_loss did not improve from 0.06029\n",
      "\n",
      "Epoch 00053: ReduceLROnPlateau reducing learning rate to 0.0008100000384729356.\n",
      "Epoch 54/80\n",
      "100/100 [==============================] - 8s 81ms/step - loss: 0.0721 - accuracy: 0.9810 - val_loss: 0.0599 - val_accuracy: 0.9849\n",
      "\n",
      "Epoch 00054: val_loss improved from 0.06029 to 0.05995, saving model to ../checkpoint/keras.EXP1\n",
      "Epoch 55/80\n",
      "100/100 [==============================] - 8s 77ms/step - loss: 0.0716 - accuracy: 0.9802 - val_loss: 0.0632 - val_accuracy: 0.9845\n",
      "\n",
      "Epoch 00055: val_loss did not improve from 0.05995\n",
      "Epoch 56/80\n",
      "100/100 [==============================] - 9s 87ms/step - loss: 0.0712 - accuracy: 0.9808 - val_loss: 0.0637 - val_accuracy: 0.9847\n",
      "\n",
      "Epoch 00056: val_loss did not improve from 0.05995\n",
      "Epoch 57/80\n",
      "100/100 [==============================] - 8s 80ms/step - loss: 0.0699 - accuracy: 0.9817 - val_loss: 0.0587 - val_accuracy: 0.9851\n",
      "\n",
      "Epoch 00057: val_loss improved from 0.05995 to 0.05868, saving model to ../checkpoint/keras.EXP1\n",
      "Epoch 58/80\n",
      "100/100 [==============================] - 8s 80ms/step - loss: 0.0687 - accuracy: 0.9805 - val_loss: 0.0613 - val_accuracy: 0.9846\n",
      "\n",
      "Epoch 00058: val_loss did not improve from 0.05868\n",
      "Epoch 59/80\n",
      "100/100 [==============================] - 8s 79ms/step - loss: 0.0663 - accuracy: 0.9818 - val_loss: 0.0572 - val_accuracy: 0.9860\n",
      "\n",
      "Epoch 00059: val_loss improved from 0.05868 to 0.05719, saving model to ../checkpoint/keras.EXP1\n",
      "Epoch 60/80\n",
      "100/100 [==============================] - 8s 77ms/step - loss: 0.0668 - accuracy: 0.9822 - val_loss: 0.0626 - val_accuracy: 0.9840\n",
      "\n",
      "Epoch 00060: val_loss did not improve from 0.05719\n",
      "Epoch 61/80\n",
      "100/100 [==============================] - 8s 84ms/step - loss: 0.0653 - accuracy: 0.9828 - val_loss: 0.0610 - val_accuracy: 0.9854\n",
      "\n",
      "Epoch 00061: val_loss did not improve from 0.05719\n",
      "Epoch 62/80\n",
      "100/100 [==============================] - 8s 83ms/step - loss: 0.0635 - accuracy: 0.9824 - val_loss: 0.0628 - val_accuracy: 0.9849\n",
      "\n",
      "Epoch 00062: val_loss did not improve from 0.05719\n",
      "Epoch 63/80\n",
      "100/100 [==============================] - 9s 86ms/step - loss: 0.0642 - accuracy: 0.9822 - val_loss: 0.0612 - val_accuracy: 0.9849\n",
      "\n",
      "Epoch 00063: val_loss did not improve from 0.05719\n",
      "Epoch 64/80\n",
      "100/100 [==============================] - 8s 81ms/step - loss: 0.0653 - accuracy: 0.9824 - val_loss: 0.0586 - val_accuracy: 0.9850\n",
      "\n",
      "Epoch 00064: val_loss did not improve from 0.05719\n",
      "\n",
      "Epoch 00064: ReduceLROnPlateau reducing learning rate to 0.0007290000503417104.\n",
      "Epoch 65/80\n",
      "100/100 [==============================] - 8s 84ms/step - loss: 0.0645 - accuracy: 0.9822 - val_loss: 0.0617 - val_accuracy: 0.9853\n",
      "\n",
      "Epoch 00065: val_loss did not improve from 0.05719\n",
      "Epoch 66/80\n",
      "100/100 [==============================] - 9s 86ms/step - loss: 0.0670 - accuracy: 0.9818 - val_loss: 0.0600 - val_accuracy: 0.9855\n",
      "\n",
      "Epoch 00066: val_loss did not improve from 0.05719\n",
      "Epoch 67/80\n",
      "100/100 [==============================] - 9s 86ms/step - loss: 0.0634 - accuracy: 0.9831 - val_loss: 0.0605 - val_accuracy: 0.9849\n",
      "\n",
      "Epoch 00067: val_loss did not improve from 0.05719\n",
      "Epoch 00067: early stopping\n",
      "CPU times: user 9min 32s, sys: 3.04 s, total: 9min 35s\n",
      "Wall time: 9min 39s\n"
     ]
    }
   ],
   "source": [
    "%%time\n",
    "\n",
    "model_history = model_classifier.fit(\n",
    "              x=x_train,\n",
    "              y=y_train,\n",
    "              batch_size=params['batch_size'],\n",
    "              epochs=params['epochs'],\n",
    "              verbose=1,\n",
    "              callbacks=callbacks,\n",
    "              validation_data=(x_val, y_val),\n",
    "              shuffle=True,\n",
    "              class_weight=None,\n",
    "              sample_weight=None,\n",
    "              initial_epoch=0\n",
    "              )"
   ]
  },
  {
   "cell_type": "code",
   "execution_count": 33,
   "metadata": {
    "colab": {
     "base_uri": "https://localhost:8080/",
     "height": 295
    },
    "executionInfo": {
     "elapsed": 51231,
     "status": "ok",
     "timestamp": 1627405742205,
     "user": {
      "displayName": "Sadegh Mohammadi",
      "photoUrl": "https://lh3.googleusercontent.com/a-/AOh14Gg1iSjGV7iV5kzZZOpCoWfb-aIlclvodBw_eT5JzA=s64",
      "userId": "02781745993139771132"
     },
     "user_tz": 420
    },
    "id": "kmoNvLfz8ER8",
    "outputId": "f37679c8-f142-4eac-db2a-d77ce342222c"
   },
   "outputs": [
    {
     "data": {
      "image/png": "[encoded data removed]",
      "text/plain": [
       "<Figure size 432x288 with 1 Axes>"
      ]
     },
     "metadata": {
      "needs_background": "light"
     },
     "output_type": "display_data"
    }
   ],
   "source": [
    "plot_loss(model_history)"
   ]
  },
  {
   "cell_type": "code",
   "execution_count": 34,
   "metadata": {
    "id": "e6QEha8ryTbH"
   },
   "outputs": [],
   "source": [
    "import pickle\n",
    "with open(BASEPATH+'history/EXP1.hist', 'wb') as f:\n",
    "  pickle.dump(model_history.history, f)\n"
   ]
  },
  {
   "cell_type": "code",
   "execution_count": 35,
   "metadata": {
    "colab": {
     "base_uri": "https://localhost:8080/"
    },
    "executionInfo": {
     "elapsed": 9,
     "status": "ok",
     "timestamp": 1627405742207,
     "user": {
      "displayName": "Sadegh Mohammadi",
      "photoUrl": "https://lh3.googleusercontent.com/a-/AOh14Gg1iSjGV7iV5kzZZOpCoWfb-aIlclvodBw_eT5JzA=s64",
      "userId": "02781745993139771132"
     },
     "user_tz": 420
    },
    "id": "FU-pzf53kFev",
    "outputId": "4f683089-2e9a-4f42-d5a8-0da547f615da"
   },
   "outputs": [
    {
     "data": {
      "text/plain": [
       "(0.05719318240880966, 58)"
      ]
     },
     "execution_count": 35,
     "metadata": {},
     "output_type": "execute_result"
    }
   ],
   "source": [
    "a =model_history.history\n",
    "min(a['val_loss']), a['val_loss'].index(min(a['val_loss']))"
   ]
  },
  {
   "cell_type": "markdown",
   "metadata": {
    "id": "DQkAk3O5iaOY"
   },
   "source": [
    "# Loading Model"
   ]
  },
  {
   "cell_type": "code",
   "execution_count": 36,
   "metadata": {
    "colab": {
     "base_uri": "https://localhost:8080/",
     "height": 35
    },
    "executionInfo": {
     "elapsed": 2918,
     "status": "ok",
     "timestamp": 1629698740148,
     "user": {
      "displayName": "Sadegh Mohammadi",
      "photoUrl": "https://lh3.googleusercontent.com/a-/AOh14Gg1iSjGV7iV5kzZZOpCoWfb-aIlclvodBw_eT5JzA=s64",
      "userId": "02781745993139771132"
     },
     "user_tz": -270
    },
    "id": "8C8axIoViOLm",
    "outputId": "f208a8a6-59ca-4387-e5fa-5b867bfc48d9"
   },
   "outputs": [
    {
     "data": {
      "text/plain": [
       "'multi_head_attention_classifier_1'"
      ]
     },
     "execution_count": 36,
     "metadata": {},
     "output_type": "execute_result"
    }
   ],
   "source": [
    "loaded_model = tf.keras.models.load_model(BASEPATH+'checkpoint/keras.EXP1')\n",
    "loaded_model.name"
   ]
  },
  {
   "cell_type": "code",
   "execution_count": 37,
   "metadata": {
    "colab": {
     "base_uri": "https://localhost:8080/"
    },
    "executionInfo": {
     "elapsed": 9,
     "status": "ok",
     "timestamp": 1629698740149,
     "user": {
      "displayName": "Sadegh Mohammadi",
      "photoUrl": "https://lh3.googleusercontent.com/a-/AOh14Gg1iSjGV7iV5kzZZOpCoWfb-aIlclvodBw_eT5JzA=s64",
      "userId": "02781745993139771132"
     },
     "user_tz": -270
    },
    "id": "QYraRcRxB0bv",
    "outputId": "f7fb1e16-7011-4ab4-e9b3-0e0665c9a37d"
   },
   "outputs": [],
   "source": [
    "#loaded_model.summary()"
   ]
  },
  {
   "cell_type": "code",
   "execution_count": 38,
   "metadata": {},
   "outputs": [
    {
     "name": "stdout",
     "output_type": "stream",
     "text": [
      "File loaded: ../data/DS2_features.dat\n"
     ]
    },
    {
     "data": {
      "text/plain": [
       "((49693, 30, 40), 49693)"
      ]
     },
     "execution_count": 38,
     "metadata": {},
     "output_type": "execute_result"
    }
   ],
   "source": [
    "#Load Preprocessed Test Set\n",
    "x_test, y_test = load_data(file_path = '../data/DS2_features.dat')\n",
    "y_true = y_test.copy()\n",
    "x_test.shape, len(y_test)"
   ]
  },
  {
   "cell_type": "code",
   "execution_count": 39,
   "metadata": {},
   "outputs": [],
   "source": [
    "y_true = mapping_AAMI(y_true, MAP_AAMI)"
   ]
  },
  {
   "cell_type": "code",
   "execution_count": 40,
   "metadata": {},
   "outputs": [],
   "source": [
    "x_test = stndr(x_test, mean_train, std_train)"
   ]
  },
  {
   "cell_type": "code",
   "execution_count": 41,
   "metadata": {
    "colab": {
     "base_uri": "https://localhost:8080/"
    },
    "executionInfo": {
     "elapsed": 3048,
     "status": "ok",
     "timestamp": 1629698743191,
     "user": {
      "displayName": "Sadegh Mohammadi",
      "photoUrl": "https://lh3.googleusercontent.com/a-/AOh14Gg1iSjGV7iV5kzZZOpCoWfb-aIlclvodBw_eT5JzA=s64",
      "userId": "02781745993139771132"
     },
     "user_tz": -270
    },
    "id": "xORFdEMo2CO2",
    "outputId": "732cf26e-a689-4c4c-d163-df6b6a16c078"
   },
   "outputs": [
    {
     "name": "stdout",
     "output_type": "stream",
     "text": [
      "CPU times: user 6.93 s, sys: 194 ms, total: 7.12 s\n",
      "Wall time: 6.76 s\n"
     ]
    }
   ],
   "source": [
    "%%time\n",
    "y_pred_prob = loaded_model.predict(x_test)"
   ]
  },
  {
   "cell_type": "code",
   "execution_count": 42,
   "metadata": {
    "executionInfo": {
     "elapsed": 3,
     "status": "ok",
     "timestamp": 1629698743192,
     "user": {
      "displayName": "Sadegh Mohammadi",
      "photoUrl": "https://lh3.googleusercontent.com/a-/AOh14Gg1iSjGV7iV5kzZZOpCoWfb-aIlclvodBw_eT5JzA=s64",
      "userId": "02781745993139771132"
     },
     "user_tz": -270
    },
    "id": "m-1JZgxHgVxS"
   },
   "outputs": [],
   "source": [
    "y_pred = integer_mapping(list(y_pred_prob.argmax(axis=-1)), INT_MAP_DICT, inverse=True)"
   ]
  },
  {
   "cell_type": "code",
   "execution_count": 43,
   "metadata": {},
   "outputs": [
    {
     "data": {
      "text/html": [
       "<div>\n",
       "<style scoped>\n",
       "    .dataframe tbody tr th:only-of-type {\n",
       "        vertical-align: middle;\n",
       "    }\n",
       "\n",
       "    .dataframe tbody tr th {\n",
       "        vertical-align: top;\n",
       "    }\n",
       "\n",
       "    .dataframe thead th {\n",
       "        text-align: right;\n",
       "    }\n",
       "</style>\n",
       "<table border=\"1\" class=\"dataframe\">\n",
       "  <thead>\n",
       "    <tr style=\"text-align: right;\">\n",
       "      <th></th>\n",
       "      <th>N</th>\n",
       "      <th>L</th>\n",
       "      <th>R</th>\n",
       "      <th>j</th>\n",
       "      <th>e</th>\n",
       "      <th>V</th>\n",
       "      <th>E</th>\n",
       "      <th>A</th>\n",
       "      <th>S</th>\n",
       "      <th>a</th>\n",
       "      <th>J</th>\n",
       "      <th>F</th>\n",
       "      <th>f</th>\n",
       "      <th>/</th>\n",
       "      <th>Q</th>\n",
       "    </tr>\n",
       "  </thead>\n",
       "  <tbody>\n",
       "    <tr>\n",
       "      <th>y_pred</th>\n",
       "      <td>44623</td>\n",
       "      <td>0</td>\n",
       "      <td>0</td>\n",
       "      <td>0</td>\n",
       "      <td>0</td>\n",
       "      <td>4471</td>\n",
       "      <td>0</td>\n",
       "      <td>0</td>\n",
       "      <td>389</td>\n",
       "      <td>0</td>\n",
       "      <td>0</td>\n",
       "      <td>207</td>\n",
       "      <td>0</td>\n",
       "      <td>0</td>\n",
       "      <td>3</td>\n",
       "    </tr>\n",
       "    <tr>\n",
       "      <th>y_true</th>\n",
       "      <td>44241</td>\n",
       "      <td>0</td>\n",
       "      <td>0</td>\n",
       "      <td>0</td>\n",
       "      <td>0</td>\n",
       "      <td>3220</td>\n",
       "      <td>0</td>\n",
       "      <td>0</td>\n",
       "      <td>1837</td>\n",
       "      <td>0</td>\n",
       "      <td>0</td>\n",
       "      <td>388</td>\n",
       "      <td>0</td>\n",
       "      <td>0</td>\n",
       "      <td>7</td>\n",
       "    </tr>\n",
       "  </tbody>\n",
       "</table>\n",
       "</div>"
      ],
      "text/plain": [
       "            N  L  R  j  e     V  E  A     S  a  J    F  f  /  Q\n",
       "y_pred  44623  0  0  0  0  4471  0  0   389  0  0  207  0  0  3\n",
       "y_true  44241  0  0  0  0  3220  0  0  1837  0  0  388  0  0  7"
      ]
     },
     "execution_count": 43,
     "metadata": {},
     "output_type": "execute_result"
    }
   ],
   "source": [
    "dh = DataHandling()\n",
    "rp2 = dh.report_stats_table([y_pred, y_true], ['y_pred','y_true'])\n",
    "rp2"
   ]
  },
  {
   "cell_type": "code",
   "execution_count": 44,
   "metadata": {
    "colab": {
     "base_uri": "https://localhost:8080/",
     "height": 1000
    },
    "executionInfo": {
     "elapsed": 3237,
     "status": "ok",
     "timestamp": 1629698746426,
     "user": {
      "displayName": "Sadegh Mohammadi",
      "photoUrl": "https://lh3.googleusercontent.com/a-/AOh14Gg1iSjGV7iV5kzZZOpCoWfb-aIlclvodBw_eT5JzA=s64",
      "userId": "02781745993139771132"
     },
     "user_tz": -270
    },
    "id": "MVdqqAxPgYqU",
    "outputId": "bc210270-7276-4730-a2a6-ffdf25921e3f"
   },
   "outputs": [
    {
     "name": "stdout",
     "output_type": "stream",
     "text": [
      "              precision    recall  f1-score   support\n",
      "\n",
      "           F     0.0048    0.0026    0.0034       388\n",
      "           N     0.9501    0.9583    0.9542     44241\n",
      "           Q     0.0000    0.0000    0.0000         7\n",
      "           S     0.1568    0.0332    0.0548      1837\n",
      "           V     0.6242    0.8668    0.7258      3220\n",
      "\n",
      "    accuracy                         0.9106     49693\n",
      "   macro avg     0.3472    0.3722    0.3476     49693\n",
      "weighted avg     0.8921    0.9106    0.8986     49693\n",
      "\n",
      "              precision    recall  f1-score   support\n",
      "\n",
      "           F     0.0048    0.0026    0.0034       388\n",
      "           N     0.9501    0.9583    0.9542     44241\n",
      "           Q     0.0000    0.0000    0.0000         7\n",
      "           S     0.1568    0.0332    0.0548      1837\n",
      "           V     0.6242    0.8668    0.7258      3220\n",
      "\n",
      "    accuracy                         0.9106     49693\n",
      "   macro avg     0.3472    0.3722    0.3476     49693\n",
      "weighted avg     0.8921    0.9106    0.8986     49693\n",
      "\n"
     ]
    },
    {
     "data": {
      "text/html": [
       "<div>\n",
       "<style scoped>\n",
       "    .dataframe tbody tr th:only-of-type {\n",
       "        vertical-align: middle;\n",
       "    }\n",
       "\n",
       "    .dataframe tbody tr th {\n",
       "        vertical-align: top;\n",
       "    }\n",
       "\n",
       "    .dataframe thead th {\n",
       "        text-align: right;\n",
       "    }\n",
       "</style>\n",
       "<table border=\"1\" class=\"dataframe\">\n",
       "  <thead>\n",
       "    <tr style=\"text-align: right;\">\n",
       "      <th></th>\n",
       "      <th>Class</th>\n",
       "      <th>(PPV)Precision</th>\n",
       "      <th>(Sensitivity)Recall</th>\n",
       "      <th>Specificity</th>\n",
       "      <th>Accuracy</th>\n",
       "    </tr>\n",
       "  </thead>\n",
       "  <tbody>\n",
       "    <tr>\n",
       "      <th>0</th>\n",
       "      <td>F</td>\n",
       "      <td>0.48</td>\n",
       "      <td>0.26</td>\n",
       "      <td>99.58</td>\n",
       "      <td>98.81</td>\n",
       "    </tr>\n",
       "    <tr>\n",
       "      <th>1</th>\n",
       "      <td>N</td>\n",
       "      <td>95.01</td>\n",
       "      <td>95.83</td>\n",
       "      <td>59.13</td>\n",
       "      <td>91.80</td>\n",
       "    </tr>\n",
       "    <tr>\n",
       "      <th>2</th>\n",
       "      <td>Q</td>\n",
       "      <td>0.00</td>\n",
       "      <td>0.00</td>\n",
       "      <td>99.99</td>\n",
       "      <td>99.98</td>\n",
       "    </tr>\n",
       "    <tr>\n",
       "      <th>3</th>\n",
       "      <td>S</td>\n",
       "      <td>15.68</td>\n",
       "      <td>3.32</td>\n",
       "      <td>99.31</td>\n",
       "      <td>95.77</td>\n",
       "    </tr>\n",
       "    <tr>\n",
       "      <th>4</th>\n",
       "      <td>V</td>\n",
       "      <td>62.42</td>\n",
       "      <td>86.68</td>\n",
       "      <td>96.38</td>\n",
       "      <td>95.76</td>\n",
       "    </tr>\n",
       "  </tbody>\n",
       "</table>\n",
       "</div>"
      ],
      "text/plain": [
       "  Class  (PPV)Precision  (Sensitivity)Recall  Specificity  Accuracy\n",
       "0     F            0.48                 0.26        99.58     98.81\n",
       "1     N           95.01                95.83        59.13     91.80\n",
       "2     Q            0.00                 0.00        99.99     99.98\n",
       "3     S           15.68                 3.32        99.31     95.77\n",
       "4     V           62.42                86.68        96.38     95.76"
      ]
     },
     "execution_count": 44,
     "metadata": {},
     "output_type": "execute_result"
    }
   ],
   "source": [
    "labels = [k for k,v in INT_MAP_DICT.items()]\n",
    "report = Reports(y_true=y_true, y_pred=y_pred, labels=labels)\n",
    "normalize = None\n",
    "#report.plot_confusion_matrix(normalize=normalize, values_format='')\n",
    "print(report.the_classification_report())\n",
    "#report.metrics_table()\n",
    "\n",
    "\n",
    "y_pred_AAMI = mapping_AAMI(y_pred, MAP_AAMI)\n",
    "y_true_AAMI = mapping_AAMI(y_true, MAP_AAMI)\n",
    "labels_AAMI = ['N','V','S','F','Q']\n",
    "report = Reports(y_true=y_true_AAMI, y_pred=y_pred_AAMI, labels=labels_AAMI)\n",
    "#report.plot_confusion_matrix(normalize=normalize, values_format='')\n",
    "print(report.the_classification_report())\n",
    "report.metrics_table()\n"
   ]
  },
  {
   "cell_type": "code",
   "execution_count": null,
   "metadata": {
    "id": "IIuFo6drJ9nz"
   },
   "outputs": [],
   "source": []
  },
  {
   "cell_type": "code",
   "execution_count": null,
   "metadata": {},
   "outputs": [],
   "source": []
  }
 ],
 "metadata": {
  "colab": {
   "authorship_tag": "ABX9TyO5mdlokQ62wz4XipxYXZ75",
   "collapsed_sections": [],
   "mount_file_id": "1fzJdm7C34G_Kjk8wdz1l7I3yEPqs5Glq",
   "name": "ecARR2--modelM1_ab2(model-6).ipynb",
   "provenance": [
    {
     "file_id": "1YaU60VHIf7MwsqXX51ZtF5BRCyR_e1Wg",
     "timestamp": 1627403996239
    },
    {
     "file_id": "133QOje8skPCCjNXcjrUaHu9X-8ZUftwA",
     "timestamp": 1627396655995
    },
    {
     "file_id": "1aFoa8_DXOWB5SeAlcqk_JWGiXoBdQ_FN",
     "timestamp": 1626525095859
    },
    {
     "file_id": "1fkYTddhxNyw8p4vm0sjN00AKjYW7tzGg",
     "timestamp": 1626338627875
    },
    {
     "file_id": "1QHiJsRztLO38ZAqf5m2-lg2EEBSJu54_",
     "timestamp": 1626271867171
    },
    {
     "file_id": "1OanqZQe6Z-s__bgCMsU4E5NwZ4GlkKAb",
     "timestamp": 1626260810890
    },
    {
     "file_id": "1ajoUnxS_-KBUO0E3qP5vMK4xhguXHB8J",
     "timestamp": 1626256396609
    },
    {
     "file_id": "1BEORilBHH51WD3__8FNn9cqtdpnOOjBs",
     "timestamp": 1626254594644
    },
    {
     "file_id": "1GCc_iQ_3eCvevL4SjeY4keTIOOphyA10",
     "timestamp": 1626200488415
    },
    {
     "file_id": "1TVGoEmRhXcnrJjQ-uwY2uYNgZtutXkG7",
     "timestamp": 1626197059796
    },
    {
     "file_id": "1epbcXpaFZQRGyY_8cIREkID0jixJrSMb",
     "timestamp": 1626171676267
    },
    {
     "file_id": "1WkhnRvK7gXEIpJr4pzZn7K1NevHif6E3",
     "timestamp": 1625594198161
    },
    {
     "file_id": "169yA24spslJbJOdPx218P863AhHPaozi",
     "timestamp": 1625576664712
    },
    {
     "file_id": "1WIbdDF5DzCSO_VNWwYa_KDyVyMsRUQlb",
     "timestamp": 1624949937104
    },
    {
     "file_id": "10VRsJX9k8kIVR7KsOaJJXzy9BXEcV4oZ",
     "timestamp": 1624787399733
    }
   ]
  },
  "kernelspec": {
   "display_name": "Python 3 (ipykernel)",
   "language": "python",
   "name": "python3"
  },
  "language_info": {
   "codemirror_mode": {
    "name": "ipython",
    "version": 3
   },
   "file_extension": ".py",
   "mimetype": "text/x-python",
   "name": "python",
   "nbconvert_exporter": "python",
   "pygments_lexer": "ipython3",
   "version": "3.10.4"
  }
 },
 "nbformat": 4,
 "nbformat_minor": 1
}
