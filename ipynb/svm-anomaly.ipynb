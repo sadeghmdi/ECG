{
 "cells": [
  {
   "cell_type": "code",
   "execution_count": 1,
   "id": "4b084872",
   "metadata": {},
   "outputs": [],
   "source": [
    "%%capture\n",
    "#!pip install wfdb\n",
    "BASEPATH = '../'\n",
    "import sys\n",
    "sys.path.insert(0,'../py')\n",
    "print(sys.path)\n",
    "import numpy as np\n",
    "import os\n",
    "\n",
    "from utils import reset_seed, plot_spectogram, plot_loss, load_data\n",
    "from utils import integer_mapping, mapping_AAMI, MAP_AAMI, INT_MAP_DICT\n",
    "from data_handling import DataHandling\n",
    "from data_preprocessing import DataPreprocessing\n",
    "from report import Reports\n",
    "\n",
    "reset_seed()"
   ]
  },
  {
   "cell_type": "code",
   "execution_count": 2,
   "id": "fef85d1e",
   "metadata": {},
   "outputs": [
    {
     "name": "stdout",
     "output_type": "stream",
     "text": [
      "File loaded: ../data/DS1_features_train.dat\n",
      "File loaded: ../data/DS1_features_val.dat\n"
     ]
    },
    {
     "data": {
      "text/plain": [
       "((29152, 7, 33), 29152)"
      ]
     },
     "execution_count": 2,
     "metadata": {},
     "output_type": "execute_result"
    }
   ],
   "source": [
    "#Load Preprocessed data\n",
    "x_train, y_train = load_data(file_path = '../data/DS1_features_train.dat')\n",
    "x_train.shape, len(y_train)\n",
    "#Load Preprocessed data\n",
    "x_val, y_val = load_data(file_path = '../data/DS1_features_val.dat')\n",
    "x_val.shape, len(y_val)"
   ]
  },
  {
   "cell_type": "code",
   "execution_count": 3,
   "id": "cd2f8cb2",
   "metadata": {},
   "outputs": [
    {
     "data": {
      "text/html": [
       "<div>\n",
       "<style scoped>\n",
       "    .dataframe tbody tr th:only-of-type {\n",
       "        vertical-align: middle;\n",
       "    }\n",
       "\n",
       "    .dataframe tbody tr th {\n",
       "        vertical-align: top;\n",
       "    }\n",
       "\n",
       "    .dataframe thead th {\n",
       "        text-align: right;\n",
       "    }\n",
       "</style>\n",
       "<table border=\"1\" class=\"dataframe\">\n",
       "  <thead>\n",
       "    <tr style=\"text-align: right;\">\n",
       "      <th></th>\n",
       "      <th>N</th>\n",
       "      <th>L</th>\n",
       "      <th>R</th>\n",
       "      <th>j</th>\n",
       "      <th>e</th>\n",
       "      <th>V</th>\n",
       "      <th>E</th>\n",
       "      <th>A</th>\n",
       "      <th>S</th>\n",
       "      <th>a</th>\n",
       "      <th>J</th>\n",
       "      <th>F</th>\n",
       "      <th>f</th>\n",
       "      <th>/</th>\n",
       "      <th>Q</th>\n",
       "    </tr>\n",
       "  </thead>\n",
       "  <tbody>\n",
       "    <tr>\n",
       "      <th>train</th>\n",
       "      <td>5000</td>\n",
       "      <td>5526</td>\n",
       "      <td>5292</td>\n",
       "      <td>5005</td>\n",
       "      <td>5005</td>\n",
       "      <td>5156</td>\n",
       "      <td>5032</td>\n",
       "      <td>5103</td>\n",
       "      <td>5001</td>\n",
       "      <td>5040</td>\n",
       "      <td>5016</td>\n",
       "      <td>5220</td>\n",
       "      <td>0</td>\n",
       "      <td>0</td>\n",
       "      <td>5004</td>\n",
       "    </tr>\n",
       "    <tr>\n",
       "      <th>val</th>\n",
       "      <td>2200</td>\n",
       "      <td>2368</td>\n",
       "      <td>2268</td>\n",
       "      <td>2205</td>\n",
       "      <td>2205</td>\n",
       "      <td>2210</td>\n",
       "      <td>2201</td>\n",
       "      <td>2430</td>\n",
       "      <td>2201</td>\n",
       "      <td>2220</td>\n",
       "      <td>2210</td>\n",
       "      <td>2232</td>\n",
       "      <td>0</td>\n",
       "      <td>0</td>\n",
       "      <td>2202</td>\n",
       "    </tr>\n",
       "  </tbody>\n",
       "</table>\n",
       "</div>"
      ],
      "text/plain": [
       "          N     L     R     j     e     V     E     A     S     a     J     F  \\\n",
       "train  5000  5526  5292  5005  5005  5156  5032  5103  5001  5040  5016  5220   \n",
       "val    2200  2368  2268  2205  2205  2210  2201  2430  2201  2220  2210  2232   \n",
       "\n",
       "       f  /     Q  \n",
       "train  0  0  5004  \n",
       "val    0  0  2202  "
      ]
     },
     "execution_count": 3,
     "metadata": {},
     "output_type": "execute_result"
    }
   ],
   "source": [
    "dh = DataHandling()\n",
    "rp1 = dh.report_stats_table([y_train, y_val], ['train','val'])\n",
    "rp1"
   ]
  },
  {
   "cell_type": "code",
   "execution_count": 4,
   "id": "1229a765",
   "metadata": {},
   "outputs": [
    {
     "name": "stdout",
     "output_type": "stream",
     "text": [
      "25828\n"
     ]
    },
    {
     "data": {
      "text/html": [
       "<div>\n",
       "<style scoped>\n",
       "    .dataframe tbody tr th:only-of-type {\n",
       "        vertical-align: middle;\n",
       "    }\n",
       "\n",
       "    .dataframe tbody tr th {\n",
       "        vertical-align: top;\n",
       "    }\n",
       "\n",
       "    .dataframe thead th {\n",
       "        text-align: right;\n",
       "    }\n",
       "</style>\n",
       "<table border=\"1\" class=\"dataframe\">\n",
       "  <thead>\n",
       "    <tr style=\"text-align: right;\">\n",
       "      <th></th>\n",
       "      <th>N</th>\n",
       "      <th>L</th>\n",
       "      <th>R</th>\n",
       "      <th>j</th>\n",
       "      <th>e</th>\n",
       "      <th>V</th>\n",
       "      <th>E</th>\n",
       "      <th>A</th>\n",
       "      <th>S</th>\n",
       "      <th>a</th>\n",
       "      <th>J</th>\n",
       "      <th>F</th>\n",
       "      <th>f</th>\n",
       "      <th>/</th>\n",
       "      <th>Q</th>\n",
       "    </tr>\n",
       "  </thead>\n",
       "  <tbody>\n",
       "    <tr>\n",
       "      <th>y_train_sliced</th>\n",
       "      <td>5000</td>\n",
       "      <td>5526</td>\n",
       "      <td>5292</td>\n",
       "      <td>5005</td>\n",
       "      <td>5005</td>\n",
       "      <td>0</td>\n",
       "      <td>0</td>\n",
       "      <td>0</td>\n",
       "      <td>0</td>\n",
       "      <td>0</td>\n",
       "      <td>0</td>\n",
       "      <td>0</td>\n",
       "      <td>0</td>\n",
       "      <td>0</td>\n",
       "      <td>0</td>\n",
       "    </tr>\n",
       "  </tbody>\n",
       "</table>\n",
       "</div>"
      ],
      "text/plain": [
       "                   N     L     R     j     e  V  E  A  S  a  J  F  f  /  Q\n",
       "y_train_sliced  5000  5526  5292  5005  5005  0  0  0  0  0  0  0  0  0  0"
      ]
     },
     "execution_count": 4,
     "metadata": {},
     "output_type": "execute_result"
    }
   ],
   "source": [
    "#binary N vs. V\n",
    "from data_augmentation import slice_data\n",
    "\n",
    "x_train_sliced, y_train_sliced = slice_data(x_train,y_train,['N','L','R','j','e'])\n",
    "\n",
    "dh = DataHandling()\n",
    "rp1 = dh.report_stats_table([y_train_sliced], ['y_train_sliced'])\n",
    "rp1"
   ]
  },
  {
   "cell_type": "code",
   "execution_count": 5,
   "id": "0fad5e62",
   "metadata": {},
   "outputs": [],
   "source": [
    "x_train = x_train_sliced\n",
    "y_train = y_train_sliced"
   ]
  },
  {
   "cell_type": "code",
   "execution_count": null,
   "id": "769f675e",
   "metadata": {},
   "outputs": [],
   "source": []
  },
  {
   "cell_type": "code",
   "execution_count": null,
   "id": "dcbe4b24",
   "metadata": {},
   "outputs": [],
   "source": []
  },
  {
   "cell_type": "code",
   "execution_count": 6,
   "id": "7fbe8d2b",
   "metadata": {},
   "outputs": [],
   "source": [
    "y_train = integer_mapping(y_train, INT_MAP_DICT)\n",
    "y_val = integer_mapping(y_val, INT_MAP_DICT)"
   ]
  },
  {
   "cell_type": "code",
   "execution_count": 7,
   "id": "844873cc",
   "metadata": {},
   "outputs": [],
   "source": [
    "x_train = x_train.reshape(x_train.shape[0],-1)\n",
    "x_val = x_val.reshape(x_val.shape[0],-1)"
   ]
  },
  {
   "cell_type": "code",
   "execution_count": 8,
   "id": "b4a9dea8",
   "metadata": {},
   "outputs": [
    {
     "data": {
      "text/plain": [
       "((25828, 231), (29152, 231))"
      ]
     },
     "execution_count": 8,
     "metadata": {},
     "output_type": "execute_result"
    }
   ],
   "source": [
    "x_train.shape, x_val.shape"
   ]
  },
  {
   "cell_type": "code",
   "execution_count": 9,
   "id": "59346513",
   "metadata": {},
   "outputs": [
    {
     "name": "stdout",
     "output_type": "stream",
     "text": [
      "CPU times: user 2min 26s, sys: 168 ms, total: 2min 26s\n",
      "Wall time: 2min 27s\n"
     ]
    },
    {
     "data": {
      "text/plain": [
       "OneClassSVM()"
      ]
     },
     "execution_count": 9,
     "metadata": {},
     "output_type": "execute_result"
    }
   ],
   "source": [
    "%%time\n",
    "from sklearn import svm\n",
    "oneclass = svm.OneClassSVM(kernel='rbf')\n",
    "oneclass.fit(x_train)"
   ]
  },
  {
   "cell_type": "code",
   "execution_count": null,
   "id": "a4e706c3",
   "metadata": {},
   "outputs": [],
   "source": []
  },
  {
   "cell_type": "markdown",
   "id": "009a5611",
   "metadata": {},
   "source": [
    "# Test"
   ]
  },
  {
   "cell_type": "code",
   "execution_count": 10,
   "id": "a3eef8c2",
   "metadata": {},
   "outputs": [
    {
     "name": "stdout",
     "output_type": "stream",
     "text": [
      "File loaded: ../data/DS2_features.dat\n"
     ]
    },
    {
     "data": {
      "text/plain": [
       "(49693, 231)"
      ]
     },
     "execution_count": 10,
     "metadata": {},
     "output_type": "execute_result"
    }
   ],
   "source": [
    "#Load Preprocessed Test Set\n",
    "features_test, y_test = load_data(file_path = '../data/DS2_features.dat')\n",
    "x_test = features_test\n",
    "y_true = y_test.copy()\n",
    "features_test.shape, len(y_test)\n",
    "\n",
    "x_test = x_test.reshape(x_test.shape[0],-1)\n",
    "x_test.shape"
   ]
  },
  {
   "cell_type": "code",
   "execution_count": 11,
   "id": "d474cb04",
   "metadata": {},
   "outputs": [
    {
     "name": "stdout",
     "output_type": "stream",
     "text": [
      "CPU times: user 2min 46s, sys: 14 µs, total: 2min 46s\n",
      "Wall time: 2min 46s\n"
     ]
    }
   ],
   "source": [
    "%%time\n",
    "y_pred = oneclass.predict(x_test)"
   ]
  },
  {
   "cell_type": "code",
   "execution_count": 12,
   "id": "a5d8acf4",
   "metadata": {},
   "outputs": [
    {
     "data": {
      "text/plain": [
       "array([-1,  1])"
      ]
     },
     "execution_count": 12,
     "metadata": {},
     "output_type": "execute_result"
    }
   ],
   "source": [
    "np.unique(y_pred)"
   ]
  },
  {
   "cell_type": "code",
   "execution_count": null,
   "id": "b04244e9",
   "metadata": {},
   "outputs": [],
   "source": []
  },
  {
   "cell_type": "code",
   "execution_count": 12,
   "id": "e904ce88",
   "metadata": {},
   "outputs": [],
   "source": [
    "def binarize_lables(y,positive_lable,pos=1,neg=-1):\n",
    "    #y a list of lables\n",
    "    #positive_lable: positive class lable \n",
    "    new_y = [pos if item==positive_lable else neg for item in y]\n",
    "    return new_y  "
   ]
  },
  {
   "cell_type": "code",
   "execution_count": 13,
   "id": "de2c05e8",
   "metadata": {},
   "outputs": [],
   "source": [
    "y_true = binarize_lables(y_true,'N',pos=1,neg=-1)"
   ]
  },
  {
   "cell_type": "code",
   "execution_count": 14,
   "id": "5f05aa69",
   "metadata": {},
   "outputs": [],
   "source": [
    "#y_pred = integer_mapping(y_pred, INT_MAP_DICT, inverse=True)"
   ]
  },
  {
   "cell_type": "code",
   "execution_count": 15,
   "id": "dbfb1d54",
   "metadata": {},
   "outputs": [],
   "source": [
    "#dh = DataHandling()\n",
    "#rp2 = dh.report_stats_table([y_pred, y_true], ['y_pred','y_true'])\n",
    "#rp2"
   ]
  },
  {
   "cell_type": "code",
   "execution_count": 16,
   "id": "3094db05",
   "metadata": {},
   "outputs": [
    {
     "name": "stdout",
     "output_type": "stream",
     "text": [
      "              precision    recall  f1-score   support\n",
      "\n",
      "          -1     0.3115    0.5855    0.4066     13265\n",
      "           1     0.7779    0.5287    0.6295     36428\n",
      "\n",
      "    accuracy                         0.5439     49693\n",
      "   macro avg     0.5447    0.5571    0.5181     49693\n",
      "weighted avg     0.6534    0.5439    0.5700     49693\n",
      "\n"
     ]
    },
    {
     "ename": "KeyError",
     "evalue": "-1",
     "output_type": "error",
     "traceback": [
      "\u001b[0;31m---------------------------------------------------------------------------\u001b[0m",
      "\u001b[0;31mKeyError\u001b[0m                                  Traceback (most recent call last)",
      "\u001b[0;32m/tmp/ipykernel_18847/1782980862.py\u001b[0m in \u001b[0;36m<module>\u001b[0;34m\u001b[0m\n\u001b[1;32m      7\u001b[0m \u001b[0;34m\u001b[0m\u001b[0m\n\u001b[1;32m      8\u001b[0m \u001b[0;34m\u001b[0m\u001b[0m\n\u001b[0;32m----> 9\u001b[0;31m \u001b[0my_pred_AAMI\u001b[0m \u001b[0;34m=\u001b[0m \u001b[0mmapping_AAMI\u001b[0m\u001b[0;34m(\u001b[0m\u001b[0my_pred\u001b[0m\u001b[0;34m,\u001b[0m \u001b[0mMAP_AAMI\u001b[0m\u001b[0;34m)\u001b[0m\u001b[0;34m\u001b[0m\u001b[0;34m\u001b[0m\u001b[0m\n\u001b[0m\u001b[1;32m     10\u001b[0m \u001b[0my_true_AAMI\u001b[0m \u001b[0;34m=\u001b[0m \u001b[0mmapping_AAMI\u001b[0m\u001b[0;34m(\u001b[0m\u001b[0my_true\u001b[0m\u001b[0;34m,\u001b[0m \u001b[0mMAP_AAMI\u001b[0m\u001b[0;34m)\u001b[0m\u001b[0;34m\u001b[0m\u001b[0;34m\u001b[0m\u001b[0m\n\u001b[1;32m     11\u001b[0m \u001b[0mlabels_AAMI\u001b[0m \u001b[0;34m=\u001b[0m \u001b[0;34m[\u001b[0m\u001b[0;34m'N'\u001b[0m\u001b[0;34m,\u001b[0m\u001b[0;34m'V'\u001b[0m\u001b[0;34m,\u001b[0m\u001b[0;34m'S'\u001b[0m\u001b[0;34m,\u001b[0m\u001b[0;34m'F'\u001b[0m\u001b[0;34m,\u001b[0m\u001b[0;34m'Q'\u001b[0m\u001b[0;34m]\u001b[0m\u001b[0;34m\u001b[0m\u001b[0;34m\u001b[0m\u001b[0m\n",
      "\u001b[0;32m/media/mypc/STORAGE1/codes/heartbeat/ipynb/../py/utils.py\u001b[0m in \u001b[0;36mmapping_AAMI\u001b[0;34m(y, map)\u001b[0m\n\u001b[1;32m     35\u001b[0m \u001b[0;34m\u001b[0m\u001b[0m\n\u001b[1;32m     36\u001b[0m \u001b[0;32mdef\u001b[0m \u001b[0mmapping_AAMI\u001b[0m\u001b[0;34m(\u001b[0m\u001b[0my\u001b[0m\u001b[0;34m,\u001b[0m\u001b[0mmap\u001b[0m\u001b[0;34m)\u001b[0m\u001b[0;34m:\u001b[0m\u001b[0;34m\u001b[0m\u001b[0;34m\u001b[0m\u001b[0m\n\u001b[0;32m---> 37\u001b[0;31m         \u001b[0mout\u001b[0m \u001b[0;34m=\u001b[0m \u001b[0;34m[\u001b[0m\u001b[0mmap\u001b[0m\u001b[0;34m[\u001b[0m\u001b[0mi\u001b[0m\u001b[0;34m]\u001b[0m \u001b[0;32mfor\u001b[0m \u001b[0mi\u001b[0m \u001b[0;32min\u001b[0m \u001b[0my\u001b[0m\u001b[0;34m]\u001b[0m\u001b[0;34m\u001b[0m\u001b[0;34m\u001b[0m\u001b[0m\n\u001b[0m\u001b[1;32m     38\u001b[0m         \u001b[0;32mreturn\u001b[0m \u001b[0mout\u001b[0m\u001b[0;34m\u001b[0m\u001b[0;34m\u001b[0m\u001b[0m\n\u001b[1;32m     39\u001b[0m \u001b[0;34m\u001b[0m\u001b[0m\n",
      "\u001b[0;32m/media/mypc/STORAGE1/codes/heartbeat/ipynb/../py/utils.py\u001b[0m in \u001b[0;36m<listcomp>\u001b[0;34m(.0)\u001b[0m\n\u001b[1;32m     35\u001b[0m \u001b[0;34m\u001b[0m\u001b[0m\n\u001b[1;32m     36\u001b[0m \u001b[0;32mdef\u001b[0m \u001b[0mmapping_AAMI\u001b[0m\u001b[0;34m(\u001b[0m\u001b[0my\u001b[0m\u001b[0;34m,\u001b[0m\u001b[0mmap\u001b[0m\u001b[0;34m)\u001b[0m\u001b[0;34m:\u001b[0m\u001b[0;34m\u001b[0m\u001b[0;34m\u001b[0m\u001b[0m\n\u001b[0;32m---> 37\u001b[0;31m         \u001b[0mout\u001b[0m \u001b[0;34m=\u001b[0m \u001b[0;34m[\u001b[0m\u001b[0mmap\u001b[0m\u001b[0;34m[\u001b[0m\u001b[0mi\u001b[0m\u001b[0;34m]\u001b[0m \u001b[0;32mfor\u001b[0m \u001b[0mi\u001b[0m \u001b[0;32min\u001b[0m \u001b[0my\u001b[0m\u001b[0;34m]\u001b[0m\u001b[0;34m\u001b[0m\u001b[0;34m\u001b[0m\u001b[0m\n\u001b[0m\u001b[1;32m     38\u001b[0m         \u001b[0;32mreturn\u001b[0m \u001b[0mout\u001b[0m\u001b[0;34m\u001b[0m\u001b[0;34m\u001b[0m\u001b[0m\n\u001b[1;32m     39\u001b[0m \u001b[0;34m\u001b[0m\u001b[0m\n",
      "\u001b[0;31mKeyError\u001b[0m: -1"
     ]
    }
   ],
   "source": [
    "labels = [k for k,v in INT_MAP_DICT.items()]\n",
    "report = Reports(y_true=y_true, y_pred=y_pred, labels=labels)\n",
    "normalize = None\n",
    "#report.plot_confusion_matrix(normalize=normalize, values_format='')\n",
    "print(report.the_classification_report())\n",
    "#report.metrics_table()\n",
    "\n",
    "\n",
    "y_pred_AAMI = mapping_AAMI(y_pred, MAP_AAMI)\n",
    "y_true_AAMI = mapping_AAMI(y_true, MAP_AAMI)\n",
    "labels_AAMI = ['N','V','S','F','Q']\n",
    "report = Reports(y_true=y_true_AAMI, y_pred=y_pred_AAMI, labels=labels_AAMI)\n",
    "#report.plot_confusion_matrix(normalize=normalize, values_format='')\n",
    "print(report.the_classification_report())\n",
    "report.metrics_table()"
   ]
  },
  {
   "cell_type": "code",
   "execution_count": null,
   "id": "5a28cc28",
   "metadata": {},
   "outputs": [],
   "source": []
  },
  {
   "cell_type": "code",
   "execution_count": null,
   "id": "ac58f69a",
   "metadata": {},
   "outputs": [],
   "source": []
  },
  {
   "cell_type": "code",
   "execution_count": null,
   "id": "44c76361",
   "metadata": {},
   "outputs": [],
   "source": []
  }
 ],
 "metadata": {
  "kernelspec": {
   "display_name": "Python 3 (ipykernel)",
   "language": "python",
   "name": "python3"
  },
  "language_info": {
   "codemirror_mode": {
    "name": "ipython",
    "version": 3
   },
   "file_extension": ".py",
   "mimetype": "text/x-python",
   "name": "python",
   "nbconvert_exporter": "python",
   "pygments_lexer": "ipython3",
   "version": "3.9.5"
  }
 },
 "nbformat": 4,
 "nbformat_minor": 5
}
