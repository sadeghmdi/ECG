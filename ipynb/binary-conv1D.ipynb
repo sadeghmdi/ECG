{
 "cells": [
  {
   "cell_type": "code",
   "execution_count": 1,
   "metadata": {
    "executionInfo": {
     "elapsed": 9798,
     "status": "ok",
     "timestamp": 1629698724230,
     "user": {
      "displayName": "Sadegh Mohammadi",
      "photoUrl": "https://lh3.googleusercontent.com/a-/AOh14Gg1iSjGV7iV5kzZZOpCoWfb-aIlclvodBw_eT5JzA=s64",
      "userId": "02781745993139771132"
     },
     "user_tz": -270
    },
    "id": "E9pJ0y9MaIlB"
   },
   "outputs": [],
   "source": [
    "%%capture\n",
    "#!pip install wfdb\n",
    "BASEPATH = '../'\n",
    "import sys\n",
    "sys.path.insert(0,'..')\n",
    "\n",
    "import numpy as np\n",
    "import os\n",
    "#os.environ['TF_CPP_MIN_LOG_LEVEL'] = '3'\n",
    "import tensorflow as tf\n",
    "#tf.get_logger().setLevel('ERROR')\n",
    "from pyecg.utils import reset_seed, plot_spectogram, plot_loss, load_data\n",
    "from pyecg.utils import integer_mapping, mapping_AAMI\n",
    "from pyecg.data_info import *\n",
    "from pyecg.data_handling import DataHandling\n",
    "from pyecg.report import Reports\n",
    "from pyecg.models.conv1d_rr_paral import model_arch \n",
    "\n",
    "reset_seed()"
   ]
  },
  {
   "cell_type": "markdown",
   "metadata": {},
   "source": [
    "# Data"
   ]
  },
  {
   "cell_type": "raw",
   "metadata": {
    "executionInfo": {
     "elapsed": 5,
     "status": "ok",
     "timestamp": 1629698724231,
     "user": {
      "displayName": "Sadegh Mohammadi",
      "photoUrl": "https://lh3.googleusercontent.com/a-/AOh14Gg1iSjGV7iV5kzZZOpCoWfb-aIlclvodBw_eT5JzA=s64",
      "userId": "02781745993139771132"
     },
     "user_tz": -270
    },
    "id": "RwOJWmp9xqDR"
   },
   "source": [
    "#Load Preprocessed data\n",
    "features_train, y_train = load_data(file_path = '../data/DS1_features.dat')\n",
    "features_train.shape, len(y_train)"
   ]
  },
  {
   "cell_type": "code",
   "execution_count": 2,
   "metadata": {},
   "outputs": [
    {
     "name": "stdout",
     "output_type": "stream",
     "text": [
      "File loaded: ../data/DS1_train.dat\n",
      "File loaded: ../data/DS1_val.dat\n"
     ]
    },
    {
     "data": {
      "text/plain": [
       "((46931, 300), 46931, (46931, 4), 3873)"
      ]
     },
     "execution_count": 2,
     "metadata": {},
     "output_type": "execute_result"
    }
   ],
   "source": [
    "#Load Preprocessed data\n",
    "ds_train = load_data(file_path = '../data/DS1_train.dat')\n",
    "x_train, y_train, r_train = ds_train.values()\n",
    "#Load Preprocessed data\n",
    "ds_val = load_data(file_path = '../data/DS1_val.dat')\n",
    "x_val, y_val, r_val = ds_val.values()\n",
    "\n",
    "x_train.shape, len(y_train), r_train.shape,len(y_val)"
   ]
  },
  {
   "cell_type": "code",
   "execution_count": 3,
   "metadata": {},
   "outputs": [
    {
     "data": {
      "text/plain": [
       "((46931, 4), (3873, 4))"
      ]
     },
     "execution_count": 3,
     "metadata": {},
     "output_type": "execute_result"
    }
   ],
   "source": [
    "x_train_beatinfo = r_train\n",
    "x_val_beatinfo = r_val\n",
    "x_train_beatinfo.shape, x_val_beatinfo.shape"
   ]
  },
  {
   "cell_type": "code",
   "execution_count": 4,
   "metadata": {
    "colab": {
     "base_uri": "https://localhost:8080/"
    },
    "executionInfo": {
     "elapsed": 12,
     "status": "ok",
     "timestamp": 1629698737237,
     "user": {
      "displayName": "Sadegh Mohammadi",
      "photoUrl": "https://lh3.googleusercontent.com/a-/AOh14Gg1iSjGV7iV5kzZZOpCoWfb-aIlclvodBw_eT5JzA=s64",
      "userId": "02781745993139771132"
     },
     "user_tz": -270
    },
    "id": "zagl4yIHIHg4",
    "outputId": "3db07e3b-cc61-42d8-f67b-9f6542e087e0"
   },
   "outputs": [
    {
     "data": {
      "text/html": [
       "<div>\n",
       "<style scoped>\n",
       "    .dataframe tbody tr th:only-of-type {\n",
       "        vertical-align: middle;\n",
       "    }\n",
       "\n",
       "    .dataframe tbody tr th {\n",
       "        vertical-align: top;\n",
       "    }\n",
       "\n",
       "    .dataframe thead th {\n",
       "        text-align: right;\n",
       "    }\n",
       "</style>\n",
       "<table border=\"1\" class=\"dataframe\">\n",
       "  <thead>\n",
       "    <tr style=\"text-align: right;\">\n",
       "      <th></th>\n",
       "      <th>N</th>\n",
       "      <th>L</th>\n",
       "      <th>R</th>\n",
       "      <th>j</th>\n",
       "      <th>e</th>\n",
       "      <th>V</th>\n",
       "      <th>E</th>\n",
       "      <th>A</th>\n",
       "      <th>S</th>\n",
       "      <th>a</th>\n",
       "      <th>J</th>\n",
       "      <th>F</th>\n",
       "      <th>f</th>\n",
       "      <th>/</th>\n",
       "      <th>Q</th>\n",
       "    </tr>\n",
       "  </thead>\n",
       "  <tbody>\n",
       "    <tr>\n",
       "      <th>train</th>\n",
       "      <td>34585</td>\n",
       "      <td>3939</td>\n",
       "      <td>3758</td>\n",
       "      <td>16</td>\n",
       "      <td>16</td>\n",
       "      <td>3153</td>\n",
       "      <td>105</td>\n",
       "      <td>806</td>\n",
       "      <td>2</td>\n",
       "      <td>100</td>\n",
       "      <td>32</td>\n",
       "      <td>413</td>\n",
       "      <td>0</td>\n",
       "      <td>0</td>\n",
       "      <td>6</td>\n",
       "    </tr>\n",
       "    <tr>\n",
       "      <th>val</th>\n",
       "      <td>3348</td>\n",
       "      <td>0</td>\n",
       "      <td>0</td>\n",
       "      <td>0</td>\n",
       "      <td>0</td>\n",
       "      <td>520</td>\n",
       "      <td>0</td>\n",
       "      <td>3</td>\n",
       "      <td>0</td>\n",
       "      <td>0</td>\n",
       "      <td>0</td>\n",
       "      <td>0</td>\n",
       "      <td>0</td>\n",
       "      <td>0</td>\n",
       "      <td>2</td>\n",
       "    </tr>\n",
       "  </tbody>\n",
       "</table>\n",
       "</div>"
      ],
      "text/plain": [
       "           N     L     R   j   e     V    E    A  S    a   J    F  f  /  Q\n",
       "train  34585  3939  3758  16  16  3153  105  806  2  100  32  413  0  0  6\n",
       "val     3348     0     0   0   0   520    0    3  0    0   0    0  0  0  2"
      ]
     },
     "execution_count": 4,
     "metadata": {},
     "output_type": "execute_result"
    }
   ],
   "source": [
    "dh = DataHandling()\n",
    "rp1 = dh.report_stats_table([y_train, y_val], ['train','val'])\n",
    "rp1"
   ]
  },
  {
   "cell_type": "code",
   "execution_count": 5,
   "metadata": {},
   "outputs": [
    {
     "data": {
      "text/html": [
       "<div>\n",
       "<style scoped>\n",
       "    .dataframe tbody tr th:only-of-type {\n",
       "        vertical-align: middle;\n",
       "    }\n",
       "\n",
       "    .dataframe tbody tr th {\n",
       "        vertical-align: top;\n",
       "    }\n",
       "\n",
       "    .dataframe thead th {\n",
       "        text-align: right;\n",
       "    }\n",
       "</style>\n",
       "<table border=\"1\" class=\"dataframe\">\n",
       "  <thead>\n",
       "    <tr style=\"text-align: right;\">\n",
       "      <th></th>\n",
       "      <th>N</th>\n",
       "      <th>L</th>\n",
       "      <th>R</th>\n",
       "      <th>j</th>\n",
       "      <th>e</th>\n",
       "      <th>V</th>\n",
       "      <th>E</th>\n",
       "      <th>A</th>\n",
       "      <th>S</th>\n",
       "      <th>a</th>\n",
       "      <th>J</th>\n",
       "      <th>F</th>\n",
       "      <th>f</th>\n",
       "      <th>/</th>\n",
       "      <th>Q</th>\n",
       "    </tr>\n",
       "  </thead>\n",
       "  <tbody>\n",
       "    <tr>\n",
       "      <th>train</th>\n",
       "      <td>34585</td>\n",
       "      <td>0</td>\n",
       "      <td>0</td>\n",
       "      <td>0</td>\n",
       "      <td>0</td>\n",
       "      <td>0</td>\n",
       "      <td>0</td>\n",
       "      <td>806</td>\n",
       "      <td>0</td>\n",
       "      <td>0</td>\n",
       "      <td>0</td>\n",
       "      <td>0</td>\n",
       "      <td>0</td>\n",
       "      <td>0</td>\n",
       "      <td>0</td>\n",
       "    </tr>\n",
       "    <tr>\n",
       "      <th>val</th>\n",
       "      <td>3348</td>\n",
       "      <td>0</td>\n",
       "      <td>0</td>\n",
       "      <td>0</td>\n",
       "      <td>0</td>\n",
       "      <td>0</td>\n",
       "      <td>0</td>\n",
       "      <td>3</td>\n",
       "      <td>0</td>\n",
       "      <td>0</td>\n",
       "      <td>0</td>\n",
       "      <td>0</td>\n",
       "      <td>0</td>\n",
       "      <td>0</td>\n",
       "      <td>0</td>\n",
       "    </tr>\n",
       "  </tbody>\n",
       "</table>\n",
       "</div>"
      ],
      "text/plain": [
       "           N  L  R  j  e  V  E    A  S  a  J  F  f  /  Q\n",
       "train  34585  0  0  0  0  0  0  806  0  0  0  0  0  0  0\n",
       "val     3348  0  0  0  0  0  0    3  0  0  0  0  0  0  0"
      ]
     },
     "execution_count": 5,
     "metadata": {},
     "output_type": "execute_result"
    }
   ],
   "source": [
    "from pyecg.data_handling import slice_data\n",
    "binary_targets=['N','A']\n",
    "ds_train = slice_data(ds_train, binary_targets)\n",
    "x_train, y_train, x_train_beatinfo = ds_train.values()\n",
    "ds_val = slice_data(ds_val, binary_targets)\n",
    "x_val, y_val, x_val_beatinfo = ds_val.values()\n",
    "rp2 = dh.report_stats_table([y_train, y_val], ['train','val'])\n",
    "rp2"
   ]
  },
  {
   "cell_type": "raw",
   "metadata": {},
   "source": [
    "mean_train = np.mean(x_train)\n",
    "std_train = np.std(x_train)\n",
    "\n",
    "from pyecg.data_handling import stndr\n",
    "\n",
    "x_train = stndr(x_train, mean_train, std_train)\n",
    "x_val = stndr(x_val, mean_train, std_train)"
   ]
  },
  {
   "cell_type": "raw",
   "metadata": {},
   "source": [
    "mean_train = np.mean(x_train_beatinfo)\n",
    "std_train = np.std(x_train_beatinfo)\n",
    "\n",
    "from pyecg.data_handling import stndr\n",
    "\n",
    "x_train_beatinfo = stndr(x_train_beatinfo, mean_train, std_train)\n",
    "x_val_beatinfo = stndr(x_val_beatinfo, mean_train, std_train)"
   ]
  },
  {
   "cell_type": "code",
   "execution_count": 6,
   "metadata": {},
   "outputs": [
    {
     "name": "stdout",
     "output_type": "stream",
     "text": [
      "(5806, 300) 5806\n"
     ]
    },
    {
     "data": {
      "text/html": [
       "<div>\n",
       "<style scoped>\n",
       "    .dataframe tbody tr th:only-of-type {\n",
       "        vertical-align: middle;\n",
       "    }\n",
       "\n",
       "    .dataframe tbody tr th {\n",
       "        vertical-align: top;\n",
       "    }\n",
       "\n",
       "    .dataframe thead th {\n",
       "        text-align: right;\n",
       "    }\n",
       "</style>\n",
       "<table border=\"1\" class=\"dataframe\">\n",
       "  <thead>\n",
       "    <tr style=\"text-align: right;\">\n",
       "      <th></th>\n",
       "      <th>N</th>\n",
       "      <th>L</th>\n",
       "      <th>R</th>\n",
       "      <th>j</th>\n",
       "      <th>e</th>\n",
       "      <th>V</th>\n",
       "      <th>E</th>\n",
       "      <th>A</th>\n",
       "      <th>S</th>\n",
       "      <th>a</th>\n",
       "      <th>J</th>\n",
       "      <th>F</th>\n",
       "      <th>f</th>\n",
       "      <th>/</th>\n",
       "      <th>Q</th>\n",
       "    </tr>\n",
       "  </thead>\n",
       "  <tbody>\n",
       "    <tr>\n",
       "      <th>train</th>\n",
       "      <td>5000</td>\n",
       "      <td>0</td>\n",
       "      <td>0</td>\n",
       "      <td>0</td>\n",
       "      <td>0</td>\n",
       "      <td>0</td>\n",
       "      <td>0</td>\n",
       "      <td>5642</td>\n",
       "      <td>0</td>\n",
       "      <td>0</td>\n",
       "      <td>0</td>\n",
       "      <td>0</td>\n",
       "      <td>0</td>\n",
       "      <td>0</td>\n",
       "      <td>0</td>\n",
       "    </tr>\n",
       "    <tr>\n",
       "      <th>val</th>\n",
       "      <td>3348</td>\n",
       "      <td>0</td>\n",
       "      <td>0</td>\n",
       "      <td>0</td>\n",
       "      <td>0</td>\n",
       "      <td>0</td>\n",
       "      <td>0</td>\n",
       "      <td>3</td>\n",
       "      <td>0</td>\n",
       "      <td>0</td>\n",
       "      <td>0</td>\n",
       "      <td>0</td>\n",
       "      <td>0</td>\n",
       "      <td>0</td>\n",
       "      <td>0</td>\n",
       "    </tr>\n",
       "  </tbody>\n",
       "</table>\n",
       "</div>"
      ],
      "text/plain": [
       "          N  L  R  j  e  V  E     A  S  a  J  F  f  /  Q\n",
       "train  5000  0  0  0  0  0  0  5642  0  0  0  0  0  0  0\n",
       "val    3348  0  0  0  0  0  0     3  0  0  0  0  0  0  0"
      ]
     },
     "execution_count": 6,
     "metadata": {},
     "output_type": "execute_result"
    }
   ],
   "source": [
    "from pyecg.data_augmentation import aug_decrease,aug_increase\n",
    "ds_train = aug_decrease(ds_train, label='N', desired_size = 5000)\n",
    "ds_train = aug_increase(ds_train, desired_size = 5000)\n",
    "x_train, y_train, x_train_beatinfo  = ds_train.values()\n",
    "\n",
    "rp2 = dh.report_stats_table([y_train, y_val], ['train','val'])\n",
    "rp2"
   ]
  },
  {
   "cell_type": "raw",
   "metadata": {},
   "source": [
    "y_train = mapping_AAMI(y_train, MAP_AAMI)\n",
    "y_val = mapping_AAMI(y_val, MAP_AAMI)"
   ]
  },
  {
   "cell_type": "code",
   "execution_count": 7,
   "metadata": {
    "executionInfo": {
     "elapsed": 9,
     "status": "ok",
     "timestamp": 1629698737237,
     "user": {
      "displayName": "Sadegh Mohammadi",
      "photoUrl": "https://lh3.googleusercontent.com/a-/AOh14Gg1iSjGV7iV5kzZZOpCoWfb-aIlclvodBw_eT5JzA=s64",
      "userId": "02781745993139771132"
     },
     "user_tz": -270
    },
    "id": "u4LWVBgkF1NI"
   },
   "outputs": [],
   "source": [
    "#INT_MAP_DICT = {'N':0,'V':1,'S':2,'F':3,'Q':4}\n",
    "INT_MAP_DICT = {binary_targets[0]:0, binary_targets[1]:1}\n",
    "\n",
    "y_train = integer_mapping(y_train, INT_MAP_DICT)\n",
    "y_val = integer_mapping(y_val, INT_MAP_DICT)"
   ]
  },
  {
   "cell_type": "markdown",
   "metadata": {
    "id": "phHl-9TqPAKo"
   },
   "source": [
    "# Train"
   ]
  },
  {
   "cell_type": "code",
   "execution_count": 8,
   "metadata": {
    "colab": {
     "base_uri": "https://localhost:8080/"
    },
    "executionInfo": {
     "elapsed": 20,
     "status": "ok",
     "timestamp": 1627404457302,
     "user": {
      "displayName": "Sadegh Mohammadi",
      "photoUrl": "https://lh3.googleusercontent.com/a-/AOh14Gg1iSjGV7iV5kzZZOpCoWfb-aIlclvodBw_eT5JzA=s64",
      "userId": "02781745993139771132"
     },
     "user_tz": 420
    },
    "id": "aeVdtly2Y4Ek",
    "outputId": "083ca1b2-b93e-4cb6-b048-c28ae7f3a93f"
   },
   "outputs": [],
   "source": [
    "params = {\n",
    "    'seq_len' : x_train.shape[1],\n",
    "    'num_classes' : 2,\n",
    "    'drate' : 0.50,\n",
    "    'batch_size' : 128,\n",
    "    'epochs' : 10\n",
    "}"
   ]
  },
  {
   "cell_type": "code",
   "execution_count": 9,
   "metadata": {
    "id": "6GRPAf4mzJ3q"
   },
   "outputs": [
    {
     "name": "stdout",
     "output_type": "stream",
     "text": [
      "\n",
      " ----block1:\n",
      "KerasTensor(type_spec=TensorSpec(shape=(2,), dtype=tf.int32, name=None), inferred_value=[None, 472], name='tf.compat.v1.shape/Shape:0', description=\"created by layer 'tf.compat.v1.shape'\")\n",
      "\n",
      " ----block2:\n",
      "KerasTensor(type_spec=TensorSpec(shape=(2,), dtype=tf.int32, name=None), inferred_value=[None, 536], name='tf.compat.v1.shape_1/Shape:0', description=\"created by layer 'tf.compat.v1.shape_1'\")\n",
      "\n",
      " ----block3:\n",
      "KerasTensor(type_spec=TensorSpec(shape=(2,), dtype=tf.int32, name=None), inferred_value=[None, 568], name='tf.compat.v1.shape_2/Shape:0', description=\"created by layer 'tf.compat.v1.shape_2'\")\n",
      "\n",
      " ----block4:\n",
      "KerasTensor(type_spec=TensorSpec(shape=(2,), dtype=tf.int32, name=None), inferred_value=[None, 584], name='tf.compat.v1.shape_3/Shape:0', description=\"created by layer 'tf.compat.v1.shape_3'\")\n",
      "\n",
      " ----block5:\n",
      "KerasTensor(type_spec=TensorSpec(shape=(2,), dtype=tf.int32, name=None), inferred_value=[None, 592], name='tf.compat.v1.shape_4/Shape:0', description=\"created by layer 'tf.compat.v1.shape_4'\")\n",
      "\n",
      "KerasTensor(type_spec=TensorSpec(shape=(2,), dtype=tf.int32, name=None), inferred_value=[None, 2752], name='tf.compat.v1.shape_5/Shape:0', description=\"created by layer 'tf.compat.v1.shape_5'\")\n",
      "\n",
      "KerasTensor(type_spec=TensorSpec(shape=(2,), dtype=tf.int32, name=None), inferred_value=[None, 64], name='tf.compat.v1.shape_6/Shape:0', description=\"created by layer 'tf.compat.v1.shape_6'\")\n",
      "\n",
      "KerasTensor(type_spec=TensorSpec(shape=(2,), dtype=tf.int32, name=None), inferred_value=[None, 1024], name='tf.compat.v1.shape_7/Shape:0', description=\"created by layer 'tf.compat.v1.shape_7'\")\n",
      "\n",
      "KerasTensor(type_spec=TensorSpec(shape=(2,), dtype=tf.int32, name=None), inferred_value=[None, 512], name='tf.compat.v1.shape_8/Shape:0', description=\"created by layer 'tf.compat.v1.shape_8'\")\n"
     ]
    }
   ],
   "source": [
    "model_classifier  = model_arch(conv_input_dim=params['seq_len'],beatinfo_input_dim=4, num_classes=params['num_classes'])                                          \n",
    "#model_classifier  = model_arch(input_dim=params['seq_len'], num_classes=params['num_classes'])                                          "
   ]
  },
  {
   "cell_type": "code",
   "execution_count": 10,
   "metadata": {},
   "outputs": [],
   "source": [
    "#%%capture\n",
    "#!pip install focal-loss\n",
    "#from focal_loss import SparseCategoricalFocalLoss"
   ]
  },
  {
   "cell_type": "code",
   "execution_count": 11,
   "metadata": {
    "colab": {
     "base_uri": "https://localhost:8080/"
    },
    "executionInfo": {
     "elapsed": 1233321,
     "status": "ok",
     "timestamp": 1627405690992,
     "user": {
      "displayName": "Sadegh Mohammadi",
      "photoUrl": "https://lh3.googleusercontent.com/a-/AOh14Gg1iSjGV7iV5kzZZOpCoWfb-aIlclvodBw_eT5JzA=s64",
      "userId": "02781745993139771132"
     },
     "user_tz": 420
    },
    "id": "PgOFHNu4PJtp",
    "outputId": "236dca1b-962b-4a84-fa6a-339eb48f965f"
   },
   "outputs": [
    {
     "name": "stdout",
     "output_type": "stream",
     "text": [
      "rm: cannot remove '/media/mypc/STORAGE1/codes/heartbeat/checkpoint/keras.EXP1': No such file or directory\r\n"
     ]
    }
   ],
   "source": [
    "!rm -r /media/mypc/STORAGE1/codes/heartbeat/checkpoint/keras.EXP1\n",
    "\n",
    "opt= tf.keras.optimizers.Adam(learning_rate=0.001, beta_1=0.9, beta_2=0.999, epsilon=1e-07, name='Adam')\n",
    "#opt = tf.keras.optimizers.SGD(learning_rate=0.01, momentum=0.9)\n",
    "\n",
    "#for loss try sample_weight\n",
    "model_classifier.compile(\n",
    "                      optimizer=opt,\n",
    "                      #loss=SparseCategoricalFocalLoss(gamma=3),\n",
    "                      loss=\"sparse_categorical_crossentropy\",\n",
    "                      metrics=['accuracy'],\n",
    "                      loss_weights=None\n",
    "                      )\n",
    "\n",
    "\n",
    "early_stopping = tf.keras.callbacks.EarlyStopping(monitor='val_loss', min_delta=0, patience=8, verbose=1)\n",
    "reduce_lr = tf.keras.callbacks.ReduceLROnPlateau(monitor='val_loss', factor=0.9, patience=5,\n",
    "                              verbose=1, mode='auto', min_delta=0.0001, cooldown=0, min_lr=0.0001)\n",
    "model_checkpoint = tf.keras.callbacks.ModelCheckpoint(BASEPATH + \"checkpoint/keras.EXP1\",\n",
    "                                                      monitor='val_loss', save_best_only=True, verbose=1)\n",
    "\n",
    "callbacks = [early_stopping, model_checkpoint, reduce_lr]  "
   ]
  },
  {
   "cell_type": "code",
   "execution_count": 12,
   "metadata": {},
   "outputs": [
    {
     "name": "stdout",
     "output_type": "stream",
     "text": [
      "Epoch 1/10\n",
      "84/84 [==============================] - 10s 98ms/step - loss: 2.0909 - accuracy: 0.8719 - val_loss: 0.0679 - val_accuracy: 0.9872\n",
      "Epoch 2/10\n",
      "84/84 [==============================] - 8s 94ms/step - loss: 0.1843 - accuracy: 0.9475 - val_loss: 0.0235 - val_accuracy: 0.9863\n",
      "Epoch 3/10\n",
      "84/84 [==============================] - 8s 100ms/step - loss: 0.0918 - accuracy: 0.9681 - val_loss: 0.0206 - val_accuracy: 0.9869\n",
      "Epoch 4/10\n",
      "84/84 [==============================] - 7s 87ms/step - loss: 0.0747 - accuracy: 0.9749 - val_loss: 0.0410 - val_accuracy: 0.9860\n",
      "Epoch 5/10\n",
      "84/84 [==============================] - 8s 93ms/step - loss: 0.0591 - accuracy: 0.9802 - val_loss: 0.0353 - val_accuracy: 0.9860\n",
      "Epoch 6/10\n",
      "84/84 [==============================] - 8s 93ms/step - loss: 0.0437 - accuracy: 0.9833 - val_loss: 0.0503 - val_accuracy: 0.9857\n",
      "Epoch 7/10\n",
      "84/84 [==============================] - 7s 87ms/step - loss: 0.0365 - accuracy: 0.9871 - val_loss: 0.0413 - val_accuracy: 0.9860\n",
      "Epoch 8/10\n",
      "84/84 [==============================] - 7s 88ms/step - loss: 0.0352 - accuracy: 0.9871 - val_loss: 0.0540 - val_accuracy: 0.9863\n",
      "Epoch 9/10\n",
      "84/84 [==============================] - 8s 90ms/step - loss: 0.0236 - accuracy: 0.9905 - val_loss: 0.0540 - val_accuracy: 0.9866\n",
      "Epoch 10/10\n",
      "84/84 [==============================] - 8s 95ms/step - loss: 0.0234 - accuracy: 0.9914 - val_loss: 0.0377 - val_accuracy: 0.9875\n",
      "CPU times: user 1min 19s, sys: 230 ms, total: 1min 20s\n",
      "Wall time: 1min 19s\n"
     ]
    }
   ],
   "source": [
    "%%time\n",
    "\n",
    "model_history = model_classifier.fit(\n",
    "              #x=x_train,\n",
    "              x={'conv_input':x_train, 'beatinfo_input':x_train_beatinfo},\n",
    "              y=y_train,\n",
    "              batch_size=params['batch_size'],\n",
    "              epochs=params['epochs'],\n",
    "              verbose=1,\n",
    "              #callbacks=callbacks,\n",
    "              validation_data=({'conv_input':x_val, 'beatinfo_input':x_val_beatinfo}, y_val),\n",
    "              shuffle=True,\n",
    "              class_weight=None,\n",
    "              sample_weight=None,\n",
    "              initial_epoch=0\n",
    "              )"
   ]
  },
  {
   "cell_type": "code",
   "execution_count": 13,
   "metadata": {
    "colab": {
     "base_uri": "https://localhost:8080/",
     "height": 295
    },
    "executionInfo": {
     "elapsed": 51231,
     "status": "ok",
     "timestamp": 1627405742205,
     "user": {
      "displayName": "Sadegh Mohammadi",
      "photoUrl": "https://lh3.googleusercontent.com/a-/AOh14Gg1iSjGV7iV5kzZZOpCoWfb-aIlclvodBw_eT5JzA=s64",
      "userId": "02781745993139771132"
     },
     "user_tz": 420
    },
    "id": "kmoNvLfz8ER8",
    "outputId": "f37679c8-f142-4eac-db2a-d77ce342222c"
   },
   "outputs": [
    {
     "data": {
      "image/png": "[encoded data removed]",
      "text/plain": [
       "<Figure size 432x288 with 1 Axes>"
      ]
     },
     "metadata": {
      "needs_background": "light"
     },
     "output_type": "display_data"
    }
   ],
   "source": [
    "plot_loss(model_history)"
   ]
  },
  {
   "cell_type": "code",
   "execution_count": 14,
   "metadata": {
    "id": "e6QEha8ryTbH"
   },
   "outputs": [],
   "source": [
    "import pickle\n",
    "with open(BASEPATH+'history/EXP1.hist', 'wb') as f:\n",
    "  pickle.dump(model_history.history, f)\n"
   ]
  },
  {
   "cell_type": "code",
   "execution_count": 15,
   "metadata": {
    "colab": {
     "base_uri": "https://localhost:8080/"
    },
    "executionInfo": {
     "elapsed": 9,
     "status": "ok",
     "timestamp": 1627405742207,
     "user": {
      "displayName": "Sadegh Mohammadi",
      "photoUrl": "https://lh3.googleusercontent.com/a-/AOh14Gg1iSjGV7iV5kzZZOpCoWfb-aIlclvodBw_eT5JzA=s64",
      "userId": "02781745993139771132"
     },
     "user_tz": 420
    },
    "id": "FU-pzf53kFev",
    "outputId": "4f683089-2e9a-4f42-d5a8-0da547f615da"
   },
   "outputs": [
    {
     "data": {
      "text/plain": [
       "(0.02064661495387554, 2)"
      ]
     },
     "execution_count": 15,
     "metadata": {},
     "output_type": "execute_result"
    }
   ],
   "source": [
    "a =model_history.history\n",
    "min(a['val_loss']), a['val_loss'].index(min(a['val_loss']))"
   ]
  },
  {
   "cell_type": "markdown",
   "metadata": {
    "id": "DQkAk3O5iaOY"
   },
   "source": [
    "# Loading Model"
   ]
  },
  {
   "cell_type": "code",
   "execution_count": 16,
   "metadata": {
    "colab": {
     "base_uri": "https://localhost:8080/",
     "height": 35
    },
    "executionInfo": {
     "elapsed": 2918,
     "status": "ok",
     "timestamp": 1629698740148,
     "user": {
      "displayName": "Sadegh Mohammadi",
      "photoUrl": "https://lh3.googleusercontent.com/a-/AOh14Gg1iSjGV7iV5kzZZOpCoWfb-aIlclvodBw_eT5JzA=s64",
      "userId": "02781745993139771132"
     },
     "user_tz": -270
    },
    "id": "8C8axIoViOLm",
    "outputId": "f208a8a6-59ca-4387-e5fa-5b867bfc48d9"
   },
   "outputs": [
    {
     "data": {
      "text/plain": [
       "'model'"
      ]
     },
     "execution_count": 16,
     "metadata": {},
     "output_type": "execute_result"
    }
   ],
   "source": [
    "#loaded_model = tf.keras.models.load_model(BASEPATH+'checkpoint/keras.EXP1')\n",
    "loaded_model = model_classifier\n",
    "loaded_model.name"
   ]
  },
  {
   "cell_type": "code",
   "execution_count": 17,
   "metadata": {
    "colab": {
     "base_uri": "https://localhost:8080/"
    },
    "executionInfo": {
     "elapsed": 9,
     "status": "ok",
     "timestamp": 1629698740149,
     "user": {
      "displayName": "Sadegh Mohammadi",
      "photoUrl": "https://lh3.googleusercontent.com/a-/AOh14Gg1iSjGV7iV5kzZZOpCoWfb-aIlclvodBw_eT5JzA=s64",
      "userId": "02781745993139771132"
     },
     "user_tz": -270
    },
    "id": "QYraRcRxB0bv",
    "outputId": "f7fb1e16-7011-4ab4-e9b3-0e0665c9a37d"
   },
   "outputs": [],
   "source": [
    "#loaded_model.summary()"
   ]
  },
  {
   "cell_type": "code",
   "execution_count": 18,
   "metadata": {},
   "outputs": [
    {
     "name": "stdout",
     "output_type": "stream",
     "text": [
      "File loaded: ../data/DS2.dat\n"
     ]
    }
   ],
   "source": [
    "#Load Preprocessed Test Set\n",
    "ds_test = load_data(file_path = '../data/DS2.dat')\n",
    "x_test, y_test, r_test = ds_test.values()"
   ]
  },
  {
   "cell_type": "code",
   "execution_count": 19,
   "metadata": {},
   "outputs": [
    {
     "data": {
      "text/html": [
       "<div>\n",
       "<style scoped>\n",
       "    .dataframe tbody tr th:only-of-type {\n",
       "        vertical-align: middle;\n",
       "    }\n",
       "\n",
       "    .dataframe tbody tr th {\n",
       "        vertical-align: top;\n",
       "    }\n",
       "\n",
       "    .dataframe thead th {\n",
       "        text-align: right;\n",
       "    }\n",
       "</style>\n",
       "<table border=\"1\" class=\"dataframe\">\n",
       "  <thead>\n",
       "    <tr style=\"text-align: right;\">\n",
       "      <th></th>\n",
       "      <th>N</th>\n",
       "      <th>L</th>\n",
       "      <th>R</th>\n",
       "      <th>j</th>\n",
       "      <th>e</th>\n",
       "      <th>V</th>\n",
       "      <th>E</th>\n",
       "      <th>A</th>\n",
       "      <th>S</th>\n",
       "      <th>a</th>\n",
       "      <th>J</th>\n",
       "      <th>F</th>\n",
       "      <th>f</th>\n",
       "      <th>/</th>\n",
       "      <th>Q</th>\n",
       "    </tr>\n",
       "  </thead>\n",
       "  <tbody>\n",
       "    <tr>\n",
       "      <th>test</th>\n",
       "      <td>36286</td>\n",
       "      <td>0</td>\n",
       "      <td>0</td>\n",
       "      <td>0</td>\n",
       "      <td>0</td>\n",
       "      <td>0</td>\n",
       "      <td>0</td>\n",
       "      <td>1729</td>\n",
       "      <td>0</td>\n",
       "      <td>0</td>\n",
       "      <td>0</td>\n",
       "      <td>0</td>\n",
       "      <td>0</td>\n",
       "      <td>0</td>\n",
       "      <td>0</td>\n",
       "    </tr>\n",
       "  </tbody>\n",
       "</table>\n",
       "</div>"
      ],
      "text/plain": [
       "          N  L  R  j  e  V  E     A  S  a  J  F  f  /  Q\n",
       "test  36286  0  0  0  0  0  0  1729  0  0  0  0  0  0  0"
      ]
     },
     "execution_count": 19,
     "metadata": {},
     "output_type": "execute_result"
    }
   ],
   "source": [
    "from pyecg.data_handling import slice_data\n",
    "ds_test = slice_data(ds_test, binary_targets)\n",
    "x_test, y_test, x_test_beatinfo = ds_test.values()\n",
    "rp2 = dh.report_stats_table([y_test], ['test'])\n",
    "rp2"
   ]
  },
  {
   "cell_type": "code",
   "execution_count": 20,
   "metadata": {},
   "outputs": [],
   "source": [
    "y_true = y_test.copy()\n",
    "#y_true = mapping_AAMI(y_true, MAP_AAMI)"
   ]
  },
  {
   "cell_type": "raw",
   "metadata": {},
   "source": [
    "x_test = stndr(x_test, mean_train, std_train)"
   ]
  },
  {
   "cell_type": "raw",
   "metadata": {},
   "source": [
    "x_test_beatinfo = stndr(x_test_beatinfo, mean_train, std_train)"
   ]
  },
  {
   "cell_type": "code",
   "execution_count": 21,
   "metadata": {
    "colab": {
     "base_uri": "https://localhost:8080/"
    },
    "executionInfo": {
     "elapsed": 3048,
     "status": "ok",
     "timestamp": 1629698743191,
     "user": {
      "displayName": "Sadegh Mohammadi",
      "photoUrl": "https://lh3.googleusercontent.com/a-/AOh14Gg1iSjGV7iV5kzZZOpCoWfb-aIlclvodBw_eT5JzA=s64",
      "userId": "02781745993139771132"
     },
     "user_tz": -270
    },
    "id": "xORFdEMo2CO2",
    "outputId": "732cf26e-a689-4c4c-d163-df6b6a16c078"
   },
   "outputs": [
    {
     "name": "stdout",
     "output_type": "stream",
     "text": [
      "CPU times: user 5.59 s, sys: 49.7 ms, total: 5.64 s\n",
      "Wall time: 5.42 s\n"
     ]
    }
   ],
   "source": [
    "%%time\n",
    "y_pred_prob = loaded_model.predict([x_test,x_test_beatinfo])"
   ]
  },
  {
   "cell_type": "code",
   "execution_count": 22,
   "metadata": {
    "executionInfo": {
     "elapsed": 3,
     "status": "ok",
     "timestamp": 1629698743192,
     "user": {
      "displayName": "Sadegh Mohammadi",
      "photoUrl": "https://lh3.googleusercontent.com/a-/AOh14Gg1iSjGV7iV5kzZZOpCoWfb-aIlclvodBw_eT5JzA=s64",
      "userId": "02781745993139771132"
     },
     "user_tz": -270
    },
    "id": "m-1JZgxHgVxS"
   },
   "outputs": [],
   "source": [
    "y_pred = integer_mapping(list(y_pred_prob.argmax(axis=-1)), INT_MAP_DICT, inverse=True)"
   ]
  },
  {
   "cell_type": "code",
   "execution_count": 23,
   "metadata": {},
   "outputs": [
    {
     "data": {
      "text/html": [
       "<div>\n",
       "<style scoped>\n",
       "    .dataframe tbody tr th:only-of-type {\n",
       "        vertical-align: middle;\n",
       "    }\n",
       "\n",
       "    .dataframe tbody tr th {\n",
       "        vertical-align: top;\n",
       "    }\n",
       "\n",
       "    .dataframe thead th {\n",
       "        text-align: right;\n",
       "    }\n",
       "</style>\n",
       "<table border=\"1\" class=\"dataframe\">\n",
       "  <thead>\n",
       "    <tr style=\"text-align: right;\">\n",
       "      <th></th>\n",
       "      <th>N</th>\n",
       "      <th>L</th>\n",
       "      <th>R</th>\n",
       "      <th>j</th>\n",
       "      <th>e</th>\n",
       "      <th>V</th>\n",
       "      <th>E</th>\n",
       "      <th>A</th>\n",
       "      <th>S</th>\n",
       "      <th>a</th>\n",
       "      <th>J</th>\n",
       "      <th>F</th>\n",
       "      <th>f</th>\n",
       "      <th>/</th>\n",
       "      <th>Q</th>\n",
       "    </tr>\n",
       "  </thead>\n",
       "  <tbody>\n",
       "    <tr>\n",
       "      <th>y_pred</th>\n",
       "      <td>35778</td>\n",
       "      <td>0</td>\n",
       "      <td>0</td>\n",
       "      <td>0</td>\n",
       "      <td>0</td>\n",
       "      <td>0</td>\n",
       "      <td>0</td>\n",
       "      <td>2237</td>\n",
       "      <td>0</td>\n",
       "      <td>0</td>\n",
       "      <td>0</td>\n",
       "      <td>0</td>\n",
       "      <td>0</td>\n",
       "      <td>0</td>\n",
       "      <td>0</td>\n",
       "    </tr>\n",
       "    <tr>\n",
       "      <th>y_true</th>\n",
       "      <td>36286</td>\n",
       "      <td>0</td>\n",
       "      <td>0</td>\n",
       "      <td>0</td>\n",
       "      <td>0</td>\n",
       "      <td>0</td>\n",
       "      <td>0</td>\n",
       "      <td>1729</td>\n",
       "      <td>0</td>\n",
       "      <td>0</td>\n",
       "      <td>0</td>\n",
       "      <td>0</td>\n",
       "      <td>0</td>\n",
       "      <td>0</td>\n",
       "      <td>0</td>\n",
       "    </tr>\n",
       "  </tbody>\n",
       "</table>\n",
       "</div>"
      ],
      "text/plain": [
       "            N  L  R  j  e  V  E     A  S  a  J  F  f  /  Q\n",
       "y_pred  35778  0  0  0  0  0  0  2237  0  0  0  0  0  0  0\n",
       "y_true  36286  0  0  0  0  0  0  1729  0  0  0  0  0  0  0"
      ]
     },
     "execution_count": 23,
     "metadata": {},
     "output_type": "execute_result"
    }
   ],
   "source": [
    "dh = DataHandling()\n",
    "rp2 = dh.report_stats_table([y_pred, y_true], ['y_pred','y_true'])\n",
    "rp2"
   ]
  },
  {
   "cell_type": "code",
   "execution_count": 24,
   "metadata": {
    "colab": {
     "base_uri": "https://localhost:8080/",
     "height": 1000
    },
    "executionInfo": {
     "elapsed": 3237,
     "status": "ok",
     "timestamp": 1629698746426,
     "user": {
      "displayName": "Sadegh Mohammadi",
      "photoUrl": "https://lh3.googleusercontent.com/a-/AOh14Gg1iSjGV7iV5kzZZOpCoWfb-aIlclvodBw_eT5JzA=s64",
      "userId": "02781745993139771132"
     },
     "user_tz": -270
    },
    "id": "MVdqqAxPgYqU",
    "outputId": "bc210270-7276-4730-a2a6-ffdf25921e3f"
   },
   "outputs": [
    {
     "name": "stdout",
     "output_type": "stream",
     "text": [
      "              precision    recall  f1-score   support\n",
      "\n",
      "           A     0.4032    0.5217    0.4549      1729\n",
      "           N     0.9769    0.9632    0.9700     36286\n",
      "\n",
      "    accuracy                         0.9431     38015\n",
      "   macro avg     0.6901    0.7424    0.7124     38015\n",
      "weighted avg     0.9508    0.9431    0.9466     38015\n",
      "\n"
     ]
    }
   ],
   "source": [
    "labels = [k for k,v in INT_MAP_DICT.items()]\n",
    "report = Reports(y_true=y_true, y_pred=y_pred, labels=labels)\n",
    "normalize = None\n",
    "#report.plot_confusion_matrix(normalize=normalize, values_format='')\n",
    "print(report.the_classification_report())\n",
    "#report.metrics_table()\n"
   ]
  },
  {
   "cell_type": "code",
   "execution_count": null,
   "metadata": {
    "id": "IIuFo6drJ9nz"
   },
   "outputs": [],
   "source": []
  },
  {
   "cell_type": "code",
   "execution_count": null,
   "metadata": {},
   "outputs": [],
   "source": []
  }
 ],
 "metadata": {
  "colab": {
   "authorship_tag": "ABX9TyO5mdlokQ62wz4XipxYXZ75",
   "collapsed_sections": [],
   "mount_file_id": "1fzJdm7C34G_Kjk8wdz1l7I3yEPqs5Glq",
   "name": "ecARR2--modelM1_ab2(model-6).ipynb",
   "provenance": [
    {
     "file_id": "1YaU60VHIf7MwsqXX51ZtF5BRCyR_e1Wg",
     "timestamp": 1627403996239
    },
    {
     "file_id": "133QOje8skPCCjNXcjrUaHu9X-8ZUftwA",
     "timestamp": 1627396655995
    },
    {
     "file_id": "1aFoa8_DXOWB5SeAlcqk_JWGiXoBdQ_FN",
     "timestamp": 1626525095859
    },
    {
     "file_id": "1fkYTddhxNyw8p4vm0sjN00AKjYW7tzGg",
     "timestamp": 1626338627875
    },
    {
     "file_id": "1QHiJsRztLO38ZAqf5m2-lg2EEBSJu54_",
     "timestamp": 1626271867171
    },
    {
     "file_id": "1OanqZQe6Z-s__bgCMsU4E5NwZ4GlkKAb",
     "timestamp": 1626260810890
    },
    {
     "file_id": "1ajoUnxS_-KBUO0E3qP5vMK4xhguXHB8J",
     "timestamp": 1626256396609
    },
    {
     "file_id": "1BEORilBHH51WD3__8FNn9cqtdpnOOjBs",
     "timestamp": 1626254594644
    },
    {
     "file_id": "1GCc_iQ_3eCvevL4SjeY4keTIOOphyA10",
     "timestamp": 1626200488415
    },
    {
     "file_id": "1TVGoEmRhXcnrJjQ-uwY2uYNgZtutXkG7",
     "timestamp": 1626197059796
    },
    {
     "file_id": "1epbcXpaFZQRGyY_8cIREkID0jixJrSMb",
     "timestamp": 1626171676267
    },
    {
     "file_id": "1WkhnRvK7gXEIpJr4pzZn7K1NevHif6E3",
     "timestamp": 1625594198161
    },
    {
     "file_id": "169yA24spslJbJOdPx218P863AhHPaozi",
     "timestamp": 1625576664712
    },
    {
     "file_id": "1WIbdDF5DzCSO_VNWwYa_KDyVyMsRUQlb",
     "timestamp": 1624949937104
    },
    {
     "file_id": "10VRsJX9k8kIVR7KsOaJJXzy9BXEcV4oZ",
     "timestamp": 1624787399733
    }
   ]
  },
  "kernelspec": {
   "display_name": "Python 3 (ipykernel)",
   "language": "python",
   "name": "python3"
  },
  "language_info": {
   "codemirror_mode": {
    "name": "ipython",
    "version": 3
   },
   "file_extension": ".py",
   "mimetype": "text/x-python",
   "name": "python",
   "nbconvert_exporter": "python",
   "pygments_lexer": "ipython3",
   "version": "3.10.4"
  }
 },
 "nbformat": 4,
 "nbformat_minor": 1
}
