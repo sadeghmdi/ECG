{
 "cells": [
  {
   "cell_type": "code",
   "execution_count": 1,
   "metadata": {},
   "outputs": [],
   "source": [
    "%%capture\n",
    "#!pip install wfdb\n",
    "BASEPATH = '../'\n",
    "import sys\n",
    "sys.path.insert(0,'..')\n",
    "\n",
    "import numpy as np\n",
    "import os\n",
    "os.environ['TF_CPP_MIN_LOG_LEVEL'] = '3'\n",
    "import tensorflow as tf\n",
    "tf.get_logger().setLevel('ERROR')\n",
    "from pyecg.utils import reset_seed, plot_spectogram, plot_loss, load_data\n",
    "from pyecg.utils import integer_mapping, mapping_AAMI\n",
    "from pyecg.data_info import *\n",
    "from pyecg.data_handling import DataHandling\n",
    "from pyecg.data_preprocessing import DataPreprocessing\n",
    "from pyecg.report import Reports\n",
    "from pyecg.models.Anomaly_AE_FCN import model_arch \n",
    "\n",
    "reset_seed()"
   ]
  },
  {
   "cell_type": "markdown",
   "metadata": {},
   "source": [
    "# Data"
   ]
  },
  {
   "cell_type": "code",
   "execution_count": 2,
   "metadata": {},
   "outputs": [
    {
     "ename": "NameError",
     "evalue": "name 'DataHandling' is not defined",
     "output_type": "error",
     "traceback": [
      "\u001b[0;31m---------------------------------------------------------------------------\u001b[0m",
      "\u001b[0;31mNameError\u001b[0m                                 Traceback (most recent call last)",
      "\u001b[0;32m/tmp/ipykernel_11567/1115900550.py\u001b[0m in \u001b[0;36m<module>\u001b[0;34m\u001b[0m\n\u001b[0;32m----> 1\u001b[0;31m \u001b[0mdh\u001b[0m \u001b[0;34m=\u001b[0m \u001b[0mDataHandling\u001b[0m\u001b[0;34m(\u001b[0m\u001b[0mbase_path\u001b[0m\u001b[0;34m=\u001b[0m\u001b[0;34m'../data'\u001b[0m\u001b[0;34m)\u001b[0m\u001b[0;34m\u001b[0m\u001b[0;34m\u001b[0m\u001b[0m\n\u001b[0m\u001b[1;32m      2\u001b[0m \u001b[0;34m\u001b[0m\u001b[0m\n\u001b[1;32m      3\u001b[0m \u001b[0mx_train\u001b[0m\u001b[0;34m,\u001b[0m \u001b[0my_train\u001b[0m \u001b[0;34m=\u001b[0m \u001b[0mdh\u001b[0m\u001b[0;34m.\u001b[0m\u001b[0mload_data\u001b[0m\u001b[0;34m(\u001b[0m\u001b[0mload_file_name\u001b[0m\u001b[0;34m=\u001b[0m\u001b[0;34m'DS1_train.dat'\u001b[0m\u001b[0;34m)\u001b[0m\u001b[0;34m\u001b[0m\u001b[0;34m\u001b[0m\u001b[0m\n\u001b[1;32m      4\u001b[0m \u001b[0mx_val\u001b[0m\u001b[0;34m,\u001b[0m \u001b[0my_val\u001b[0m \u001b[0;34m=\u001b[0m \u001b[0mdh\u001b[0m\u001b[0;34m.\u001b[0m\u001b[0mload_data\u001b[0m\u001b[0;34m(\u001b[0m\u001b[0mload_file_name\u001b[0m\u001b[0;34m=\u001b[0m\u001b[0;34m'DS1_val.dat'\u001b[0m\u001b[0;34m)\u001b[0m\u001b[0;34m\u001b[0m\u001b[0;34m\u001b[0m\u001b[0m\n\u001b[1;32m      5\u001b[0m \u001b[0;34m\u001b[0m\u001b[0m\n",
      "\u001b[0;31mNameError\u001b[0m: name 'DataHandling' is not defined"
     ]
    }
   ],
   "source": [
    "dh = DataHandling(base_path='../data')\n",
    "\n",
    "x_train, y_train = dh.load_data(load_file_name='DS1_train.dat')\n",
    "x_val, y_val = dh.load_data(load_file_name='DS1_val.dat')\n",
    "\n",
    "statReport = dh.report_stats_table([y_train,y_val],['train','val'])\n",
    "statReport"
   ]
  },
  {
   "cell_type": "code",
   "execution_count": 3,
   "metadata": {},
   "outputs": [
    {
     "data": {
      "text/plain": [
       "(23700, 256)"
      ]
     },
     "execution_count": 3,
     "metadata": {},
     "output_type": "execute_result"
    }
   ],
   "source": [
    "x_train.shape"
   ]
  },
  {
   "cell_type": "code",
   "execution_count": 4,
   "metadata": {},
   "outputs": [
    {
     "name": "stdout",
     "output_type": "stream",
     "text": [
      "(17729, 256) (20358, 256)\n"
     ]
    }
   ],
   "source": [
    "from data_handling import slice_data\n",
    "x_train,_ = slice_data(x_train, y_train, ['N'])\n",
    "x_val,_ = slice_data(x_val, y_val, ['N'])\n",
    "\n",
    "print(x_train.shape,x_val.shape)"
   ]
  },
  {
   "cell_type": "raw",
   "metadata": {},
   "source": [
    "mean_train = np.mean(x_train)\n",
    "std_train = np.std(x_train)\n",
    "\n",
    "def stndr(arr,mean,std):\n",
    "    X = arr.copy()\n",
    "    X = (X - np.mean(X)) / np.std(X)\n",
    "    return X\n",
    "\n",
    "x_train = stndr(x_train,mean_train,std_train)\n",
    "x_val = stndr(x_val,mean_train,std_train)"
   ]
  },
  {
   "cell_type": "raw",
   "metadata": {},
   "source": [
    "y_train = mapping_AAMI(y_train, MAP_AAMI)\n",
    "y_val = mapping_AAMI(y_val, MAP_AAMI)"
   ]
  },
  {
   "cell_type": "raw",
   "metadata": {
    "executionInfo": {
     "elapsed": 9,
     "status": "ok",
     "timestamp": 1629698737237,
     "user": {
      "displayName": "Sadegh Mohammadi",
      "photoUrl": "https://lh3.googleusercontent.com/a-/AOh14Gg1iSjGV7iV5kzZZOpCoWfb-aIlclvodBw_eT5JzA=s64",
      "userId": "02781745993139771132"
     },
     "user_tz": -270
    },
    "id": "u4LWVBgkF1NI"
   },
   "source": [
    "INT_MAP_DICT = {'N':0,'V':1,'S':1,'F':1,'Q':1}\n",
    "y_train = integer_mapping(y_train, INT_MAP_DICT)\n",
    "y_val = integer_mapping(y_val, INT_MAP_DICT)"
   ]
  },
  {
   "cell_type": "markdown",
   "metadata": {
    "id": "phHl-9TqPAKo"
   },
   "source": [
    "# Train"
   ]
  },
  {
   "cell_type": "code",
   "execution_count": 8,
   "metadata": {},
   "outputs": [
    {
     "name": "stdout",
     "output_type": "stream",
     "text": [
      "Epoch 1/40\n",
      "70/70 [==============================] - 1s 12ms/step - loss: 0.6109 - acc: 0.2344 - val_loss: 0.5234 - val_acc: 0.4676\n",
      "Epoch 2/40\n",
      "70/70 [==============================] - 1s 10ms/step - loss: 0.4660 - acc: 0.3291 - val_loss: 0.4937 - val_acc: 0.4840\n",
      "Epoch 3/40\n",
      "70/70 [==============================] - 1s 11ms/step - loss: 0.4436 - acc: 0.3334 - val_loss: 0.4819 - val_acc: 0.6078\n",
      "Epoch 4/40\n",
      "70/70 [==============================] - 1s 10ms/step - loss: 0.4311 - acc: 0.3712 - val_loss: 0.4727 - val_acc: 0.6242\n",
      "Epoch 5/40\n",
      "70/70 [==============================] - 1s 10ms/step - loss: 0.4256 - acc: 0.4076 - val_loss: 0.4653 - val_acc: 0.6021\n",
      "Epoch 6/40\n",
      "70/70 [==============================] - 1s 13ms/step - loss: 0.4208 - acc: 0.4348 - val_loss: 0.4609 - val_acc: 0.6097\n",
      "Epoch 7/40\n",
      "70/70 [==============================] - 1s 12ms/step - loss: 0.4165 - acc: 0.4348 - val_loss: 0.4550 - val_acc: 0.5369\n",
      "Epoch 8/40\n",
      "70/70 [==============================] - 1s 11ms/step - loss: 0.4153 - acc: 0.4438 - val_loss: 0.4528 - val_acc: 0.5623\n",
      "Epoch 9/40\n",
      "70/70 [==============================] - 1s 12ms/step - loss: 0.4126 - acc: 0.4536 - val_loss: 0.4471 - val_acc: 0.5442\n",
      "Epoch 10/40\n",
      "70/70 [==============================] - 1s 11ms/step - loss: 0.4114 - acc: 0.4803 - val_loss: 0.4465 - val_acc: 0.5536\n",
      "Epoch 11/40\n",
      "70/70 [==============================] - 1s 12ms/step - loss: 0.4106 - acc: 0.4873 - val_loss: 0.4439 - val_acc: 0.5421\n",
      "Epoch 12/40\n",
      "70/70 [==============================] - 1s 13ms/step - loss: 0.4101 - acc: 0.4937 - val_loss: 0.4373 - val_acc: 0.5212\n",
      "Epoch 13/40\n",
      "70/70 [==============================] - 1s 13ms/step - loss: 0.4072 - acc: 0.5072 - val_loss: 0.4359 - val_acc: 0.5331\n",
      "Epoch 14/40\n",
      "70/70 [==============================] - 1s 11ms/step - loss: 0.4070 - acc: 0.5018 - val_loss: 0.4327 - val_acc: 0.4850\n",
      "Epoch 15/40\n",
      "70/70 [==============================] - 1s 11ms/step - loss: 0.4079 - acc: 0.5016 - val_loss: 0.4312 - val_acc: 0.5611\n",
      "Epoch 16/40\n",
      "70/70 [==============================] - 1s 12ms/step - loss: 0.4045 - acc: 0.5141 - val_loss: 0.4279 - val_acc: 0.5745\n",
      "Epoch 17/40\n",
      "70/70 [==============================] - 1s 11ms/step - loss: 0.4036 - acc: 0.5251 - val_loss: 0.4269 - val_acc: 0.5590\n",
      "Epoch 18/40\n",
      "70/70 [==============================] - 1s 12ms/step - loss: 0.4026 - acc: 0.5364 - val_loss: 0.4267 - val_acc: 0.5693\n",
      "Epoch 19/40\n",
      "70/70 [==============================] - 1s 11ms/step - loss: 0.4018 - acc: 0.5389 - val_loss: 0.4296 - val_acc: 0.5244\n",
      "Epoch 20/40\n",
      "70/70 [==============================] - 1s 11ms/step - loss: 0.4023 - acc: 0.5317 - val_loss: 0.4263 - val_acc: 0.5479\n",
      "Epoch 21/40\n",
      "70/70 [==============================] - 1s 11ms/step - loss: 0.4009 - acc: 0.5437 - val_loss: 0.4257 - val_acc: 0.6065\n",
      "Epoch 22/40\n",
      "70/70 [==============================] - 1s 12ms/step - loss: 0.4007 - acc: 0.5512 - val_loss: 0.4245 - val_acc: 0.5552\n",
      "Epoch 23/40\n",
      "70/70 [==============================] - 1s 11ms/step - loss: 0.4012 - acc: 0.5468 - val_loss: 0.4263 - val_acc: 0.6050\n",
      "Epoch 24/40\n",
      "70/70 [==============================] - 1s 11ms/step - loss: 0.4001 - acc: 0.5568 - val_loss: 0.4256 - val_acc: 0.6074\n",
      "Epoch 25/40\n",
      "70/70 [==============================] - 1s 11ms/step - loss: 0.3990 - acc: 0.5684 - val_loss: 0.4255 - val_acc: 0.5878\n",
      "Epoch 26/40\n",
      "70/70 [==============================] - 1s 12ms/step - loss: 0.3984 - acc: 0.5628 - val_loss: 0.4254 - val_acc: 0.6066\n",
      "Epoch 27/40\n",
      "70/70 [==============================] - 1s 10ms/step - loss: 0.3977 - acc: 0.5717 - val_loss: 0.4233 - val_acc: 0.5951\n",
      "Epoch 28/40\n",
      "70/70 [==============================] - 1s 11ms/step - loss: 0.3974 - acc: 0.5708 - val_loss: 0.4282 - val_acc: 0.6057\n",
      "Epoch 29/40\n",
      "70/70 [==============================] - 1s 11ms/step - loss: 0.3986 - acc: 0.5728 - val_loss: 0.4225 - val_acc: 0.5888\n",
      "Epoch 30/40\n",
      "70/70 [==============================] - 1s 11ms/step - loss: 0.3975 - acc: 0.5868 - val_loss: 0.4251 - val_acc: 0.6217\n",
      "Epoch 31/40\n",
      "70/70 [==============================] - 1s 11ms/step - loss: 0.3976 - acc: 0.5757 - val_loss: 0.4233 - val_acc: 0.6061\n",
      "Epoch 32/40\n",
      "70/70 [==============================] - 1s 11ms/step - loss: 0.3972 - acc: 0.5884 - val_loss: 0.4263 - val_acc: 0.6056\n",
      "Epoch 33/40\n",
      "70/70 [==============================] - 1s 11ms/step - loss: 0.3979 - acc: 0.5932 - val_loss: 0.4227 - val_acc: 0.6245\n",
      "Epoch 34/40\n",
      "70/70 [==============================] - 1s 12ms/step - loss: 0.3973 - acc: 0.5928 - val_loss: 0.4231 - val_acc: 0.6175\n",
      "Epoch 35/40\n",
      "70/70 [==============================] - 1s 11ms/step - loss: 0.3969 - acc: 0.5937 - val_loss: 0.4220 - val_acc: 0.6082\n",
      "Epoch 36/40\n",
      "70/70 [==============================] - 1s 12ms/step - loss: 0.3969 - acc: 0.6030 - val_loss: 0.4230 - val_acc: 0.6164\n",
      "Epoch 37/40\n",
      "70/70 [==============================] - 1s 13ms/step - loss: 0.3965 - acc: 0.6036 - val_loss: 0.4237 - val_acc: 0.6147\n",
      "Epoch 38/40\n",
      "70/70 [==============================] - 1s 14ms/step - loss: 0.3967 - acc: 0.6091 - val_loss: 0.4223 - val_acc: 0.6277\n",
      "Epoch 39/40\n",
      "70/70 [==============================] - 1s 12ms/step - loss: 0.3967 - acc: 0.6116 - val_loss: 0.4236 - val_acc: 0.6265\n",
      "Epoch 40/40\n",
      "70/70 [==============================] - 1s 11ms/step - loss: 0.3963 - acc: 0.6120 - val_loss: 0.4209 - val_acc: 0.6306\n"
     ]
    }
   ],
   "source": [
    "model = model_arch(input_dim=256)\n",
    "\n",
    "model.compile(optimizer=\"Adam\", loss=\"mse\", metrics=[\"acc\"])\n",
    "model_history = model.fit(x_train,\n",
    "                          x_train,\n",
    "                          epochs=40,\n",
    "                          validation_data=(x_val, x_val),\n",
    "                          batch_size=256,\n",
    "                          shuffle=True)"
   ]
  },
  {
   "cell_type": "code",
   "execution_count": 9,
   "metadata": {
    "colab": {
     "base_uri": "https://localhost:8080/",
     "height": 295
    },
    "executionInfo": {
     "elapsed": 51231,
     "status": "ok",
     "timestamp": 1627405742205,
     "user": {
      "displayName": "Sadegh Mohammadi",
      "photoUrl": "https://lh3.googleusercontent.com/a-/AOh14Gg1iSjGV7iV5kzZZOpCoWfb-aIlclvodBw_eT5JzA=s64",
      "userId": "02781745993139771132"
     },
     "user_tz": 420
    },
    "id": "kmoNvLfz8ER8",
    "outputId": "f37679c8-f142-4eac-db2a-d77ce342222c"
   },
   "outputs": [
    {
     "data": {
      "image/png": "[encoded data removed]",
      "text/plain": [
       "<Figure size 432x288 with 1 Axes>"
      ]
     },
     "metadata": {
      "needs_background": "light"
     },
     "output_type": "display_data"
    }
   ],
   "source": [
    "plot_loss(model_history)"
   ]
  },
  {
   "cell_type": "code",
   "execution_count": 10,
   "metadata": {
    "id": "e6QEha8ryTbH"
   },
   "outputs": [],
   "source": [
    "import pickle\n",
    "with open(BASEPATH+'history/EXP1.hist', 'wb') as f:\n",
    "  pickle.dump(model_history.history, f)\n"
   ]
  },
  {
   "cell_type": "code",
   "execution_count": 11,
   "metadata": {
    "colab": {
     "base_uri": "https://localhost:8080/"
    },
    "executionInfo": {
     "elapsed": 9,
     "status": "ok",
     "timestamp": 1627405742207,
     "user": {
      "displayName": "Sadegh Mohammadi",
      "photoUrl": "https://lh3.googleusercontent.com/a-/AOh14Gg1iSjGV7iV5kzZZOpCoWfb-aIlclvodBw_eT5JzA=s64",
      "userId": "02781745993139771132"
     },
     "user_tz": 420
    },
    "id": "FU-pzf53kFev",
    "outputId": "4f683089-2e9a-4f42-d5a8-0da547f615da"
   },
   "outputs": [
    {
     "data": {
      "text/plain": [
       "(0.4208572804927826, 39)"
      ]
     },
     "execution_count": 11,
     "metadata": {},
     "output_type": "execute_result"
    }
   ],
   "source": [
    "a =model_history.history\n",
    "min(a['val_loss']), a['val_loss'].index(min(a['val_loss']))"
   ]
  },
  {
   "cell_type": "markdown",
   "metadata": {
    "id": "DQkAk3O5iaOY"
   },
   "source": [
    "# Loading Model"
   ]
  },
  {
   "cell_type": "code",
   "execution_count": 12,
   "metadata": {},
   "outputs": [
    {
     "name": "stdout",
     "output_type": "stream",
     "text": [
      "File loaded: ../data/DS2.dat\n"
     ]
    },
    {
     "data": {
      "text/plain": [
       "((49693, 256), 49693)"
      ]
     },
     "execution_count": 12,
     "metadata": {},
     "output_type": "execute_result"
    }
   ],
   "source": [
    "#Load Test Set\n",
    "x_test, y_test = load_data(file_path = '../data/DS2.dat')\n",
    "y_true = y_test.copy()\n",
    "x_test.shape, len(y_test)"
   ]
  },
  {
   "cell_type": "raw",
   "metadata": {},
   "source": [
    "x_test = stndr(x_test,mean_train,std_train)"
   ]
  },
  {
   "cell_type": "code",
   "execution_count": 14,
   "metadata": {},
   "outputs": [],
   "source": [
    "x_test_pred = model.predict(x_test)"
   ]
  },
  {
   "cell_type": "code",
   "execution_count": 19,
   "metadata": {},
   "outputs": [],
   "source": [
    "_,ind = dh.search_type(x_test, y_test, 1, sym='a')"
   ]
  },
  {
   "cell_type": "code",
   "execution_count": 20,
   "metadata": {},
   "outputs": [
    {
     "data": {
      "text/plain": [
       "[<matplotlib.lines.Line2D at 0x7fe0646844c0>]"
      ]
     },
     "execution_count": 20,
     "metadata": {},
     "output_type": "execute_result"
    },
    {
     "data": {
      "image/png": "[encoded data removed]",
      "text/plain": [
       "<Figure size 432x288 with 1 Axes>"
      ]
     },
     "metadata": {
      "needs_background": "light"
     },
     "output_type": "display_data"
    }
   ],
   "source": [
    "import matplotlib.pyplot as plt\n",
    "plt.plot(range(0,256),x_test[ind[45]])"
   ]
  },
  {
   "cell_type": "code",
   "execution_count": 21,
   "metadata": {},
   "outputs": [
    {
     "data": {
      "text/plain": [
       "[<matplotlib.lines.Line2D at 0x7fe06980e3d0>]"
      ]
     },
     "execution_count": 21,
     "metadata": {},
     "output_type": "execute_result"
    },
    {
     "data": {
      "image/png": "[encoded data removed]",
      "text/plain": [
       "<Figure size 432x288 with 1 Axes>"
      ]
     },
     "metadata": {
      "needs_background": "light"
     },
     "output_type": "display_data"
    }
   ],
   "source": [
    "plt.plot(range(0,256),x_test_pred[ind[45]])"
   ]
  },
  {
   "cell_type": "code",
   "execution_count": null,
   "metadata": {},
   "outputs": [],
   "source": []
  },
  {
   "cell_type": "code",
   "execution_count": null,
   "metadata": {},
   "outputs": [],
   "source": []
  },
  {
   "cell_type": "code",
   "execution_count": 18,
   "metadata": {},
   "outputs": [
    {
     "name": "stdout",
     "output_type": "stream",
     "text": [
      "1139/1139 [==============================] - 2s 1ms/step - loss: 0.4926 - acc: 0.5263\n"
     ]
    },
    {
     "data": {
      "text/plain": [
       "[0.4925704300403595, 0.5263258814811707]"
      ]
     },
     "execution_count": 18,
     "metadata": {},
     "output_type": "execute_result"
    }
   ],
   "source": [
    "_,ind = dh.search_type(x_test, y_test, 1, sym='N')\n",
    "\n",
    "model.evaluate(x_test[ind], x_test[ind])"
   ]
  },
  {
   "cell_type": "code",
   "execution_count": null,
   "metadata": {
    "id": "IIuFo6drJ9nz"
   },
   "outputs": [],
   "source": []
  },
  {
   "cell_type": "code",
   "execution_count": null,
   "metadata": {},
   "outputs": [],
   "source": []
  },
  {
   "cell_type": "code",
   "execution_count": null,
   "metadata": {},
   "outputs": [],
   "source": []
  }
 ],
 "metadata": {
  "colab": {
   "authorship_tag": "ABX9TyO5mdlokQ62wz4XipxYXZ75",
   "collapsed_sections": [],
   "mount_file_id": "1fzJdm7C34G_Kjk8wdz1l7I3yEPqs5Glq",
   "name": "ecARR2--modelM1_ab2(model-6).ipynb",
   "provenance": [
    {
     "file_id": "1YaU60VHIf7MwsqXX51ZtF5BRCyR_e1Wg",
     "timestamp": 1627403996239
    },
    {
     "file_id": "133QOje8skPCCjNXcjrUaHu9X-8ZUftwA",
     "timestamp": 1627396655995
    },
    {
     "file_id": "1aFoa8_DXOWB5SeAlcqk_JWGiXoBdQ_FN",
     "timestamp": 1626525095859
    },
    {
     "file_id": "1fkYTddhxNyw8p4vm0sjN00AKjYW7tzGg",
     "timestamp": 1626338627875
    },
    {
     "file_id": "1QHiJsRztLO38ZAqf5m2-lg2EEBSJu54_",
     "timestamp": 1626271867171
    },
    {
     "file_id": "1OanqZQe6Z-s__bgCMsU4E5NwZ4GlkKAb",
     "timestamp": 1626260810890
    },
    {
     "file_id": "1ajoUnxS_-KBUO0E3qP5vMK4xhguXHB8J",
     "timestamp": 1626256396609
    },
    {
     "file_id": "1BEORilBHH51WD3__8FNn9cqtdpnOOjBs",
     "timestamp": 1626254594644
    },
    {
     "file_id": "1GCc_iQ_3eCvevL4SjeY4keTIOOphyA10",
     "timestamp": 1626200488415
    },
    {
     "file_id": "1TVGoEmRhXcnrJjQ-uwY2uYNgZtutXkG7",
     "timestamp": 1626197059796
    },
    {
     "file_id": "1epbcXpaFZQRGyY_8cIREkID0jixJrSMb",
     "timestamp": 1626171676267
    },
    {
     "file_id": "1WkhnRvK7gXEIpJr4pzZn7K1NevHif6E3",
     "timestamp": 1625594198161
    },
    {
     "file_id": "169yA24spslJbJOdPx218P863AhHPaozi",
     "timestamp": 1625576664712
    },
    {
     "file_id": "1WIbdDF5DzCSO_VNWwYa_KDyVyMsRUQlb",
     "timestamp": 1624949937104
    },
    {
     "file_id": "10VRsJX9k8kIVR7KsOaJJXzy9BXEcV4oZ",
     "timestamp": 1624787399733
    }
   ]
  },
  "kernelspec": {
   "display_name": "Python 3 (ipykernel)",
   "language": "python",
   "name": "python3"
  },
  "language_info": {
   "codemirror_mode": {
    "name": "ipython",
    "version": 3
   },
   "file_extension": ".py",
   "mimetype": "text/x-python",
   "name": "python",
   "nbconvert_exporter": "python",
   "pygments_lexer": "ipython3",
   "version": "3.10.4"
  }
 },
 "nbformat": 4,
 "nbformat_minor": 1
}
