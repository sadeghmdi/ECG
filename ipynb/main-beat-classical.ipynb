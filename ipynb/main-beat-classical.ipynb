{
 "cells": [
  {
   "cell_type": "code",
   "execution_count": 1,
   "metadata": {
    "executionInfo": {
     "elapsed": 9798,
     "status": "ok",
     "timestamp": 1629698724230,
     "user": {
      "displayName": "Sadegh Mohammadi",
      "photoUrl": "https://lh3.googleusercontent.com/a-/AOh14Gg1iSjGV7iV5kzZZOpCoWfb-aIlclvodBw_eT5JzA=s64",
      "userId": "02781745993139771132"
     },
     "user_tz": -270
    },
    "id": "E9pJ0y9MaIlB"
   },
   "outputs": [
    {
     "name": "stderr",
     "output_type": "stream",
     "text": [
      "2022-06-09 18:27:23.963196: W tensorflow/stream_executor/platform/default/dso_loader.cc:64] Could not load dynamic library 'libcudart.so.11.0'; dlerror: libcudart.so.11.0: cannot open shared object file: No such file or directory\n",
      "2022-06-09 18:27:23.963268: I tensorflow/stream_executor/cuda/cudart_stub.cc:29] Ignore above cudart dlerror if you do not have a GPU set up on your machine.\n",
      "2022-06-09 18:27:49.881896: W tensorflow/stream_executor/platform/default/dso_loader.cc:64] Could not load dynamic library 'libcuda.so.1'; dlerror: libcuda.so.1: cannot open shared object file: No such file or directory\n",
      "2022-06-09 18:27:49.881941: W tensorflow/stream_executor/cuda/cuda_driver.cc:269] failed call to cuInit: UNKNOWN ERROR (303)\n",
      "2022-06-09 18:27:49.881975: I tensorflow/stream_executor/cuda/cuda_diagnostics.cc:156] kernel driver does not appear to be running on this host (ubuntu): /proc/driver/nvidia/version does not exist\n",
      "2022-06-09 18:27:49.882357: I tensorflow/core/platform/cpu_feature_guard.cc:193] This TensorFlow binary is optimized with oneAPI Deep Neural Network Library (oneDNN) to use the following CPU instructions in performance-critical operations:  AVX2 FMA\n",
      "To enable them in other operations, rebuild TensorFlow with the appropriate compiler flags.\n"
     ]
    }
   ],
   "source": [
    "%%capture\n",
    "BASEPATH = '../'\n",
    "import sys\n",
    "sys.path.insert(0,'..')\n",
    "\n",
    "import numpy as np\n",
    "import os\n",
    "import pandas as pd\n",
    "import matplotlib.pyplot as plt\n",
    "from pyecg.utils import reset_seed, plot_spectogram, plot_loss, load_data\n",
    "from pyecg.utils import integer_mapping, mapping_AAMI, calc_class_weights\n",
    "from pyecg.data_info import *\n",
    "from pyecg.data_preprocessing import clean_inf_nan,clean_IQR,clean_IQR_class\n",
    "from pyecg.data_handling import DataHandling,slice_data\n",
    "from pyecg.report import Reports\n",
    "from pyecg.utils import sig_similarity_report,sig_similarity_hist\n",
    "\n",
    "\n",
    "reset_seed() "
   ]
  },
  {
   "cell_type": "markdown",
   "metadata": {},
   "source": [
    "# Proto"
   ]
  },
  {
   "cell_type": "code",
   "execution_count": 2,
   "metadata": {},
   "outputs": [],
   "source": [
    "datasets = {1:'raw',2:'stft'}\n",
    "\n",
    "CONFIG = {}\n",
    "CONFIG['dataset'] = datasets[1]\n",
    "CONFIG['augment'] = False \n",
    "CONFIG['sliced_targets'] = {'N':0,'A':1,'V':2}    #{'N':0,'A':1,'V':2} #None  #{'N':0,'A':1}\n",
    "CONFIG['AAMI'] = False \n",
    "CONFIG['class_weight'] = False \n",
    "CONFIG['normalization'] = 'zscore'       #'zscore' 'minmax' , None, 'max' "
   ]
  },
  {
   "cell_type": "markdown",
   "metadata": {},
   "source": [
    "# Data"
   ]
  },
  {
   "cell_type": "code",
   "execution_count": 3,
   "metadata": {},
   "outputs": [
    {
     "name": "stdout",
     "output_type": "stream",
     "text": [
      "file loaded: ../data/train.beat\n",
      "shape of \"waveforms\" is (38949, 1000)\n",
      "shape of \"beat_feats\" is (38949, 62)\n",
      "shape of \"labels\" is (38949,)\n",
      "                N     L     R   j  e     V    E    A  S   a   J    F  f  /  Q\n",
      "train.beat  27374  3849  3570  14  0  2931  105  580  2  97  32  387  0  0  8\n",
      "file loaded: ../data/val.beat\n",
      "shape of \"waveforms\" is (9872, 1000)\n",
      "shape of \"beat_feats\" is (9872, 62)\n",
      "shape of \"labels\" is (9872,)\n",
      "             N  L  R  j   e    V  E    A  S  a  J   F  f  /  Q\n",
      "val.beat  9049  0  0  0  16  625  0  166  0  1  0  15  0  0  0\n"
     ]
    }
   ],
   "source": [
    "#Load data\n",
    "dh = DataHandling(base_path='../data')\n",
    "\n",
    "if CONFIG['dataset'] == 'raw':\n",
    "    ds_train = dh.load_data(file_name = 'train.beat')\n",
    "    x_train, r_train, y_train = ds_train.values()\n",
    "    \n",
    "    ds_val = dh.load_data(file_name = 'val.beat')\n",
    "    x_val, r_val, y_val = ds_val.values()\n",
    "    "
   ]
  },
  {
   "cell_type": "code",
   "execution_count": 32,
   "metadata": {},
   "outputs": [
    {
     "data": {
      "text/plain": [
       "(814,)"
      ]
     },
     "execution_count": 32,
     "metadata": {},
     "output_type": "execute_result"
    }
   ],
   "source": [
    "ds_train = clean_inf_nan(ds_train)\n",
    "x_train, r_train, y_train = ds_train.values()\n",
    "y_train.shape"
   ]
  },
  {
   "cell_type": "code",
   "execution_count": 5,
   "metadata": {},
   "outputs": [
    {
     "data": {
      "text/plain": [
       "(4.118348992851702, -3.531306100843774, 0.04888668081381855)"
      ]
     },
     "execution_count": 5,
     "metadata": {},
     "output_type": "execute_result"
    }
   ],
   "source": [
    "xx =  x_train.flatten()\n",
    "max(xx),min(xx),sum(xx)/len(xx) "
   ]
  },
  {
   "cell_type": "code",
   "execution_count": 6,
   "metadata": {},
   "outputs": [
    {
     "data": {
      "text/plain": [
       "(100.02222222222225, -50.18046660868458, 0.29059396895927475)"
      ]
     },
     "execution_count": 6,
     "metadata": {},
     "output_type": "execute_result"
    }
   ],
   "source": [
    "rr =  r_train.flatten()\n",
    "max(rr),min(rr),sum(rr)/len(rr) "
   ]
  },
  {
   "cell_type": "code",
   "execution_count": 7,
   "metadata": {},
   "outputs": [
    {
     "data": {
      "text/plain": [
       "array([ 9.96015936e-01,  1.00000000e+00,  1.00000000e+00, -3.79605508e+00,\n",
       "        5.13790599e-02,  3.02326483e-01,  3.20341890e+00,  1.20063381e+01,\n",
       "        3.10661409e-01,  1.00000000e+00, -6.62313676e-03, -7.14307312e-03,\n",
       "       -6.32050982e-03, -3.82306686e-03, -3.07995497e-03, -1.80808869e-04,\n",
       "        8.40501261e-03,  2.51194470e-02,  3.99220068e-02,  4.17309439e-02,\n",
       "        2.45056697e-02,  7.77686323e-03, -3.70688854e-03, -1.57081765e-02,\n",
       "       -2.27462612e-02, -2.24957964e-02, -1.33961003e-02,  1.54575645e-02,\n",
       "        2.35646608e-01,  3.54108886e-01,  1.07013322e-01, -7.86472161e-04,\n",
       "       -3.89409600e-02, -7.39596912e-02, -8.13719422e-02, -8.07600021e-02,\n",
       "       -7.70853007e-02, -7.16591157e-02, -6.44899611e-02, -5.25882828e-02,\n",
       "       -4.12161540e-02, -3.07620054e-02, -1.82588163e-02, -6.25462176e-03,\n",
       "        3.23706808e-03,  1.24844296e-02,  2.25034276e-02,  2.87622774e-02,\n",
       "        3.15468395e-02,  3.30196087e-02,  3.07280159e-02,  2.56762042e-02,\n",
       "        1.86820348e-02,  1.19639721e-02,  8.22969367e-03,  5.61327384e-03,\n",
       "        3.95433494e-03,  2.64645603e-03,  1.25465859e-03, -7.63943636e-05])"
      ]
     },
     "execution_count": 7,
     "metadata": {},
     "output_type": "execute_result"
    }
   ],
   "source": [
    "np.median(r_train,axis=0)"
   ]
  },
  {
   "cell_type": "code",
   "execution_count": 8,
   "metadata": {},
   "outputs": [
    {
     "data": {
      "text/plain": [
       "<AxesSubplot:>"
      ]
     },
     "execution_count": 8,
     "metadata": {},
     "output_type": "execute_result"
    },
    {
     "data": {
      "image/png": "[encoded data removed]",
      "text/plain": [
       "<Figure size 432x288 with 1 Axes>"
      ]
     },
     "metadata": {
      "needs_background": "light"
     },
     "output_type": "display_data"
    }
   ],
   "source": [
    "r_train.shape\n",
    "pd.DataFrame(r_train).boxplot()"
   ]
  },
  {
   "cell_type": "code",
   "execution_count": 9,
   "metadata": {},
   "outputs": [
    {
     "data": {
      "text/plain": [
       "['A', 'E', 'F', 'J', 'L', 'N', 'Q', 'R', 'S', 'V', 'a', 'j']"
      ]
     },
     "execution_count": 9,
     "metadata": {},
     "output_type": "execute_result"
    }
   ],
   "source": [
    "list(np.unique(y_train))"
   ]
  },
  {
   "cell_type": "code",
   "execution_count": 10,
   "metadata": {},
   "outputs": [],
   "source": [
    "#cleaning\n",
    "ds_train = clean_IQR_class(ds_train,factor=2)  #29.0"
   ]
  },
  {
   "cell_type": "code",
   "execution_count": 120,
   "metadata": {},
   "outputs": [
    {
     "data": {
      "text/plain": [
       "(38949, 60)"
      ]
     },
     "execution_count": 120,
     "metadata": {},
     "output_type": "execute_result"
    }
   ],
   "source": [
    "x_train, r_train, y_train = ds_train.values()\n",
    "r_train.shape"
   ]
  },
  {
   "cell_type": "code",
   "execution_count": 121,
   "metadata": {},
   "outputs": [
    {
     "data": {
      "text/plain": [
       "<AxesSubplot:>"
      ]
     },
     "execution_count": 121,
     "metadata": {},
     "output_type": "execute_result"
    },
    {
     "data": {
      "image/png": "[encoded data removed]",
      "text/plain": [
       "<Figure size 640x480 with 1 Axes>"
      ]
     },
     "metadata": {},
     "output_type": "display_data"
    }
   ],
   "source": [
    "pd.DataFrame(r_train[:,0]).boxplot()"
   ]
  },
  {
   "cell_type": "code",
   "execution_count": null,
   "metadata": {},
   "outputs": [],
   "source": []
  },
  {
   "cell_type": "code",
   "execution_count": 13,
   "metadata": {},
   "outputs": [
    {
     "data": {
      "text/plain": [
       "(42.60326727553526, -27.615572205873487, 0.3123833648158454)"
      ]
     },
     "execution_count": 13,
     "metadata": {},
     "output_type": "execute_result"
    }
   ],
   "source": [
    "rr =  r_train.flatten()\n",
    "max(rr),min(rr),sum(rr)/len(rr) "
   ]
  },
  {
   "cell_type": "raw",
   "metadata": {},
   "source": [
    "#on cleaned\n",
    "for i in range(r_train.shape[1]):\n",
    "    cleaned_df =pd.DataFrame(r_train)\n",
    "    cleaned_df['Labels'] = y_train\n",
    "    cleaned_df=cleaned_df[cleaned_df['Labels'].isin(['N','A','V'])]\n",
    "    cleaned_df.boxplot(column=i,by='Labels')"
   ]
  },
  {
   "cell_type": "code",
   "execution_count": 14,
   "metadata": {},
   "outputs": [],
   "source": [
    "ix = dh.search_label(ds_train,'N')"
   ]
  },
  {
   "cell_type": "code",
   "execution_count": null,
   "metadata": {},
   "outputs": [],
   "source": []
  },
  {
   "cell_type": "code",
   "execution_count": 15,
   "metadata": {
    "colab": {
     "base_uri": "https://localhost:8080/"
    },
    "executionInfo": {
     "elapsed": 12,
     "status": "ok",
     "timestamp": 1629698737237,
     "user": {
      "displayName": "Sadegh Mohammadi",
      "photoUrl": "https://lh3.googleusercontent.com/a-/AOh14Gg1iSjGV7iV5kzZZOpCoWfb-aIlclvodBw_eT5JzA=s64",
      "userId": "02781745993139771132"
     },
     "user_tz": -270
    },
    "id": "zagl4yIHIHg4",
    "outputId": "3db07e3b-cc61-42d8-f67b-9f6542e087e0"
   },
   "outputs": [
    {
     "data": {
      "text/html": [
       "<div>\n",
       "<style scoped>\n",
       "    .dataframe tbody tr th:only-of-type {\n",
       "        vertical-align: middle;\n",
       "    }\n",
       "\n",
       "    .dataframe tbody tr th {\n",
       "        vertical-align: top;\n",
       "    }\n",
       "\n",
       "    .dataframe thead th {\n",
       "        text-align: right;\n",
       "    }\n",
       "</style>\n",
       "<table border=\"1\" class=\"dataframe\">\n",
       "  <thead>\n",
       "    <tr style=\"text-align: right;\">\n",
       "      <th></th>\n",
       "      <th>N</th>\n",
       "      <th>L</th>\n",
       "      <th>R</th>\n",
       "      <th>j</th>\n",
       "      <th>e</th>\n",
       "      <th>V</th>\n",
       "      <th>E</th>\n",
       "      <th>A</th>\n",
       "      <th>S</th>\n",
       "      <th>a</th>\n",
       "      <th>J</th>\n",
       "      <th>F</th>\n",
       "      <th>f</th>\n",
       "      <th>/</th>\n",
       "      <th>Q</th>\n",
       "    </tr>\n",
       "  </thead>\n",
       "  <tbody>\n",
       "    <tr>\n",
       "      <th>train</th>\n",
       "      <td>11065</td>\n",
       "      <td>2615</td>\n",
       "      <td>1967</td>\n",
       "      <td>0</td>\n",
       "      <td>0</td>\n",
       "      <td>1194</td>\n",
       "      <td>57</td>\n",
       "      <td>141</td>\n",
       "      <td>2</td>\n",
       "      <td>42</td>\n",
       "      <td>17</td>\n",
       "      <td>243</td>\n",
       "      <td>0</td>\n",
       "      <td>0</td>\n",
       "      <td>3</td>\n",
       "    </tr>\n",
       "    <tr>\n",
       "      <th>val</th>\n",
       "      <td>9049</td>\n",
       "      <td>0</td>\n",
       "      <td>0</td>\n",
       "      <td>0</td>\n",
       "      <td>16</td>\n",
       "      <td>625</td>\n",
       "      <td>0</td>\n",
       "      <td>166</td>\n",
       "      <td>0</td>\n",
       "      <td>1</td>\n",
       "      <td>0</td>\n",
       "      <td>15</td>\n",
       "      <td>0</td>\n",
       "      <td>0</td>\n",
       "      <td>0</td>\n",
       "    </tr>\n",
       "  </tbody>\n",
       "</table>\n",
       "</div>"
      ],
      "text/plain": [
       "           N     L     R  j   e     V   E    A  S   a   J    F  f  /  Q\n",
       "train  11065  2615  1967  0   0  1194  57  141  2  42  17  243  0  0  3\n",
       "val     9049     0     0  0  16   625   0  166  0   1   0   15  0  0  0"
      ]
     },
     "execution_count": 15,
     "metadata": {},
     "output_type": "execute_result"
    }
   ],
   "source": [
    "rp1 = dh.report_stats_table([y_train, y_val], ['train','val'])\n",
    "rp1 "
   ]
  },
  {
   "cell_type": "code",
   "execution_count": 4,
   "metadata": {},
   "outputs": [
    {
     "name": "stdout",
     "output_type": "stream",
     "text": [
      "           N  L  R  j  e     V  E    A  S  a  J  F  f  /  Q\n",
      "train  27374  0  0  0  0  2931  0  580  0  0  0  0  0  0  0\n",
      "val     9049  0  0  0  0   625  0  166  0  0  0  0  0  0  0\n"
     ]
    }
   ],
   "source": [
    "#slice data\n",
    "if CONFIG['sliced_targets'] is not None:\n",
    "    from pyecg.data_handling import slice_data\n",
    "    sliced_targets = CONFIG['sliced_targets']\n",
    "    ds_train = slice_data(ds_train, sliced_targets)\n",
    "    x_train, r_train, y_train = ds_train.values()\n",
    "    ds_val = slice_data(ds_val, sliced_targets)\n",
    "    x_val, r_val, y_val = ds_val.values()\n",
    "    rp2 = dh.report_stats_table([y_train, y_val], ['train','val'])\n",
    "    print(rp2)"
   ]
  },
  {
   "cell_type": "code",
   "execution_count": 18,
   "metadata": {},
   "outputs": [
    {
     "data": {
      "text/plain": [
       "<matplotlib.legend.Legend at 0x7f6125392650>"
      ]
     },
     "execution_count": 18,
     "metadata": {},
     "output_type": "execute_result"
    },
    {
     "data": {
      "image/png": "[encoded data removed]",
      "text/plain": [
       "<Figure size 640x480 with 1 Axes>"
      ]
     },
     "metadata": {},
     "output_type": "display_data"
    }
   ],
   "source": [
    "ftno = 9\n",
    "sliced_targets = {'N':0}\n",
    "ds_trainA = slice_data(ds_train, sliced_targets)\n",
    "x_trainA, r_trainA, y_trainA = ds_trainA.values()\n",
    "plt.hist(r_trainA[:,ftno],density=True, alpha=0.7)\n",
    "\n",
    "sliced_targets = {'A':1}\n",
    "ds_trainA = slice_data(ds_train, sliced_targets)\n",
    "x_trainA, r_trainA, y_trainA = ds_trainA.values()\n",
    "plt.hist(r_trainA[:,ftno],density=True, alpha=0.7)\n",
    "\n",
    "sliced_targets = {'V':2}\n",
    "ds_trainN = slice_data(ds_train, sliced_targets)\n",
    "x_trainN, r_trainN, y_trainN = ds_trainN.values()\n",
    "plt.hist(r_trainN[:,ftno],density=True, alpha=0.7)\n",
    "\n",
    "plt.legend(['N','A','V'])"
   ]
  },
  {
   "cell_type": "code",
   "execution_count": 19,
   "metadata": {},
   "outputs": [
    {
     "data": {
      "text/plain": [
       "1.0070921985814938"
      ]
     },
     "execution_count": 19,
     "metadata": {},
     "output_type": "execute_result"
    }
   ],
   "source": [
    "np.median(r_trainA[:,0])"
   ]
  },
  {
   "cell_type": "code",
   "execution_count": 289,
   "metadata": {},
   "outputs": [
    {
     "data": {
      "text/plain": [
       "(39.55191872817411, -22.662638422927984, 3.3623577062122115e-15)"
      ]
     },
     "execution_count": 289,
     "metadata": {},
     "output_type": "execute_result"
    }
   ],
   "source": [
    "#Normalization\n",
    "if CONFIG['normalization'] == 'zscore':\n",
    "    from sklearn.preprocessing import StandardScaler\n",
    "    standardscaler_x = StandardScaler()\n",
    "    x_train = standardscaler_x.fit_transform(x_train)\n",
    "    x_val = standardscaler_x.transform(x_val) \n",
    "    \n",
    "    standardscaler_r = StandardScaler()\n",
    "    r_train = standardscaler_r.fit_transform(r_train)\n",
    "    r_val = standardscaler_r.transform(r_val) \n",
    "\n",
    "if CONFIG['normalization'] == 'minmax':\n",
    "    from sklearn.preprocessing import MinMaxScaler\n",
    "    scaler_x = MinMaxScaler(feature_range=(-1,1)) \n",
    "    if len(x_train[0].shape)==1:\n",
    "        x_train = scaler_x.fit_transform(x_train)\n",
    "        x_val = scaler_x.transform(x_val)\n",
    "    elif len(x_train[0].shape)==2:\n",
    "        org_shape = x_train.shape\n",
    "        x_train = scaler_x.fit_transform(x_train.reshape((-1,1)))\n",
    "        x_train = x_train.reshape(org_shape)\n",
    "        org_shape = x_val.shape\n",
    "        x_val = scaler_x.transform(x_val.reshape((-1,1)))\n",
    "        x_val = x_val.reshape(org_shape)\n",
    "\n",
    "    scaler_r = MinMaxScaler(feature_range=(-1,1))\n",
    "    r_train = scaler_r.fit_transform(r_train)\n",
    "    r_val = scaler_r.transform(r_val)   \n",
    "\n",
    "if CONFIG['normalization'] == 'max':   \n",
    "    max_x_train = max(x_train.flatten())\n",
    "    x_train = x_train/max_x_train\n",
    "    x_val = x_val/max_x_train\n",
    "\n",
    "xx =  x_train.flatten()\n",
    "max(xx),min(xx),sum(xx)/len(xx)"
   ]
  },
  {
   "cell_type": "code",
   "execution_count": 143,
   "metadata": {},
   "outputs": [
    {
     "data": {
      "text/plain": [
       "(42.60326727553526, -27.010137602056382, 0.982036132369804)"
      ]
     },
     "execution_count": 143,
     "metadata": {},
     "output_type": "execute_result"
    }
   ],
   "source": [
    "rr =  r_train.flatten()\n",
    "max(rr),min(rr),sum(rr)/len(rr) "
   ]
  },
  {
   "cell_type": "code",
   "execution_count": 144,
   "metadata": {},
   "outputs": [
    {
     "data": {
      "text/plain": [
       "<AxesSubplot:>"
      ]
     },
     "execution_count": 144,
     "metadata": {},
     "output_type": "execute_result"
    },
    {
     "data": {
      "image/png": "[encoded data removed]",
      "text/plain": [
       "<Figure size 640x480 with 1 Axes>"
      ]
     },
     "metadata": {},
     "output_type": "display_data"
    }
   ],
   "source": [
    "#normalized\n",
    "pd.DataFrame(r_train).boxplot()"
   ]
  },
  {
   "cell_type": "raw",
   "metadata": {},
   "source": [
    "pd.DataFrame(r_train).describe()"
   ]
  },
  {
   "cell_type": "raw",
   "metadata": {},
   "source": [
    "#on cleaned\n",
    "for i in range(r_train.shape[1]):\n",
    "    cleaned_df =pd.DataFrame(r_train)\n",
    "    cleaned_df['Labels'] = y_train\n",
    "    cleaned_df=cleaned_df[cleaned_df['Labels'].isin(['N','A','V'])]\n",
    "    cleaned_df.boxplot(column=i,by='Labels')"
   ]
  },
  {
   "cell_type": "code",
   "execution_count": 145,
   "metadata": {},
   "outputs": [],
   "source": [
    "if CONFIG['AAMI']:\n",
    "    y_train = mapping_AAMI(y_train, MAP_AAMI)\n",
    "    y_val = mapping_AAMI(y_val, MAP_AAMI)"
   ]
  },
  {
   "cell_type": "code",
   "execution_count": 146,
   "metadata": {},
   "outputs": [
    {
     "name": "stdout",
     "output_type": "stream",
     "text": [
      "           N  L  R  j  e  V  E    A  S  a  J  F  f  /  Q\n",
      "train  16821  0  0  0  0  0  0  367  0  0  0  0  0  0  0\n",
      "val     9353  0  0  0  0  0  0  169  0  0  0  0  0  0  0\n"
     ]
    }
   ],
   "source": [
    "rp2 = dh.report_stats_table([y_train, y_val], ['train','val'])\n",
    "print(rp2) "
   ]
  },
  {
   "cell_type": "code",
   "execution_count": 147,
   "metadata": {},
   "outputs": [
    {
     "name": "stdout",
     "output_type": "stream",
     "text": [
      "           N  L  R  j  e  V  E    A  S  a  J  F  f  /  Q\n",
      "train  16821  0  0  0  0  0  0  367  0  0  0  0  0  0  0\n",
      "val     9353  0  0  0  0  0  0  169  0  0  0  0  0  0  0\n"
     ]
    }
   ],
   "source": [
    "#augment\n",
    "if CONFIG['augment']==True:\n",
    "    from pyecg.data_augmentation import aug_decrease,aug_increase\n",
    "    ds_train = aug_decrease(ds_train, label='N', desired_size = 12000)\n",
    "    ds_train = aug_increase(ds_train, desired_size = 12000)\n",
    "    x_train, r_train, y_train = ds_train.values()\n",
    "    \n",
    "rp2 = dh.report_stats_table([y_train, y_val], ['train','val'])\n",
    "print(rp2)"
   ]
  },
  {
   "cell_type": "raw",
   "metadata": {},
   "source": [
    "#val augment\n",
    "from pyecg.data_augmentation import aug_decrease,aug_increase\n",
    "ds_val = aug_decrease(ds_val, label='N', desired_size = 12000)\n",
    "ds_val = aug_increase(ds_val, desired_size = 12000)\n",
    "x_val, r_val, y_val = ds_val.values()\n",
    "\n",
    "rp2 = dh.report_stats_table([y_train, y_val], ['train','val'])\n",
    "print(rp2)"
   ]
  },
  {
   "cell_type": "raw",
   "metadata": {
    "executionInfo": {
     "elapsed": 9,
     "status": "ok",
     "timestamp": 1629698737237,
     "user": {
      "displayName": "Sadegh Mohammadi",
      "photoUrl": "https://lh3.googleusercontent.com/a-/AOh14Gg1iSjGV7iV5kzZZOpCoWfb-aIlclvodBw_eT5JzA=s64",
      "userId": "02781745993139771132"
     },
     "user_tz": -270
    },
    "id": "u4LWVBgkF1NI"
   },
   "source": [
    "#convert labels to integers\n",
    "targets = np.unique(y_train).tolist()\n",
    "FINAL_MAP_DICT = {targets[i]:i for i in range(len(targets))}\n",
    "\n",
    "y_train = integer_mapping(y_train, FINAL_MAP_DICT)\n",
    "y_val = integer_mapping(y_val, FINAL_MAP_DICT)"
   ]
  },
  {
   "cell_type": "code",
   "execution_count": 148,
   "metadata": {},
   "outputs": [
    {
     "data": {
      "text/plain": [
       "(array(['A', 'N'], dtype='<U1'), (17188, 19))"
      ]
     },
     "execution_count": 148,
     "metadata": {},
     "output_type": "execute_result"
    }
   ],
   "source": [
    "np.unique(y_train), r_train.shape "
   ]
  },
  {
   "cell_type": "markdown",
   "metadata": {},
   "source": [
    "# Load Preprocessed Test Set"
   ]
  },
  {
   "cell_type": "code",
   "execution_count": 5,
   "metadata": {},
   "outputs": [
    {
     "name": "stdout",
     "output_type": "stream",
     "text": [
      "file loaded: ../data/test.beat\n",
      "shape of \"waveforms\" is (47512, 1000)\n",
      "shape of \"beat_feats\" is (47512, 62)\n",
      "shape of \"labels\" is (47512,)\n",
      "               N     L     R    j  e     V  E     A  S   a   J    F  f  /  Q\n",
      "test.beat  34811  3937  3300  213  0  3104  1  1657  0  48  51  383  0  0  7\n"
     ]
    }
   ],
   "source": [
    "#Load Preprocessed Test Set\n",
    "dh = DataHandling(base_path='../data')\n",
    "if CONFIG['dataset'] == 'raw':\n",
    "    ds_test = dh.load_data(file_name = 'test.beat')\n",
    "    ds_test = clean_inf_nan(ds_test)\n",
    "    x_test, r_test, y_test = ds_test.values()   \n",
    "    \n",
    "elif CONFIG['dataset'] == 'stft':\n",
    "    ds_test = dh.load_data(file_name = 'DS2_stft.dat')\n",
    "    x_test, y_test, r_test = ds_test.values() "
   ]
  },
  {
   "cell_type": "code",
   "execution_count": 6,
   "metadata": {},
   "outputs": [],
   "source": [
    "#slice test data\n",
    "if CONFIG['sliced_targets'] is not None:\n",
    "    from pyecg.data_handling import slice_data\n",
    "    sliced_targets = CONFIG['sliced_targets']\n",
    "    ds_test = slice_data(ds_test, sliced_targets)\n",
    "    x_test, r_test, y_test = ds_test.values()"
   ]
  },
  {
   "cell_type": "code",
   "execution_count": 7,
   "metadata": {},
   "outputs": [
    {
     "data": {
      "text/html": [
       "<div>\n",
       "<style scoped>\n",
       "    .dataframe tbody tr th:only-of-type {\n",
       "        vertical-align: middle;\n",
       "    }\n",
       "\n",
       "    .dataframe tbody tr th {\n",
       "        vertical-align: top;\n",
       "    }\n",
       "\n",
       "    .dataframe thead th {\n",
       "        text-align: right;\n",
       "    }\n",
       "</style>\n",
       "<table border=\"1\" class=\"dataframe\">\n",
       "  <thead>\n",
       "    <tr style=\"text-align: right;\">\n",
       "      <th></th>\n",
       "      <th>N</th>\n",
       "      <th>L</th>\n",
       "      <th>R</th>\n",
       "      <th>j</th>\n",
       "      <th>e</th>\n",
       "      <th>V</th>\n",
       "      <th>E</th>\n",
       "      <th>A</th>\n",
       "      <th>S</th>\n",
       "      <th>a</th>\n",
       "      <th>J</th>\n",
       "      <th>F</th>\n",
       "      <th>f</th>\n",
       "      <th>/</th>\n",
       "      <th>Q</th>\n",
       "    </tr>\n",
       "  </thead>\n",
       "  <tbody>\n",
       "    <tr>\n",
       "      <th>test</th>\n",
       "      <td>34811</td>\n",
       "      <td>0</td>\n",
       "      <td>0</td>\n",
       "      <td>0</td>\n",
       "      <td>0</td>\n",
       "      <td>3104</td>\n",
       "      <td>0</td>\n",
       "      <td>1657</td>\n",
       "      <td>0</td>\n",
       "      <td>0</td>\n",
       "      <td>0</td>\n",
       "      <td>0</td>\n",
       "      <td>0</td>\n",
       "      <td>0</td>\n",
       "      <td>0</td>\n",
       "    </tr>\n",
       "  </tbody>\n",
       "</table>\n",
       "</div>"
      ],
      "text/plain": [
       "          N  L  R  j  e     V  E     A  S  a  J  F  f  /  Q\n",
       "test  34811  0  0  0  0  3104  0  1657  0  0  0  0  0  0  0"
      ]
     },
     "execution_count": 7,
     "metadata": {},
     "output_type": "execute_result"
    }
   ],
   "source": [
    "rp2 = dh.report_stats_table([y_test], ['test'])\n",
    "rp2"
   ]
  },
  {
   "cell_type": "code",
   "execution_count": 28,
   "metadata": {},
   "outputs": [
    {
     "data": {
      "text/plain": [
       "<matplotlib.legend.Legend at 0x7f6759b9f4c0>"
      ]
     },
     "execution_count": 28,
     "metadata": {},
     "output_type": "execute_result"
    },
    {
     "data": {
      "image/png": "[encoded data removed]",
      "text/plain": [
       "<Figure size 432x288 with 1 Axes>"
      ]
     },
     "metadata": {
      "needs_background": "light"
     },
     "output_type": "display_data"
    }
   ],
   "source": [
    "ftno = 5\n",
    "sliced_targets = {'N':0}\n",
    "ds_trainA = slice_data(ds_test, sliced_targets)\n",
    "x_trainA, r_trainA, y_trainA = ds_trainA.values()\n",
    "plt.hist(r_trainA[:,ftno],density=True, alpha=0.7)\n",
    "\n",
    "sliced_targets = {'A':1}\n",
    "ds_trainA = slice_data(ds_test, sliced_targets)\n",
    "x_trainA, r_trainA, y_trainA = ds_trainA.values()\n",
    "plt.hist(r_trainA[:,ftno],density=True, alpha=0.7)\n",
    "\n",
    "sliced_targets = {'V':2}\n",
    "ds_trainN = slice_data(ds_test, sliced_targets)\n",
    "x_trainN, r_trainN, y_trainN = ds_trainN.values()\n",
    "plt.hist(r_trainN[:,ftno],density=True, alpha=0.7)\n",
    "\n",
    "plt.legend(['N','A','V'])"
   ]
  },
  {
   "cell_type": "code",
   "execution_count": 152,
   "metadata": {},
   "outputs": [],
   "source": [
    "y_true = y_test.copy()\n",
    "\n",
    "if CONFIG['AAMI']:\n",
    "    y_true = mapping_AAMI(y_true, MAP_AAMI)"
   ]
  },
  {
   "cell_type": "code",
   "execution_count": 120,
   "metadata": {},
   "outputs": [],
   "source": [
    "if CONFIG['normalization'] == 'zscore':\n",
    "    x_test = standardscaler_x.transform(x_test) \n",
    "    r_test = standardscaler_r.transform(r_test) \n",
    "\n",
    "if CONFIG['normalization'] == 'minmax':\n",
    "    x_test = scaler_x.transform(x_test)\n",
    "    r_test = scaler_r.transform(r_test)\n",
    "    \n",
    "if CONFIG['normalization'] == 'max':   \n",
    "    x_test = x_test/max_x_train"
   ]
  },
  {
   "cell_type": "markdown",
   "metadata": {},
   "source": [
    "# ML classical (RF)"
   ]
  },
  {
   "cell_type": "code",
   "execution_count": 8,
   "metadata": {},
   "outputs": [
    {
     "data": {
      "text/plain": [
       "((30885, 62), (30885,), (9840, 62), (9840,))"
      ]
     },
     "execution_count": 8,
     "metadata": {},
     "output_type": "execute_result"
    }
   ],
   "source": [
    "r_train.shape,y_train.shape,r_val.shape,y_val.shape"
   ]
  },
  {
   "cell_type": "code",
   "execution_count": 9,
   "metadata": {},
   "outputs": [
    {
     "name": "stdout",
     "output_type": "stream",
     "text": [
      "           N  L  R  j  e     V  E     A  S  a  J  F  f  /  Q\n",
      "train  27374  0  0  0  0  2931  0   580  0  0  0  0  0  0  0\n",
      "val     9049  0  0  0  0   625  0   166  0  0  0  0  0  0  0\n",
      "test   34811  0  0  0  0  3104  0  1657  0  0  0  0  0  0  0\n"
     ]
    }
   ],
   "source": [
    "rp2 = dh.report_stats_table([y_train, y_val, y_test], ['train','val','test'])\n",
    "print(rp2)"
   ]
  },
  {
   "cell_type": "code",
   "execution_count": 53,
   "metadata": {},
   "outputs": [
    {
     "name": "stdout",
     "output_type": "stream",
     "text": [
      "[0, 4, 5, 7, 9, 11]\n"
     ]
    },
    {
     "data": {
      "text/html": [
       "<style>#sk-container-id-11 {color: black;background-color: white;}#sk-container-id-11 pre{padding: 0;}#sk-container-id-11 div.sk-toggleable {background-color: white;}#sk-container-id-11 label.sk-toggleable__label {cursor: pointer;display: block;width: 100%;margin-bottom: 0;padding: 0.3em;box-sizing: border-box;text-align: center;}#sk-container-id-11 label.sk-toggleable__label-arrow:before {content: \"▸\";float: left;margin-right: 0.25em;color: #696969;}#sk-container-id-11 label.sk-toggleable__label-arrow:hover:before {color: black;}#sk-container-id-11 div.sk-estimator:hover label.sk-toggleable__label-arrow:before {color: black;}#sk-container-id-11 div.sk-toggleable__content {max-height: 0;max-width: 0;overflow: hidden;text-align: left;background-color: #f0f8ff;}#sk-container-id-11 div.sk-toggleable__content pre {margin: 0.2em;color: black;border-radius: 0.25em;background-color: #f0f8ff;}#sk-container-id-11 input.sk-toggleable__control:checked~div.sk-toggleable__content {max-height: 200px;max-width: 100%;overflow: auto;}#sk-container-id-11 input.sk-toggleable__control:checked~label.sk-toggleable__label-arrow:before {content: \"▾\";}#sk-container-id-11 div.sk-estimator input.sk-toggleable__control:checked~label.sk-toggleable__label {background-color: #d4ebff;}#sk-container-id-11 div.sk-label input.sk-toggleable__control:checked~label.sk-toggleable__label {background-color: #d4ebff;}#sk-container-id-11 input.sk-hidden--visually {border: 0;clip: rect(1px 1px 1px 1px);clip: rect(1px, 1px, 1px, 1px);height: 1px;margin: -1px;overflow: hidden;padding: 0;position: absolute;width: 1px;}#sk-container-id-11 div.sk-estimator {font-family: monospace;background-color: #f0f8ff;border: 1px dotted black;border-radius: 0.25em;box-sizing: border-box;margin-bottom: 0.5em;}#sk-container-id-11 div.sk-estimator:hover {background-color: #d4ebff;}#sk-container-id-11 div.sk-parallel-item::after {content: \"\";width: 100%;border-bottom: 1px solid gray;flex-grow: 1;}#sk-container-id-11 div.sk-label:hover label.sk-toggleable__label {background-color: #d4ebff;}#sk-container-id-11 div.sk-serial::before {content: \"\";position: absolute;border-left: 1px solid gray;box-sizing: border-box;top: 0;bottom: 0;left: 50%;z-index: 0;}#sk-container-id-11 div.sk-serial {display: flex;flex-direction: column;align-items: center;background-color: white;padding-right: 0.2em;padding-left: 0.2em;position: relative;}#sk-container-id-11 div.sk-item {position: relative;z-index: 1;}#sk-container-id-11 div.sk-parallel {display: flex;align-items: stretch;justify-content: center;background-color: white;position: relative;}#sk-container-id-11 div.sk-item::before, #sk-container-id-11 div.sk-parallel-item::before {content: \"\";position: absolute;border-left: 1px solid gray;box-sizing: border-box;top: 0;bottom: 0;left: 50%;z-index: -1;}#sk-container-id-11 div.sk-parallel-item {display: flex;flex-direction: column;z-index: 1;position: relative;background-color: white;}#sk-container-id-11 div.sk-parallel-item:first-child::after {align-self: flex-end;width: 50%;}#sk-container-id-11 div.sk-parallel-item:last-child::after {align-self: flex-start;width: 50%;}#sk-container-id-11 div.sk-parallel-item:only-child::after {width: 0;}#sk-container-id-11 div.sk-dashed-wrapped {border: 1px dashed gray;margin: 0 0.4em 0.5em 0.4em;box-sizing: border-box;padding-bottom: 0.4em;background-color: white;}#sk-container-id-11 div.sk-label label {font-family: monospace;font-weight: bold;display: inline-block;line-height: 1.2em;}#sk-container-id-11 div.sk-label-container {text-align: center;}#sk-container-id-11 div.sk-container {/* jupyter's `normalize.less` sets `[hidden] { display: none; }` but bootstrap.min.css set `[hidden] { display: none !important; }` so we also need the `!important` here to be able to override the default hidden behavior on the sphinx rendered scikit-learn.org. See: https://github.com/scikit-learn/scikit-learn/issues/21755 */display: inline-block !important;position: relative;}#sk-container-id-11 div.sk-text-repr-fallback {display: none;}</style><div id=\"sk-container-id-11\" class=\"sk-top-container\"><div class=\"sk-text-repr-fallback\"><pre>RandomForestClassifier(class_weight=&#x27;balanced_subsample&#x27;, criterion=&#x27;entropy&#x27;,\n",
       "                       min_samples_leaf=10, min_samples_split=10, n_jobs=-1,\n",
       "                       random_state=747)</pre><b>In a Jupyter environment, please rerun this cell to show the HTML representation or trust the notebook. <br />On GitHub, the HTML representation is unable to render, please try loading this page with nbviewer.org.</b></div><div class=\"sk-container\" hidden><div class=\"sk-item\"><div class=\"sk-estimator sk-toggleable\"><input class=\"sk-toggleable__control sk-hidden--visually\" id=\"sk-estimator-id-11\" type=\"checkbox\" checked><label for=\"sk-estimator-id-11\" class=\"sk-toggleable__label sk-toggleable__label-arrow\">RandomForestClassifier</label><div class=\"sk-toggleable__content\"><pre>RandomForestClassifier(class_weight=&#x27;balanced_subsample&#x27;, criterion=&#x27;entropy&#x27;,\n",
       "                       min_samples_leaf=10, min_samples_split=10, n_jobs=-1,\n",
       "                       random_state=747)</pre></div></div></div></div></div>"
      ],
      "text/plain": [
       "RandomForestClassifier(class_weight='balanced_subsample', criterion='entropy',\n",
       "                       min_samples_leaf=10, min_samples_split=10, n_jobs=-1,\n",
       "                       random_state=747)"
      ]
     },
     "execution_count": 53,
     "metadata": {},
     "output_type": "execute_result"
    }
   ],
   "source": [
    "from sklearn.ensemble import RandomForestClassifier\n",
    "clf = RandomForestClassifier(n_estimators=100,\n",
    "                             criterion='entropy', #gini entropy\n",
    "                             min_samples_split=10,\n",
    "                             min_samples_leaf=10,\n",
    "                             class_weight='balanced_subsample', #balanced_subsample 'balanced' None\n",
    "                             ccp_alpha=0.0,\n",
    "                             bootstrap=True,\n",
    "                             #max_samples=200,\n",
    "                             random_state=747,\n",
    "                             warm_start=False,\n",
    "                             n_jobs=-1)\n",
    "feats = [0,4,5,7,9,11]\n",
    "#feats = list(range(0,12))\n",
    "print(feats)\n",
    "clf.fit(r_train[:,feats], y_train)"
   ]
  },
  {
   "cell_type": "code",
   "execution_count": 54,
   "metadata": {},
   "outputs": [
    {
     "name": "stdout",
     "output_type": "stream",
     "text": [
      "              precision    recall  f1-score   support\n",
      "\n",
      "           A       0.96      1.00      0.98       580\n",
      "           N       1.00      1.00      1.00     27374\n",
      "           V       1.00      0.99      1.00      2931\n",
      "\n",
      "    accuracy                           1.00     30885\n",
      "   macro avg       0.99      1.00      0.99     30885\n",
      "weighted avg       1.00      1.00      1.00     30885\n",
      "\n",
      "[[  578     0     2]\n",
      " [    0 27374     0]\n",
      " [   26     0  2905]]\n"
     ]
    }
   ],
   "source": [
    "y_true = y_train\n",
    "y_pred = clf.predict(r_train[:, feats])\n",
    "#y_pred = integer_mapping(y_pred, FINAL_MAP_DICT, inverse=True)\n",
    "\n",
    "from sklearn.metrics import confusion_matrix, classification_report\n",
    "print(classification_report(y_true, y_pred))\n",
    "print(confusion_matrix(y_true, y_pred)) "
   ]
  },
  {
   "cell_type": "code",
   "execution_count": 55,
   "metadata": {},
   "outputs": [
    {
     "name": "stdout",
     "output_type": "stream",
     "text": [
      "              precision    recall  f1-score   support\n",
      "\n",
      "           A       0.77      0.90      0.83       166\n",
      "           N       1.00      1.00      1.00      9049\n",
      "           V       0.97      0.93      0.95       625\n",
      "\n",
      "    accuracy                           0.99      9840\n",
      "   macro avg       0.91      0.94      0.93      9840\n",
      "weighted avg       0.99      0.99      0.99      9840\n",
      "\n",
      "[[ 150    0   16]\n",
      " [   0 9049    0]\n",
      " [  46    0  579]]\n"
     ]
    }
   ],
   "source": [
    "y_true = y_val\n",
    "y_pred = clf.predict(r_val[:, feats])\n",
    "#y_pred = integer_mapping(y_pred, FINAL_MAP_DICT, inverse=True)\n",
    "\n",
    "from sklearn.metrics import confusion_matrix, classification_report\n",
    "print(classification_report(y_true, y_pred))\n",
    "print(confusion_matrix(y_true, y_pred)) "
   ]
  },
  {
   "cell_type": "code",
   "execution_count": 56,
   "metadata": {
    "scrolled": false
   },
   "outputs": [
    {
     "name": "stdout",
     "output_type": "stream",
     "text": [
      "              precision    recall  f1-score   support\n",
      "\n",
      "           A       0.92      0.74      0.82      1657\n",
      "           N       1.00      1.00      1.00     34811\n",
      "           V       0.87      0.97      0.92      3104\n",
      "\n",
      "    accuracy                           0.99     39572\n",
      "   macro avg       0.93      0.90      0.91     39572\n",
      "weighted avg       0.99      0.99      0.99     39572\n",
      "\n",
      "[[ 1221     0   436]\n",
      " [    0 34811     0]\n",
      " [  104     0  3000]]\n"
     ]
    }
   ],
   "source": [
    "y_true = y_test\n",
    "y_pred = clf.predict(r_test[:, feats])\n",
    "#y_pred = integer_mapping(y_pred, FINAL_MAP_DICT, inverse=True)\n",
    "\n",
    "from sklearn.metrics import confusion_matrix, classification_report\n",
    "print(classification_report(y_true, y_pred))\n",
    "print(confusion_matrix(y_true, y_pred)) "
   ]
  },
  {
   "cell_type": "code",
   "execution_count": null,
   "metadata": {},
   "outputs": [],
   "source": []
  },
  {
   "cell_type": "code",
   "execution_count": null,
   "metadata": {},
   "outputs": [],
   "source": []
  },
  {
   "cell_type": "code",
   "execution_count": null,
   "metadata": {},
   "outputs": [],
   "source": []
  },
  {
   "cell_type": "code",
   "execution_count": 23,
   "metadata": {},
   "outputs": [
    {
     "name": "stderr",
     "output_type": "stream",
     "text": [
      "100%|████████████████████████████████████| 39572/39572 [01:11<00:00, 555.16it/s]\n"
     ]
    }
   ],
   "source": [
    "from tqdm import tqdm\n",
    "def plot_misclassifications(ytrue,ypred,ds):\n",
    "    for i in tqdm(range(len(ypred))):\n",
    "        if ypred[i] != ytrue[i]:\n",
    "            from matplotlib import figure\n",
    "            fig = figure.Figure(figsize=(8,4),dpi=170)\n",
    "            ax = fig.add_subplot(111)\n",
    "            waveform = ds['waveforms'][i]\n",
    "            ax.plot(waveform)\n",
    "            title = 'True: {} >> Pred: {}'.format(ytrue[i],y_pred[i])\n",
    "            ax.set_title(title)\n",
    "            ax.set_ylim(-1,2)\n",
    "            fldr = \"../misplots/{}\".format(ytrue[i])\n",
    "            try:\n",
    "                import os\n",
    "                os.makedirs(fldr, exist_ok = True) \n",
    "            except OSError as err:\n",
    "                    print(\"Folder can not be created!\")\n",
    "            fig.savefig('{}/{}.jpg'.format(fldr, str(i)))\n",
    "            fig.clear()\n",
    "\n",
    "plot_misclassifications(y_true, y_pred,ds_test)          "
   ]
  },
  {
   "cell_type": "code",
   "execution_count": 144,
   "metadata": {},
   "outputs": [],
   "source": [
    "fi = clf.feature_importances_"
   ]
  },
  {
   "cell_type": "code",
   "execution_count": 145,
   "metadata": {},
   "outputs": [],
   "source": [
    "finame=(\n",
    "['ratio_pre_avg', 'ratio_post_avg'])"
   ]
  },
  {
   "cell_type": "code",
   "execution_count": 146,
   "metadata": {},
   "outputs": [
    {
     "data": {
      "text/plain": [
       "<BarContainer object of 6 artists>"
      ]
     },
     "execution_count": 146,
     "metadata": {},
     "output_type": "execute_result"
    },
    {
     "data": {
      "image/png": "[encoded data removed]",
      "text/plain": [
       "<Figure size 640x480 with 1 Axes>"
      ]
     },
     "metadata": {},
     "output_type": "display_data"
    }
   ],
   "source": [
    "plt.bar(range(len(fi)),fi)"
   ]
  },
  {
   "cell_type": "code",
   "execution_count": 147,
   "metadata": {},
   "outputs": [
    {
     "data": {
      "text/html": [
       "<div>\n",
       "<style scoped>\n",
       "    .dataframe tbody tr th:only-of-type {\n",
       "        vertical-align: middle;\n",
       "    }\n",
       "\n",
       "    .dataframe tbody tr th {\n",
       "        vertical-align: top;\n",
       "    }\n",
       "\n",
       "    .dataframe thead th {\n",
       "        text-align: right;\n",
       "    }\n",
       "</style>\n",
       "<table border=\"1\" class=\"dataframe\">\n",
       "  <thead>\n",
       "    <tr style=\"text-align: right;\">\n",
       "      <th></th>\n",
       "      <th>Feat</th>\n",
       "      <th>FI</th>\n",
       "    </tr>\n",
       "  </thead>\n",
       "  <tbody>\n",
       "    <tr>\n",
       "      <th>0</th>\n",
       "      <td>ratio_pre_avg</td>\n",
       "      <td>0.110125</td>\n",
       "    </tr>\n",
       "    <tr>\n",
       "      <th>1</th>\n",
       "      <td>ratio_post_avg</td>\n",
       "      <td>0.069689</td>\n",
       "    </tr>\n",
       "  </tbody>\n",
       "</table>\n",
       "</div>"
      ],
      "text/plain": [
       "             Feat        FI\n",
       "0   ratio_pre_avg  0.110125\n",
       "1  ratio_post_avg  0.069689"
      ]
     },
     "execution_count": 147,
     "metadata": {},
     "output_type": "execute_result"
    }
   ],
   "source": [
    "pd.DataFrame(zip(finame,fi),columns=['Feat','FI']).sort_values(by='FI',ascending=False).head(30)"
   ]
  },
  {
   "cell_type": "code",
   "execution_count": 36,
   "metadata": {},
   "outputs": [
    {
     "ename": "NameError",
     "evalue": "name 'hgjkgkkjjkgkj' is not defined",
     "output_type": "error",
     "traceback": [
      "\u001b[0;31m---------------------------------------------------------------------------\u001b[0m",
      "\u001b[0;31mNameError\u001b[0m                                 Traceback (most recent call last)",
      "Input \u001b[0;32mIn [36]\u001b[0m, in \u001b[0;36m<cell line: 1>\u001b[0;34m()\u001b[0m\n\u001b[0;32m----> 1\u001b[0m \u001b[43mhgjkgkkjjkgkj\u001b[49m,njmmmb()\n",
      "\u001b[0;31mNameError\u001b[0m: name 'hgjkgkkjjkgkj' is not defined"
     ]
    }
   ],
   "source": [
    "hgjkgkkjjkgkj,njmmmb()"
   ]
  },
  {
   "cell_type": "markdown",
   "metadata": {},
   "source": [
    "# ML classical (XGB)"
   ]
  },
  {
   "cell_type": "code",
   "execution_count": 48,
   "metadata": {},
   "outputs": [
    {
     "data": {
      "text/plain": [
       "((811, 60), (811,), (811, 60), (811,))"
      ]
     },
     "execution_count": 48,
     "metadata": {},
     "output_type": "execute_result"
    }
   ],
   "source": [
    "r_train.shape,y_train.shape,r_val.shape,y_val.shape"
   ]
  },
  {
   "cell_type": "code",
   "execution_count": 49,
   "metadata": {},
   "outputs": [],
   "source": [
    "#convert labels to integers\n",
    "targets = np.unique(y_train).tolist()\n",
    "FINAL_MAP_DICT = {targets[i]:i for i in range(len(targets))}\n",
    "\n",
    "y_train = integer_mapping(y_train, FINAL_MAP_DICT)\n",
    "y_val = integer_mapping(y_val, FINAL_MAP_DICT)"
   ]
  },
  {
   "cell_type": "code",
   "execution_count": 50,
   "metadata": {},
   "outputs": [
    {
     "data": {
      "text/html": [
       "<style>#sk-container-id-5 {color: black;background-color: white;}#sk-container-id-5 pre{padding: 0;}#sk-container-id-5 div.sk-toggleable {background-color: white;}#sk-container-id-5 label.sk-toggleable__label {cursor: pointer;display: block;width: 100%;margin-bottom: 0;padding: 0.3em;box-sizing: border-box;text-align: center;}#sk-container-id-5 label.sk-toggleable__label-arrow:before {content: \"▸\";float: left;margin-right: 0.25em;color: #696969;}#sk-container-id-5 label.sk-toggleable__label-arrow:hover:before {color: black;}#sk-container-id-5 div.sk-estimator:hover label.sk-toggleable__label-arrow:before {color: black;}#sk-container-id-5 div.sk-toggleable__content {max-height: 0;max-width: 0;overflow: hidden;text-align: left;background-color: #f0f8ff;}#sk-container-id-5 div.sk-toggleable__content pre {margin: 0.2em;color: black;border-radius: 0.25em;background-color: #f0f8ff;}#sk-container-id-5 input.sk-toggleable__control:checked~div.sk-toggleable__content {max-height: 200px;max-width: 100%;overflow: auto;}#sk-container-id-5 input.sk-toggleable__control:checked~label.sk-toggleable__label-arrow:before {content: \"▾\";}#sk-container-id-5 div.sk-estimator input.sk-toggleable__control:checked~label.sk-toggleable__label {background-color: #d4ebff;}#sk-container-id-5 div.sk-label input.sk-toggleable__control:checked~label.sk-toggleable__label {background-color: #d4ebff;}#sk-container-id-5 input.sk-hidden--visually {border: 0;clip: rect(1px 1px 1px 1px);clip: rect(1px, 1px, 1px, 1px);height: 1px;margin: -1px;overflow: hidden;padding: 0;position: absolute;width: 1px;}#sk-container-id-5 div.sk-estimator {font-family: monospace;background-color: #f0f8ff;border: 1px dotted black;border-radius: 0.25em;box-sizing: border-box;margin-bottom: 0.5em;}#sk-container-id-5 div.sk-estimator:hover {background-color: #d4ebff;}#sk-container-id-5 div.sk-parallel-item::after {content: \"\";width: 100%;border-bottom: 1px solid gray;flex-grow: 1;}#sk-container-id-5 div.sk-label:hover label.sk-toggleable__label {background-color: #d4ebff;}#sk-container-id-5 div.sk-serial::before {content: \"\";position: absolute;border-left: 1px solid gray;box-sizing: border-box;top: 0;bottom: 0;left: 50%;z-index: 0;}#sk-container-id-5 div.sk-serial {display: flex;flex-direction: column;align-items: center;background-color: white;padding-right: 0.2em;padding-left: 0.2em;position: relative;}#sk-container-id-5 div.sk-item {position: relative;z-index: 1;}#sk-container-id-5 div.sk-parallel {display: flex;align-items: stretch;justify-content: center;background-color: white;position: relative;}#sk-container-id-5 div.sk-item::before, #sk-container-id-5 div.sk-parallel-item::before {content: \"\";position: absolute;border-left: 1px solid gray;box-sizing: border-box;top: 0;bottom: 0;left: 50%;z-index: -1;}#sk-container-id-5 div.sk-parallel-item {display: flex;flex-direction: column;z-index: 1;position: relative;background-color: white;}#sk-container-id-5 div.sk-parallel-item:first-child::after {align-self: flex-end;width: 50%;}#sk-container-id-5 div.sk-parallel-item:last-child::after {align-self: flex-start;width: 50%;}#sk-container-id-5 div.sk-parallel-item:only-child::after {width: 0;}#sk-container-id-5 div.sk-dashed-wrapped {border: 1px dashed gray;margin: 0 0.4em 0.5em 0.4em;box-sizing: border-box;padding-bottom: 0.4em;background-color: white;}#sk-container-id-5 div.sk-label label {font-family: monospace;font-weight: bold;display: inline-block;line-height: 1.2em;}#sk-container-id-5 div.sk-label-container {text-align: center;}#sk-container-id-5 div.sk-container {/* jupyter's `normalize.less` sets `[hidden] { display: none; }` but bootstrap.min.css set `[hidden] { display: none !important; }` so we also need the `!important` here to be able to override the default hidden behavior on the sphinx rendered scikit-learn.org. See: https://github.com/scikit-learn/scikit-learn/issues/21755 */display: inline-block !important;position: relative;}#sk-container-id-5 div.sk-text-repr-fallback {display: none;}</style><div id=\"sk-container-id-5\" class=\"sk-top-container\"><div class=\"sk-text-repr-fallback\"><pre>XGBClassifier(base_score=0.5, booster=&#x27;gbtree&#x27;, callbacks=None,\n",
       "              colsample_bylevel=1, colsample_bynode=1, colsample_bytree=1,\n",
       "              early_stopping_rounds=None, enable_categorical=False,\n",
       "              eval_metric=None, gamma=0, gpu_id=-1, grow_policy=&#x27;depthwise&#x27;,\n",
       "              importance_type=None, interaction_constraints=&#x27;&#x27;,\n",
       "              learning_rate=0.300000012, max_bin=256, max_cat_to_onehot=4,\n",
       "              max_delta_step=0, max_depth=6, max_leaves=0, min_child_weight=1,\n",
       "              missing=nan, monotone_constraints=&#x27;()&#x27;, n_estimators=100,\n",
       "              n_jobs=0, num_parallel_tree=1, objective=&#x27;multi:softprob&#x27;,\n",
       "              predictor=&#x27;auto&#x27;, random_state=0, reg_alpha=0, ...)</pre><b>In a Jupyter environment, please rerun this cell to show the HTML representation or trust the notebook. <br />On GitHub, the HTML representation is unable to render, please try loading this page with nbviewer.org.</b></div><div class=\"sk-container\" hidden><div class=\"sk-item\"><div class=\"sk-estimator sk-toggleable\"><input class=\"sk-toggleable__control sk-hidden--visually\" id=\"sk-estimator-id-5\" type=\"checkbox\" checked><label for=\"sk-estimator-id-5\" class=\"sk-toggleable__label sk-toggleable__label-arrow\">XGBClassifier</label><div class=\"sk-toggleable__content\"><pre>XGBClassifier(base_score=0.5, booster=&#x27;gbtree&#x27;, callbacks=None,\n",
       "              colsample_bylevel=1, colsample_bynode=1, colsample_bytree=1,\n",
       "              early_stopping_rounds=None, enable_categorical=False,\n",
       "              eval_metric=None, gamma=0, gpu_id=-1, grow_policy=&#x27;depthwise&#x27;,\n",
       "              importance_type=None, interaction_constraints=&#x27;&#x27;,\n",
       "              learning_rate=0.300000012, max_bin=256, max_cat_to_onehot=4,\n",
       "              max_delta_step=0, max_depth=6, max_leaves=0, min_child_weight=1,\n",
       "              missing=nan, monotone_constraints=&#x27;()&#x27;, n_estimators=100,\n",
       "              n_jobs=0, num_parallel_tree=1, objective=&#x27;multi:softprob&#x27;,\n",
       "              predictor=&#x27;auto&#x27;, random_state=0, reg_alpha=0, ...)</pre></div></div></div></div></div>"
      ],
      "text/plain": [
       "XGBClassifier(base_score=0.5, booster='gbtree', callbacks=None,\n",
       "              colsample_bylevel=1, colsample_bynode=1, colsample_bytree=1,\n",
       "              early_stopping_rounds=None, enable_categorical=False,\n",
       "              eval_metric=None, gamma=0, gpu_id=-1, grow_policy='depthwise',\n",
       "              importance_type=None, interaction_constraints='',\n",
       "              learning_rate=0.300000012, max_bin=256, max_cat_to_onehot=4,\n",
       "              max_delta_step=0, max_depth=6, max_leaves=0, min_child_weight=1,\n",
       "              missing=nan, monotone_constraints='()', n_estimators=100,\n",
       "              n_jobs=0, num_parallel_tree=1, objective='multi:softprob',\n",
       "              predictor='auto', random_state=0, reg_alpha=0, ...)"
      ]
     },
     "execution_count": 50,
     "metadata": {},
     "output_type": "execute_result"
    }
   ],
   "source": [
    "from xgboost import XGBClassifier\n",
    "xgbclf = XGBClassifier(n_estimators=100)\n",
    "xgbclf.fit(r_train[:,feats],y_train)"
   ]
  },
  {
   "cell_type": "code",
   "execution_count": 51,
   "metadata": {},
   "outputs": [
    {
     "name": "stdout",
     "output_type": "stream",
     "text": [
      "              precision    recall  f1-score   support\n",
      "\n",
      "           A       0.15      0.19      0.17        21\n",
      "           N       0.98      0.98      0.98      1182\n",
      "           V       0.00      0.00      0.00         2\n",
      "\n",
      "    accuracy                           0.97      1205\n",
      "   macro avg       0.38      0.39      0.38      1205\n",
      "weighted avg       0.97      0.97      0.97      1205\n",
      "\n",
      "[[   4   17    0]\n",
      " [  22 1160    0]\n",
      " [   0    2    0]]\n"
     ]
    },
    {
     "name": "stderr",
     "output_type": "stream",
     "text": [
      "/media/ubuntu/usbdata/ecg/ecgenv/lib/python3.10/site-packages/sklearn/metrics/_classification.py:1327: UndefinedMetricWarning: Precision and F-score are ill-defined and being set to 0.0 in labels with no predicted samples. Use `zero_division` parameter to control this behavior.\n",
      "  _warn_prf(average, modifier, msg_start, len(result))\n",
      "/media/ubuntu/usbdata/ecg/ecgenv/lib/python3.10/site-packages/sklearn/metrics/_classification.py:1327: UndefinedMetricWarning: Precision and F-score are ill-defined and being set to 0.0 in labels with no predicted samples. Use `zero_division` parameter to control this behavior.\n",
      "  _warn_prf(average, modifier, msg_start, len(result))\n",
      "/media/ubuntu/usbdata/ecg/ecgenv/lib/python3.10/site-packages/sklearn/metrics/_classification.py:1327: UndefinedMetricWarning: Precision and F-score are ill-defined and being set to 0.0 in labels with no predicted samples. Use `zero_division` parameter to control this behavior.\n",
      "  _warn_prf(average, modifier, msg_start, len(result))\n"
     ]
    }
   ],
   "source": [
    "y_true = y_test\n",
    "y_pred = xgbclf.predict(r_test[:,feats])\n",
    "y_pred = integer_mapping(y_pred, FINAL_MAP_DICT, inverse=True)\n",
    "\n",
    "from sklearn.metrics import confusion_matrix, classification_report\n",
    "print(classification_report(y_true, y_pred))\n",
    "print(confusion_matrix(y_true, y_pred))"
   ]
  },
  {
   "cell_type": "code",
   "execution_count": null,
   "metadata": {},
   "outputs": [],
   "source": [
    "jkgkjgkgkgk()"
   ]
  },
  {
   "cell_type": "markdown",
   "metadata": {},
   "source": [
    "# Binary "
   ]
  },
  {
   "cell_type": "code",
   "execution_count": null,
   "metadata": {},
   "outputs": [],
   "source": [
    "ds_train = load_data(file_path = '../data/DS1_train.dat')\n",
    "ds_train = clean_inf_nan(ds_train)\n",
    "x_train, y_train, r_train = ds_train.values()\n",
    "y_train = ['Normal' if item=='N' else 'Abnormal' for item in y_train]\n",
    "#r_train = r_train[:,:] \n",
    "r_train.shape "
   ]
  },
  {
   "cell_type": "raw",
   "metadata": {},
   "source": [
    "cl_wei = calc_class_weights(True, y_train)\n",
    "cl_wei"
   ]
  },
  {
   "cell_type": "code",
   "execution_count": null,
   "metadata": {},
   "outputs": [],
   "source": [
    "%%time\n",
    "from sklearn import svm\n",
    "clf = svm.SVC(kernel='rbf',C=0.9)\n",
    "clf.fit(r_train, y_train)"
   ]
  },
  {
   "cell_type": "code",
   "execution_count": null,
   "metadata": {},
   "outputs": [],
   "source": [
    "#predict\n",
    "ds_test = load_data(file_path = '../data/DS2.dat')\n",
    "ds_test = clean_inf_nan(ds_test)\n",
    "x_test, y_test, r_test = ds_test.values() \n",
    "y_test = ['Normal' if item=='N' else 'Abnormal' for item in y_test ]\n",
    "\n",
    "on_test_set = True\n",
    "\n",
    "Y_TEST = y_train\n",
    "X_TEST = r_train\n",
    "if on_test_set == True:\n",
    "    Y_TEST = y_test\n",
    "    X_TEST = r_test\n",
    "\n",
    "y_pred = clf.predict(X_TEST)\n",
    "y_pred.shape"
   ]
  },
  {
   "cell_type": "code",
   "execution_count": null,
   "metadata": {},
   "outputs": [],
   "source": [
    "y_pred"
   ]
  },
  {
   "cell_type": "code",
   "execution_count": null,
   "metadata": {},
   "outputs": [],
   "source": [
    "from sklearn.metrics import confusion_matrix, classification_report\n",
    "confusion_matrix(y_pred,Y_TEST)"
   ]
  },
  {
   "cell_type": "code",
   "execution_count": null,
   "metadata": {},
   "outputs": [],
   "source": [
    "print(classification_report(y_pred,Y_TEST))"
   ]
  },
  {
   "cell_type": "code",
   "execution_count": null,
   "metadata": {},
   "outputs": [],
   "source": []
  },
  {
   "cell_type": "code",
   "execution_count": null,
   "metadata": {},
   "outputs": [],
   "source": []
  }
 ],
 "metadata": {
  "colab": {
   "authorship_tag": "ABX9TyO5mdlokQ62wz4XipxYXZ75",
   "collapsed_sections": [],
   "mount_file_id": "1fzJdm7C34G_Kjk8wdz1l7I3yEPqs5Glq",
   "name": "ecARR2--modelM1_ab2(model-6).ipynb",
   "provenance": [
    {
     "file_id": "1YaU60VHIf7MwsqXX51ZtF5BRCyR_e1Wg",
     "timestamp": 1627403996239
    },
    {
     "file_id": "133QOje8skPCCjNXcjrUaHu9X-8ZUftwA",
     "timestamp": 1627396655995
    },
    {
     "file_id": "1aFoa8_DXOWB5SeAlcqk_JWGiXoBdQ_FN",
     "timestamp": 1626525095859
    },
    {
     "file_id": "1fkYTddhxNyw8p4vm0sjN00AKjYW7tzGg",
     "timestamp": 1626338627875
    },
    {
     "file_id": "1QHiJsRztLO38ZAqf5m2-lg2EEBSJu54_",
     "timestamp": 1626271867171
    },
    {
     "file_id": "1OanqZQe6Z-s__bgCMsU4E5NwZ4GlkKAb",
     "timestamp": 1626260810890
    },
    {
     "file_id": "1ajoUnxS_-KBUO0E3qP5vMK4xhguXHB8J",
     "timestamp": 1626256396609
    },
    {
     "file_id": "1BEORilBHH51WD3__8FNn9cqtdpnOOjBs",
     "timestamp": 1626254594644
    },
    {
     "file_id": "1GCc_iQ_3eCvevL4SjeY4keTIOOphyA10",
     "timestamp": 1626200488415
    },
    {
     "file_id": "1TVGoEmRhXcnrJjQ-uwY2uYNgZtutXkG7",
     "timestamp": 1626197059796
    },
    {
     "file_id": "1epbcXpaFZQRGyY_8cIREkID0jixJrSMb",
     "timestamp": 1626171676267
    },
    {
     "file_id": "1WkhnRvK7gXEIpJr4pzZn7K1NevHif6E3",
     "timestamp": 1625594198161
    },
    {
     "file_id": "169yA24spslJbJOdPx218P863AhHPaozi",
     "timestamp": 1625576664712
    },
    {
     "file_id": "1WIbdDF5DzCSO_VNWwYa_KDyVyMsRUQlb",
     "timestamp": 1624949937104
    },
    {
     "file_id": "10VRsJX9k8kIVR7KsOaJJXzy9BXEcV4oZ",
     "timestamp": 1624787399733
    }
   ]
  },
  "kernelspec": {
   "display_name": "Python 3 (ipykernel)",
   "language": "python",
   "name": "python3"
  },
  "language_info": {
   "codemirror_mode": {
    "name": "ipython",
    "version": 3
   },
   "file_extension": ".py",
   "mimetype": "text/x-python",
   "name": "python",
   "nbconvert_exporter": "python",
   "pygments_lexer": "ipython3",
   "version": "3.10.4"
  }
 },
 "nbformat": 4,
 "nbformat_minor": 1
}
