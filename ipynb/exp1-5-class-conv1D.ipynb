{
 "cells": [
  {
   "cell_type": "code",
   "execution_count": 1,
   "metadata": {
    "executionInfo": {
     "elapsed": 9798,
     "status": "ok",
     "timestamp": 1629698724230,
     "user": {
      "displayName": "Sadegh Mohammadi",
      "photoUrl": "https://lh3.googleusercontent.com/a-/AOh14Gg1iSjGV7iV5kzZZOpCoWfb-aIlclvodBw_eT5JzA=s64",
      "userId": "02781745993139771132"
     },
     "user_tz": -270
    },
    "id": "E9pJ0y9MaIlB"
   },
   "outputs": [],
   "source": [
    "%%capture\n",
    "#!pip install wfdb\n",
    "BASEPATH = '../'\n",
    "import sys\n",
    "sys.path.insert(0,'..')\n",
    "\n",
    "import numpy as np\n",
    "import os\n",
    "#os.environ['TF_CPP_MIN_LOG_LEVEL'] = '3'\n",
    "import tensorflow as tf\n",
    "#tf.get_logger().setLevel('ERROR')\n",
    "from pyecg.utils import reset_seed, plot_spectogram, plot_loss, load_data\n",
    "from pyecg.utils import integer_mapping, mapping_AAMI\n",
    "from pyecg.data_info import *\n",
    "from pyecg.data_handling import DataHandling\n",
    "from pyecg.data_preprocessing import DataPreprocessing\n",
    "from pyecg.report import Reports\n",
    "from pyecg.models.conv1D import model_arch \n",
    "\n",
    "reset_seed()"
   ]
  },
  {
   "cell_type": "markdown",
   "metadata": {},
   "source": [
    "# Data"
   ]
  },
  {
   "cell_type": "raw",
   "metadata": {
    "executionInfo": {
     "elapsed": 5,
     "status": "ok",
     "timestamp": 1629698724231,
     "user": {
      "displayName": "Sadegh Mohammadi",
      "photoUrl": "https://lh3.googleusercontent.com/a-/AOh14Gg1iSjGV7iV5kzZZOpCoWfb-aIlclvodBw_eT5JzA=s64",
      "userId": "02781745993139771132"
     },
     "user_tz": -270
    },
    "id": "RwOJWmp9xqDR"
   },
   "source": [
    "#Load Preprocessed data\n",
    "features_train, y_train = load_data(file_path = '../data/DS1_features.dat')\n",
    "features_train.shape, len(y_train)"
   ]
  },
  {
   "cell_type": "code",
   "execution_count": 2,
   "metadata": {},
   "outputs": [
    {
     "name": "stdout",
     "output_type": "stream",
     "text": [
      "File loaded: ../data/DS1_train.dat\n",
      "File loaded: ../data/DS1_val.dat\n"
     ]
    },
    {
     "data": {
      "text/plain": [
       "((47109, 256), 47109, (3891, 256), 3891)"
      ]
     },
     "execution_count": 2,
     "metadata": {},
     "output_type": "execute_result"
    }
   ],
   "source": [
    "#Load Preprocessed data\n",
    "x_train, y_train = load_data(file_path = '../data/DS1_train.dat')\n",
    "#Load Preprocessed data\n",
    "x_val, y_val = load_data(file_path = '../data/DS1_val.dat')\n",
    "x_train.shape, len(y_train), x_val.shape, len(y_val)"
   ]
  },
  {
   "cell_type": "raw",
   "metadata": {},
   "source": [
    "mean_train = np.mean(x_train)\n",
    "std_train = np.std(x_train)\n",
    "\n",
    "from pyecg.data_handling import stndr\n",
    "\n",
    "x_train = stndr(x_train, mean_train, std_train)\n",
    "x_val = stndr(x_val, mean_train, std_train)"
   ]
  },
  {
   "cell_type": "code",
   "execution_count": 3,
   "metadata": {
    "colab": {
     "base_uri": "https://localhost:8080/"
    },
    "executionInfo": {
     "elapsed": 12,
     "status": "ok",
     "timestamp": 1629698737237,
     "user": {
      "displayName": "Sadegh Mohammadi",
      "photoUrl": "https://lh3.googleusercontent.com/a-/AOh14Gg1iSjGV7iV5kzZZOpCoWfb-aIlclvodBw_eT5JzA=s64",
      "userId": "02781745993139771132"
     },
     "user_tz": -270
    },
    "id": "zagl4yIHIHg4",
    "outputId": "3db07e3b-cc61-42d8-f67b-9f6542e087e0"
   },
   "outputs": [
    {
     "data": {
      "text/html": [
       "<div>\n",
       "<style scoped>\n",
       "    .dataframe tbody tr th:only-of-type {\n",
       "        vertical-align: middle;\n",
       "    }\n",
       "\n",
       "    .dataframe tbody tr th {\n",
       "        vertical-align: top;\n",
       "    }\n",
       "\n",
       "    .dataframe thead th {\n",
       "        text-align: right;\n",
       "    }\n",
       "</style>\n",
       "<table border=\"1\" class=\"dataframe\">\n",
       "  <thead>\n",
       "    <tr style=\"text-align: right;\">\n",
       "      <th></th>\n",
       "      <th>N</th>\n",
       "      <th>L</th>\n",
       "      <th>R</th>\n",
       "      <th>j</th>\n",
       "      <th>e</th>\n",
       "      <th>V</th>\n",
       "      <th>E</th>\n",
       "      <th>A</th>\n",
       "      <th>S</th>\n",
       "      <th>a</th>\n",
       "      <th>J</th>\n",
       "      <th>F</th>\n",
       "      <th>f</th>\n",
       "      <th>/</th>\n",
       "      <th>Q</th>\n",
       "    </tr>\n",
       "  </thead>\n",
       "  <tbody>\n",
       "    <tr>\n",
       "      <th>train</th>\n",
       "      <td>34721</td>\n",
       "      <td>3947</td>\n",
       "      <td>3780</td>\n",
       "      <td>16</td>\n",
       "      <td>16</td>\n",
       "      <td>3163</td>\n",
       "      <td>105</td>\n",
       "      <td>807</td>\n",
       "      <td>2</td>\n",
       "      <td>100</td>\n",
       "      <td>32</td>\n",
       "      <td>414</td>\n",
       "      <td>0</td>\n",
       "      <td>0</td>\n",
       "      <td>6</td>\n",
       "    </tr>\n",
       "    <tr>\n",
       "      <th>val</th>\n",
       "      <td>3366</td>\n",
       "      <td>0</td>\n",
       "      <td>0</td>\n",
       "      <td>0</td>\n",
       "      <td>0</td>\n",
       "      <td>520</td>\n",
       "      <td>0</td>\n",
       "      <td>3</td>\n",
       "      <td>0</td>\n",
       "      <td>0</td>\n",
       "      <td>0</td>\n",
       "      <td>0</td>\n",
       "      <td>0</td>\n",
       "      <td>0</td>\n",
       "      <td>2</td>\n",
       "    </tr>\n",
       "  </tbody>\n",
       "</table>\n",
       "</div>"
      ],
      "text/plain": [
       "           N     L     R   j   e     V    E    A  S    a   J    F  f  /  Q\n",
       "train  34721  3947  3780  16  16  3163  105  807  2  100  32  414  0  0  6\n",
       "val     3366     0     0   0   0   520    0    3  0    0   0    0  0  0  2"
      ]
     },
     "execution_count": 3,
     "metadata": {},
     "output_type": "execute_result"
    }
   ],
   "source": [
    "dh = DataHandling()\n",
    "rp1 = dh.report_stats_table([y_train, y_val], ['train','val'])\n",
    "rp1"
   ]
  },
  {
   "cell_type": "code",
   "execution_count": 4,
   "metadata": {},
   "outputs": [],
   "source": [
    "y_train = mapping_AAMI(y_train, MAP_AAMI)\n",
    "y_val = mapping_AAMI(y_val, MAP_AAMI)"
   ]
  },
  {
   "cell_type": "code",
   "execution_count": 5,
   "metadata": {},
   "outputs": [
    {
     "data": {
      "text/html": [
       "<div>\n",
       "<style scoped>\n",
       "    .dataframe tbody tr th:only-of-type {\n",
       "        vertical-align: middle;\n",
       "    }\n",
       "\n",
       "    .dataframe tbody tr th {\n",
       "        vertical-align: top;\n",
       "    }\n",
       "\n",
       "    .dataframe thead th {\n",
       "        text-align: right;\n",
       "    }\n",
       "</style>\n",
       "<table border=\"1\" class=\"dataframe\">\n",
       "  <thead>\n",
       "    <tr style=\"text-align: right;\">\n",
       "      <th></th>\n",
       "      <th>N</th>\n",
       "      <th>L</th>\n",
       "      <th>R</th>\n",
       "      <th>j</th>\n",
       "      <th>e</th>\n",
       "      <th>V</th>\n",
       "      <th>E</th>\n",
       "      <th>A</th>\n",
       "      <th>S</th>\n",
       "      <th>a</th>\n",
       "      <th>J</th>\n",
       "      <th>F</th>\n",
       "      <th>f</th>\n",
       "      <th>/</th>\n",
       "      <th>Q</th>\n",
       "    </tr>\n",
       "  </thead>\n",
       "  <tbody>\n",
       "    <tr>\n",
       "      <th>train</th>\n",
       "      <td>42480</td>\n",
       "      <td>0</td>\n",
       "      <td>0</td>\n",
       "      <td>0</td>\n",
       "      <td>0</td>\n",
       "      <td>3268</td>\n",
       "      <td>0</td>\n",
       "      <td>0</td>\n",
       "      <td>941</td>\n",
       "      <td>0</td>\n",
       "      <td>0</td>\n",
       "      <td>414</td>\n",
       "      <td>0</td>\n",
       "      <td>0</td>\n",
       "      <td>6</td>\n",
       "    </tr>\n",
       "    <tr>\n",
       "      <th>val</th>\n",
       "      <td>3366</td>\n",
       "      <td>0</td>\n",
       "      <td>0</td>\n",
       "      <td>0</td>\n",
       "      <td>0</td>\n",
       "      <td>520</td>\n",
       "      <td>0</td>\n",
       "      <td>0</td>\n",
       "      <td>3</td>\n",
       "      <td>0</td>\n",
       "      <td>0</td>\n",
       "      <td>0</td>\n",
       "      <td>0</td>\n",
       "      <td>0</td>\n",
       "      <td>2</td>\n",
       "    </tr>\n",
       "  </tbody>\n",
       "</table>\n",
       "</div>"
      ],
      "text/plain": [
       "           N  L  R  j  e     V  E  A    S  a  J    F  f  /  Q\n",
       "train  42480  0  0  0  0  3268  0  0  941  0  0  414  0  0  6\n",
       "val     3366  0  0  0  0   520  0  0    3  0  0    0  0  0  2"
      ]
     },
     "execution_count": 5,
     "metadata": {},
     "output_type": "execute_result"
    }
   ],
   "source": [
    "rp2 = dh.report_stats_table([y_train, y_val], ['train','val'])\n",
    "rp2"
   ]
  },
  {
   "cell_type": "code",
   "execution_count": 6,
   "metadata": {
    "executionInfo": {
     "elapsed": 9,
     "status": "ok",
     "timestamp": 1629698737237,
     "user": {
      "displayName": "Sadegh Mohammadi",
      "photoUrl": "https://lh3.googleusercontent.com/a-/AOh14Gg1iSjGV7iV5kzZZOpCoWfb-aIlclvodBw_eT5JzA=s64",
      "userId": "02781745993139771132"
     },
     "user_tz": -270
    },
    "id": "u4LWVBgkF1NI"
   },
   "outputs": [],
   "source": [
    "INT_MAP_DICT = {'N':0,'V':1,'S':2,'F':3,'Q':4}\n",
    "y_train = integer_mapping(y_train, INT_MAP_DICT)\n",
    "y_val = integer_mapping(y_val, INT_MAP_DICT)"
   ]
  },
  {
   "cell_type": "markdown",
   "metadata": {
    "id": "phHl-9TqPAKo"
   },
   "source": [
    "# Train"
   ]
  },
  {
   "cell_type": "code",
   "execution_count": 7,
   "metadata": {
    "colab": {
     "base_uri": "https://localhost:8080/"
    },
    "executionInfo": {
     "elapsed": 20,
     "status": "ok",
     "timestamp": 1627404457302,
     "user": {
      "displayName": "Sadegh Mohammadi",
      "photoUrl": "https://lh3.googleusercontent.com/a-/AOh14Gg1iSjGV7iV5kzZZOpCoWfb-aIlclvodBw_eT5JzA=s64",
      "userId": "02781745993139771132"
     },
     "user_tz": 420
    },
    "id": "aeVdtly2Y4Ek",
    "outputId": "083ca1b2-b93e-4cb6-b048-c28ae7f3a93f"
   },
   "outputs": [],
   "source": [
    "params = {\n",
    "    'seq_len' : x_train.shape[1],\n",
    "    'num_classes' : 5,\n",
    "    'drate' : 0.50,\n",
    "    'batch_size' : 128,\n",
    "    'epochs' : 30\n",
    "}"
   ]
  },
  {
   "cell_type": "code",
   "execution_count": 8,
   "metadata": {
    "id": "6GRPAf4mzJ3q"
   },
   "outputs": [
    {
     "name": "stdout",
     "output_type": "stream",
     "text": [
      "KerasTensor(type_spec=TensorSpec(shape=(3,), dtype=tf.int32, name=None), inferred_value=[None, 254, 64], name='tf.compat.v1.shape/Shape:0', description=\"created by layer 'tf.compat.v1.shape'\")\n",
      "\n",
      "\n",
      "KerasTensor(type_spec=TensorSpec(shape=(3,), dtype=tf.int32, name=None), inferred_value=[None, 250, 64], name='tf.compat.v1.shape_1/Shape:0', description=\"created by layer 'tf.compat.v1.shape_1'\")\n",
      "\n",
      "\n",
      "KerasTensor(type_spec=TensorSpec(shape=(3,), dtype=tf.int32, name=None), inferred_value=[None, 242, 64], name='tf.compat.v1.shape_2/Shape:0', description=\"created by layer 'tf.compat.v1.shape_2'\")\n",
      "\n",
      "\n",
      "KerasTensor(type_spec=TensorSpec(shape=(2,), dtype=tf.int32, name=None), inferred_value=[None, 3840], name='tf.compat.v1.shape_3/Shape:0', description=\"created by layer 'tf.compat.v1.shape_3'\")\n"
     ]
    }
   ],
   "source": [
    "model_classifier  = model_arch(input_dim=params['seq_len'])                                          "
   ]
  },
  {
   "cell_type": "code",
   "execution_count": 34,
   "metadata": {},
   "outputs": [],
   "source": [
    "#%%capture\n",
    "#!pip install focal-loss\n",
    "from focal_loss import SparseCategoricalFocalLoss"
   ]
  },
  {
   "cell_type": "code",
   "execution_count": 35,
   "metadata": {
    "colab": {
     "base_uri": "https://localhost:8080/"
    },
    "executionInfo": {
     "elapsed": 1233321,
     "status": "ok",
     "timestamp": 1627405690992,
     "user": {
      "displayName": "Sadegh Mohammadi",
      "photoUrl": "https://lh3.googleusercontent.com/a-/AOh14Gg1iSjGV7iV5kzZZOpCoWfb-aIlclvodBw_eT5JzA=s64",
      "userId": "02781745993139771132"
     },
     "user_tz": 420
    },
    "id": "PgOFHNu4PJtp",
    "outputId": "236dca1b-962b-4a84-fa6a-339eb48f965f"
   },
   "outputs": [
    {
     "name": "stdout",
     "output_type": "stream",
     "text": [
      "rm: cannot remove '/media/mypc/STORAGE1/codes/heartbeat/checkpoint/keras.EXP1': No such file or directory\r\n"
     ]
    }
   ],
   "source": [
    "!rm -r /media/mypc/STORAGE1/codes/heartbeat/checkpoint/keras.EXP1\n",
    "\n",
    "opt= tf.keras.optimizers.Adam(learning_rate=0.001, beta_1=0.9, beta_2=0.999, epsilon=1e-07, name='Adam')\n",
    "#opt = tf.keras.optimizers.SGD(learning_rate=0.1, momentum=0.01)\n",
    "\n",
    "\n",
    "#for loss try sample_weight\n",
    "model_classifier.compile(\n",
    "                      optimizer=opt,\n",
    "                      loss=SparseCategoricalFocalLoss(gamma=3),\n",
    "                      #loss=\"sparse_categorical_crossentropy\",\n",
    "                      metrics=['sparse_categorical_crossentropy','accuracy'],\n",
    "                      loss_weights=None\n",
    "                      )\n",
    "\n",
    "\n",
    "early_stopping = tf.keras.callbacks.EarlyStopping(monitor='val_loss', min_delta=0, patience=8, verbose=1)\n",
    "reduce_lr = tf.keras.callbacks.ReduceLROnPlateau(monitor='val_loss', factor=0.9, patience=5,\n",
    "                              verbose=1, mode='auto', min_delta=0.0001, cooldown=0, min_lr=0.0001)\n",
    "model_checkpoint = tf.keras.callbacks.ModelCheckpoint(BASEPATH + \"checkpoint/keras.EXP1\",\n",
    "                                                      monitor='val_loss', save_best_only=True, verbose=1)\n",
    "\n",
    "callbacks = [early_stopping, model_checkpoint, reduce_lr]  "
   ]
  },
  {
   "cell_type": "code",
   "execution_count": 36,
   "metadata": {},
   "outputs": [
    {
     "name": "stdout",
     "output_type": "stream",
     "text": [
      "Epoch 1/30\n",
      "369/369 [==============================] - 127s 340ms/step - loss: 0.1089 - sparse_categorical_crossentropy: 0.2915 - accuracy: 0.9462 - val_loss: 0.1055 - val_sparse_categorical_crossentropy: 0.3491 - val_accuracy: 0.8700\n",
      "Epoch 2/30\n",
      "369/369 [==============================] - 124s 337ms/step - loss: 0.0959 - sparse_categorical_crossentropy: 0.3444 - accuracy: 0.9468 - val_loss: 0.0875 - val_sparse_categorical_crossentropy: 0.4028 - val_accuracy: 0.8882\n",
      "Epoch 3/30\n",
      "369/369 [==============================] - 126s 342ms/step - loss: 0.0984 - sparse_categorical_crossentropy: 0.3678 - accuracy: 0.9450 - val_loss: 0.0851 - val_sparse_categorical_crossentropy: 0.4040 - val_accuracy: 0.8707\n",
      "Epoch 4/30\n",
      " 16/369 [>.............................] - ETA: 2:03 - loss: 0.0811 - sparse_categorical_crossentropy: 0.3388 - accuracy: 0.9492"
     ]
    },
    {
     "ename": "KeyboardInterrupt",
     "evalue": "",
     "output_type": "error",
     "traceback": [
      "\u001b[0;31m---------------------------------------------------------------------------\u001b[0m",
      "\u001b[0;31mKeyboardInterrupt\u001b[0m                         Traceback (most recent call last)",
      "\u001b[0;32m<timed exec>\u001b[0m in \u001b[0;36m<module>\u001b[0;34m\u001b[0m\n",
      "\u001b[0;32m~/anaconda3/envs/ecg/lib/python3.9/site-packages/tensorflow/python/keras/engine/training.py\u001b[0m in \u001b[0;36mfit\u001b[0;34m(self, x, y, batch_size, epochs, verbose, callbacks, validation_split, validation_data, shuffle, class_weight, sample_weight, initial_epoch, steps_per_epoch, validation_steps, validation_batch_size, validation_freq, max_queue_size, workers, use_multiprocessing)\u001b[0m\n\u001b[1;32m   1181\u001b[0m                 _r=1):\n\u001b[1;32m   1182\u001b[0m               \u001b[0mcallbacks\u001b[0m\u001b[0;34m.\u001b[0m\u001b[0mon_train_batch_begin\u001b[0m\u001b[0;34m(\u001b[0m\u001b[0mstep\u001b[0m\u001b[0;34m)\u001b[0m\u001b[0;34m\u001b[0m\u001b[0;34m\u001b[0m\u001b[0m\n\u001b[0;32m-> 1183\u001b[0;31m               \u001b[0mtmp_logs\u001b[0m \u001b[0;34m=\u001b[0m \u001b[0mself\u001b[0m\u001b[0;34m.\u001b[0m\u001b[0mtrain_function\u001b[0m\u001b[0;34m(\u001b[0m\u001b[0miterator\u001b[0m\u001b[0;34m)\u001b[0m\u001b[0;34m\u001b[0m\u001b[0;34m\u001b[0m\u001b[0m\n\u001b[0m\u001b[1;32m   1184\u001b[0m               \u001b[0;32mif\u001b[0m \u001b[0mdata_handler\u001b[0m\u001b[0;34m.\u001b[0m\u001b[0mshould_sync\u001b[0m\u001b[0;34m:\u001b[0m\u001b[0;34m\u001b[0m\u001b[0;34m\u001b[0m\u001b[0m\n\u001b[1;32m   1185\u001b[0m                 \u001b[0mcontext\u001b[0m\u001b[0;34m.\u001b[0m\u001b[0masync_wait\u001b[0m\u001b[0;34m(\u001b[0m\u001b[0;34m)\u001b[0m\u001b[0;34m\u001b[0m\u001b[0;34m\u001b[0m\u001b[0m\n",
      "\u001b[0;32m~/anaconda3/envs/ecg/lib/python3.9/site-packages/tensorflow/python/eager/def_function.py\u001b[0m in \u001b[0;36m__call__\u001b[0;34m(self, *args, **kwds)\u001b[0m\n\u001b[1;32m    887\u001b[0m \u001b[0;34m\u001b[0m\u001b[0m\n\u001b[1;32m    888\u001b[0m       \u001b[0;32mwith\u001b[0m \u001b[0mOptionalXlaContext\u001b[0m\u001b[0;34m(\u001b[0m\u001b[0mself\u001b[0m\u001b[0;34m.\u001b[0m\u001b[0m_jit_compile\u001b[0m\u001b[0;34m)\u001b[0m\u001b[0;34m:\u001b[0m\u001b[0;34m\u001b[0m\u001b[0;34m\u001b[0m\u001b[0m\n\u001b[0;32m--> 889\u001b[0;31m         \u001b[0mresult\u001b[0m \u001b[0;34m=\u001b[0m \u001b[0mself\u001b[0m\u001b[0;34m.\u001b[0m\u001b[0m_call\u001b[0m\u001b[0;34m(\u001b[0m\u001b[0;34m*\u001b[0m\u001b[0margs\u001b[0m\u001b[0;34m,\u001b[0m \u001b[0;34m**\u001b[0m\u001b[0mkwds\u001b[0m\u001b[0;34m)\u001b[0m\u001b[0;34m\u001b[0m\u001b[0;34m\u001b[0m\u001b[0m\n\u001b[0m\u001b[1;32m    890\u001b[0m \u001b[0;34m\u001b[0m\u001b[0m\n\u001b[1;32m    891\u001b[0m       \u001b[0mnew_tracing_count\u001b[0m \u001b[0;34m=\u001b[0m \u001b[0mself\u001b[0m\u001b[0;34m.\u001b[0m\u001b[0mexperimental_get_tracing_count\u001b[0m\u001b[0;34m(\u001b[0m\u001b[0;34m)\u001b[0m\u001b[0;34m\u001b[0m\u001b[0;34m\u001b[0m\u001b[0m\n",
      "\u001b[0;32m~/anaconda3/envs/ecg/lib/python3.9/site-packages/tensorflow/python/eager/def_function.py\u001b[0m in \u001b[0;36m_call\u001b[0;34m(self, *args, **kwds)\u001b[0m\n\u001b[1;32m    915\u001b[0m       \u001b[0;31m# In this case we have created variables on the first call, so we run the\u001b[0m\u001b[0;34m\u001b[0m\u001b[0;34m\u001b[0m\u001b[0;34m\u001b[0m\u001b[0m\n\u001b[1;32m    916\u001b[0m       \u001b[0;31m# defunned version which is guaranteed to never create variables.\u001b[0m\u001b[0;34m\u001b[0m\u001b[0;34m\u001b[0m\u001b[0;34m\u001b[0m\u001b[0m\n\u001b[0;32m--> 917\u001b[0;31m       \u001b[0;32mreturn\u001b[0m \u001b[0mself\u001b[0m\u001b[0;34m.\u001b[0m\u001b[0m_stateless_fn\u001b[0m\u001b[0;34m(\u001b[0m\u001b[0;34m*\u001b[0m\u001b[0margs\u001b[0m\u001b[0;34m,\u001b[0m \u001b[0;34m**\u001b[0m\u001b[0mkwds\u001b[0m\u001b[0;34m)\u001b[0m  \u001b[0;31m# pylint: disable=not-callable\u001b[0m\u001b[0;34m\u001b[0m\u001b[0;34m\u001b[0m\u001b[0m\n\u001b[0m\u001b[1;32m    918\u001b[0m     \u001b[0;32melif\u001b[0m \u001b[0mself\u001b[0m\u001b[0;34m.\u001b[0m\u001b[0m_stateful_fn\u001b[0m \u001b[0;32mis\u001b[0m \u001b[0;32mnot\u001b[0m \u001b[0;32mNone\u001b[0m\u001b[0;34m:\u001b[0m\u001b[0;34m\u001b[0m\u001b[0;34m\u001b[0m\u001b[0m\n\u001b[1;32m    919\u001b[0m       \u001b[0;31m# Release the lock early so that multiple threads can perform the call\u001b[0m\u001b[0;34m\u001b[0m\u001b[0;34m\u001b[0m\u001b[0;34m\u001b[0m\u001b[0m\n",
      "\u001b[0;32m~/anaconda3/envs/ecg/lib/python3.9/site-packages/tensorflow/python/eager/function.py\u001b[0m in \u001b[0;36m__call__\u001b[0;34m(self, *args, **kwargs)\u001b[0m\n\u001b[1;32m   3021\u001b[0m       (graph_function,\n\u001b[1;32m   3022\u001b[0m        filtered_flat_args) = self._maybe_define_function(args, kwargs)\n\u001b[0;32m-> 3023\u001b[0;31m     return graph_function._call_flat(\n\u001b[0m\u001b[1;32m   3024\u001b[0m         filtered_flat_args, captured_inputs=graph_function.captured_inputs)  # pylint: disable=protected-access\n\u001b[1;32m   3025\u001b[0m \u001b[0;34m\u001b[0m\u001b[0m\n",
      "\u001b[0;32m~/anaconda3/envs/ecg/lib/python3.9/site-packages/tensorflow/python/eager/function.py\u001b[0m in \u001b[0;36m_call_flat\u001b[0;34m(self, args, captured_inputs, cancellation_manager)\u001b[0m\n\u001b[1;32m   1958\u001b[0m         and executing_eagerly):\n\u001b[1;32m   1959\u001b[0m       \u001b[0;31m# No tape is watching; skip to running the function.\u001b[0m\u001b[0;34m\u001b[0m\u001b[0;34m\u001b[0m\u001b[0;34m\u001b[0m\u001b[0m\n\u001b[0;32m-> 1960\u001b[0;31m       return self._build_call_outputs(self._inference_function.call(\n\u001b[0m\u001b[1;32m   1961\u001b[0m           ctx, args, cancellation_manager=cancellation_manager))\n\u001b[1;32m   1962\u001b[0m     forward_backward = self._select_forward_and_backward_functions(\n",
      "\u001b[0;32m~/anaconda3/envs/ecg/lib/python3.9/site-packages/tensorflow/python/eager/function.py\u001b[0m in \u001b[0;36mcall\u001b[0;34m(self, ctx, args, cancellation_manager)\u001b[0m\n\u001b[1;32m    589\u001b[0m       \u001b[0;32mwith\u001b[0m \u001b[0m_InterpolateFunctionError\u001b[0m\u001b[0;34m(\u001b[0m\u001b[0mself\u001b[0m\u001b[0;34m)\u001b[0m\u001b[0;34m:\u001b[0m\u001b[0;34m\u001b[0m\u001b[0;34m\u001b[0m\u001b[0m\n\u001b[1;32m    590\u001b[0m         \u001b[0;32mif\u001b[0m \u001b[0mcancellation_manager\u001b[0m \u001b[0;32mis\u001b[0m \u001b[0;32mNone\u001b[0m\u001b[0;34m:\u001b[0m\u001b[0;34m\u001b[0m\u001b[0;34m\u001b[0m\u001b[0m\n\u001b[0;32m--> 591\u001b[0;31m           outputs = execute.execute(\n\u001b[0m\u001b[1;32m    592\u001b[0m               \u001b[0mstr\u001b[0m\u001b[0;34m(\u001b[0m\u001b[0mself\u001b[0m\u001b[0;34m.\u001b[0m\u001b[0msignature\u001b[0m\u001b[0;34m.\u001b[0m\u001b[0mname\u001b[0m\u001b[0;34m)\u001b[0m\u001b[0;34m,\u001b[0m\u001b[0;34m\u001b[0m\u001b[0;34m\u001b[0m\u001b[0m\n\u001b[1;32m    593\u001b[0m               \u001b[0mnum_outputs\u001b[0m\u001b[0;34m=\u001b[0m\u001b[0mself\u001b[0m\u001b[0;34m.\u001b[0m\u001b[0m_num_outputs\u001b[0m\u001b[0;34m,\u001b[0m\u001b[0;34m\u001b[0m\u001b[0;34m\u001b[0m\u001b[0m\n",
      "\u001b[0;32m~/anaconda3/envs/ecg/lib/python3.9/site-packages/tensorflow/python/eager/execute.py\u001b[0m in \u001b[0;36mquick_execute\u001b[0;34m(op_name, num_outputs, inputs, attrs, ctx, name)\u001b[0m\n\u001b[1;32m     57\u001b[0m   \u001b[0;32mtry\u001b[0m\u001b[0;34m:\u001b[0m\u001b[0;34m\u001b[0m\u001b[0;34m\u001b[0m\u001b[0m\n\u001b[1;32m     58\u001b[0m     \u001b[0mctx\u001b[0m\u001b[0;34m.\u001b[0m\u001b[0mensure_initialized\u001b[0m\u001b[0;34m(\u001b[0m\u001b[0;34m)\u001b[0m\u001b[0;34m\u001b[0m\u001b[0;34m\u001b[0m\u001b[0m\n\u001b[0;32m---> 59\u001b[0;31m     tensors = pywrap_tfe.TFE_Py_Execute(ctx._handle, device_name, op_name,\n\u001b[0m\u001b[1;32m     60\u001b[0m                                         inputs, attrs, num_outputs)\n\u001b[1;32m     61\u001b[0m   \u001b[0;32mexcept\u001b[0m \u001b[0mcore\u001b[0m\u001b[0;34m.\u001b[0m\u001b[0m_NotOkStatusException\u001b[0m \u001b[0;32mas\u001b[0m \u001b[0me\u001b[0m\u001b[0;34m:\u001b[0m\u001b[0;34m\u001b[0m\u001b[0;34m\u001b[0m\u001b[0m\n",
      "\u001b[0;31mKeyboardInterrupt\u001b[0m: "
     ]
    }
   ],
   "source": [
    "%%time\n",
    "\n",
    "model_history = model_classifier.fit(\n",
    "              x=x_train,\n",
    "              y=y_train,\n",
    "              batch_size=params['batch_size'],\n",
    "              epochs=params['epochs'],\n",
    "              verbose=1,\n",
    "              #callbacks=callbacks,\n",
    "              validation_data=(x_val, y_val),\n",
    "              shuffle=True,\n",
    "              class_weight=None,\n",
    "              sample_weight=None,\n",
    "              initial_epoch=0\n",
    "              )"
   ]
  },
  {
   "cell_type": "code",
   "execution_count": 37,
   "metadata": {
    "colab": {
     "base_uri": "https://localhost:8080/",
     "height": 295
    },
    "executionInfo": {
     "elapsed": 51231,
     "status": "ok",
     "timestamp": 1627405742205,
     "user": {
      "displayName": "Sadegh Mohammadi",
      "photoUrl": "https://lh3.googleusercontent.com/a-/AOh14Gg1iSjGV7iV5kzZZOpCoWfb-aIlclvodBw_eT5JzA=s64",
      "userId": "02781745993139771132"
     },
     "user_tz": 420
    },
    "id": "kmoNvLfz8ER8",
    "outputId": "f37679c8-f142-4eac-db2a-d77ce342222c"
   },
   "outputs": [
    {
     "data": {
      "image/png": "[encoded data removed]",
      "text/plain": [
       "<Figure size 800x800 with 1 Axes>"
      ]
     },
     "metadata": {
      "needs_background": "light"
     },
     "output_type": "display_data"
    }
   ],
   "source": [
    "plot_loss(model_history)"
   ]
  },
  {
   "cell_type": "code",
   "execution_count": 38,
   "metadata": {
    "id": "e6QEha8ryTbH"
   },
   "outputs": [],
   "source": [
    "import pickle\n",
    "with open(BASEPATH+'history/EXP1.hist', 'wb') as f:\n",
    "  pickle.dump(model_history.history, f)\n"
   ]
  },
  {
   "cell_type": "code",
   "execution_count": 39,
   "metadata": {
    "colab": {
     "base_uri": "https://localhost:8080/"
    },
    "executionInfo": {
     "elapsed": 9,
     "status": "ok",
     "timestamp": 1627405742207,
     "user": {
      "displayName": "Sadegh Mohammadi",
      "photoUrl": "https://lh3.googleusercontent.com/a-/AOh14Gg1iSjGV7iV5kzZZOpCoWfb-aIlclvodBw_eT5JzA=s64",
      "userId": "02781745993139771132"
     },
     "user_tz": 420
    },
    "id": "FU-pzf53kFev",
    "outputId": "4f683089-2e9a-4f42-d5a8-0da547f615da"
   },
   "outputs": [
    {
     "data": {
      "text/plain": [
       "(0.2076679915189743, 26)"
      ]
     },
     "execution_count": 39,
     "metadata": {},
     "output_type": "execute_result"
    }
   ],
   "source": [
    "a =model_history.history\n",
    "min(a['val_loss']), a['val_loss'].index(min(a['val_loss']))"
   ]
  },
  {
   "cell_type": "markdown",
   "metadata": {
    "id": "DQkAk3O5iaOY"
   },
   "source": [
    "# Loading Model"
   ]
  },
  {
   "cell_type": "code",
   "execution_count": 40,
   "metadata": {
    "colab": {
     "base_uri": "https://localhost:8080/",
     "height": 35
    },
    "executionInfo": {
     "elapsed": 2918,
     "status": "ok",
     "timestamp": 1629698740148,
     "user": {
      "displayName": "Sadegh Mohammadi",
      "photoUrl": "https://lh3.googleusercontent.com/a-/AOh14Gg1iSjGV7iV5kzZZOpCoWfb-aIlclvodBw_eT5JzA=s64",
      "userId": "02781745993139771132"
     },
     "user_tz": -270
    },
    "id": "8C8axIoViOLm",
    "outputId": "f208a8a6-59ca-4387-e5fa-5b867bfc48d9"
   },
   "outputs": [
    {
     "data": {
      "text/plain": [
       "'model'"
      ]
     },
     "execution_count": 40,
     "metadata": {},
     "output_type": "execute_result"
    }
   ],
   "source": [
    "#loaded_model = tf.keras.models.load_model(BASEPATH+'checkpoint/keras.EXP1')\n",
    "loaded_model = model_classifier\n",
    "loaded_model.name"
   ]
  },
  {
   "cell_type": "code",
   "execution_count": 41,
   "metadata": {
    "colab": {
     "base_uri": "https://localhost:8080/"
    },
    "executionInfo": {
     "elapsed": 9,
     "status": "ok",
     "timestamp": 1629698740149,
     "user": {
      "displayName": "Sadegh Mohammadi",
      "photoUrl": "https://lh3.googleusercontent.com/a-/AOh14Gg1iSjGV7iV5kzZZOpCoWfb-aIlclvodBw_eT5JzA=s64",
      "userId": "02781745993139771132"
     },
     "user_tz": -270
    },
    "id": "QYraRcRxB0bv",
    "outputId": "f7fb1e16-7011-4ab4-e9b3-0e0665c9a37d"
   },
   "outputs": [],
   "source": [
    "#loaded_model.summary()"
   ]
  },
  {
   "cell_type": "code",
   "execution_count": 42,
   "metadata": {},
   "outputs": [
    {
     "name": "stdout",
     "output_type": "stream",
     "text": [
      "File loaded: ../data/DS2.dat\n"
     ]
    },
    {
     "data": {
      "text/plain": [
       "((49693, 256), 49693)"
      ]
     },
     "execution_count": 42,
     "metadata": {},
     "output_type": "execute_result"
    }
   ],
   "source": [
    "#Load Preprocessed Test Set\n",
    "x_test, y_test = load_data(file_path = '../data/DS2.dat')\n",
    "y_true = y_test.copy()\n",
    "x_test.shape, len(y_test)"
   ]
  },
  {
   "cell_type": "code",
   "execution_count": 43,
   "metadata": {},
   "outputs": [],
   "source": [
    "y_true = mapping_AAMI(y_true, MAP_AAMI)"
   ]
  },
  {
   "cell_type": "raw",
   "metadata": {},
   "source": [
    "x_test = stndr(x_test, mean_train, std_train)"
   ]
  },
  {
   "cell_type": "code",
   "execution_count": 44,
   "metadata": {
    "colab": {
     "base_uri": "https://localhost:8080/"
    },
    "executionInfo": {
     "elapsed": 3048,
     "status": "ok",
     "timestamp": 1629698743191,
     "user": {
      "displayName": "Sadegh Mohammadi",
      "photoUrl": "https://lh3.googleusercontent.com/a-/AOh14Gg1iSjGV7iV5kzZZOpCoWfb-aIlclvodBw_eT5JzA=s64",
      "userId": "02781745993139771132"
     },
     "user_tz": -270
    },
    "id": "xORFdEMo2CO2",
    "outputId": "732cf26e-a689-4c4c-d163-df6b6a16c078"
   },
   "outputs": [
    {
     "name": "stdout",
     "output_type": "stream",
     "text": [
      "CPU times: user 22.8 s, sys: 104 ms, total: 22.9 s\n",
      "Wall time: 22.6 s\n"
     ]
    }
   ],
   "source": [
    "%%time\n",
    "y_pred_prob = loaded_model.predict(x_test)"
   ]
  },
  {
   "cell_type": "code",
   "execution_count": 45,
   "metadata": {
    "executionInfo": {
     "elapsed": 3,
     "status": "ok",
     "timestamp": 1629698743192,
     "user": {
      "displayName": "Sadegh Mohammadi",
      "photoUrl": "https://lh3.googleusercontent.com/a-/AOh14Gg1iSjGV7iV5kzZZOpCoWfb-aIlclvodBw_eT5JzA=s64",
      "userId": "02781745993139771132"
     },
     "user_tz": -270
    },
    "id": "m-1JZgxHgVxS"
   },
   "outputs": [],
   "source": [
    "y_pred = integer_mapping(list(y_pred_prob.argmax(axis=-1)), INT_MAP_DICT, inverse=True)"
   ]
  },
  {
   "cell_type": "code",
   "execution_count": 46,
   "metadata": {},
   "outputs": [
    {
     "data": {
      "text/html": [
       "<div>\n",
       "<style scoped>\n",
       "    .dataframe tbody tr th:only-of-type {\n",
       "        vertical-align: middle;\n",
       "    }\n",
       "\n",
       "    .dataframe tbody tr th {\n",
       "        vertical-align: top;\n",
       "    }\n",
       "\n",
       "    .dataframe thead th {\n",
       "        text-align: right;\n",
       "    }\n",
       "</style>\n",
       "<table border=\"1\" class=\"dataframe\">\n",
       "  <thead>\n",
       "    <tr style=\"text-align: right;\">\n",
       "      <th></th>\n",
       "      <th>N</th>\n",
       "      <th>L</th>\n",
       "      <th>R</th>\n",
       "      <th>j</th>\n",
       "      <th>e</th>\n",
       "      <th>V</th>\n",
       "      <th>E</th>\n",
       "      <th>A</th>\n",
       "      <th>S</th>\n",
       "      <th>a</th>\n",
       "      <th>J</th>\n",
       "      <th>F</th>\n",
       "      <th>f</th>\n",
       "      <th>/</th>\n",
       "      <th>Q</th>\n",
       "    </tr>\n",
       "  </thead>\n",
       "  <tbody>\n",
       "    <tr>\n",
       "      <th>y_pred</th>\n",
       "      <td>47672</td>\n",
       "      <td>0</td>\n",
       "      <td>0</td>\n",
       "      <td>0</td>\n",
       "      <td>0</td>\n",
       "      <td>2021</td>\n",
       "      <td>0</td>\n",
       "      <td>0</td>\n",
       "      <td>0</td>\n",
       "      <td>0</td>\n",
       "      <td>0</td>\n",
       "      <td>0</td>\n",
       "      <td>0</td>\n",
       "      <td>0</td>\n",
       "      <td>0</td>\n",
       "    </tr>\n",
       "    <tr>\n",
       "      <th>y_true</th>\n",
       "      <td>44241</td>\n",
       "      <td>0</td>\n",
       "      <td>0</td>\n",
       "      <td>0</td>\n",
       "      <td>0</td>\n",
       "      <td>3220</td>\n",
       "      <td>0</td>\n",
       "      <td>0</td>\n",
       "      <td>1837</td>\n",
       "      <td>0</td>\n",
       "      <td>0</td>\n",
       "      <td>388</td>\n",
       "      <td>0</td>\n",
       "      <td>0</td>\n",
       "      <td>7</td>\n",
       "    </tr>\n",
       "  </tbody>\n",
       "</table>\n",
       "</div>"
      ],
      "text/plain": [
       "            N  L  R  j  e     V  E  A     S  a  J    F  f  /  Q\n",
       "y_pred  47672  0  0  0  0  2021  0  0     0  0  0    0  0  0  0\n",
       "y_true  44241  0  0  0  0  3220  0  0  1837  0  0  388  0  0  7"
      ]
     },
     "execution_count": 46,
     "metadata": {},
     "output_type": "execute_result"
    }
   ],
   "source": [
    "dh = DataHandling()\n",
    "rp2 = dh.report_stats_table([y_pred, y_true], ['y_pred','y_true'])\n",
    "rp2"
   ]
  },
  {
   "cell_type": "code",
   "execution_count": 47,
   "metadata": {
    "colab": {
     "base_uri": "https://localhost:8080/",
     "height": 1000
    },
    "executionInfo": {
     "elapsed": 3237,
     "status": "ok",
     "timestamp": 1629698746426,
     "user": {
      "displayName": "Sadegh Mohammadi",
      "photoUrl": "https://lh3.googleusercontent.com/a-/AOh14Gg1iSjGV7iV5kzZZOpCoWfb-aIlclvodBw_eT5JzA=s64",
      "userId": "02781745993139771132"
     },
     "user_tz": -270
    },
    "id": "MVdqqAxPgYqU",
    "outputId": "bc210270-7276-4730-a2a6-ffdf25921e3f"
   },
   "outputs": [
    {
     "name": "stderr",
     "output_type": "stream",
     "text": [
      "/home/mypc/anaconda3/envs/ecg/lib/python3.9/site-packages/sklearn/metrics/_classification.py:1248: UndefinedMetricWarning: Precision and F-score are ill-defined and being set to 0.0 in labels with no predicted samples. Use `zero_division` parameter to control this behavior.\n",
      "  _warn_prf(average, modifier, msg_start, len(result))\n",
      "/home/mypc/anaconda3/envs/ecg/lib/python3.9/site-packages/sklearn/metrics/_classification.py:1248: UndefinedMetricWarning: Precision and F-score are ill-defined and being set to 0.0 in labels with no predicted samples. Use `zero_division` parameter to control this behavior.\n",
      "  _warn_prf(average, modifier, msg_start, len(result))\n",
      "/home/mypc/anaconda3/envs/ecg/lib/python3.9/site-packages/sklearn/metrics/_classification.py:1248: UndefinedMetricWarning: Precision and F-score are ill-defined and being set to 0.0 in labels with no predicted samples. Use `zero_division` parameter to control this behavior.\n",
      "  _warn_prf(average, modifier, msg_start, len(result))\n"
     ]
    },
    {
     "name": "stdout",
     "output_type": "stream",
     "text": [
      "              precision    recall  f1-score   support\n",
      "\n",
      "           F     0.0000    0.0000    0.0000       388\n",
      "           N     0.9272    0.9991    0.9618     44241\n",
      "           Q     0.0000    0.0000    0.0000         7\n",
      "           S     0.0000    0.0000    0.0000      1837\n",
      "           V     0.9555    0.5997    0.7369      3220\n",
      "\n",
      "    accuracy                         0.9284     49693\n",
      "   macro avg     0.3765    0.3198    0.3397     49693\n",
      "weighted avg     0.8874    0.9284    0.9040     49693\n",
      "\n"
     ]
    },
    {
     "data": {
      "image/png": "[encoded data removed]",
      "text/plain": [
       "<Figure size 800x800 with 2 Axes>"
      ]
     },
     "metadata": {
      "needs_background": "light"
     },
     "output_type": "display_data"
    }
   ],
   "source": [
    "labels = [k for k,v in INT_MAP_DICT.items()]\n",
    "report = Reports(y_true=y_true, y_pred=y_pred, labels=labels)\n",
    "normalize = None\n",
    "report.plot_confusion_matrix(normalize=normalize, values_format='')\n",
    "print(report.the_classification_report())\n",
    "#report.metrics_table()\n"
   ]
  },
  {
   "cell_type": "code",
   "execution_count": null,
   "metadata": {
    "id": "IIuFo6drJ9nz"
   },
   "outputs": [],
   "source": []
  },
  {
   "cell_type": "code",
   "execution_count": null,
   "metadata": {},
   "outputs": [],
   "source": []
  },
  {
   "cell_type": "code",
   "execution_count": null,
   "metadata": {},
   "outputs": [],
   "source": []
  }
 ],
 "metadata": {
  "colab": {
   "authorship_tag": "ABX9TyO5mdlokQ62wz4XipxYXZ75",
   "collapsed_sections": [],
   "mount_file_id": "1fzJdm7C34G_Kjk8wdz1l7I3yEPqs5Glq",
   "name": "ecARR2--modelM1_ab2(model-6).ipynb",
   "provenance": [
    {
     "file_id": "1YaU60VHIf7MwsqXX51ZtF5BRCyR_e1Wg",
     "timestamp": 1627403996239
    },
    {
     "file_id": "133QOje8skPCCjNXcjrUaHu9X-8ZUftwA",
     "timestamp": 1627396655995
    },
    {
     "file_id": "1aFoa8_DXOWB5SeAlcqk_JWGiXoBdQ_FN",
     "timestamp": 1626525095859
    },
    {
     "file_id": "1fkYTddhxNyw8p4vm0sjN00AKjYW7tzGg",
     "timestamp": 1626338627875
    },
    {
     "file_id": "1QHiJsRztLO38ZAqf5m2-lg2EEBSJu54_",
     "timestamp": 1626271867171
    },
    {
     "file_id": "1OanqZQe6Z-s__bgCMsU4E5NwZ4GlkKAb",
     "timestamp": 1626260810890
    },
    {
     "file_id": "1ajoUnxS_-KBUO0E3qP5vMK4xhguXHB8J",
     "timestamp": 1626256396609
    },
    {
     "file_id": "1BEORilBHH51WD3__8FNn9cqtdpnOOjBs",
     "timestamp": 1626254594644
    },
    {
     "file_id": "1GCc_iQ_3eCvevL4SjeY4keTIOOphyA10",
     "timestamp": 1626200488415
    },
    {
     "file_id": "1TVGoEmRhXcnrJjQ-uwY2uYNgZtutXkG7",
     "timestamp": 1626197059796
    },
    {
     "file_id": "1epbcXpaFZQRGyY_8cIREkID0jixJrSMb",
     "timestamp": 1626171676267
    },
    {
     "file_id": "1WkhnRvK7gXEIpJr4pzZn7K1NevHif6E3",
     "timestamp": 1625594198161
    },
    {
     "file_id": "169yA24spslJbJOdPx218P863AhHPaozi",
     "timestamp": 1625576664712
    },
    {
     "file_id": "1WIbdDF5DzCSO_VNWwYa_KDyVyMsRUQlb",
     "timestamp": 1624949937104
    },
    {
     "file_id": "10VRsJX9k8kIVR7KsOaJJXzy9BXEcV4oZ",
     "timestamp": 1624787399733
    }
   ]
  },
  "kernelspec": {
   "display_name": "Python 3 (ipykernel)",
   "language": "python",
   "name": "python3"
  },
  "language_info": {
   "codemirror_mode": {
    "name": "ipython",
    "version": 3
   },
   "file_extension": ".py",
   "mimetype": "text/x-python",
   "name": "python",
   "nbconvert_exporter": "python",
   "pygments_lexer": "ipython3",
   "version": "3.10.4"
  }
 },
 "nbformat": 4,
 "nbformat_minor": 1
}
