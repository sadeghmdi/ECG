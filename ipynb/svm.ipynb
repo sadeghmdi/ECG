{
 "cells": [
  {
   "cell_type": "code",
   "execution_count": 1,
   "id": "4b084872",
   "metadata": {},
   "outputs": [],
   "source": [
    "%%capture\n",
    "#!pip install wfdb\n",
    "BASEPATH = '../'\n",
    "import sys\n",
    "sys.path.insert(0,'../py')\n",
    "print(sys.path)\n",
    "import numpy as np\n",
    "import os\n",
    "\n",
    "from utils import reset_seed, plot_spectogram, plot_loss, load_data\n",
    "from utils import integer_mapping, mapping_AAMI, MAP_AAMI, INT_MAP_DICT\n",
    "from data_handling import DataHandling\n",
    "from data_preprocessing import DataPreprocessing\n",
    "from report import Reports\n",
    "\n",
    "reset_seed()"
   ]
  },
  {
   "cell_type": "code",
   "execution_count": 2,
   "id": "fef85d1e",
   "metadata": {},
   "outputs": [
    {
     "name": "stdout",
     "output_type": "stream",
     "text": [
      "File loaded: ../data/DS1_features_train.dat\n",
      "File loaded: ../data/DS1_features_val.dat\n"
     ]
    },
    {
     "data": {
      "text/plain": [
       "((29152, 7, 33), 29152)"
      ]
     },
     "execution_count": 2,
     "metadata": {},
     "output_type": "execute_result"
    }
   ],
   "source": [
    "#Load Preprocessed data\n",
    "x_train, y_train = load_data(file_path = '../data/DS1_features_train.dat')\n",
    "x_train.shape, len(y_train)\n",
    "#Load Preprocessed data\n",
    "x_val, y_val = load_data(file_path = '../data/DS1_features_val.dat')\n",
    "x_val.shape, len(y_val)"
   ]
  },
  {
   "cell_type": "code",
   "execution_count": 3,
   "id": "cd2f8cb2",
   "metadata": {},
   "outputs": [
    {
     "data": {
      "text/html": [
       "<div>\n",
       "<style scoped>\n",
       "    .dataframe tbody tr th:only-of-type {\n",
       "        vertical-align: middle;\n",
       "    }\n",
       "\n",
       "    .dataframe tbody tr th {\n",
       "        vertical-align: top;\n",
       "    }\n",
       "\n",
       "    .dataframe thead th {\n",
       "        text-align: right;\n",
       "    }\n",
       "</style>\n",
       "<table border=\"1\" class=\"dataframe\">\n",
       "  <thead>\n",
       "    <tr style=\"text-align: right;\">\n",
       "      <th></th>\n",
       "      <th>N</th>\n",
       "      <th>L</th>\n",
       "      <th>R</th>\n",
       "      <th>j</th>\n",
       "      <th>e</th>\n",
       "      <th>V</th>\n",
       "      <th>E</th>\n",
       "      <th>A</th>\n",
       "      <th>S</th>\n",
       "      <th>a</th>\n",
       "      <th>J</th>\n",
       "      <th>F</th>\n",
       "      <th>f</th>\n",
       "      <th>/</th>\n",
       "      <th>Q</th>\n",
       "    </tr>\n",
       "  </thead>\n",
       "  <tbody>\n",
       "    <tr>\n",
       "      <th>train</th>\n",
       "      <td>5000</td>\n",
       "      <td>5526</td>\n",
       "      <td>5292</td>\n",
       "      <td>5005</td>\n",
       "      <td>5005</td>\n",
       "      <td>5156</td>\n",
       "      <td>5032</td>\n",
       "      <td>5103</td>\n",
       "      <td>5001</td>\n",
       "      <td>5040</td>\n",
       "      <td>5016</td>\n",
       "      <td>5220</td>\n",
       "      <td>0</td>\n",
       "      <td>0</td>\n",
       "      <td>5004</td>\n",
       "    </tr>\n",
       "    <tr>\n",
       "      <th>val</th>\n",
       "      <td>2200</td>\n",
       "      <td>2368</td>\n",
       "      <td>2268</td>\n",
       "      <td>2205</td>\n",
       "      <td>2205</td>\n",
       "      <td>2210</td>\n",
       "      <td>2201</td>\n",
       "      <td>2430</td>\n",
       "      <td>2201</td>\n",
       "      <td>2220</td>\n",
       "      <td>2210</td>\n",
       "      <td>2232</td>\n",
       "      <td>0</td>\n",
       "      <td>0</td>\n",
       "      <td>2202</td>\n",
       "    </tr>\n",
       "  </tbody>\n",
       "</table>\n",
       "</div>"
      ],
      "text/plain": [
       "          N     L     R     j     e     V     E     A     S     a     J     F  \\\n",
       "train  5000  5526  5292  5005  5005  5156  5032  5103  5001  5040  5016  5220   \n",
       "val    2200  2368  2268  2205  2205  2210  2201  2430  2201  2220  2210  2232   \n",
       "\n",
       "       f  /     Q  \n",
       "train  0  0  5004  \n",
       "val    0  0  2202  "
      ]
     },
     "execution_count": 3,
     "metadata": {},
     "output_type": "execute_result"
    }
   ],
   "source": [
    "dh = DataHandling()\n",
    "rp1 = dh.report_stats_table([y_train, y_val], ['train','val'])\n",
    "rp1"
   ]
  },
  {
   "cell_type": "code",
   "execution_count": 4,
   "id": "1229a765",
   "metadata": {},
   "outputs": [
    {
     "name": "stdout",
     "output_type": "stream",
     "text": [
      "10156\n"
     ]
    },
    {
     "data": {
      "text/html": [
       "<div>\n",
       "<style scoped>\n",
       "    .dataframe tbody tr th:only-of-type {\n",
       "        vertical-align: middle;\n",
       "    }\n",
       "\n",
       "    .dataframe tbody tr th {\n",
       "        vertical-align: top;\n",
       "    }\n",
       "\n",
       "    .dataframe thead th {\n",
       "        text-align: right;\n",
       "    }\n",
       "</style>\n",
       "<table border=\"1\" class=\"dataframe\">\n",
       "  <thead>\n",
       "    <tr style=\"text-align: right;\">\n",
       "      <th></th>\n",
       "      <th>N</th>\n",
       "      <th>L</th>\n",
       "      <th>R</th>\n",
       "      <th>j</th>\n",
       "      <th>e</th>\n",
       "      <th>V</th>\n",
       "      <th>E</th>\n",
       "      <th>A</th>\n",
       "      <th>S</th>\n",
       "      <th>a</th>\n",
       "      <th>J</th>\n",
       "      <th>F</th>\n",
       "      <th>f</th>\n",
       "      <th>/</th>\n",
       "      <th>Q</th>\n",
       "    </tr>\n",
       "  </thead>\n",
       "  <tbody>\n",
       "    <tr>\n",
       "      <th>y_train_sliced</th>\n",
       "      <td>5000</td>\n",
       "      <td>0</td>\n",
       "      <td>0</td>\n",
       "      <td>0</td>\n",
       "      <td>0</td>\n",
       "      <td>5156</td>\n",
       "      <td>0</td>\n",
       "      <td>0</td>\n",
       "      <td>0</td>\n",
       "      <td>0</td>\n",
       "      <td>0</td>\n",
       "      <td>0</td>\n",
       "      <td>0</td>\n",
       "      <td>0</td>\n",
       "      <td>0</td>\n",
       "    </tr>\n",
       "  </tbody>\n",
       "</table>\n",
       "</div>"
      ],
      "text/plain": [
       "                   N  L  R  j  e     V  E  A  S  a  J  F  f  /  Q\n",
       "y_train_sliced  5000  0  0  0  0  5156  0  0  0  0  0  0  0  0  0"
      ]
     },
     "execution_count": 4,
     "metadata": {},
     "output_type": "execute_result"
    }
   ],
   "source": [
    "#binary N vs. V\n",
    "from data_augmentation import slice_data\n",
    "\n",
    "x_train_sliced, y_train_sliced = slice_data(x_train,y_train,['N','V'])\n",
    "\n",
    "dh = DataHandling()\n",
    "rp1 = dh.report_stats_table([y_train_sliced], ['y_train_sliced'])\n",
    "rp1"
   ]
  },
  {
   "cell_type": "code",
   "execution_count": 5,
   "id": "0fad5e62",
   "metadata": {},
   "outputs": [],
   "source": [
    "x_train = x_train_sliced\n",
    "y_train = y_train_sliced"
   ]
  },
  {
   "cell_type": "code",
   "execution_count": null,
   "id": "769f675e",
   "metadata": {},
   "outputs": [],
   "source": []
  },
  {
   "cell_type": "code",
   "execution_count": null,
   "id": "dcbe4b24",
   "metadata": {},
   "outputs": [],
   "source": []
  },
  {
   "cell_type": "code",
   "execution_count": 6,
   "id": "7fbe8d2b",
   "metadata": {},
   "outputs": [],
   "source": [
    "y_train = integer_mapping(y_train, INT_MAP_DICT)\n",
    "y_val = integer_mapping(y_val, INT_MAP_DICT)"
   ]
  },
  {
   "cell_type": "code",
   "execution_count": 7,
   "id": "844873cc",
   "metadata": {},
   "outputs": [],
   "source": [
    "x_train = x_train.reshape(x_train.shape[0],-1)\n",
    "x_val = x_val.reshape(x_val.shape[0],-1)"
   ]
  },
  {
   "cell_type": "code",
   "execution_count": 8,
   "id": "b4a9dea8",
   "metadata": {},
   "outputs": [
    {
     "data": {
      "text/plain": [
       "((10156, 231), (29152, 231))"
      ]
     },
     "execution_count": 8,
     "metadata": {},
     "output_type": "execute_result"
    }
   ],
   "source": [
    "x_train.shape, x_val.shape"
   ]
  },
  {
   "cell_type": "code",
   "execution_count": 9,
   "id": "59346513",
   "metadata": {},
   "outputs": [
    {
     "name": "stdout",
     "output_type": "stream",
     "text": [
      "CPU times: user 3.97 s, sys: 63.8 ms, total: 4.03 s\n",
      "Wall time: 4.03 s\n"
     ]
    },
    {
     "data": {
      "text/plain": [
       "SVC(C=0.9)"
      ]
     },
     "execution_count": 9,
     "metadata": {},
     "output_type": "execute_result"
    }
   ],
   "source": [
    "%%time\n",
    "from sklearn import svm\n",
    "clf = svm.SVC(decision_function_shape='ovr',kernel='rbf',C=0.9)\n",
    "clf.fit(x_train, y_train)"
   ]
  },
  {
   "cell_type": "code",
   "execution_count": null,
   "id": "a4e706c3",
   "metadata": {},
   "outputs": [],
   "source": []
  },
  {
   "cell_type": "markdown",
   "id": "009a5611",
   "metadata": {},
   "source": [
    "# Test"
   ]
  },
  {
   "cell_type": "code",
   "execution_count": 10,
   "id": "a3eef8c2",
   "metadata": {},
   "outputs": [
    {
     "name": "stdout",
     "output_type": "stream",
     "text": [
      "File loaded: ../data/DS2_features.dat\n"
     ]
    },
    {
     "data": {
      "text/plain": [
       "(49693, 231)"
      ]
     },
     "execution_count": 10,
     "metadata": {},
     "output_type": "execute_result"
    }
   ],
   "source": [
    "#Load Preprocessed Test Set\n",
    "features_test, y_test = load_data(file_path = '../data/DS2_features.dat')\n",
    "x_test = features_test\n",
    "y_true = y_test.copy()\n",
    "features_test.shape, len(y_test)\n",
    "\n",
    "x_test = x_test.reshape(x_test.shape[0],-1)\n",
    "x_test.shape"
   ]
  },
  {
   "cell_type": "code",
   "execution_count": 11,
   "id": "d474cb04",
   "metadata": {},
   "outputs": [
    {
     "name": "stdout",
     "output_type": "stream",
     "text": [
      "CPU times: user 20 s, sys: 717 µs, total: 20 s\n",
      "Wall time: 20 s\n"
     ]
    }
   ],
   "source": [
    "%%time\n",
    "y_pred = clf.predict(x_test)"
   ]
  },
  {
   "cell_type": "code",
   "execution_count": 12,
   "id": "5f05aa69",
   "metadata": {},
   "outputs": [],
   "source": [
    "y_pred = integer_mapping(y_pred, INT_MAP_DICT, inverse=True)"
   ]
  },
  {
   "cell_type": "code",
   "execution_count": 13,
   "id": "dbfb1d54",
   "metadata": {},
   "outputs": [
    {
     "data": {
      "text/html": [
       "<div>\n",
       "<style scoped>\n",
       "    .dataframe tbody tr th:only-of-type {\n",
       "        vertical-align: middle;\n",
       "    }\n",
       "\n",
       "    .dataframe tbody tr th {\n",
       "        vertical-align: top;\n",
       "    }\n",
       "\n",
       "    .dataframe thead th {\n",
       "        text-align: right;\n",
       "    }\n",
       "</style>\n",
       "<table border=\"1\" class=\"dataframe\">\n",
       "  <thead>\n",
       "    <tr style=\"text-align: right;\">\n",
       "      <th></th>\n",
       "      <th>N</th>\n",
       "      <th>L</th>\n",
       "      <th>R</th>\n",
       "      <th>j</th>\n",
       "      <th>e</th>\n",
       "      <th>V</th>\n",
       "      <th>E</th>\n",
       "      <th>A</th>\n",
       "      <th>S</th>\n",
       "      <th>a</th>\n",
       "      <th>J</th>\n",
       "      <th>F</th>\n",
       "      <th>f</th>\n",
       "      <th>/</th>\n",
       "      <th>Q</th>\n",
       "    </tr>\n",
       "  </thead>\n",
       "  <tbody>\n",
       "    <tr>\n",
       "      <th>y_pred</th>\n",
       "      <td>42344</td>\n",
       "      <td>0</td>\n",
       "      <td>0</td>\n",
       "      <td>0</td>\n",
       "      <td>0</td>\n",
       "      <td>7349</td>\n",
       "      <td>0</td>\n",
       "      <td>0</td>\n",
       "      <td>0</td>\n",
       "      <td>0</td>\n",
       "      <td>0</td>\n",
       "      <td>0</td>\n",
       "      <td>0</td>\n",
       "      <td>0</td>\n",
       "      <td>0</td>\n",
       "    </tr>\n",
       "    <tr>\n",
       "      <th>y_true</th>\n",
       "      <td>36428</td>\n",
       "      <td>4124</td>\n",
       "      <td>3476</td>\n",
       "      <td>213</td>\n",
       "      <td>0</td>\n",
       "      <td>3219</td>\n",
       "      <td>1</td>\n",
       "      <td>1736</td>\n",
       "      <td>0</td>\n",
       "      <td>50</td>\n",
       "      <td>51</td>\n",
       "      <td>388</td>\n",
       "      <td>0</td>\n",
       "      <td>0</td>\n",
       "      <td>7</td>\n",
       "    </tr>\n",
       "  </tbody>\n",
       "</table>\n",
       "</div>"
      ],
      "text/plain": [
       "            N     L     R    j  e     V  E     A  S   a   J    F  f  /  Q\n",
       "y_pred  42344     0     0    0  0  7349  0     0  0   0   0    0  0  0  0\n",
       "y_true  36428  4124  3476  213  0  3219  1  1736  0  50  51  388  0  0  7"
      ]
     },
     "execution_count": 13,
     "metadata": {},
     "output_type": "execute_result"
    }
   ],
   "source": [
    "dh = DataHandling()\n",
    "rp2 = dh.report_stats_table([y_pred, y_true], ['y_pred','y_true'])\n",
    "rp2"
   ]
  },
  {
   "cell_type": "code",
   "execution_count": 14,
   "id": "3094db05",
   "metadata": {},
   "outputs": [
    {
     "name": "stderr",
     "output_type": "stream",
     "text": [
      "/home/mypc/anaconda3/envs/ecg/lib/python3.9/site-packages/sklearn/metrics/_classification.py:1248: UndefinedMetricWarning: Precision and F-score are ill-defined and being set to 0.0 in labels with no predicted samples. Use `zero_division` parameter to control this behavior.\n",
      "  _warn_prf(average, modifier, msg_start, len(result))\n",
      "/home/mypc/anaconda3/envs/ecg/lib/python3.9/site-packages/sklearn/metrics/_classification.py:1248: UndefinedMetricWarning: Precision and F-score are ill-defined and being set to 0.0 in labels with no predicted samples. Use `zero_division` parameter to control this behavior.\n",
      "  _warn_prf(average, modifier, msg_start, len(result))\n",
      "/home/mypc/anaconda3/envs/ecg/lib/python3.9/site-packages/sklearn/metrics/_classification.py:1248: UndefinedMetricWarning: Precision and F-score are ill-defined and being set to 0.0 in labels with no predicted samples. Use `zero_division` parameter to control this behavior.\n",
      "  _warn_prf(average, modifier, msg_start, len(result))\n"
     ]
    },
    {
     "name": "stdout",
     "output_type": "stream",
     "text": [
      "              precision    recall  f1-score   support\n",
      "\n",
      "           A     0.0000    0.0000    0.0000      1736\n",
      "           E     0.0000    0.0000    0.0000         1\n",
      "           F     0.0000    0.0000    0.0000       388\n",
      "           J     0.0000    0.0000    0.0000        51\n",
      "           L     0.0000    0.0000    0.0000      4124\n",
      "           N     0.8290    0.9636    0.8913     36428\n",
      "           Q     0.0000    0.0000    0.0000         7\n",
      "           R     0.0000    0.0000    0.0000      3476\n",
      "           V     0.4006    0.9146    0.5572      3219\n",
      "           a     0.0000    0.0000    0.0000        50\n",
      "           j     0.0000    0.0000    0.0000       213\n",
      "\n",
      "    accuracy                         0.7656     49693\n",
      "   macro avg     0.1118    0.1707    0.1317     49693\n",
      "weighted avg     0.6337    0.7656    0.6894     49693\n",
      "\n"
     ]
    },
    {
     "name": "stderr",
     "output_type": "stream",
     "text": [
      "/home/mypc/anaconda3/envs/ecg/lib/python3.9/site-packages/sklearn/metrics/_classification.py:1248: UndefinedMetricWarning: Precision and F-score are ill-defined and being set to 0.0 in labels with no predicted samples. Use `zero_division` parameter to control this behavior.\n",
      "  _warn_prf(average, modifier, msg_start, len(result))\n",
      "/home/mypc/anaconda3/envs/ecg/lib/python3.9/site-packages/sklearn/metrics/_classification.py:1248: UndefinedMetricWarning: Precision and F-score are ill-defined and being set to 0.0 in labels with no predicted samples. Use `zero_division` parameter to control this behavior.\n",
      "  _warn_prf(average, modifier, msg_start, len(result))\n",
      "/home/mypc/anaconda3/envs/ecg/lib/python3.9/site-packages/sklearn/metrics/_classification.py:1248: UndefinedMetricWarning: Precision and F-score are ill-defined and being set to 0.0 in labels with no predicted samples. Use `zero_division` parameter to control this behavior.\n",
      "  _warn_prf(average, modifier, msg_start, len(result))\n"
     ]
    },
    {
     "name": "stdout",
     "output_type": "stream",
     "text": [
      "              precision    recall  f1-score   support\n",
      "\n",
      "           F     0.0000    0.0000    0.0000       388\n",
      "           N     0.9478    0.9072    0.9270     44241\n",
      "           Q     0.0000    0.0000    0.0000         7\n",
      "           S     0.0000    0.0000    0.0000      1837\n",
      "           V     0.4006    0.9143    0.5571      3220\n",
      "\n",
      "    accuracy                         0.8669     49693\n",
      "   macro avg     0.2697    0.3643    0.2968     49693\n",
      "weighted avg     0.8698    0.8669    0.8614     49693\n",
      "\n"
     ]
    },
    {
     "name": "stderr",
     "output_type": "stream",
     "text": [
      "/media/mypc/STORAGE1/codes/heartbeat/ipynb/../py/report.py:54: RuntimeWarning: invalid value encountered in true_divide\n",
      "  PPV = TP/(TP+FP)*100 # Precision, positive predictive value (PPV)\n"
     ]
    },
    {
     "data": {
      "text/html": [
       "<div>\n",
       "<style scoped>\n",
       "    .dataframe tbody tr th:only-of-type {\n",
       "        vertical-align: middle;\n",
       "    }\n",
       "\n",
       "    .dataframe tbody tr th {\n",
       "        vertical-align: top;\n",
       "    }\n",
       "\n",
       "    .dataframe thead th {\n",
       "        text-align: right;\n",
       "    }\n",
       "</style>\n",
       "<table border=\"1\" class=\"dataframe\">\n",
       "  <thead>\n",
       "    <tr style=\"text-align: right;\">\n",
       "      <th></th>\n",
       "      <th>Class</th>\n",
       "      <th>(PPV)Precision</th>\n",
       "      <th>(Sensitivity)Recall</th>\n",
       "      <th>Specificity</th>\n",
       "      <th>Accuracy</th>\n",
       "    </tr>\n",
       "  </thead>\n",
       "  <tbody>\n",
       "    <tr>\n",
       "      <th>0</th>\n",
       "      <td>F</td>\n",
       "      <td>NaN</td>\n",
       "      <td>0.00</td>\n",
       "      <td>100.00</td>\n",
       "      <td>99.22</td>\n",
       "    </tr>\n",
       "    <tr>\n",
       "      <th>1</th>\n",
       "      <td>N</td>\n",
       "      <td>94.78</td>\n",
       "      <td>90.72</td>\n",
       "      <td>59.46</td>\n",
       "      <td>87.29</td>\n",
       "    </tr>\n",
       "    <tr>\n",
       "      <th>2</th>\n",
       "      <td>Q</td>\n",
       "      <td>NaN</td>\n",
       "      <td>0.00</td>\n",
       "      <td>100.00</td>\n",
       "      <td>99.99</td>\n",
       "    </tr>\n",
       "    <tr>\n",
       "      <th>3</th>\n",
       "      <td>S</td>\n",
       "      <td>NaN</td>\n",
       "      <td>0.00</td>\n",
       "      <td>100.00</td>\n",
       "      <td>96.30</td>\n",
       "    </tr>\n",
       "    <tr>\n",
       "      <th>4</th>\n",
       "      <td>V</td>\n",
       "      <td>40.06</td>\n",
       "      <td>91.43</td>\n",
       "      <td>90.52</td>\n",
       "      <td>90.58</td>\n",
       "    </tr>\n",
       "  </tbody>\n",
       "</table>\n",
       "</div>"
      ],
      "text/plain": [
       "  Class  (PPV)Precision  (Sensitivity)Recall  Specificity  Accuracy\n",
       "0     F             NaN                 0.00       100.00     99.22\n",
       "1     N           94.78                90.72        59.46     87.29\n",
       "2     Q             NaN                 0.00       100.00     99.99\n",
       "3     S             NaN                 0.00       100.00     96.30\n",
       "4     V           40.06                91.43        90.52     90.58"
      ]
     },
     "execution_count": 14,
     "metadata": {},
     "output_type": "execute_result"
    }
   ],
   "source": [
    "labels = [k for k,v in INT_MAP_DICT.items()]\n",
    "report = Reports(y_true=y_true, y_pred=y_pred, labels=labels)\n",
    "normalize = None\n",
    "#report.plot_confusion_matrix(normalize=normalize, values_format='')\n",
    "print(report.the_classification_report())\n",
    "#report.metrics_table()\n",
    "\n",
    "\n",
    "y_pred_AAMI = mapping_AAMI(y_pred, MAP_AAMI)\n",
    "y_true_AAMI = mapping_AAMI(y_true, MAP_AAMI)\n",
    "labels_AAMI = ['N','V','S','F','Q']\n",
    "report = Reports(y_true=y_true_AAMI, y_pred=y_pred_AAMI, labels=labels_AAMI)\n",
    "#report.plot_confusion_matrix(normalize=normalize, values_format='')\n",
    "print(report.the_classification_report())\n",
    "report.metrics_table()"
   ]
  },
  {
   "cell_type": "code",
   "execution_count": null,
   "id": "5a28cc28",
   "metadata": {},
   "outputs": [],
   "source": []
  },
  {
   "cell_type": "code",
   "execution_count": null,
   "id": "ac58f69a",
   "metadata": {},
   "outputs": [],
   "source": []
  },
  {
   "cell_type": "code",
   "execution_count": null,
   "id": "44c76361",
   "metadata": {},
   "outputs": [],
   "source": []
  }
 ],
 "metadata": {
  "kernelspec": {
   "display_name": "Python 3 (ipykernel)",
   "language": "python",
   "name": "python3"
  },
  "language_info": {
   "codemirror_mode": {
    "name": "ipython",
    "version": 3
   },
   "file_extension": ".py",
   "mimetype": "text/x-python",
   "name": "python",
   "nbconvert_exporter": "python",
   "pygments_lexer": "ipython3",
   "version": "3.9.5"
  }
 },
 "nbformat": 4,
 "nbformat_minor": 5
}
